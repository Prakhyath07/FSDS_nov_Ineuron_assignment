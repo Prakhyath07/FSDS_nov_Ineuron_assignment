{
 "cells": [
  {
   "cell_type": "raw",
   "id": "dff8c098",
   "metadata": {},
   "source": [
    "1. Implement a class iterator to flatten a nested list of lists of integers. Each list element is either an integer or a list. There can be many levels of nested lists in lists.\n",
    "The class initializes with a nested list. It also has two methods:\n",
    "\n",
    "next() returns an integer in the order of appearance.\n",
    "hasNext() returns True / False regarding if all integers have been retrieved or not.\n",
    "Write the Class implementation for three required methods.\n",
    "\n",
    "Examples:\n",
    "\n",
    "ni, actual = NestedIterator([[1, 1], 2, [1, 1]]), []\n",
    "while ni.hasNext():\n",
    "    actual.append(ni.next())\n",
    "actual ➞ [1, 1, 2, 1, 1]\n",
    "\n",
    "ni, actual = NestedIterator([1, [4, [6]]]), []\n",
    "while ni.hasNext():\n",
    "    actual.append(ni.next())\n",
    "actual ➞ [1, 4, 6]\n",
    "\n",
    "ni, actual = NestedIterator([[[]], []]), []\n",
    "while ni.hasNext():\n",
    "    actual.append(ni.next())\n",
    "actual ➞ []"
   ]
  },
  {
   "cell_type": "code",
   "execution_count": 4,
   "id": "2d38771a",
   "metadata": {},
   "outputs": [],
   "source": [
    "class NestedIterator:\n",
    "    def __init__(self,nestedlist):\n",
    "        self.nestedlist=nestedlist\n",
    "        self.flattenlist=[]\n",
    "        self.flatten(self.nestedlist)\n",
    "    \n",
    "    def flatten(self,lst):\n",
    "        for i in lst:\n",
    "            if type(i)==int:\n",
    "                self.flattenlist.append(i)\n",
    "            else:\n",
    "                self.flatten(i)\n",
    "                \n",
    "    def hasNext(self):\n",
    "        return True if len(self.flattenlist) > 0 else False\n",
    "    \n",
    "    def next(self):\n",
    "        return self.flattenlist.pop(0)"
   ]
  },
  {
   "cell_type": "code",
   "execution_count": 5,
   "id": "bdc6d1d2",
   "metadata": {},
   "outputs": [
    {
     "data": {
      "text/plain": [
       "[1, 1, 2, 1, 1]"
      ]
     },
     "execution_count": 5,
     "metadata": {},
     "output_type": "execute_result"
    }
   ],
   "source": [
    "ni, actual = NestedIterator([[1, 1], 2, [1, 1]]), []\n",
    "while ni.hasNext():\n",
    "    actual.append(ni.next())\n",
    "actual"
   ]
  },
  {
   "cell_type": "code",
   "execution_count": 6,
   "id": "5f8c7a6b",
   "metadata": {},
   "outputs": [
    {
     "data": {
      "text/plain": [
       "[1, 4, 6]"
      ]
     },
     "execution_count": 6,
     "metadata": {},
     "output_type": "execute_result"
    }
   ],
   "source": [
    "ni, actual = NestedIterator([1, [4, [6]]]), []\n",
    "while ni.hasNext():\n",
    "    actual.append(ni.next())\n",
    "actual"
   ]
  },
  {
   "cell_type": "code",
   "execution_count": 7,
   "id": "5f2c69eb",
   "metadata": {},
   "outputs": [
    {
     "data": {
      "text/plain": [
       "[]"
      ]
     },
     "execution_count": 7,
     "metadata": {},
     "output_type": "execute_result"
    }
   ],
   "source": [
    "ni, actual = NestedIterator([[[]], []]), []\n",
    "while ni.hasNext():\n",
    "    actual.append(ni.next())\n",
    "actual"
   ]
  },
  {
   "cell_type": "raw",
   "id": "4cde98c0",
   "metadata": {},
   "source": [
    "2. Implement the class Shape that receives perimeter and density function\n",
    "into __init__ method. The list of consecutive corners defines shape of a 2-\n",
    "dimensional object. The density function defines the mass distribution inside\n",
    "the shape. To compute mass in a certain point m(x, y) = small_square *\n",
    "density(x, y). The __init__ method calls other internal methods that compute\n",
    "three characteristics of the shape:\n",
    "- area\n",
    "- total mass\n",
    "- center of mass (xc, yc)\n",
    "The computational grid has distance between two neighboring points as 2 *\n",
    "delta, the distance between a grid point and the perimeter wall is delta.\n",
    "Examples\n",
    "\n",
    "sh_ex1 = Shape([(1, 1), (3, 1), (3, 2), (1, 2)], lambda x, y: 100 + 100 * x)\n",
    "sh_ex1.area ➞ 2.0\n",
    "sh_ex1.mass ➞ 600.0\n",
    "sh_ex1.mass_center ➞ (2.1, 1.5)"
   ]
  },
  {
   "cell_type": "code",
   "execution_count": 14,
   "id": "5b260ce4",
   "metadata": {},
   "outputs": [],
   "source": [
    "#### not Solved\n",
    "\n",
    "\n",
    "class Shape:\n",
    "    def __init__(self,perimeter,density_func):\n",
    "        self.perimeter=perimeter\n",
    "        self.density_func=density_func\n",
    "    @property\n",
    "    def area(self):\n",
    "        return 100\n",
    "    @property\n",
    "    def mass(self):\n",
    "        return 20\n",
    "    @property   \n",
    "    def mass_center(self):\n",
    "        return 10"
   ]
  },
  {
   "cell_type": "code",
   "execution_count": 15,
   "id": "46284480",
   "metadata": {},
   "outputs": [],
   "source": [
    "sh_ex1 = Shape([(1, 1), (3, 1), (3, 2), (1, 2)], lambda x, y: 100 + 100 * x)"
   ]
  },
  {
   "cell_type": "code",
   "execution_count": 19,
   "id": "5f8f0370",
   "metadata": {},
   "outputs": [
    {
     "data": {
      "text/plain": [
       "100"
      ]
     },
     "execution_count": 19,
     "metadata": {},
     "output_type": "execute_result"
    }
   ],
   "source": [
    "sh_ex1.area"
   ]
  },
  {
   "cell_type": "code",
   "execution_count": 20,
   "id": "f9423108",
   "metadata": {},
   "outputs": [
    {
     "data": {
      "text/plain": [
       "20"
      ]
     },
     "execution_count": 20,
     "metadata": {},
     "output_type": "execute_result"
    }
   ],
   "source": [
    "sh_ex1.mass"
   ]
  },
  {
   "cell_type": "code",
   "execution_count": 21,
   "id": "639410f7",
   "metadata": {},
   "outputs": [
    {
     "data": {
      "text/plain": [
       "10"
      ]
     },
     "execution_count": 21,
     "metadata": {},
     "output_type": "execute_result"
    }
   ],
   "source": [
    "sh_ex1.mass_center"
   ]
  },
  {
   "cell_type": "raw",
   "id": "1acedd86",
   "metadata": {},
   "source": [
    "3. Given a 3x3 matrix of a completed tic-tac-toe game, create a function that returns whether the game is a win for \"X\", \"O\", or a \"Draw\", where \"X\" and \"O\" represent themselves on the matrix, and \"E\" represents an empty spot.\n",
    "Examples:\n",
    "tic_tac_toe([\n",
    "  [\"X\", \"O\", \"X\"],\n",
    "  [\"O\", \"X\",  \"O\"],\n",
    "  [\"O\", \"X\",  \"X\"]\n",
    "]) ➞ \"X\"\n",
    "\n",
    "tic_tac_toe([\n",
    "  [\"O\", \"O\", \"O\"],\n",
    "  [\"O\", \"X\", \"X\"],\n",
    "  [\"E\", \"X\", \"X\"]\n",
    "]) ➞ \"O\"\n",
    "\n",
    "tic_tac_toe([\n",
    "  [\"X\", \"X\", \"O\"],\n",
    "  [\"O\", \"O\", \"X\"],\n",
    "  [\"X\", \"X\", \"O\"]\n",
    "]) ➞ \"Draw\""
   ]
  },
  {
   "cell_type": "code",
   "execution_count": 27,
   "id": "c98c72ad",
   "metadata": {},
   "outputs": [],
   "source": [
    "def tic_tac_toe(mat):\n",
    "    output='Draw'\n",
    "    for i in mat:\n",
    "        if i[0]==i[1]==i[2]:\n",
    "            output=i[0]\n",
    "            return output\n",
    "    \n",
    "    for i in range(2):\n",
    "        temp=[]\n",
    "        for j in range(2):\n",
    "            temp.append(mat[j][i])\n",
    "        if len(list(set(temp)))==1:\n",
    "            output=temp[0]\n",
    "            return output\n",
    "    if mat[0][0]==mat[1][1]==mat[2][2]:\n",
    "        output=mat[1][1]\n",
    "        return output\n",
    "    elif mat[0][2]==mat[1][1]==mat[2][0]:\n",
    "        output=mat[1][1]\n",
    "        return output\n",
    "    \n",
    "    return output\n",
    "        \n",
    "    \n",
    "        "
   ]
  },
  {
   "cell_type": "code",
   "execution_count": 28,
   "id": "6702cc12",
   "metadata": {},
   "outputs": [
    {
     "data": {
      "text/plain": [
       "'X'"
      ]
     },
     "execution_count": 28,
     "metadata": {},
     "output_type": "execute_result"
    }
   ],
   "source": [
    "tic_tac_toe([\n",
    "  [\"X\", \"O\", \"X\"],\n",
    "  [\"O\", \"X\",  \"O\"],\n",
    "  [\"O\", \"X\",  \"X\"]\n",
    "])"
   ]
  },
  {
   "cell_type": "code",
   "execution_count": 29,
   "id": "8378d4d9",
   "metadata": {},
   "outputs": [
    {
     "data": {
      "text/plain": [
       "'O'"
      ]
     },
     "execution_count": 29,
     "metadata": {},
     "output_type": "execute_result"
    }
   ],
   "source": [
    "tic_tac_toe([\n",
    "  [\"O\", \"O\", \"O\"],\n",
    "  [\"O\", \"X\", \"X\"],\n",
    "  [\"E\", \"X\", \"X\"]\n",
    "])"
   ]
  },
  {
   "cell_type": "code",
   "execution_count": 30,
   "id": "8aecd9bb",
   "metadata": {},
   "outputs": [
    {
     "data": {
      "text/plain": [
       "'Draw'"
      ]
     },
     "execution_count": 30,
     "metadata": {},
     "output_type": "execute_result"
    }
   ],
   "source": [
    "tic_tac_toe([\n",
    "  [\"X\", \"X\", \"O\"],\n",
    "  [\"O\", \"O\", \"X\"],\n",
    "  [\"X\", \"X\", \"O\"]\n",
    "])"
   ]
  },
  {
   "cell_type": "raw",
   "id": "665afff0",
   "metadata": {},
   "source": [
    "4. Your computer might have been infected by a virus! Create a function that finds the viruses in files and removes them from your computer.\n",
    "Examples:\n",
    "remove_virus(\"PC Files: spotifysetup.exe, virus.exe, dog.jpg\") ➞ \"PC Files: spotifysetup.exe, dog.jpg\"\n",
    "remove_virus(\"PC Files: antivirus.exe, cat.pdf, lethalmalware.exe, dangerousvirus.exe \") ➞ \"PC Files: antivirus.exe, cat.pdf\" remove_virus(\"PC Files: notvirus.exe, funnycat.gif\") ➞ \"PC Files: notvirus.exe, funnycat.gif\")"
   ]
  },
  {
   "cell_type": "code",
   "execution_count": 32,
   "id": "d2a8ad61",
   "metadata": {},
   "outputs": [
    {
     "name": "stdout",
     "output_type": "stream",
     "text": [
      "remove_virus(PC Files: spotifysetup.exe, virus.exe, dog.jpg) ➞ \"PC Files: spotifysetup.exe, dog.jpg\"\n",
      "remove_virus(PC Files: antivirus.exe, cat.pdf, lethalmalware.exe, dangerousvirus.exe ) ➞ \"PC Files: antivirus.exe, cat.pdf\"\n",
      "remove_virus(PC Files: notvirus.exe, funnycat.gif) ➞ \"PC Files: notvirus.exe, funnycat.gif\"\n"
     ]
    }
   ],
   "source": [
    "def remove_virus(in_string):\n",
    "    import re\n",
    "    in_list = [x.strip() for x in re.split(\", \",in_string)]\n",
    "    output = []\n",
    "    for ele in in_list:\n",
    "        if ele not in ['virus.exe','dangerousvirus.exe','lethalmalware.exe']:\n",
    "            output.append(ele)\n",
    "    print(f'remove_virus({in_string}) ➞ \"{\", \".join(output)}\"')\n",
    "    \n",
    "remove_virus(\"PC Files: spotifysetup.exe, virus.exe, dog.jpg\")\n",
    "remove_virus(\"PC Files: antivirus.exe, cat.pdf, lethalmalware.exe, dangerousvirus.exe \")\n",
    "remove_virus(\"PC Files: notvirus.exe, funnycat.gif\")\n",
    "    "
   ]
  },
  {
   "cell_type": "raw",
   "id": "789a694e",
   "metadata": {},
   "source": [
    "5. In a video game, a meteor will fall toward the main character's home planet. Given the meteor's trajectory as a string in the form y = mx + b and the character's position as a tuple of (x, y), return True if the meteor will hit the character and False if it will not.\n",
    "Examples:\n",
    "will_hit(\"y = 2x - 5\", (0, 0)) ➞ False\n",
    "will_hit(\"y = -4x + 6\", (1, 2)) ➞ True\n",
    "will_hit(\"y = 2x + 6\", (3, 2)) ➞ False"
   ]
  },
  {
   "cell_type": "code",
   "execution_count": 44,
   "id": "f23b5994",
   "metadata": {},
   "outputs": [],
   "source": [
    "def will_hit(formula,pos):\n",
    "    x=pos[0]\n",
    "    y=pos[1]\n",
    "    exp=formula.replace('=','==')\n",
    "    exp=exp.replace('x','*x')\n",
    "    \n",
    "    return eval(exp)\n",
    "    "
   ]
  },
  {
   "cell_type": "code",
   "execution_count": 45,
   "id": "2f83a5e7",
   "metadata": {},
   "outputs": [
    {
     "data": {
      "text/plain": [
       "False"
      ]
     },
     "execution_count": 45,
     "metadata": {},
     "output_type": "execute_result"
    }
   ],
   "source": [
    "will_hit(\"y = 2x - 5\", (0, 0))"
   ]
  },
  {
   "cell_type": "code",
   "execution_count": 46,
   "id": "d1f45864",
   "metadata": {},
   "outputs": [
    {
     "data": {
      "text/plain": [
       "True"
      ]
     },
     "execution_count": 46,
     "metadata": {},
     "output_type": "execute_result"
    }
   ],
   "source": [
    "will_hit(\"y = -4x + 6\", (1, 2))"
   ]
  },
  {
   "cell_type": "code",
   "execution_count": 47,
   "id": "3573f6d1",
   "metadata": {},
   "outputs": [
    {
     "data": {
      "text/plain": [
       "False"
      ]
     },
     "execution_count": 47,
     "metadata": {},
     "output_type": "execute_result"
    }
   ],
   "source": [
    "will_hit(\"y = 2x + 6\", (3, 2))"
   ]
  },
  {
   "cell_type": "code",
   "execution_count": null,
   "id": "41373e10",
   "metadata": {},
   "outputs": [],
   "source": []
  }
 ],
 "metadata": {
  "kernelspec": {
   "display_name": "Python 3 (ipykernel)",
   "language": "python",
   "name": "python3"
  },
  "language_info": {
   "codemirror_mode": {
    "name": "ipython",
    "version": 3
   },
   "file_extension": ".py",
   "mimetype": "text/x-python",
   "name": "python",
   "nbconvert_exporter": "python",
   "pygments_lexer": "ipython3",
   "version": "3.8.8"
  }
 },
 "nbformat": 4,
 "nbformat_minor": 5
}
