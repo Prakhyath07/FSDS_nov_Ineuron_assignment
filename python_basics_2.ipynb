{
 "cells": [
  {
   "cell_type": "raw",
   "id": "c9328dfa",
   "metadata": {},
   "source": [
    "1.What are the two values of the Boolean data type? How do you write them?"
   ]
  },
  {
   "cell_type": "raw",
   "id": "e9da80f2",
   "metadata": {},
   "source": [
    "The two boolean types in python are True and False\n",
    "- They are written as \n",
    "- boolA =True\n",
    "- boolB = False"
   ]
  },
  {
   "cell_type": "raw",
   "id": "3ab835be",
   "metadata": {},
   "source": [
    "2. What are the three different types of Boolean operators?"
   ]
  },
  {
   "cell_type": "raw",
   "id": "82103eba",
   "metadata": {},
   "source": [
    "Different Boolean Operators in Python\n",
    "Boolean Operators are the operators that operate on the Boolean values, and if it is applied on a non-Boolean value, then the value is first typecasted and then operated upon. These might also be regarded as the logical operators, and the final result of the Boolean operation is a Boolean value, True or False.\n",
    "\n",
    "1. Comparison Operators\n",
    "As described below, there are six comparison operators, which evaluate the expression to a Boolean value.\n",
    "== (equal to)\n",
    "<  (less than)\n",
    ">  (greater than)\n",
    "<= (less than or equal to)\n",
    ">= (greater than or equal to)\n",
    "!= (not equal to)\n",
    "\n",
    "\n",
    "2. Binary Boolean Operators\n",
    "These operators are the ones that operate on two values which are both Boolean. The ‘and’ operator and the ‘or’ operator are the two binary Boolean operators that operate on some logic to give the Boolean value again. The standard Truth table for these two logical binary Boolean operators is as follows.\n",
    "\n",
    "The truth table for the ‘and’ operator. Even if one value is false, then the whole expression is False.\n",
    "\n",
    "True and True give True\n",
    "True and False give False\n",
    "False and True give False\n",
    "False and False give False\n",
    "\n",
    "The truth table for the ‘or operator. Even if one value is true, then the whole expression is True.\n",
    "\n",
    "True or True give True\n",
    "True or False give True\n",
    "False or True give True\n",
    "False or False give False\n",
    "\n",
    "\n",
    "3. Not Operator\n",
    "The ‘not’ operator is the logical Boolean Operator, which compliments the variable’s current Boolean value. That is, if the value is ‘true’, then the not operator will modify it to ‘false’ and vice versa. In Python, it is represented by the keyword ‘not’."
   ]
  },
  {
   "cell_type": "raw",
   "id": "c9c54d8d",
   "metadata": {},
   "source": [
    "3. Make a list of each Boolean operator&#39;s truth tables (i.e. every possible combination of Boolean\n",
    "values for the operator and what it evaluate )."
   ]
  },
  {
   "cell_type": "code",
   "execution_count": 1,
   "id": "93b68582",
   "metadata": {},
   "outputs": [
    {
     "name": "stdout",
     "output_type": "stream",
     "text": [
      "\n",
      "The AND operator truth table\n",
      " A  B AandB\n",
      "[0, 0, 0]\n",
      "[0, 1, 0]\n",
      "[1, 1, 1]\n",
      "\n",
      "The OR operator truth table\n",
      " A  B AorB\n",
      "[0, 0, 0]\n",
      "[0, 1, 1]\n",
      "[1, 1, 1]\n",
      "\n",
      "The NOT operator truth table\n",
      " A notA\n",
      "[0, 1]\n",
      "[1, 0]\n"
     ]
    }
   ],
   "source": [
    "andList = [[0, 0 ,0],[0,1,0],[1,1,1]]\n",
    "\n",
    "print(\"\\nThe AND operator truth table\")\n",
    "print(\" A  B AandB\")\n",
    "for i in andList:\n",
    "    print(i)\n",
    "    \n",
    "orList = [[0, 0 ,0],[0,1,1],[1,1,1]]\n",
    "\n",
    "print(\"\\nThe OR operator truth table\")\n",
    "print(\" A  B AorB\")\n",
    "for i in orList:\n",
    "    print(i)\n",
    "    \n",
    "notList = [[0, 1],[1,0]]\n",
    "\n",
    "print(\"\\nThe NOT operator truth table\")\n",
    "print(\" A notA\")\n",
    "for i in notList:\n",
    "    print(i)"
   ]
  },
  {
   "cell_type": "raw",
   "id": "9b836d7f",
   "metadata": {},
   "source": [
    "4. What are the values of the following expressions?\n",
    "(5 > 4) and (3 == 5)\n",
    "not (5 > 4)\n",
    "(5 > 4) or (3 == 5)\n",
    "not ((5 > 4) or (3 == 5))\n",
    "(True and True) and (True == False)\n",
    "(not False) or (not True)"
   ]
  },
  {
   "cell_type": "raw",
   "id": "dbbe05a2",
   "metadata": {},
   "source": [
    "(5 > 4) and (3 == 5) -->False\n",
    "not (5 > 4)          -->False\n",
    "(5 > 4) or (3 == 5)  -->True\n",
    "not ((5 > 4) or (3 == 5)) -->False\n",
    "(True and True) and (True == False) -->False\n",
    "(not False) or (not True) -->True"
   ]
  },
  {
   "cell_type": "raw",
   "id": "9cfeaf31",
   "metadata": {},
   "source": [
    "5. What are the six comparison operators?"
   ]
  },
  {
   "cell_type": "raw",
   "id": "4bcacf92",
   "metadata": {},
   "source": [
    "1. Comparison Operators\n",
    "As described below, there are six comparison operators, which evaluate the expression to a Boolean value.\n",
    "== (equal to)\n",
    "<  (less than)\n",
    ">  (greater than)\n",
    "<= (less than or equal to)\n",
    ">= (greater than or equal to)\n",
    "!= (not equal to)\n",
    "\n"
   ]
  },
  {
   "cell_type": "raw",
   "id": "6c895088",
   "metadata": {},
   "source": [
    "6. How do you tell the difference between the equal to and assignment operators?Describe a\n",
    "condition and when you would use one."
   ]
  },
  {
   "cell_type": "raw",
   "id": "634d10c9",
   "metadata": {},
   "source": [
    "Assignment operator \"=\"\n",
    "It is an assignment operator.\n",
    "It is used for assigning the value to a variable.\n",
    "example a = 10, str = \"Python\"\n",
    "Constant term cannot be placed on left hand side.\n",
    "Example: 1=x; is invalid.\n",
    "\n",
    "Equal to Operator \"==\"\n",
    "It is a relational or comparison operator\n",
    "It is used for comparing two values. It returns True if both the values are equal otherwise returns False.\n",
    "Constant term can be placed in the left hand side.\n",
    "Example: 1==1 is valid and returns 1.\n",
    "\n",
    "example :\n",
    "\n",
    "x=10\n",
    "y=10\n",
    "\n",
    "if x==y:\n",
    "    print(\"True\")\n",
    "else:\n",
    "    print(\"False\")"
   ]
  },
  {
   "cell_type": "raw",
   "id": "0ce5c59e",
   "metadata": {},
   "source": [
    "7. Identify the three blocks in this code:\n",
    "spam = 0\n",
    "if spam == 10:\n",
    "print('eggs')\n",
    "if spam > 5:\n",
    "print('bacon')\n",
    "else:\n",
    "print('ham')\n",
    "print('spam')\n",
    "print('spam')"
   ]
  },
  {
   "cell_type": "code",
   "execution_count": 3,
   "id": "a800822d",
   "metadata": {},
   "outputs": [
    {
     "name": "stdout",
     "output_type": "stream",
     "text": [
      "ham\n",
      "spam\n",
      "spam\n"
     ]
    }
   ],
   "source": [
    "spam = 0  \n",
    "    \n",
    "if spam == 10: # first block\n",
    "    print(\"eggs\")  \n",
    "\n",
    "if spam > 5: # second Block\n",
    "    print(\"bacon\")\n",
    "    \n",
    "else: # third block\n",
    "    print(\"ham\")\n",
    "    print(\"spam\")\n",
    "    print(\"spam\")"
   ]
  },
  {
   "cell_type": "raw",
   "id": "3cda3edf",
   "metadata": {},
   "source": [
    "8. Write code that prints Hello if 1 is stored in spam, prints Howdy if 2 is stored in spam, and prints\n",
    "Greetings! if anything else is stored in spam."
   ]
  },
  {
   "cell_type": "code",
   "execution_count": 4,
   "id": "ff0b7afa",
   "metadata": {},
   "outputs": [
    {
     "name": "stdout",
     "output_type": "stream",
     "text": [
      "Hello\n"
     ]
    }
   ],
   "source": [
    "spam=1\n",
    "if spam == 1 :\n",
    "    print(\"Hello\")\n",
    "elif spam == 2:\n",
    "    print(\"Howdy\")\n",
    "else:\n",
    "    print(\"Greetings!!!\")"
   ]
  },
  {
   "cell_type": "raw",
   "id": "05b1150c",
   "metadata": {},
   "source": [
    "9.If your programme is stuck in an endless loop, what keys you’ll press?"
   ]
  },
  {
   "cell_type": "raw",
   "id": "8e8cf26c",
   "metadata": {},
   "source": [
    "CTRL + C"
   ]
  },
  {
   "cell_type": "raw",
   "id": "ae2424ac",
   "metadata": {},
   "source": [
    "10. How can you tell the difference between break and continue?"
   ]
  },
  {
   "cell_type": "raw",
   "id": "01773c0e",
   "metadata": {},
   "source": [
    "Break Statement : \n",
    "Break statements exist in Python to exit or “break” a for or while conditional loop. When the loop ends, the code picks up\n",
    "from and executes the next line immediately following the loop that was broken\n",
    "\n",
    "Continue Statement:\n",
    "The continue statement is used to skip code within a loop for certain iterations of the loop. After the code is skipped,\n",
    "the loop continues where it left off"
   ]
  },
  {
   "cell_type": "raw",
   "id": "d47fd8a5",
   "metadata": {},
   "source": [
    "11. In a for loop, what is the difference between range(10), range(0, 10), and range(0, 10, 1)?"
   ]
  },
  {
   "cell_type": "raw",
   "id": "5b9ee57f",
   "metadata": {},
   "source": [
    "There is no difference in the range(10), range(0,10) and range(0,10,1). range by default takes 0 as starting point and 1 as by default increment."
   ]
  },
  {
   "cell_type": "raw",
   "id": "e90a33ef",
   "metadata": {},
   "source": [
    "12. Write a short program that prints the numbers 1 to 10 using a for loop. Then write an equivalent\n",
    "program that prints the numbers 1 to 10 using a while loop."
   ]
  },
  {
   "cell_type": "code",
   "execution_count": 5,
   "id": "1f2273ee",
   "metadata": {},
   "outputs": [
    {
     "name": "stdout",
     "output_type": "stream",
     "text": [
      "1\n",
      "2\n",
      "3\n",
      "4\n",
      "5\n",
      "6\n",
      "7\n",
      "8\n",
      "9\n",
      "10\n"
     ]
    }
   ],
   "source": [
    "# Using for loop\n",
    "for i in range(1,11):\n",
    "    print(i)"
   ]
  },
  {
   "cell_type": "code",
   "execution_count": 6,
   "id": "3f33fe7c",
   "metadata": {},
   "outputs": [
    {
     "name": "stdout",
     "output_type": "stream",
     "text": [
      "1\n",
      "2\n",
      "3\n",
      "4\n",
      "5\n",
      "6\n",
      "7\n",
      "8\n",
      "9\n",
      "10\n"
     ]
    }
   ],
   "source": [
    "# Using while loop\n",
    "cnt = 1\n",
    "while cnt <=10:\n",
    "    print(cnt)\n",
    "    cnt+=1"
   ]
  },
  {
   "cell_type": "raw",
   "id": "b4029467",
   "metadata": {},
   "source": [
    "13. If you had a function named bacon() inside a module named spam, how would you call it after importing spam?"
   ]
  },
  {
   "cell_type": "raw",
   "id": "de01d113",
   "metadata": {},
   "source": [
    "import spam\n",
    "a = spam.bacon()"
   ]
  },
  {
   "cell_type": "code",
   "execution_count": null,
   "id": "4dd44404",
   "metadata": {},
   "outputs": [],
   "source": []
  }
 ],
 "metadata": {
  "kernelspec": {
   "display_name": "Python 3 (ipykernel)",
   "language": "python",
   "name": "python3"
  },
  "language_info": {
   "codemirror_mode": {
    "name": "ipython",
    "version": 3
   },
   "file_extension": ".py",
   "mimetype": "text/x-python",
   "name": "python",
   "nbconvert_exporter": "python",
   "pygments_lexer": "ipython3",
   "version": "3.8.8"
  }
 },
 "nbformat": 4,
 "nbformat_minor": 5
}
