{
 "cells": [
  {
   "cell_type": "raw",
   "id": "4d9d7915",
   "metadata": {},
   "source": [
    "Q1. Can you create a programme or function that employs both positive and negative indexing? Is\n",
    "there any repercussion if you do so?\n",
    "\n",
    "\n",
    "## we can create a function that employs both positive and negative indexing, there are no repurcussions as long as we handle that for positive indexing value should be strictly less than length of list, while negative indexing value can be equal to length of list but not greater"
   ]
  },
  {
   "cell_type": "code",
   "execution_count": 17,
   "id": "a84ecb92",
   "metadata": {},
   "outputs": [],
   "source": [
    "def both_idx(lst,a):\n",
    "    if a>0:\n",
    "        if abs(a)>=len(lst):\n",
    "            return \"index out of range\"\n",
    "        else:\n",
    "            return lst[a]\n",
    "    else:\n",
    "        if abs(a)>len(lst):\n",
    "            return \"index out of range\"\n",
    "        else:\n",
    "            return lst[a]"
   ]
  },
  {
   "cell_type": "code",
   "execution_count": 18,
   "id": "4ff5a87c",
   "metadata": {},
   "outputs": [
    {
     "data": {
      "text/plain": [
       "4"
      ]
     },
     "execution_count": 18,
     "metadata": {},
     "output_type": "execute_result"
    }
   ],
   "source": [
    "a=[1,2,3,4]\n",
    "both_idx(a,-1)"
   ]
  },
  {
   "cell_type": "code",
   "execution_count": 19,
   "id": "bd1bbcf3",
   "metadata": {},
   "outputs": [
    {
     "data": {
      "text/plain": [
       "'index out of range'"
      ]
     },
     "execution_count": 19,
     "metadata": {},
     "output_type": "execute_result"
    }
   ],
   "source": [
    "a=[1,2,3,4]\n",
    "both_idx(a,4)"
   ]
  },
  {
   "cell_type": "raw",
   "id": "b32dafff",
   "metadata": {},
   "source": [
    "Q2. What is the most effective way of starting with 1,000 elements in a Python list? Assume that all\n",
    "elements should be set to the same value.\n",
    "\n",
    "Effective way is to use list comprehension"
   ]
  },
  {
   "cell_type": "code",
   "execution_count": 20,
   "id": "298e3854",
   "metadata": {},
   "outputs": [
    {
     "name": "stdout",
     "output_type": "stream",
     "text": [
      "1000\n"
     ]
    },
    {
     "data": {
      "text/plain": [
       "[1, 1, 1, 1, 1, 1, 1, 1, 1, 1]"
      ]
     },
     "execution_count": 20,
     "metadata": {},
     "output_type": "execute_result"
    }
   ],
   "source": [
    "lst=[1 for i in range(1000)]\n",
    "print(len(lst))\n",
    "lst[:10]"
   ]
  },
  {
   "cell_type": "raw",
   "id": "ba93c799",
   "metadata": {},
   "source": [
    "Q3. How do you slice a list to get any other part while missing the rest? (For example, suppose you\n",
    "want to make a new list with the elements first, third, fifth, seventh, and so on.)\n",
    "\n",
    "For slicing list with equal gap we can use the third parameter of slicing that is steps"
   ]
  },
  {
   "cell_type": "code",
   "execution_count": 23,
   "id": "f3f5662f",
   "metadata": {},
   "outputs": [
    {
     "data": {
      "text/plain": [
       "[0, 2, 4, 6, 8]"
      ]
     },
     "execution_count": 23,
     "metadata": {},
     "output_type": "execute_result"
    }
   ],
   "source": [
    "lst=[i for i in range(10)]\n",
    "\n",
    "lst[0::2]"
   ]
  },
  {
   "cell_type": "raw",
   "id": "20d1fc65",
   "metadata": {},
   "source": [
    "Q4. Explain the distinctions between indexing and slicing.\n",
    "\n",
    "Indexing retrieves only single element from the list from given index\n",
    "\n",
    "where as slicing retrieves range of elements based on input hence returns a list"
   ]
  },
  {
   "cell_type": "code",
   "execution_count": 24,
   "id": "f8580b16",
   "metadata": {},
   "outputs": [
    {
     "name": "stdout",
     "output_type": "stream",
     "text": [
      "5\n"
     ]
    }
   ],
   "source": [
    "## indexing\"\n",
    "print(lst[5])"
   ]
  },
  {
   "cell_type": "code",
   "execution_count": 25,
   "id": "1cee0937",
   "metadata": {},
   "outputs": [
    {
     "name": "stdout",
     "output_type": "stream",
     "text": [
      "[0, 1, 2, 3, 4]\n"
     ]
    }
   ],
   "source": [
    "## slicing\n",
    "print(lst[0:5])"
   ]
  },
  {
   "cell_type": "raw",
   "id": "280f41ea",
   "metadata": {},
   "source": [
    "Q5. What happens if one of the slicing expression's indexes is out of range?\n",
    "\n",
    "if there are any elements within the indexes of slice it will return them else it will return an empty list"
   ]
  },
  {
   "cell_type": "code",
   "execution_count": 29,
   "id": "eef42284",
   "metadata": {},
   "outputs": [
    {
     "data": {
      "text/plain": [
       "[8, 9]"
      ]
     },
     "execution_count": 29,
     "metadata": {},
     "output_type": "execute_result"
    }
   ],
   "source": [
    "lst[8:110]"
   ]
  },
  {
   "cell_type": "code",
   "execution_count": 30,
   "id": "1a532327",
   "metadata": {},
   "outputs": [
    {
     "data": {
      "text/plain": [
       "[]"
      ]
     },
     "execution_count": 30,
     "metadata": {},
     "output_type": "execute_result"
    }
   ],
   "source": [
    "lst[11:113]"
   ]
  },
  {
   "cell_type": "code",
   "execution_count": 33,
   "id": "3d0225b1",
   "metadata": {},
   "outputs": [
    {
     "data": {
      "text/plain": [
       "[9, 8, 7, 6]"
      ]
     },
     "execution_count": 33,
     "metadata": {},
     "output_type": "execute_result"
    }
   ],
   "source": [
    "lst[-1:-5:-1]"
   ]
  },
  {
   "cell_type": "code",
   "execution_count": 34,
   "id": "1b65660c",
   "metadata": {},
   "outputs": [
    {
     "data": {
      "text/plain": [
       "[9, 8, 7, 6, 5, 4, 3, 2, 1, 0]"
      ]
     },
     "execution_count": 34,
     "metadata": {},
     "output_type": "execute_result"
    }
   ],
   "source": [
    "lst[-1:-15:-1]"
   ]
  },
  {
   "cell_type": "code",
   "execution_count": 35,
   "id": "892437d1",
   "metadata": {},
   "outputs": [
    {
     "data": {
      "text/plain": [
       "[]"
      ]
     },
     "execution_count": 35,
     "metadata": {},
     "output_type": "execute_result"
    }
   ],
   "source": [
    "lst[-11:-15:-1]"
   ]
  },
  {
   "cell_type": "raw",
   "id": "71e05fe7",
   "metadata": {},
   "source": [
    "Q6. If you pass a list to a function, and if you want the function to be able to change the values of the list—so that the list is different after the function returns—what action should you avoid?\n",
    "\n",
    "if you do not want to modify the input list but get a different list with modifcations we should make sure to create a copy of the list inside the function, modify it and then return the new list Because lists are mutable, when you pass a list as an argument, you create a reference to this list and not a copy.\n"
   ]
  },
  {
   "cell_type": "code",
   "execution_count": 36,
   "id": "6a944025",
   "metadata": {},
   "outputs": [
    {
     "name": "stdout",
     "output_type": "stream",
     "text": [
      "[1, 2, 3]\n",
      "[8, 2, 3]\n",
      "[8, 2, 3]\n"
     ]
    }
   ],
   "source": [
    "my_list = [1, 2, 3]\n",
    "\n",
    "def my_func(list_as_argument):\n",
    "\tlist_as_argument[0] = 8\n",
    "\tprint(list_as_argument)\n",
    "\n",
    "print(my_list)\n",
    "my_func(my_list)\n",
    "print(my_list)"
   ]
  },
  {
   "cell_type": "code",
   "execution_count": 37,
   "id": "e2dfaf47",
   "metadata": {},
   "outputs": [
    {
     "name": "stdout",
     "output_type": "stream",
     "text": [
      "[1, 2, 3]\n",
      "[8, 2, 3]\n",
      "[1, 2, 3]\n"
     ]
    }
   ],
   "source": [
    "my_list = [1, 2, 3]\n",
    "\n",
    "def my_func(list_as_argument):\n",
    "\tnew_list = list_as_argument.copy()\n",
    "\tnew_list[0] = 8\n",
    "\tprint(new_list)\n",
    "\n",
    "print(my_list)\n",
    "my_func(my_list)\n",
    "print(my_list)"
   ]
  },
  {
   "cell_type": "raw",
   "id": "dca9e38a",
   "metadata": {},
   "source": [
    "Q7. What is the concept of an unbalanced matrix?\n",
    "\n",
    "A matrix is balanced if all cells in the matrix are balanced and a cell of the matrix is balanced if the number of cells in that matrix that are adjacent to that cell is strictly greater than the value written in this cell. \n",
    "Adjacent cell means cells in the top, down, left, and right cell of each cell if it exists. "
   ]
  },
  {
   "cell_type": "raw",
   "id": "b09537a1",
   "metadata": {},
   "source": [
    "Q8. Why is it necessary to use either list comprehension or a loop to create arbitrarily large matrices?\n",
    "\n",
    "List comprehension or a Loop helps creation of large matrices easy. It also helps to implement and avoid manual errors. it also makes reading code easy.\n",
    "Also lot of time for manual feeding is reduced."
   ]
  }
 ],
 "metadata": {
  "kernelspec": {
   "display_name": "Python 3 (ipykernel)",
   "language": "python",
   "name": "python3"
  },
  "language_info": {
   "codemirror_mode": {
    "name": "ipython",
    "version": 3
   },
   "file_extension": ".py",
   "mimetype": "text/x-python",
   "name": "python",
   "nbconvert_exporter": "python",
   "pygments_lexer": "ipython3",
   "version": "3.8.8"
  }
 },
 "nbformat": 4,
 "nbformat_minor": 5
}
