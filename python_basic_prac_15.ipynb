{
 "cells": [
  {
   "cell_type": "raw",
   "id": "d5b0487a",
   "metadata": {},
   "source": [
    "Question 1:\n",
    "Please write a program using generator to print the numbers which can be divisible by 5 and\n",
    "7 between 0 and n in comma separated form while n is input by console.\n",
    "Example:\n",
    "If the following n is given as input to the program:\n",
    "100\n",
    "Then, the output of the program should be:\n",
    "0,35,70"
   ]
  },
  {
   "cell_type": "code",
   "execution_count": 7,
   "id": "d7d7e57a",
   "metadata": {},
   "outputs": [
    {
     "name": "stdout",
     "output_type": "stream",
     "text": [
      "Enter number 100\n",
      "0,35,70\n"
     ]
    }
   ],
   "source": [
    "def gen_5_7(n):\n",
    "    for i in range(n):\n",
    "        if i%5==0 and i%7==0:\n",
    "            yield i\n",
    "n=int(input(\"Enter number \"))\n",
    "lst=[]\n",
    "for i in gen_5_7(n):\n",
    "    lst.append(str(i))\n",
    "print(','.join(lst))"
   ]
  },
  {
   "cell_type": "raw",
   "id": "216d37a8",
   "metadata": {},
   "source": [
    "Question 2:\n",
    "Please write a program using generator to print the even numbers between 0 and n in comma\n",
    "separated form while n is input by console.\n",
    "Example:\n",
    "If the following n is given as input to the program:\n",
    "10\n",
    "Then, the output of the program should be:\n",
    "0,2,4,6,8,10"
   ]
  },
  {
   "cell_type": "code",
   "execution_count": 8,
   "id": "b28f911f",
   "metadata": {},
   "outputs": [
    {
     "name": "stdout",
     "output_type": "stream",
     "text": [
      "Enter number 15\n",
      "0,2,4,6,8,10,12,14\n"
     ]
    }
   ],
   "source": [
    "def gen_evn(n):\n",
    "    for i in range(n):\n",
    "        if i%2==0:\n",
    "            yield i\n",
    "n=int(input(\"Enter number \"))\n",
    "lst=[]\n",
    "for i in gen_evn(n):\n",
    "    lst.append(str(i))\n",
    "print(','.join(lst))"
   ]
  },
  {
   "cell_type": "raw",
   "id": "6889c577",
   "metadata": {},
   "source": [
    "Question 3:\n",
    "The Fibonacci Sequence is computed based on the following formula:\n",
    "f(n)=0 if n=0\n",
    "f(n)=1 if n=1\n",
    "f(n)=f(n-1)+f(n-2) if n>1\n",
    "Please write a program using list comprehension to print the Fibonacci Sequence in comma\n",
    "separated form with a given n input by console.\n",
    "Example:\n",
    "If the following n is given as input to the program:\n",
    "7\n",
    "\n",
    "Then, the output of the program should be:\n",
    "0,1,1,2,3,5,8,13"
   ]
  },
  {
   "cell_type": "code",
   "execution_count": 17,
   "id": "48fc9a63",
   "metadata": {},
   "outputs": [
    {
     "name": "stdout",
     "output_type": "stream",
     "text": [
      "Enter number 7\n",
      "0,1,1,2,3,5,8,13\n"
     ]
    }
   ],
   "source": [
    "def f(n):\n",
    "    if n==0:\n",
    "        return 0\n",
    "    elif n==1:\n",
    "        return 1\n",
    "    elif n>1:\n",
    "        return f(n-1)+f(n-2)\n",
    "n=int(input(\"Enter number \"))\n",
    "lst=[str(f(i)) for i in range(n+1)]\n",
    "print(','.join(lst))"
   ]
  },
  {
   "cell_type": "raw",
   "id": "f02d15d3",
   "metadata": {},
   "source": [
    "Question 4:\n",
    "Assuming that we have some email addresses in the \"username@companyname.com\" format,\n",
    "please write program to print the user name of a given email address. Both user names and\n",
    "company names are composed of letters only.\n",
    "Example:\n",
    "If the following email address is given as input to the program:\n",
    "john@google.com\n",
    "Then, the output of the program should be:\n",
    "john"
   ]
  },
  {
   "cell_type": "code",
   "execution_count": 18,
   "id": "bb17c740",
   "metadata": {},
   "outputs": [],
   "source": [
    "def username(email):\n",
    "    lst=email.split('@')\n",
    "    return lst[0]"
   ]
  },
  {
   "cell_type": "code",
   "execution_count": 21,
   "id": "aa469ef7",
   "metadata": {},
   "outputs": [
    {
     "data": {
      "text/plain": [
       "'john'"
      ]
     },
     "execution_count": 21,
     "metadata": {},
     "output_type": "execute_result"
    }
   ],
   "source": [
    "username('john@google.com')"
   ]
  },
  {
   "cell_type": "raw",
   "id": "01c57a6a",
   "metadata": {},
   "source": [
    "Question 5:\n",
    "Define a class named Shape and its subclass Square. The Square class has an init function\n",
    "which takes a length as argument. Both classes have a area function which can print the area\n",
    "of the shape where Shape's area is 0 by default."
   ]
  },
  {
   "cell_type": "code",
   "execution_count": 32,
   "id": "73b3013a",
   "metadata": {},
   "outputs": [],
   "source": [
    "class Shape:\n",
    "    def __init__(self):\n",
    "        pass\n",
    "        \n",
    "    def area(self):\n",
    "        return 0\n",
    "    \n",
    "class Square(Shape):\n",
    "    def __init__(self,length):\n",
    "#         super.__init__()\n",
    "        self.lenght=length\n",
    "        self.areas=0\n",
    "    def area(self):\n",
    "        self.areas=self.lenght*self.lenght\n",
    "        return self.areas"
   ]
  },
  {
   "cell_type": "code",
   "execution_count": 33,
   "id": "5b3c7f2f",
   "metadata": {},
   "outputs": [
    {
     "data": {
      "text/plain": [
       "100"
      ]
     },
     "execution_count": 33,
     "metadata": {},
     "output_type": "execute_result"
    }
   ],
   "source": [
    "n=Square(10)\n",
    "n.area()"
   ]
  },
  {
   "cell_type": "code",
   "execution_count": null,
   "id": "fee9b513",
   "metadata": {},
   "outputs": [],
   "source": []
  }
 ],
 "metadata": {
  "kernelspec": {
   "display_name": "Python 3 (ipykernel)",
   "language": "python",
   "name": "python3"
  },
  "language_info": {
   "codemirror_mode": {
    "name": "ipython",
    "version": 3
   },
   "file_extension": ".py",
   "mimetype": "text/x-python",
   "name": "python",
   "nbconvert_exporter": "python",
   "pygments_lexer": "ipython3",
   "version": "3.8.8"
  }
 },
 "nbformat": 4,
 "nbformat_minor": 5
}
