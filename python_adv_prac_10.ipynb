{
 "cells": [
  {
   "cell_type": "raw",
   "id": "bed7d7e2",
   "metadata": {},
   "source": [
    "1. Create a function that takes the width, height and character and returns a\n",
    "picture frame as a 2D list.\n",
    "Examples\n",
    "get_frame(4, 5, \"#\") ➞ [\n",
    "[\"####\"],\n",
    "[\"# #\"],\n",
    "[\"# #\"],\n",
    "[\"# #\"],\n",
    "[\"####\"]\n",
    "]\n",
    "# Frame is 4 characters wide and 5 characters tall.\n",
    "\n",
    "get_frame(10, 3, \"*\") ➞ [\n",
    "[\"**********\"],\n",
    "[\"* *\"],\n",
    "[\"**********\"]\n",
    "]\n",
    "# Frame is 10 characters and wide and 3 characters tall.\n",
    "\n",
    "get_frame(2, 5, \"0\") ➞ \"invalid\"\n",
    "# Frame's width is not more than 2."
   ]
  },
  {
   "cell_type": "code",
   "execution_count": 67,
   "id": "8977a136",
   "metadata": {},
   "outputs": [],
   "source": [
    "def get_frame(m, n,sign) :\n",
    "    row = []\n",
    "    frame = []\n",
    "    boxStr = \"\" \n",
    "    if m <= 2 or n <= 2:\n",
    "        return \"invalid\"\n",
    "    for i in range(1, n+1) :\n",
    "        boxStr = \"\"\n",
    "        row = []\n",
    "        for j in range(1, m+1) :\n",
    "            if (i == 1 or i == n or\n",
    "                j == 1 or j == m) :\n",
    "                boxStr = boxStr + sign\n",
    "            else :\n",
    "                boxStr = boxStr + ' '\n",
    "        row.append(boxStr)\n",
    "        frame.append(row)\n",
    "    print('[')\n",
    "    for i in frame:\n",
    "        print(i)\n",
    "    print(']')"
   ]
  },
  {
   "cell_type": "code",
   "execution_count": 68,
   "id": "e2528329",
   "metadata": {},
   "outputs": [
    {
     "name": "stdout",
     "output_type": "stream",
     "text": [
      "[\n",
      "['####']\n",
      "['#  #']\n",
      "['#  #']\n",
      "['#  #']\n",
      "['####']\n",
      "]\n"
     ]
    }
   ],
   "source": [
    "get_frame(4, 5, \"#\")"
   ]
  },
  {
   "cell_type": "raw",
   "id": "5f22b151",
   "metadata": {},
   "source": [
    "2. Write three functions:\n",
    "1. boolean_and\n",
    "2. boolean_or\n",
    "3. boolean_xor\n",
    "These functions should evaluate a list of True and False values, starting from\n",
    "the leftmost element and evaluating pairwise.\n",
    "Examples\n",
    "boolean_and([True, True, False, True]) ➞ False\n",
    "# [True, True, False, True] => [True, False, True] => [False, True] => False\n",
    "boolean_or([True, True, False, False]) ➞ True\n",
    "# [True, True, False, True] => [True, False, False] => [True, False] => True\n",
    "boolean_xor([True, True, False, False]) ➞ False\n",
    "# [True, True, False, False] => [False, False, False] => [False, False] =>\n",
    "False"
   ]
  },
  {
   "cell_type": "code",
   "execution_count": 70,
   "id": "1ba975e3",
   "metadata": {},
   "outputs": [],
   "source": [
    "def boolean_and(lst):\n",
    "    bool=lst[0]\n",
    "    for i in range(1,len(lst)):\n",
    "        bool=bool & lst[i]\n",
    "    return bool"
   ]
  },
  {
   "cell_type": "code",
   "execution_count": 79,
   "id": "ade18107",
   "metadata": {},
   "outputs": [],
   "source": [
    "def boolean_or(lst):\n",
    "    bool=lst[0]\n",
    "    for i in range(1,len(lst)):\n",
    "        bool=bool | lst[i]\n",
    "    return bool"
   ]
  },
  {
   "cell_type": "code",
   "execution_count": 77,
   "id": "80a2b14f",
   "metadata": {},
   "outputs": [],
   "source": [
    "def boolean_xor(lst):\n",
    "    bool=lst[0]\n",
    "    for i in range(1,len(lst)):\n",
    "        if bool==True and lst[i]==False:\n",
    "            bool=True\n",
    "        elif bool==False and lst[i]==True:\n",
    "            bool=True\n",
    "        else:\n",
    "            bool = False\n",
    "    return bool"
   ]
  },
  {
   "cell_type": "code",
   "execution_count": 81,
   "id": "0de8f41e",
   "metadata": {},
   "outputs": [
    {
     "data": {
      "text/plain": [
       "False"
      ]
     },
     "execution_count": 81,
     "metadata": {},
     "output_type": "execute_result"
    }
   ],
   "source": [
    "boolean_and([True, True, False, True])"
   ]
  },
  {
   "cell_type": "code",
   "execution_count": 82,
   "id": "f14c7749",
   "metadata": {},
   "outputs": [
    {
     "data": {
      "text/plain": [
       "True"
      ]
     },
     "execution_count": 82,
     "metadata": {},
     "output_type": "execute_result"
    }
   ],
   "source": [
    "boolean_or([True, True, False, False])"
   ]
  },
  {
   "cell_type": "code",
   "execution_count": 83,
   "id": "9374e775",
   "metadata": {},
   "outputs": [
    {
     "data": {
      "text/plain": [
       "False"
      ]
     },
     "execution_count": 83,
     "metadata": {},
     "output_type": "execute_result"
    }
   ],
   "source": [
    "boolean_xor([True, True, False, False])"
   ]
  },
  {
   "cell_type": "raw",
   "id": "e44b8a89",
   "metadata": {},
   "source": [
    "3. Create a function that creates a box based on dimension n.\n",
    "Examples\n",
    "make_box(5) ➞ [\n",
    "'#####',\n",
    "'# #',\n",
    "'# #',\n",
    "'# #',\n",
    "'#####'\n",
    "]\n",
    "make_box(3) ➞ [\n",
    "'###',\n",
    "'# #',\n",
    "'###'\n",
    "]\n",
    "make_box(2) ➞ [\n",
    "'##',\n",
    "'##'\n",
    "]\n",
    "make_box(1) ➞ [\n",
    "'#'\n",
    "]"
   ]
  },
  {
   "cell_type": "code",
   "execution_count": 86,
   "id": "237a67ef",
   "metadata": {},
   "outputs": [],
   "source": [
    "def make_box(n) :\n",
    "    box = []\n",
    "    boxStr =''\n",
    "    for i in range(1, n+1) :\n",
    "        boxStr = ''\n",
    "        for j in range(1, n+1) :\n",
    "            if (i == 1 or i == n or\n",
    "                j == 1 or j == n) :           \n",
    "                boxStr = boxStr + '#'\n",
    "            else :\n",
    "                boxStr = boxStr + ' '\n",
    "        box.append(boxStr)\n",
    "    print('[')\n",
    "    for i in range(len(box)):\n",
    "        print(box[i],end='\\n')\n",
    "    print(']')\n",
    "\n"
   ]
  },
  {
   "cell_type": "code",
   "execution_count": 87,
   "id": "eaa8ad67",
   "metadata": {},
   "outputs": [
    {
     "name": "stdout",
     "output_type": "stream",
     "text": [
      "[\n",
      "#####\n",
      "#   #\n",
      "#   #\n",
      "#   #\n",
      "#####\n",
      "]\n"
     ]
    }
   ],
   "source": [
    "make_box(5)"
   ]
  },
  {
   "cell_type": "code",
   "execution_count": 88,
   "id": "691655de",
   "metadata": {},
   "outputs": [
    {
     "name": "stdout",
     "output_type": "stream",
     "text": [
      "[\n",
      "###\n",
      "# #\n",
      "###\n",
      "]\n"
     ]
    }
   ],
   "source": [
    "make_box(3)"
   ]
  },
  {
   "cell_type": "code",
   "execution_count": 89,
   "id": "5d9f6470",
   "metadata": {},
   "outputs": [
    {
     "name": "stdout",
     "output_type": "stream",
     "text": [
      "[\n",
      "##\n",
      "##\n",
      "]\n"
     ]
    }
   ],
   "source": [
    "make_box(2)"
   ]
  },
  {
   "cell_type": "code",
   "execution_count": 90,
   "id": "caf60724",
   "metadata": {},
   "outputs": [
    {
     "name": "stdout",
     "output_type": "stream",
     "text": [
      "[\n",
      "#\n",
      "]\n"
     ]
    }
   ],
   "source": [
    "make_box(1)"
   ]
  },
  {
   "cell_type": "raw",
   "id": "1c881230",
   "metadata": {},
   "source": [
    "4. Given a common phrase, return False if any individual word in the phrase\n",
    "contains duplicate letters. Return True otherwise.\n",
    "Examples\n",
    "no_duplicate_letters('Fortune favours the bold.') ➞ True\n",
    "no_duplicate_letters('You can lead a horse to water, but you can't make him\n",
    "drink.') ➞ True\n",
    "no_duplicate_letters('Look before you leap.') ➞ False\n",
    "# Duplicate letters in 'Look' and 'before'.\n",
    "no_duplicate_letters('An apple a day keeps the doctor away.') ➞ False\n",
    "# Duplicate letters in 'apple', 'keeps', 'doctor', and 'away'."
   ]
  },
  {
   "cell_type": "code",
   "execution_count": 94,
   "id": "a8acf44e",
   "metadata": {},
   "outputs": [],
   "source": [
    "def no_duplicate_letters(string):\n",
    "    words=string.split(\" \")\n",
    "    for word in words:\n",
    "        if len(word)!=len(set(word)):\n",
    "            return False\n",
    "    return True\n",
    "    "
   ]
  },
  {
   "cell_type": "code",
   "execution_count": 95,
   "id": "9e7cd07f",
   "metadata": {},
   "outputs": [
    {
     "data": {
      "text/plain": [
       "True"
      ]
     },
     "execution_count": 95,
     "metadata": {},
     "output_type": "execute_result"
    }
   ],
   "source": [
    "no_duplicate_letters('Fortune favours the bold.')"
   ]
  },
  {
   "cell_type": "code",
   "execution_count": 97,
   "id": "56ece6f1",
   "metadata": {},
   "outputs": [
    {
     "data": {
      "text/plain": [
       "True"
      ]
     },
     "execution_count": 97,
     "metadata": {},
     "output_type": "execute_result"
    }
   ],
   "source": [
    "no_duplicate_letters(\"You can lead a horse to water, but you can't make him drink.\")"
   ]
  },
  {
   "cell_type": "code",
   "execution_count": 98,
   "id": "4e31eed1",
   "metadata": {},
   "outputs": [
    {
     "data": {
      "text/plain": [
       "False"
      ]
     },
     "execution_count": 98,
     "metadata": {},
     "output_type": "execute_result"
    }
   ],
   "source": [
    "no_duplicate_letters('Look before you leap.')"
   ]
  },
  {
   "cell_type": "code",
   "execution_count": 99,
   "id": "3a770fc4",
   "metadata": {},
   "outputs": [
    {
     "data": {
      "text/plain": [
       "False"
      ]
     },
     "execution_count": 99,
     "metadata": {},
     "output_type": "execute_result"
    }
   ],
   "source": [
    "no_duplicate_letters('An apple a day keeps the doctor away.')"
   ]
  },
  {
   "cell_type": "raw",
   "id": "3691b8b1",
   "metadata": {},
   "source": [
    "5. Write a regular expression that will match the states that voted yes to\n",
    "President Trump's impeachment. You must use RegEx positive lookahead.\n",
    "Example\n",
    "txt = 'Texas = no, California = yes, Florida = yes, Michigan = no'\n",
    "pattern = '?=yes'\n",
    "re.findall(pattern, txt) ➞ ['California', 'Florida']"
   ]
  },
  {
   "cell_type": "code",
   "execution_count": 101,
   "id": "d61745eb",
   "metadata": {},
   "outputs": [
    {
     "name": "stdout",
     "output_type": "stream",
     "text": [
      "['California', 'Florida']\n"
     ]
    }
   ],
   "source": [
    "import re\n",
    "txt = 'Texas = no, California = yes, Florida = yes, Michigan = no'\n",
    "pattern = r'\\w+(?= = yes)'\n",
    "result = re.findall(pattern, txt) \n",
    "print(result)"
   ]
  },
  {
   "cell_type": "code",
   "execution_count": null,
   "id": "ed0d4593",
   "metadata": {},
   "outputs": [],
   "source": []
  }
 ],
 "metadata": {
  "kernelspec": {
   "display_name": "Python 3 (ipykernel)",
   "language": "python",
   "name": "python3"
  },
  "language_info": {
   "codemirror_mode": {
    "name": "ipython",
    "version": 3
   },
   "file_extension": ".py",
   "mimetype": "text/x-python",
   "name": "python",
   "nbconvert_exporter": "python",
   "pygments_lexer": "ipython3",
   "version": "3.8.8"
  }
 },
 "nbformat": 4,
 "nbformat_minor": 5
}
