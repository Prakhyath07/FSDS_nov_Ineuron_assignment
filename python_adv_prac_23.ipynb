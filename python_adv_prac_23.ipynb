{
 "cells": [
  {
   "cell_type": "raw",
   "id": "9581de24",
   "metadata": {},
   "source": [
    "1. Create a class Sudoku that takes a string as an argument. The string will\n",
    "contain the numbers of a regular 9x9 sudoku board left to right and top to\n",
    "bottom, with zeros filling up the empty cells.\n",
    "Attributes\n",
    "An instance of the class Sudoku will have one attribute:\n",
    "- board: a list representing the board, with sublits for each row, with the\n",
    "numbers as integers. Empty cell represented with 0.\n",
    "Methods\n",
    "An instance of the class Sudoku wil have three methods:\n",
    "- get_row(n): will return the row in position n.\n",
    "- get_col(n): will return the column in position n.\n",
    "- get_sqr([n, m]): will return the square in position n if only one argument is\n",
    "given, and the square to which the cell in position (n, m) belongs to if two\n",
    "arguments are given.\n",
    "Example\n",
    "\n",
    "game =\n",
    "Sudoku(\"417950030000000700060007000050009106800600000000003400\n",
    "900005000000430000200701580\")\n",
    "\n",
    "game.board ➞ [\n",
    "[4, 1, 7, 9, 5, 0, 0, 3, 0],\n",
    "[0, 0, 0, 0, 0, 0, 7, 0, 0],\n",
    "[0, 6, 0, 0, 0, 7, 0, 0, 0],\n",
    "[0, 5, 0, 0, 0, 9, 1, 0, 6],\n",
    "[8, 0, 0, 6, 0, 0, 0, 0, 0],\n",
    "[0, 0, 0, 0, 0, 3, 4, 0, 0],\n",
    "[9, 0, 0, 0, 0, 5, 0, 0, 0],\n",
    "[0, 0, 0, 4, 3, 0, 0, 0, 0],\n",
    "[2, 0, 0, 7, 0, 1, 5, 8, 0]\n",
    "]\n",
    "game.get_row(0) ➞ [4, 1, 7, 9, 5, 0, 0, 3, 0]\n",
    "game.get_col(8) ➞ [0, 0, 0, 6, 0, 0, 0, 0, 0]\n",
    "game.get_sqr(1) ➞ [9, 5, 0, 0, 0, 0, 0, 0, 7]\n",
    "game.get_sqr(1, 8) ➞ [0, 3, 0, 7, 0, 0, 0, 0, 0]\n",
    "game.get_sqr(8, 3) ➞ [0, 0, 5, 4, 3, 0, 7, 0, 1]"
   ]
  },
  {
   "cell_type": "code",
   "execution_count": 11,
   "id": "a7f355c7",
   "metadata": {},
   "outputs": [],
   "source": [
    "class Sudoku:\n",
    "    def __init__(self,in_string):\n",
    "        self.board=[]\n",
    "        for ele in range(0,len(in_string),9):\n",
    "            self.board.append([int(string) for string in in_string[ele:ele+9]])\n",
    "        \n",
    "    def get_row(self,m):\n",
    "        return self.board[m]\n",
    "\n",
    "    def get_col(self,column):\n",
    "        output = []\n",
    "        for ele in self.board:\n",
    "            output.append(ele[column])\n",
    "        return output\n",
    "\n",
    "    def get_sqr(self,row,column=None):\n",
    "        output = []\n",
    "        square_to_cell = {\n",
    "            0 : [[0,1,2],[0,1,2]],\n",
    "            1 : [[0,1,2],[3,4,5]],\n",
    "            2 : [[0,1,2],[6,7,8]],\n",
    "            3 : [[3,4,5],[0,1,2]],\n",
    "            4 : [[3,4,5],[3,4,5]],\n",
    "            5 : [[3,4,5],[6,7,8]],\n",
    "            6 : [[6,7,8],[0,1,2]],\n",
    "            7 : [[6,7,8],[3,4,5]],\n",
    "            8 : [[6,7,8],[6,7,8]]\n",
    "        }\n",
    "\n",
    "        if column == None:\n",
    "            for i in square_to_cell[row][0]:\n",
    "                for j in square_to_cell[row][1]:\n",
    "                    output.append(self.board[i][j])\n",
    "        else:\n",
    "            square = None\n",
    "            if row <= 2:\n",
    "                square = 0 if column <=2 else 1 if column <=5 else 2\n",
    "            elif row <= 5:\n",
    "                square = 3 if column <=2 else 4 if column <=5 else 5\n",
    "            else:\n",
    "                square = 6 if column <=2 else 7 if column <=5 else 8\n",
    "            for i in square_to_cell[square][0]:\n",
    "                for j in square_to_cell[square][1]:\n",
    "                    output.append(self.board[i][j])\n",
    "        return (output)\n",
    "\n",
    "\n"
   ]
  },
  {
   "cell_type": "code",
   "execution_count": 12,
   "id": "b3b25415",
   "metadata": {},
   "outputs": [],
   "source": [
    "game =Sudoku(\"417950030000000700060007000050009106800600000000003400\\\n",
    "900005000000430000200701580\")"
   ]
  },
  {
   "cell_type": "code",
   "execution_count": 13,
   "id": "6bf00596",
   "metadata": {},
   "outputs": [
    {
     "data": {
      "text/plain": [
       "[[4, 1, 7, 9, 5, 0, 0, 3, 0],\n",
       " [0, 0, 0, 0, 0, 0, 7, 0, 0],\n",
       " [0, 6, 0, 0, 0, 7, 0, 0, 0],\n",
       " [0, 5, 0, 0, 0, 9, 1, 0, 6],\n",
       " [8, 0, 0, 6, 0, 0, 0, 0, 0],\n",
       " [0, 0, 0, 0, 0, 3, 4, 0, 0],\n",
       " [9, 0, 0, 0, 0, 5, 0, 0, 0],\n",
       " [0, 0, 0, 4, 3, 0, 0, 0, 0],\n",
       " [2, 0, 0, 7, 0, 1, 5, 8, 0]]"
      ]
     },
     "execution_count": 13,
     "metadata": {},
     "output_type": "execute_result"
    }
   ],
   "source": [
    "game.board"
   ]
  },
  {
   "cell_type": "code",
   "execution_count": 14,
   "id": "2185dafe",
   "metadata": {},
   "outputs": [
    {
     "data": {
      "text/plain": [
       "[4, 1, 7, 9, 5, 0, 0, 3, 0]"
      ]
     },
     "execution_count": 14,
     "metadata": {},
     "output_type": "execute_result"
    }
   ],
   "source": [
    "game.get_row(0)"
   ]
  },
  {
   "cell_type": "code",
   "execution_count": 15,
   "id": "3c195894",
   "metadata": {},
   "outputs": [
    {
     "data": {
      "text/plain": [
       "[0, 0, 0, 6, 0, 0, 0, 0, 0]"
      ]
     },
     "execution_count": 15,
     "metadata": {},
     "output_type": "execute_result"
    }
   ],
   "source": [
    "game.get_col(8)"
   ]
  },
  {
   "cell_type": "code",
   "execution_count": 16,
   "id": "7b8956b3",
   "metadata": {},
   "outputs": [
    {
     "data": {
      "text/plain": [
       "[9, 5, 0, 0, 0, 0, 0, 0, 7]"
      ]
     },
     "execution_count": 16,
     "metadata": {},
     "output_type": "execute_result"
    }
   ],
   "source": [
    "game.get_sqr(1)"
   ]
  },
  {
   "cell_type": "code",
   "execution_count": 17,
   "id": "c1a71e33",
   "metadata": {},
   "outputs": [
    {
     "data": {
      "text/plain": [
       "[0, 3, 0, 7, 0, 0, 0, 0, 0]"
      ]
     },
     "execution_count": 17,
     "metadata": {},
     "output_type": "execute_result"
    }
   ],
   "source": [
    "game.get_sqr(1, 8)"
   ]
  },
  {
   "cell_type": "code",
   "execution_count": 18,
   "id": "63383770",
   "metadata": {},
   "outputs": [
    {
     "data": {
      "text/plain": [
       "[0, 0, 5, 4, 3, 0, 7, 0, 1]"
      ]
     },
     "execution_count": 18,
     "metadata": {},
     "output_type": "execute_result"
    }
   ],
   "source": [
    "game.get_sqr(8, 3)"
   ]
  },
  {
   "cell_type": "raw",
   "id": "81dc9eb5",
   "metadata": {},
   "source": [
    "2. The function input is two non-empty linked lists representing two non-\n",
    "negative integers. The digits are stored in reverse order, and each of their\n",
    "nodes contains a single digit. Add the two numbers and return the sum as a\n",
    "linked list, in which the digits are also stored in reversed order. The class\n",
    "ListNode, building block of the linked list, is defined in the Tests tab.\n",
    "Class definition\n",
    "class ListNode:\n",
    "def __init__(self, val=0, next=None):\n",
    "self.val = val\n",
    "self.next = next\n",
    "Examples\n",
    "lt1 = ListNode(2)\n",
    "lt1.add_data([4, 3])\n",
    "lt2 = ListNode(5)\n",
    "lt2.add_data([6, 4])\n",
    "# print(lt1.get_data()) # [2, 4, 3]\n",
    "# print(lt2.get_data()) # [5, 6, 4]\n",
    "# print(342 + 465) # 807\n",
    "add_two_numbers(lt1, lt2).get_data() ➞ [7, 0, 8]\n",
    "lt1 = ListNode(0)\n",
    "lt2 = ListNode(0)\n",
    "# print(lt1.get_data()) # [0]\n",
    "\n",
    "# print(lt2.get_data()) # [0]\n",
    "# print(0 + 0) # 0\n",
    "add_two_numbers(t1, lt2).get_data() ➞ [0]\n",
    "lt1 = ListNode(9)\n",
    "lt1.add_data([9,9,9,9,9,9])\n",
    "lt2 = ListNode(9)\n",
    "lt2.add_data([9,9,9])\n",
    "# print(lt1.get_data()) # [9, 9, 9, 9, 9, 9, 9]\n",
    "# print(lt2.get_data()) # [9, 9, 9, 9]\n",
    "# print(9999999 + 9999) # 10009998\n",
    "add_two_numbers(lt1, lt2).get_data() ➞ [8, 9, 9, 9, 0, 0, 0, 1]"
   ]
  },
  {
   "cell_type": "code",
   "execution_count": 100,
   "id": "2ec37402",
   "metadata": {},
   "outputs": [],
   "source": [
    " \n",
    "# Node class\n",
    "class Node:\n",
    "  \n",
    "    # Function to initialise the node object\n",
    "    def __init__(self, val):\n",
    "        self.val = val  # Assign data\n",
    "        self.next = None  # Initialize next as null\n",
    "  \n",
    "  \n",
    "# Linked List class contains a Node object\n",
    "class LinkedList:\n",
    "  \n",
    "    # Function to initialize head\n",
    "    def __init__(self):\n",
    "        self.head = None\n",
    "  \n",
    "  \n",
    "    # Function to insert a new node at the beginning\n",
    "    def push(self, new_data):\n",
    "  \n",
    "        # 1 & 2: Allocate the Node &\n",
    "        #        Put in the data\n",
    "        new_node = Node(new_data)\n",
    "  \n",
    "        # 3. Make next of new Node as head\n",
    "        new_node.next = self.head\n",
    "  \n",
    "        # 4. Move the head to point to new Node\n",
    "        self.head = new_node\n",
    "  \n",
    "  \n",
    "    # This function is in LinkedList class. Inserts a\n",
    "    # new node after the given prev_node. This method is\n",
    "    # defined inside LinkedList class shown above */\n",
    "    def insertAfter(self, prev_node, new_data):\n",
    "  \n",
    "        # 1. check if the given prev_node exists\n",
    "        if prev_node is None:\n",
    "            print(\"The given previous node must inLinkedList.\")\n",
    "            return\n",
    "  \n",
    "        #  2. create new node &\n",
    "        #      Put in the data\n",
    "        new_node = Node(new_data)\n",
    "  \n",
    "        # 4. Make next of new Node as next of prev_node\n",
    "        new_node.next = prev_node.next\n",
    "  \n",
    "        # 5. make next of prev_node as new_node\n",
    "        prev_node.next = new_node\n",
    "  \n",
    "  \n",
    "    # This function is defined in Linked List class\n",
    "    # Appends a new node at the end.  This method is\n",
    "    # defined inside LinkedList class shown above */\n",
    "    def append(self, new_data):\n",
    "  \n",
    "        # 1. Create a new node\n",
    "        # 2. Put in the data\n",
    "        # 3. Set next as None\n",
    "        new_node = Node(new_data)\n",
    "  \n",
    "        # 4. If the Linked List is empty, then make the\n",
    "        #    new node as head\n",
    "        if self.head is None:\n",
    "            self.head = new_node\n",
    "            return\n",
    "  \n",
    "        # 5. Else traverse till the last node\n",
    "        last = self.head\n",
    "        while (last.next):\n",
    "            last = last.next\n",
    "  \n",
    "        # 6. Change the next of last node\n",
    "        last.next =  new_node\n",
    "  \n",
    "  \n",
    "    # Utility function to print the linked list\n",
    "    def get_data(self):\n",
    "        temp = self.head\n",
    "        res=[]\n",
    "        while (temp):\n",
    "            res.append(temp.val)\n",
    "            temp = temp.next\n",
    "        return res\n",
    "            \n",
    "            \n",
    "    def add_data(self,lst):\n",
    "        for i in lst:\n",
    "            self.append(i)\n",
    "\n",
    "def add_two_numbers(l1, l2):\n",
    "    l1=l1.head\n",
    "    l2=l2.head\n",
    "    result=LinkedList()\n",
    "    # Head of the new linked list - this is the head of the resultant list\n",
    "    head = None\n",
    "    # Reference of head which is null at this point\n",
    "    temp = None\n",
    "    # Carry\n",
    "    carry = 0\n",
    "    # Loop for the two lists\n",
    "    while l1 is not None or l2 is not None:\n",
    "        # At the start of each iteration, we should add carry from the last iteration\n",
    "        sum_value = carry\n",
    "        # Since the lengths of the lists may be unequal, we are checking if the\n",
    "        # current node is null for one of the lists\n",
    "        if l1 is not None:\n",
    "            sum_value += l1.val\n",
    "            l1 = l1.next\n",
    "        if l2 is not None:\n",
    "            sum_value += l2.val\n",
    "            l2 = l2.next\n",
    "        # At this point, we will add the total sum_value % 10 to the new node\n",
    "        # in the resultant list\n",
    "        result.append(sum_value % 10)\n",
    "        # Carry to be added in the next iteration\n",
    "        carry = sum_value // 10\n",
    "        # If this is the first node or head\n",
    "#         if temp is None:\n",
    "#             temp = head = node\n",
    "#         # for any other node\n",
    "#         else:\n",
    "#             temp.next = node\n",
    "#             temp = temp.next\n",
    "    # After the last iteration, we will check if there is carry left\n",
    "    # If it's left then we will create a new node and add it\n",
    "    if carry > 0:\n",
    "        result.append(carry)\n",
    "    \n",
    "    \n",
    "    return result"
   ]
  },
  {
   "cell_type": "code",
   "execution_count": 101,
   "id": "0a974be7",
   "metadata": {},
   "outputs": [],
   "source": [
    "lt1=LinkedList()\n",
    "lt1.append(2)\n",
    "lt1.add_data([4, 3])\n",
    "\n",
    "lt2=LinkedList()\n",
    "lt2.append(5)\n",
    "lt2.add_data([6, 4])"
   ]
  },
  {
   "cell_type": "code",
   "execution_count": 102,
   "id": "09f2b908",
   "metadata": {},
   "outputs": [
    {
     "data": {
      "text/plain": [
       "[2, 4, 3]"
      ]
     },
     "execution_count": 102,
     "metadata": {},
     "output_type": "execute_result"
    }
   ],
   "source": [
    "lt1.get_data()"
   ]
  },
  {
   "cell_type": "code",
   "execution_count": 103,
   "id": "15e5d3fb",
   "metadata": {},
   "outputs": [
    {
     "data": {
      "text/plain": [
       "[5, 6, 4]"
      ]
     },
     "execution_count": 103,
     "metadata": {},
     "output_type": "execute_result"
    }
   ],
   "source": [
    "lt2.get_data()"
   ]
  },
  {
   "cell_type": "code",
   "execution_count": 104,
   "id": "ccf679f3",
   "metadata": {},
   "outputs": [
    {
     "data": {
      "text/plain": [
       "[7, 0, 8]"
      ]
     },
     "execution_count": 104,
     "metadata": {},
     "output_type": "execute_result"
    }
   ],
   "source": [
    "add_two_numbers(lt1, lt2).get_data()"
   ]
  },
  {
   "cell_type": "code",
   "execution_count": 105,
   "id": "3d9249e5",
   "metadata": {},
   "outputs": [
    {
     "data": {
      "text/plain": [
       "[0]"
      ]
     },
     "execution_count": 105,
     "metadata": {},
     "output_type": "execute_result"
    }
   ],
   "source": [
    "lt1=LinkedList()\n",
    "lt1.append(0)\n",
    "# lt1.add_data([4, 3])\n",
    "\n",
    "lt2=LinkedList()\n",
    "lt2.append(0)\n",
    "# lt2.add_data([6, 4])\n",
    "add_two_numbers(lt1, lt2).get_data()"
   ]
  },
  {
   "cell_type": "code",
   "execution_count": 106,
   "id": "48a56a7c",
   "metadata": {},
   "outputs": [
    {
     "data": {
      "text/plain": [
       "[8, 9, 9, 9, 0, 0, 0, 1]"
      ]
     },
     "execution_count": 106,
     "metadata": {},
     "output_type": "execute_result"
    }
   ],
   "source": [
    "lt1=LinkedList()\n",
    "lt1.append(9)\n",
    "lt1.add_data([9,9,9,9,9,9])\n",
    "\n",
    "lt2=LinkedList()\n",
    "lt2.append(9)\n",
    "lt2.add_data([9,9,9])\n",
    "add_two_numbers(lt1, lt2).get_data()"
   ]
  },
  {
   "cell_type": "raw",
   "id": "afd71a9d",
   "metadata": {},
   "source": [
    "3. Write a class called CoffeeShop, which has three instance variables:\n",
    "1. name : a string (basically, of the shop)\n",
    "2. menu : a list of items (of dict type), with each item containing the item\n",
    "(name of the item), type (whether a food or a drink) and price.\n",
    "3. orders : an empty list\n",
    "and seven methods:\n",
    "1. add_order: adds the name of the item to the end of the orders list if it\n",
    "exists on the menu, otherwise, return \"This item is currently unavailable!\"\n",
    "2. fulfill_order: if the orders list is not empty, return \"The {item} is ready!\". If\n",
    "the orders list is empty, return \"All orders have been fulfilled!\"\n",
    "3. list_orders: returns the item names of the orders taken, otherwise, an\n",
    "empty list.\n",
    "4. due_amount: returns the total amount due for the orders taken.\n",
    "5. cheapest_item: returns the name of the cheapest item on the menu.\n",
    "6. drinks_only: returns only the item names of type drink from the menu.\n",
    "7. food_only: returns only the item names of type food from the menu.\n",
    "IMPORTANT: Orders are fulfilled in a FIFO (first-in, first-out) order.\n",
    "Examples\n",
    "tcs.add_order(\"hot cocoa\") ➞ \"This item is currently unavailable!\"\n",
    "# Tesha's coffee shop does not sell hot cocoa\n",
    "tcs.add_order(\"iced tea\") ➞ \"This item is currently unavailable!\"\n",
    "# specifying the variant of \"iced tea\" will help the process\n",
    "tcs.add_order(\"cinnamon roll\") ➞ \"Order added!\"\n",
    "tcs.add_order(\"iced coffee\") ➞ \"Order added!\"\n",
    "tcs.list_orders ➞ [\"cinnamon roll\", \"iced coffee\"]\n",
    "\n",
    "# all items of the current order\n",
    "tcs.due_amount() ➞ 2.17\n",
    "tcs.fulfill_order() ➞ \"The cinnamon roll is ready!\"\n",
    "tcs.fulfill_order() ➞ \"The iced coffee is ready!\"\n",
    "tcs.fulfill_order() ➞ \"All orders have been fulfilled!\"\n",
    "# all orders have been presumably served\n",
    "tcs.list_orders() ➞ []\n",
    "# an empty list is returned if all orders have been exhausted\n",
    "tcs.due_amount() ➞ 0.0\n",
    "# no new orders taken, expect a zero payable\n",
    "tcs.cheapest_item() ➞ \"lemonade\"\n",
    "tcs.drinks_only() ➞ [\"orange juice\", \"lemonade\", \"cranberry juice\", \"pineapple\n",
    "juice\", \"lemon iced tea\", \"vanilla chai latte\", \"hot chocolate\", \"iced coffee\"]\n",
    "tcs.food_only() ➞ [\"tuna sandwich\", \"ham and cheese sandwich\", \"bacon and\n",
    "egg\", \"steak\", \"hamburger\", \"cinnamon roll\"]"
   ]
  },
  {
   "cell_type": "code",
   "execution_count": 114,
   "id": "19508fa5",
   "metadata": {},
   "outputs": [],
   "source": [
    "class CoffeeShop:\n",
    "    def __init__(self,name,menu,orders=[]):\n",
    "        self.name=name\n",
    "        self.menu=menu\n",
    "        self.orders=orders\n",
    "        \n",
    "    def add_order(self,ord_item):\n",
    "        available_items = [item['name'].lower() for item in self.menu]\n",
    "        if ord_item.lower() in available_items:\n",
    "            self.orders.append(ord_item.lower())\n",
    "        else:\n",
    "            return \"This item is currently unavailable!\"\n",
    "    \n",
    "    def fulfill_order(self):\n",
    "        if len(self.orders)>0:\n",
    "            item=self.orders.pop(0)\n",
    "            return \"The {} is ready!\".format(item)\n",
    "        else:\n",
    "            return \"All orders have been fulfilled!\"\n",
    "    \n",
    "    def list_orders(self):\n",
    "        return self.orders\n",
    "    \n",
    "    def due_amount(self):\n",
    "        return sum([item['price'] for item in self.menu if item['name'].lower() in self.orders])\n",
    "    \n",
    "    def cheapest_item(self):\n",
    "        lowest_price = min([item['price'] for item in self.menu])\n",
    "        output = [item['name'] for item in self.menu if item['price'] == lowest_price]\n",
    "        return output[0]\n",
    "    def drinks_only(self):\n",
    "        output = [item['name'] for item in self.menu if item['type'] == 'drink']\n",
    "        return output\n",
    "    \n",
    "    def food_only(self):\n",
    "        output = [item['name'] for item in self.menu if item['type'] == 'food']\n",
    "        return output\n"
   ]
  },
  {
   "cell_type": "code",
   "execution_count": 115,
   "id": "eebc3b73",
   "metadata": {},
   "outputs": [],
   "source": [
    "Menu = [\n",
    "    {'name':'Orange Juice','type':'drink','price':25.50},\n",
    "    {'name':'Lemonade','type':'drink','price':10},\n",
    "    {'name':'Cranberry Juice','type':'drink','price':40},\n",
    "    {'name':'Pineapple Juice','type':'drink','price':40},\n",
    "    {'name':'Lemon Iced Tea','type':'drink','price':80},\n",
    "    {'name':'Vanilla Chai Latte','type':'drink','price':90},\n",
    "    {'name':'Hot Choclate','type':'drink','price':100},\n",
    "    {'name':'Iced Cofee','type':'drink','price':70.12},\n",
    "    {'name':'Tuna Sandwich','type':'food','price':120},\n",
    "    {'name':'Ham Cheese Sandwich','type':'food','price':180},\n",
    "    {'name':'Bacon And Egg','type':'food','price': 120},\n",
    "    {'name':'Chicken Biryani','type':'food','price':360},\n",
    "    {'name':'Veg Burger','type':'food','price':90},\n",
    "    {'name':'Cinnamon Roll','type':'food','price':60.25}\n",
    "]\n",
    "\n",
    "tcs=CoffeeShop(\"Tesha's coffee shop\",Menu)"
   ]
  },
  {
   "cell_type": "code",
   "execution_count": 116,
   "id": "08469c24",
   "metadata": {},
   "outputs": [
    {
     "name": "stdout",
     "output_type": "stream",
     "text": [
      "tcs.add_order(\"hot cocoa\") ➞ This item is currently unavailable!\n",
      "tcs.add_order(\"iced tea\") ➞ This item is currently unavailable!\n",
      "tcs.add_order(\"cinnamon roll\") ➞ None\n",
      "tcs.add_order(\"iced cofee\") ➞ None\n",
      "tcs.list_orders() ➞ ['cinnamon roll', 'iced cofee']\n",
      "tcs.due_amount() ➞ 130.37\n",
      "tcs.fulfill_order() ➞ The cinnamon roll is ready!\n",
      "tcs.fulfill_order() ➞ The iced cofee is ready!\n",
      "tcs.fulfill_order() ➞ All orders have been fulfilled!\n",
      "tcs.list_orders() ➞ []\n",
      "tcs.due_amount() ➞ 0\n",
      "tcs.cheapest_item() ➞ Lemonade\n",
      "tcs.food_only() ➞ ['Tuna Sandwich', 'Ham Cheese Sandwich', 'Bacon And Egg', 'Chicken Biryani', 'Veg Burger', 'Cinnamon Roll']\n",
      "tcs.drinks_only() ➞ ['Orange Juice', 'Lemonade', 'Cranberry Juice', 'Pineapple Juice', 'Lemon Iced Tea', 'Vanilla Chai Latte', 'Hot Choclate', 'Iced Cofee']\n"
     ]
    }
   ],
   "source": [
    "print(f'tcs.add_order(\"hot cocoa\") ➞ {tcs.add_order(\"hot cocoa\")}')\n",
    "print(f'tcs.add_order(\"iced tea\") ➞ {tcs.add_order(\"iced tea\")}')\n",
    "print(f'tcs.add_order(\"cinnamon roll\") ➞ {tcs.add_order(\"cinnamon roll\")}')\n",
    "print(f'tcs.add_order(\"iced cofee\") ➞ {tcs.add_order(\"iced cofee\")}')\n",
    "print(f'tcs.list_orders() ➞ {tcs.list_orders()}')\n",
    "print(f'tcs.due_amount() ➞ {tcs.due_amount()}')\n",
    "print(f'tcs.fulfill_order() ➞ {tcs.fulfill_order()}')\n",
    "print(f'tcs.fulfill_order() ➞ {tcs.fulfill_order()}')\n",
    "print(f'tcs.fulfill_order() ➞ {tcs.fulfill_order()}')\n",
    "print(f'tcs.list_orders() ➞ {tcs.list_orders()}')\n",
    "print(f'tcs.due_amount() ➞ {tcs.due_amount()}')\n",
    "print(f'tcs.cheapest_item() ➞ {tcs.cheapest_item()}')\n",
    "print(f'tcs.food_only() ➞ {tcs.food_only()}')\n",
    "print(f'tcs.drinks_only() ➞ {tcs.drinks_only()}')"
   ]
  },
  {
   "cell_type": "raw",
   "id": "9aef2350",
   "metadata": {},
   "source": [
    "4. In this challenge, write a funcion loneliest_number to find the last Lonely\n",
    "number inside a sequence. A number is Lonely if the distance from its closest\n",
    "Prime sets a new record of the sequence.\n",
    "Sequence = from 0 to 3\n",
    "# Any number lower than 3 doesn't have a Prime preceeding it...\n",
    "# ...so that you'll consider only its next closest Prime.\n",
    "0 has distance 2 from its closest Prime (2)\n",
    "# It's a new record! 0 It's the first lonely number of the sequence\n",
    "1 has distance 1 from its closest Prime (2)\n",
    "2 has distance 1 from 3\n",
    "3 has distance 1 from 2\n",
    "# The sequence 0 to 3 has only one Lonely number: 0\n",
    "Sequence = Numbers from 5 to 10\n",
    "5 has distance 2 from its closest Prime (3 or 7)\n",
    "# It's a new record! 5 It's the first lonely number of the sequence\n",
    "6 has distance 1 from 5 or 7\n",
    "7 has distance 2 from 5\n",
    "8 has distance 1 from 7\n",
    "\n",
    "9 has distance 2 from 7 or 11\n",
    "10 has distance 1 from 11\n",
    "# The sequence 5 to 10 has only one Lonely number: 5\n",
    "Sequence = Numbers from 19 to 24\n",
    "19 has distance 2 from its closest Prime (17)\n",
    "# It's a new record! 19 It's the first lonely number of the sequence\n",
    "20 has distance 1 from 19\n",
    "21 has distance 2 from 5\n",
    "22 has distance 1 from 23\n",
    "23 has distance 4 from 17 or 29\n",
    "# It's a new record! 23 is the second lonely number of the sequence\n",
    "24 has distance 1 from 23\n",
    "# The sequence 19 to 24 has two Lonely numbers: 19 and 23\n",
    "The function loneliest_number must accept two integers lo and hi being the\n",
    "inclusive bounds of the sequence to analyze, and returns a dictionay (dict)\n",
    "object with the following keys and values:\n",
    "- number: is the last Lonely number found in the given sequence;\n",
    "- distance: is the distance of the number from its closest Prime;\n",
    "- closest: is the Prime closest to number (if two Primes are equally distant\n",
    "from number, return the higher Prime).\n",
    "Examples\n",
    "loneliest_number(0, 22) ➞ {\n",
    "number: 0, distance: 2, closest: 2\n",
    "}\n",
    "loneliest_number(8, 123) ➞ {\n",
    "number: 53, distance: 6, closest: 59\n",
    "}\n",
    "loneliest_number(938, 1190) ➞ {\n",
    "number: 1140, distance: 11, closest: 1151\n",
    "}\n",
    "loneliest_number(120, 1190) ➞ {\n",
    "number: 211, distance: 12, closest: 223\n",
    "}"
   ]
  },
  {
   "cell_type": "code",
   "execution_count": 225,
   "id": "225ed11d",
   "metadata": {},
   "outputs": [],
   "source": [
    "def loneliest_number(a,b):\n",
    "    nums=[i for i in range(a,b)]\n",
    "\n",
    "    def is_prime(a):\n",
    "        if a>1:\n",
    "            for i in range(2,a):\n",
    "                if (a%i)==0:\n",
    "                    return False\n",
    "            else:\n",
    "                return True\n",
    "\n",
    "    primes=[]\n",
    "    i=a-1\n",
    "    while i>1:\n",
    "        if is_prime(i):\n",
    "            primes.append(i)\n",
    "        i-=1\n",
    "    primes.extend([i for i in range(a,b+1) if is_prime(i)])\n",
    "\n",
    "    i=b+1\n",
    "    flag=True\n",
    "    while flag:\n",
    "        if is_prime(i):\n",
    "            primes.append(i)\n",
    "            flag=False\n",
    "        i+=1\n",
    "        \n",
    "    output = {'number': 0, 'distance': 0, 'closest': 0}\n",
    "\n",
    "    \n",
    "#     print(primes)\n",
    "    for i in nums:\n",
    "#         print(\"i is \",i)\n",
    "        temp = {'number': i, 'distance': abs(i-primes[0]), 'closest': primes[0]}\n",
    "#         print(temp)\n",
    "        for j in primes:\n",
    "#             print(\"j is \",j)\n",
    "            if j<i:\n",
    "                dist=i-j\n",
    "                \n",
    "                if dist<=temp['distance']:\n",
    "#                     print(dist)\n",
    "                    temp['distance']=dist\n",
    "                    temp['closest']=j\n",
    "            elif j>i:\n",
    "                dist=j-i\n",
    "                if dist<=temp['distance']:\n",
    "                    temp['number']=i\n",
    "                    temp['distance']=dist\n",
    "                    temp['closest']=j\n",
    "                    break\n",
    "            \n",
    "        if temp['distance']>=output['distance']:\n",
    "            \n",
    "            output['number']=temp['number']\n",
    "            output['distance']=temp['distance']\n",
    "            output['closest']=temp['closest']\n",
    "        \n",
    "            \n",
    "            \n",
    "    return output"
   ]
  },
  {
   "cell_type": "code",
   "execution_count": 226,
   "id": "536c7a43",
   "metadata": {},
   "outputs": [
    {
     "data": {
      "text/plain": [
       "{'number': 21, 'distance': 2, 'closest': 23}"
      ]
     },
     "execution_count": 226,
     "metadata": {},
     "output_type": "execute_result"
    }
   ],
   "source": [
    "loneliest_number(0, 22)"
   ]
  },
  {
   "cell_type": "code",
   "execution_count": 227,
   "id": "fdcd6c5c",
   "metadata": {},
   "outputs": [
    {
     "data": {
      "text/plain": [
       "{'number': 120, 'distance': 7, 'closest': 127}"
      ]
     },
     "execution_count": 227,
     "metadata": {},
     "output_type": "execute_result"
    }
   ],
   "source": [
    "loneliest_number(8, 123)"
   ]
  },
  {
   "cell_type": "code",
   "execution_count": 228,
   "id": "6e34cd68",
   "metadata": {},
   "outputs": [
    {
     "data": {
      "text/plain": [
       "{'number': 1140, 'distance': 11, 'closest': 1151}"
      ]
     },
     "execution_count": 228,
     "metadata": {},
     "output_type": "execute_result"
    }
   ],
   "source": [
    "loneliest_number(938, 1190)"
   ]
  },
  {
   "cell_type": "code",
   "execution_count": 229,
   "id": "f9cecae9",
   "metadata": {},
   "outputs": [
    {
     "data": {
      "text/plain": [
       "{'number': 211, 'distance': 12, 'closest': 223}"
      ]
     },
     "execution_count": 229,
     "metadata": {},
     "output_type": "execute_result"
    }
   ],
   "source": [
    "loneliest_number(120, 1190)"
   ]
  },
  {
   "cell_type": "code",
   "execution_count": null,
   "id": "8fd73cd0",
   "metadata": {},
   "outputs": [],
   "source": []
  },
  {
   "cell_type": "raw",
   "id": "ed6aa34c",
   "metadata": {},
   "source": [
    "5. Implement a class Selfie that can store the current state of the object in the\n",
    "form of binary string. It can take multiple pictures and then recover to a state\n",
    "it was before. During testing an object will be provided with new attributes and\n",
    "their values. It will store its state. Then the values will be changed. Then it will\n",
    "be given new attributes. It will store its state again. It will be repeated few\n",
    "times.\n",
    "Later the states of the object will be recovered given an index. The return\n",
    "value should be a new Selfie with the requested historic state and the state\n",
    "history of the new object should be updated with a copy of current object's\n",
    "state history.\n",
    "The object also knows how many states it has stored. If the index is not within\n",
    "the range of stored states, the object stays as is. If the argument is invalid, n\n",
    "< 0 or n >= self.n_states(), the current object (or a copy thereof) should be\n",
    "returned.\n",
    "Examples\n",
    "p = Selfie()\n",
    "p.x = 2\n",
    "p.save_state()\n",
    "p.x = 5\n",
    "p = p.recover_state(0)\n",
    "p.x ➞ 2"
   ]
  },
  {
   "cell_type": "code",
   "execution_count": 286,
   "id": "049b2cb6",
   "metadata": {},
   "outputs": [],
   "source": [
    "class Selfie:\n",
    "    def __init__(self,x=None):\n",
    "        self.x = x\n",
    "        self.archived_states = []\n",
    "    def save_state(self):\n",
    "        self.archived_states.append(''.join(format(ord(c), 'b') for c in str(self.x)))\n",
    "#         print(self.archived_states)\n",
    "#         self.x = None\n",
    "        return self.archived_states\n",
    "    def BinaryToDecimal(self,binary):\n",
    "\n",
    "        # Using int function to convert to\n",
    "        # string  \n",
    "        string = int(binary, 2)\n",
    "\n",
    "        return string\n",
    "    \n",
    "    def recover_state(self,in_num):\n",
    "        if in_num >=0 and in_num <= len(self.archived_states):\n",
    "            str_data =''\n",
    "            for i in range(0, len(self.archived_states[in_num]), 7):\n",
    "     \n",
    "                # slicing the bin_data from index range [0, 6]\n",
    "                # and storing it in temp_data\n",
    "                temp_data = self.archived_states[in_num][i:i + 7]\n",
    "\n",
    "                # passing temp_data in BinarytoDecimal() function\n",
    "                # to get decimal value of corresponding temp_data\n",
    "                decimal_data = BinaryToDecimal(temp_data)\n",
    "\n",
    "                # Decoding the decimal value returned by\n",
    "                # BinarytoDecimal() function, using chr()\n",
    "                # function which return the string corresponding\n",
    "                # character for given ASCII value, and store it\n",
    "                # in str_data\n",
    "                str_data = str_data + chr(decimal_data)\n",
    "            self.x = str_data\n",
    "        return self"
   ]
  },
  {
   "cell_type": "code",
   "execution_count": 294,
   "id": "50bb55e7",
   "metadata": {},
   "outputs": [],
   "source": [
    "p = Selfie()\n",
    "p.x = 2"
   ]
  },
  {
   "cell_type": "code",
   "execution_count": 295,
   "id": "8a3dfd88",
   "metadata": {},
   "outputs": [
    {
     "data": {
      "text/plain": [
       "'5'"
      ]
     },
     "execution_count": 295,
     "metadata": {},
     "output_type": "execute_result"
    }
   ],
   "source": [
    "p.save_state()\n",
    "p.x=5\n",
    "p.save_state()\n",
    "p.x=7\n",
    "p.save_state()\n",
    "p = p.recover_state(1)\n",
    "p.x"
   ]
  },
  {
   "cell_type": "code",
   "execution_count": null,
   "id": "14a2c1bb",
   "metadata": {},
   "outputs": [],
   "source": []
  }
 ],
 "metadata": {
  "kernelspec": {
   "display_name": "Python 3 (ipykernel)",
   "language": "python",
   "name": "python3"
  },
  "language_info": {
   "codemirror_mode": {
    "name": "ipython",
    "version": 3
   },
   "file_extension": ".py",
   "mimetype": "text/x-python",
   "name": "python",
   "nbconvert_exporter": "python",
   "pygments_lexer": "ipython3",
   "version": "3.8.8"
  }
 },
 "nbformat": 4,
 "nbformat_minor": 5
}
