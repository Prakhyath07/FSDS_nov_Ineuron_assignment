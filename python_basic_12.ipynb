{
 "cells": [
  {
   "cell_type": "raw",
   "id": "ca7636a4",
   "metadata": {},
   "source": [
    "1. In what modes should the PdfFileReader() and PdfFileWriter() File objects will be opened?\n",
    "\n",
    "These files will be opened in binary mode., read binary (rb) for PdfFileREader() and write binary (wb) PdfFileWriter()"
   ]
  },
  {
   "cell_type": "code",
   "execution_count": 1,
   "id": "bf921928",
   "metadata": {},
   "outputs": [
    {
     "name": "stdout",
     "output_type": "stream",
     "text": [
      "Requirement already satisfied: PyPDF2 in c:\\users\\prakh\\anaconda3\\lib\\site-packages (1.26.0)\n"
     ]
    }
   ],
   "source": [
    "!pip install PyPDF2"
   ]
  },
  {
   "cell_type": "code",
   "execution_count": 18,
   "id": "efd1ce43",
   "metadata": {},
   "outputs": [],
   "source": [
    "import PyPDF2 as pdf\n",
    "# pdfFileObj = open(\"probabilitydistributions.pdf\",'rb')\n",
    "PdfFileReader = pdf.PdfFileReader(\"probabilitydistributions.pdf\")"
   ]
  },
  {
   "cell_type": "code",
   "execution_count": 19,
   "id": "d63c7638",
   "metadata": {},
   "outputs": [
    {
     "data": {
      "text/plain": [
       "<PyPDF2.pdf.PdfFileReader at 0x1ca8533a070>"
      ]
     },
     "execution_count": 19,
     "metadata": {},
     "output_type": "execute_result"
    }
   ],
   "source": [
    "PdfFileReader"
   ]
  },
  {
   "cell_type": "raw",
   "id": "dcf3fa68",
   "metadata": {},
   "source": [
    "\n",
    "2. From a PdfFileReader object, how do you get a Page object for page 5?\n",
    "\n",
    "Calling getPage(4) will return a Page object for page 5 since page 0 is the first page"
   ]
  },
  {
   "cell_type": "code",
   "execution_count": 20,
   "id": "ad55dbbd",
   "metadata": {},
   "outputs": [],
   "source": [
    "pageObj = PdfFileReader.getPage(1)\n"
   ]
  },
  {
   "cell_type": "code",
   "execution_count": 21,
   "id": "9201080a",
   "metadata": {},
   "outputs": [
    {
     "data": {
      "text/plain": [
       "'Continuous Improvement Toolkit \\n.\\nwww.citoolkit.com\\nThe Continuous Improvement Map\\nCheck Sheets\\nData\\nCollection\\nProcess Mapping\\nFlowcharting\\nFlow Process Charts**\\nJust in Time\\nControl Charts\\nMistake Proofing\\nRelations Mapping\\nUnderstanding\\nPerformance**\\nFishbone Diagram\\nDesign of Experiment\\nImplementing\\nSolutions***\\nGroup Creativity\\nBrainstorming\\nAttribute Analysis\\nSelecting & Decision Making\\nDecision Tree\\nCost Benefit Analysis\\nVoting\\nPlanning & Project Management*\\nKaizen Events\\nQuick Changeover\\nManaging\\nRisk\\nFMEA\\nPDPC\\nRAID Log*\\nObservations\\nFocus Groups\\nUnderstanding\\nCause & Effect\\nPareto Analysis\\nIDEF0\\n5 Whys\\nKano\\nKPIs\\nLean Measures\\nImportance\\n-\\nUrgency Mapping\\nWaste Analysis**\\nFault Tree Analysis\\nMorphological Analysis \\nBenchmarking***\\nSCAMPER***\\nMatrix Diagram\\nConfidence Intervals\\nPugh Matrix\\nSIPOC*\\nPrioritization Matrix\\nStakeholder Analysis\\nCritical\\n-\\nto Tree\\nPaired Comparison\\nImprovement Roadmaps\\nInterviews\\nQuality Function Deployment\\nGraphical Analysis\\nLateral Thinking\\nHypothesis Testing\\nVisual Management\\nReliability Analysis\\nCross Training\\nTree Diagram*\\nANOVA\\nGap Analysis*\\nTraffic Light Assessment\\nTPN Analysis\\nDecision Balance Sheet\\nRisk Analysis*\\nAutomation\\nSimulation\\nService Blueprints\\nDMAIC\\nProduct Family Matrix\\nRun Charts\\nTPM\\nControl Planning\\nChi\\n-\\nSquare\\nSWOT Analysis\\nCapability Indices\\nPolicy Deployment\\nData collection planner*\\nAffinity Diagram\\nQuestionnaires\\nProbability Distributions\\nBottleneck Analysis\\nMSA\\nDescriptive Statistics\\nCost of Quality*\\nProcess Yield\\nHistograms\\n5S\\nPick Chart\\nPortfolio Matrix\\nFour Field Matrix\\nRoot Cause Analysis\\nData Mining\\nHow\\n-\\nHow Diagram***\\nSampling\\nSpaghetti **\\nMind Mapping*\\nProject Charter\\nPDCA\\nDesigning & Analyzing Processes\\nCorrelation\\nScatter Plots\\nRegression\\nGantt Charts\\nActivity Networks\\nRACI Matrix\\nPERT/CPM\\nDaily Planning\\nMOST\\nStandard work\\nDocument control\\nA3 Thinking\\nMulti vari Studies\\nOEE\\nEarned Value\\nDelphi Method\\nTime Value Map**\\nValue Stream Mapping**\\nForce Field Analysis\\nPayoff Matrix\\nSuggestion systems\\nFive Ws\\nProcess Redesign\\nBreak\\n-\\neven Analysis\\nValue Analysis**\\nFlow\\nPull\\nErgonomics\\n'"
      ]
     },
     "execution_count": 21,
     "metadata": {},
     "output_type": "execute_result"
    }
   ],
   "source": [
    "pageObj.extractText()"
   ]
  },
  {
   "cell_type": "raw",
   "id": "3ab2fda3",
   "metadata": {},
   "source": [
    "3. What PdfFileReader variable stores the number of pages in the PDF document?\n",
    "\n",
    "The PdfFileReader.numPages variable stores an integer of the number of pages in the PdfFileReader object"
   ]
  },
  {
   "cell_type": "code",
   "execution_count": 22,
   "id": "2ac3a93f",
   "metadata": {},
   "outputs": [
    {
     "data": {
      "text/plain": [
       "60"
      ]
     },
     "execution_count": 22,
     "metadata": {},
     "output_type": "execute_result"
    }
   ],
   "source": [
    "PdfFileReader.numPages"
   ]
  },
  {
   "cell_type": "raw",
   "id": "40878941",
   "metadata": {},
   "source": [
    "4. If a PdfFileReader object’s PDF is encrypted with the password swordfish, what must you do before you can obtain Page objects from it?\n",
    "\n",
    "Before we obtain the page object, the pdf has to be decrypted by calling .decrypt('swordfish')"
   ]
  },
  {
   "cell_type": "raw",
   "id": "b31b2be5",
   "metadata": {},
   "source": [
    "5. What methods do you use to rotate a page?\n",
    "The rotateClockwise() and rotateCounterClockwise() methods. The degrees to rotate is passed as an integer argument"
   ]
  },
  {
   "cell_type": "code",
   "execution_count": 27,
   "id": "903077c4",
   "metadata": {},
   "outputs": [],
   "source": [
    "outputfile= open(\"probabilitydistributions-rot.pdf\",'wb')\n",
    "writer=pdf.PdfFileWriter()\n",
    "for i in range(PdfFileReader.numPages):\n",
    "    page=PdfFileReader.getPage(i)\n",
    "    page.rotateClockwise(90)\n",
    "    writer.addPage(page)\n",
    "    writer.write(outputfile)\n",
    "outputfile.close()"
   ]
  },
  {
   "cell_type": "raw",
   "id": "b6006917",
   "metadata": {},
   "source": [
    "6. What is the difference between a Run object and a Paragraph object?"
   ]
  },
  {
   "cell_type": "raw",
   "id": "ddaa98c1",
   "metadata": {},
   "source": [
    "A document contains multiple paragraphs. A paragraph begins on a new line and contains multiple runs. Runs are contiguous groups of characters within a paragraph."
   ]
  },
  {
   "cell_type": "raw",
   "id": "51fd0e78",
   "metadata": {},
   "source": [
    "7. How do you obtain a list of Paragraph objects for a Document object that’s stored in a variable named doc?\n",
    "By using doc.paragraphs"
   ]
  },
  {
   "cell_type": "raw",
   "id": "bbede338",
   "metadata": {},
   "source": [
    "8. What type of object has bold, underline, italic, strike, and outline variables?\n",
    "A Run object has bold, underline,italic,strike and outline variables"
   ]
  },
  {
   "cell_type": "raw",
   "id": "dfa2573d",
   "metadata": {},
   "source": [
    "True always makes the Run object bolded and False makes it always not bolded, no matter what the style’s bold setting is. None will make the Run object just use the style’s bold setting."
   ]
  },
  {
   "cell_type": "raw",
   "id": "d559a991",
   "metadata": {},
   "source": [
    "10. How do you create a Document object for a new Word document?\n",
    "\n",
    "By Calling the docx.Document() function."
   ]
  },
  {
   "cell_type": "raw",
   "id": "a96796f8",
   "metadata": {},
   "source": [
    "11. How do you add a paragraph with the text 'Hello, there!'' to a Document object stored in a variable named doc?\n"
   ]
  },
  {
   "cell_type": "code",
   "execution_count": 28,
   "id": "3367f5cd",
   "metadata": {},
   "outputs": [
    {
     "name": "stdout",
     "output_type": "stream",
     "text": [
      "Requirement already satisfied: python-docx in c:\\users\\prakh\\anaconda3\\lib\\site-packages (0.8.11)\n",
      "Requirement already satisfied: lxml>=2.3.2 in c:\\users\\prakh\\anaconda3\\lib\\site-packages (from python-docx) (4.7.1)\n"
     ]
    }
   ],
   "source": [
    "# !pip install python-docx\n",
    "import docx\n",
    "doc = docx.Document()\n",
    "\n",
    "doc.add_paragraph('Hello there!')\n",
    "doc.save('hellothere.docx')"
   ]
  },
  {
   "cell_type": "raw",
   "id": "5f83e141",
   "metadata": {},
   "source": [
    "12. What integers represent the levels of headings available in Word documents?\n",
    "integer from 0 to 4\n",
    "\n",
    "The arguments to add_heading() are a string of the heading text and an integer from 0 to 4. The integer 0 makes the heading the Title style, which is used for the top of the document. Integers 1 to 4 are for various heading levels, with 1 being the main heading and 4 the lowest subheading"
   ]
  },
  {
   "cell_type": "code",
   "execution_count": null,
   "id": "e8d60954",
   "metadata": {},
   "outputs": [],
   "source": []
  }
 ],
 "metadata": {
  "kernelspec": {
   "display_name": "Python 3 (ipykernel)",
   "language": "python",
   "name": "python3"
  },
  "language_info": {
   "codemirror_mode": {
    "name": "ipython",
    "version": 3
   },
   "file_extension": ".py",
   "mimetype": "text/x-python",
   "name": "python",
   "nbconvert_exporter": "python",
   "pygments_lexer": "ipython3",
   "version": "3.8.8"
  }
 },
 "nbformat": 4,
 "nbformat_minor": 5
}
