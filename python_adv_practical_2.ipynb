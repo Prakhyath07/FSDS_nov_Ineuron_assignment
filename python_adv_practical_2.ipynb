{
 "cells": [
  {
   "cell_type": "code",
   "execution_count": 1,
   "id": "62b73fb3",
   "metadata": {},
   "outputs": [],
   "source": [
    "\"\"\"\n",
    "1. Write a function that takes a positive integer num and calculates how many\n",
    "dots exist in a pentagonal shape around the center dot on the Nth iteration.\n",
    "In the image below you can see the first iteration is only a single dot. On the\n",
    "second, there are 6 dots. On the third, there are 16 dots, and on the fourth\n",
    "there are 31 dots.\n",
    "\n",
    "Return the number of dots that exist in the whole pentagon on the Nth\n",
    "iteration.\n",
    "Examples\n",
    "pentagonal(1) ➞ 1\n",
    "pentagonal(2) ➞ 6\n",
    "pentagonal(3) ➞ 16\n",
    "pentagonal(8) ➞ 141\n",
    "\"\"\"\n",
    "\n",
    "def pentagonal(n):\n",
    "    try:\n",
    "        sum=1\n",
    "        if n<=0:\n",
    "            return \"Enter value greater than 0\"\n",
    "        \n",
    "        elif n==1:\n",
    "            return \"Number of dots equal to 1\"\n",
    "\n",
    "        else:\n",
    "            for i in range(2,n+1):\n",
    "                sum+= 5*(i-1)\n",
    "            return \"Number of dots equal to {}\".format(sum)\n",
    "            \n",
    "    except TypeError:\n",
    "            return \"Please enter only numbers\"\n",
    "    except exception as e:\n",
    "        return e\n"
   ]
  },
  {
   "cell_type": "code",
   "execution_count": 2,
   "id": "67475aa7",
   "metadata": {},
   "outputs": [
    {
     "data": {
      "text/plain": [
       "'Number of dots equal to 141'"
      ]
     },
     "execution_count": 2,
     "metadata": {},
     "output_type": "execute_result"
    }
   ],
   "source": [
    "pentagonal(8)"
   ]
  },
  {
   "cell_type": "code",
   "execution_count": 3,
   "id": "59f06a5b",
   "metadata": {},
   "outputs": [],
   "source": [
    "\"\"\"\n",
    "2. Make a function that encrypts a given input with these steps:\n",
    "Input: \"apple\"\n",
    "Step 1: Reverse the input: \"elppa\"\n",
    "Step 2: Replace all vowels using the following chart:\n",
    "a => 0\n",
    "e => 1\n",
    "i => 2\n",
    "o => 2\n",
    "u => 3\n",
    "# \"1lpp0\"\n",
    "\n",
    "Step 3: Add \"aca\" to the end of the word: \"1lpp0aca\"\n",
    "Output: \"1lpp0aca\"\n",
    "Examples\n",
    "encrypt(\"banana\") ➞ \"0n0n0baca\"\n",
    "encrypt(\"karaca\") ➞ \"0c0r0kaca\"\n",
    "encrypt(\"burak\") ➞ \"k0r3baca\"\n",
    "encrypt(\"alpaca\") ➞ \"0c0pl0aca\"\n",
    "\"\"\"\n",
    "\n",
    "def encrypt(text):\n",
    "    try:\n",
    "        vowels=['a','e','i','o','u']\n",
    "        maping={'a':'0','e':'1','i':'2','o':'2','u':'3'}\n",
    "        rev=\"\"\n",
    "        for i in range(len(text),0,-1):\n",
    "            a=text[i-1]\n",
    "            if a in vowels:\n",
    "                a=maping[a]\n",
    "            rev+=a\n",
    "        return rev+'aca'\n",
    "        \n",
    "    except exception as e:\n",
    "        return e"
   ]
  },
  {
   "cell_type": "code",
   "execution_count": 4,
   "id": "eb887c7b",
   "metadata": {},
   "outputs": [
    {
     "data": {
      "text/plain": [
       "'0c0pl0aca'"
      ]
     },
     "execution_count": 4,
     "metadata": {},
     "output_type": "execute_result"
    }
   ],
   "source": [
    "encrypt(\"alpaca\")"
   ]
  },
  {
   "cell_type": "code",
   "execution_count": 5,
   "id": "73cf7d04",
   "metadata": {},
   "outputs": [],
   "source": [
    "\"\"\"\n",
    "3. Given the month and year as numbers, return whether that month contains\n",
    "a Friday 13th.(i.e You can check Python's datetime module)\n",
    "Examples\n",
    "has_friday_13(3, 2020) ➞ True\n",
    "has_friday_13(10, 2017) ➞ True\n",
    "has_friday_13(1, 1985) ➞ False\n",
    "\"\"\"\n",
    "\n",
    "import datetime\n",
    "def has_friday_13(m,y):\n",
    "    try:\n",
    "        x=datetime.datetime(y, m, 13)\n",
    "        if x.strftime(\"%A\") == \"Friday\":\n",
    "            return True\n",
    "        else:\n",
    "            return False\n",
    "    \n",
    "    except exception as e:\n",
    "        print(e)\n",
    "    "
   ]
  },
  {
   "cell_type": "code",
   "execution_count": 6,
   "id": "05bb3db0",
   "metadata": {},
   "outputs": [
    {
     "data": {
      "text/plain": [
       "True"
      ]
     },
     "execution_count": 6,
     "metadata": {},
     "output_type": "execute_result"
    }
   ],
   "source": [
    "has_friday_13(10, 2017)"
   ]
  },
  {
   "cell_type": "code",
   "execution_count": 7,
   "id": "f7b64f5c",
   "metadata": {},
   "outputs": [
    {
     "data": {
      "text/plain": [
       "2"
      ]
     },
     "execution_count": 7,
     "metadata": {},
     "output_type": "execute_result"
    }
   ],
   "source": [
    "\"\"\"\n",
    "4. Write a regular expression that will help us count how many bad cookies\n",
    "are produced every day. You must use RegEx negative lookbehind.\n",
    "Example\n",
    "lst = [\"bad cookie\", \"good cookie\", \"bad cookie\", \"good cookie\", \"good cookie\"]\n",
    "pattern = \"yourregularexpressionhere\"\n",
    "len(re.findall(pattern, \", \".join(lst))) ➞ 2\n",
    "\"\"\"\n",
    "import re\n",
    "\n",
    "lst = [\"bad cookie\", \"good cookie\", \"bad cookie\", \"good cookie\", \"good cookie\"]\n",
    "pattern = \"(?<!good\\s)cookie\"\n",
    "len(re.findall(pattern, \", \".join(lst)))"
   ]
  },
  {
   "cell_type": "code",
   "execution_count": 8,
   "id": "512b2111",
   "metadata": {},
   "outputs": [],
   "source": [
    "\"\"\"\n",
    "5. Given a list of words in the singular form, return a set of those words in the\n",
    "plural form if they appear more than once in the list.\n",
    "Examples\n",
    "pluralize([\"cow\", \"pig\", \"cow\", \"cow\"]) ➞ { \"cows\", \"pig\" }\n",
    "pluralize([\"table\", \"table\", \"table\"]) ➞ { \"tables\" }\n",
    "\n",
    "pluralize([\"chair\", \"pencil\", \"arm\"]) ➞ { \"chair\", \"pencil\", \"arm\" }\n",
    "\"\"\"\n",
    "#! pip install textblob\n",
    "from textblob import TextBlob\n",
    "def pluralise(lst):\n",
    "    lst2=lst.copy()\n",
    "    ret=[]\n",
    "    \n",
    "    ls=set(lst2)\n",
    "    for i in ls:\n",
    "        lst2.remove(i)\n",
    "    words = \" \".join(set(lst2))\n",
    "    blob = TextBlob(words)\n",
    "    plurals = [word.pluralize() for word in blob.words]\n",
    "    \n",
    "    for i in lst:\n",
    "        if i not in lst2:\n",
    "            ret.append(i)\n",
    "    for i in plurals:\n",
    "        ret.append(i)\n",
    "    \n",
    "    return ret\n",
    "    \n",
    "    \n",
    "    "
   ]
  },
  {
   "cell_type": "code",
   "execution_count": 9,
   "id": "9464c775",
   "metadata": {},
   "outputs": [
    {
     "data": {
      "text/plain": [
       "['chair', 'pencil', 'arm', 'children', 'wives']"
      ]
     },
     "execution_count": 9,
     "metadata": {},
     "output_type": "execute_result"
    }
   ],
   "source": [
    "pluralise([\"chair\", \"pencil\", \"arm\",'wife','wife','child','child'])"
   ]
  },
  {
   "cell_type": "code",
   "execution_count": null,
   "id": "a93160aa",
   "metadata": {},
   "outputs": [],
   "source": []
  },
  {
   "cell_type": "code",
   "execution_count": null,
   "id": "53661b26",
   "metadata": {},
   "outputs": [],
   "source": []
  },
  {
   "cell_type": "code",
   "execution_count": null,
   "id": "6419463d",
   "metadata": {},
   "outputs": [],
   "source": [
    "\n"
   ]
  },
  {
   "cell_type": "code",
   "execution_count": null,
   "id": "ee6ecca8",
   "metadata": {},
   "outputs": [],
   "source": []
  },
  {
   "cell_type": "code",
   "execution_count": null,
   "id": "ad8802ce",
   "metadata": {},
   "outputs": [],
   "source": []
  }
 ],
 "metadata": {
  "kernelspec": {
   "display_name": "Python 3 (ipykernel)",
   "language": "python",
   "name": "python3"
  },
  "language_info": {
   "codemirror_mode": {
    "name": "ipython",
    "version": 3
   },
   "file_extension": ".py",
   "mimetype": "text/x-python",
   "name": "python",
   "nbconvert_exporter": "python",
   "pygments_lexer": "ipython3",
   "version": "3.8.8"
  }
 },
 "nbformat": 4,
 "nbformat_minor": 5
}
