{
 "cells": [
  {
   "cell_type": "raw",
   "id": "4104f23d",
   "metadata": {},
   "source": [
    "1. What are the new features added in Python 3.8 version?\n",
    "\n",
    "\n",
    "Assignment expressions\n",
    "There is new syntax := that assigns values to variables as part of a larger expression. It is affectionately known as “the walrus operator” due to its resemblance to the eyes and tusks of a walrus.\n",
    "\n",
    "In this example, the assignment expression helps avoid calling len() twice:\n"
   ]
  },
  {
   "cell_type": "code",
   "execution_count": 3,
   "id": "37d242d4",
   "metadata": {},
   "outputs": [
    {
     "name": "stdout",
     "output_type": "stream",
     "text": [
      "List is too long (17 elements, expected <= 10)\n"
     ]
    }
   ],
   "source": [
    "a='prakhyathbhandary'\n",
    "if (n := len(a)) > 10:\n",
    "    print(f\"List is too long ({n} elements, expected <= 10)\")"
   ]
  },
  {
   "cell_type": "raw",
   "id": "6dae5ea2",
   "metadata": {},
   "source": [
    "Positional-only parameters\n",
    "There is a new function parameter syntax / to indicate that some function parameters must be specified positionally and cannot be used as keyword arguments. This is the same notation shown by help() for C functions annotated with Larry Hastings’ Argument Clinic tool.\n",
    "\n",
    "In the following example, parameters a and b are positional-only, while c or d can be positional or keyword, and e or f are required to be keywords:"
   ]
  },
  {
   "cell_type": "code",
   "execution_count": 4,
   "id": "2cd7883e",
   "metadata": {},
   "outputs": [],
   "source": [
    "def f(a, b, /, c, d, *, e, f):\n",
    "    print(a, b, c, d, e, f)"
   ]
  },
  {
   "cell_type": "code",
   "execution_count": 5,
   "id": "b4cb52d6",
   "metadata": {},
   "outputs": [
    {
     "name": "stdout",
     "output_type": "stream",
     "text": [
      "10 20 30 40 50 60\n"
     ]
    }
   ],
   "source": [
    "# The following is a valid call:\n",
    "\n",
    "f(10, 20, 30, d=40, e=50, f=60)\n"
   ]
  },
  {
   "cell_type": "code",
   "execution_count": 7,
   "id": "11884797",
   "metadata": {},
   "outputs": [
    {
     "ename": "TypeError",
     "evalue": "f() got some positional-only arguments passed as keyword arguments: 'b'",
     "output_type": "error",
     "traceback": [
      "\u001b[1;31m---------------------------------------------------------------------------\u001b[0m",
      "\u001b[1;31mTypeError\u001b[0m                                 Traceback (most recent call last)",
      "\u001b[1;32m~\\AppData\\Local\\Temp/ipykernel_16640/3806213059.py\u001b[0m in \u001b[0;36m<module>\u001b[1;34m\u001b[0m\n\u001b[0;32m      1\u001b[0m \u001b[1;31m# However, these are invalid calls:\u001b[0m\u001b[1;33m\u001b[0m\u001b[1;33m\u001b[0m\u001b[1;33m\u001b[0m\u001b[0m\n\u001b[0;32m      2\u001b[0m \u001b[1;33m\u001b[0m\u001b[0m\n\u001b[1;32m----> 3\u001b[1;33m \u001b[0mf\u001b[0m\u001b[1;33m(\u001b[0m\u001b[1;36m10\u001b[0m\u001b[1;33m,\u001b[0m \u001b[0mb\u001b[0m\u001b[1;33m=\u001b[0m\u001b[1;36m20\u001b[0m\u001b[1;33m,\u001b[0m \u001b[0mc\u001b[0m\u001b[1;33m=\u001b[0m\u001b[1;36m30\u001b[0m\u001b[1;33m,\u001b[0m \u001b[0md\u001b[0m\u001b[1;33m=\u001b[0m\u001b[1;36m40\u001b[0m\u001b[1;33m,\u001b[0m \u001b[0me\u001b[0m\u001b[1;33m=\u001b[0m\u001b[1;36m50\u001b[0m\u001b[1;33m,\u001b[0m \u001b[0mf\u001b[0m\u001b[1;33m=\u001b[0m\u001b[1;36m60\u001b[0m\u001b[1;33m)\u001b[0m   \u001b[1;31m# b cannot be a keyword argument\u001b[0m\u001b[1;33m\u001b[0m\u001b[1;33m\u001b[0m\u001b[0m\n\u001b[0m",
      "\u001b[1;31mTypeError\u001b[0m: f() got some positional-only arguments passed as keyword arguments: 'b'"
     ]
    }
   ],
   "source": [
    "# However, these are invalid calls:\n",
    "\n",
    "f(10, b=20, c=30, d=40, e=50, f=60)   # b cannot be a keyword argument\n"
   ]
  },
  {
   "cell_type": "code",
   "execution_count": 8,
   "id": "826a8853",
   "metadata": {},
   "outputs": [
    {
     "ename": "TypeError",
     "evalue": "f() takes 4 positional arguments but 5 positional arguments (and 1 keyword-only argument) were given",
     "output_type": "error",
     "traceback": [
      "\u001b[1;31m---------------------------------------------------------------------------\u001b[0m",
      "\u001b[1;31mTypeError\u001b[0m                                 Traceback (most recent call last)",
      "\u001b[1;32m~\\AppData\\Local\\Temp/ipykernel_16640/3455662398.py\u001b[0m in \u001b[0;36m<module>\u001b[1;34m\u001b[0m\n\u001b[1;32m----> 1\u001b[1;33m \u001b[0mf\u001b[0m\u001b[1;33m(\u001b[0m\u001b[1;36m10\u001b[0m\u001b[1;33m,\u001b[0m \u001b[1;36m20\u001b[0m\u001b[1;33m,\u001b[0m \u001b[1;36m30\u001b[0m\u001b[1;33m,\u001b[0m \u001b[1;36m40\u001b[0m\u001b[1;33m,\u001b[0m \u001b[1;36m50\u001b[0m\u001b[1;33m,\u001b[0m \u001b[0mf\u001b[0m\u001b[1;33m=\u001b[0m\u001b[1;36m60\u001b[0m\u001b[1;33m)\u001b[0m           \u001b[1;31m# e must be a keyword argument\u001b[0m\u001b[1;33m\u001b[0m\u001b[1;33m\u001b[0m\u001b[0m\n\u001b[0m",
      "\u001b[1;31mTypeError\u001b[0m: f() takes 4 positional arguments but 5 positional arguments (and 1 keyword-only argument) were given"
     ]
    }
   ],
   "source": [
    "f(10, 20, 30, 40, 50, f=60)           # e must be a keyword argument"
   ]
  },
  {
   "cell_type": "raw",
   "id": "2df52134",
   "metadata": {},
   "source": [
    "Parallel filesystem cache for compiled bytecode files\n",
    "The new PYTHONPYCACHEPREFIX setting (also available as -X pycache_prefix) configures the implicit bytecode cache to use a separate parallel filesystem tree, rather than the default __pycache__ subdirectories within each source directory.\n",
    "\n",
    "The location of the cache is reported in sys.pycache_prefix (None indicates the default location in __pycache__ subdirectories)."
   ]
  },
  {
   "cell_type": "raw",
   "id": "34502b23",
   "metadata": {},
   "source": [
    "f-strings support = for self-documenting expressions and debugging\n",
    "Added an = specifier to f-strings. An f-string such as f'{expr=}' will expand to the text of the expression, an equal sign, then the representation of the evaluated expression. For example:\n",
    "\n",
    ">>>\n",
    "user = 'eric_idle'\n",
    "member_since = date(1975, 7, 31)\n",
    "f'{user=} {member_since=}'\n",
    "\"user='eric_idle' member_since=datetime.date(1975, 7, 31)\"\n",
    "The usual f-string format specifiers allow more control over how the result of the expression is displayed:\n",
    "\n",
    ">>>\n",
    ">>> delta = date.today() - member_since\n",
    ">>> f'{user=!s}  {delta.days=:,d}'\n",
    "'user=eric_idle  delta.days=16,075'\n",
    "The = specifier will display the whole expression so that calculations can be shown:\n",
    "\n",
    ">>>\n",
    ">>> print(f'{theta=}  {cos(radians(theta))=:.3f}')\n",
    "theta=30  cos(radians(theta))=0.866\n",
    "\n",
    "And many more changes\n"
   ]
  },
  {
   "cell_type": "raw",
   "id": "04fd2fe4",
   "metadata": {},
   "source": [
    "2. What is monkey patching in Python?\n",
    "\n",
    "In Python, the term monkey patch refers to dynamic (or run-time) modifications of a class or module. In Python, we can actually change the behavior of code at run-time."
   ]
  },
  {
   "cell_type": "code",
   "execution_count": 9,
   "id": "2999aaf0",
   "metadata": {},
   "outputs": [],
   "source": [
    "# monk.py\n",
    "class A:\n",
    "    def func(self):\n",
    "        print(\"func() is being called\")"
   ]
  },
  {
   "cell_type": "code",
   "execution_count": 12,
   "id": "b51c4dc9",
   "metadata": {},
   "outputs": [
    {
     "name": "stdout",
     "output_type": "stream",
     "text": [
      "monkey_f() is being called\n"
     ]
    }
   ],
   "source": [
    "\n",
    "def monkey_f(self):\n",
    "     print (\"monkey_f() is being called\")\n",
    "        \n",
    "# replacing address of \"func\" with \"monkey_f\"\n",
    "A.func = monkey_f\n",
    "obj = A()\n",
    "  \n",
    "# calling function \"func\" whose address got replaced\n",
    "# with function \"monkey_f()\"\n",
    "obj.func()"
   ]
  },
  {
   "cell_type": "raw",
   "id": "b426aaa3",
   "metadata": {},
   "source": [
    "3. What is the difference between a shallow copy and deep copy?\n",
    "\n",
    "Shallow copies duplicate as little as possible. A shallow copy of a collection is a copy of the collection structure, not the elements. With a shallow copy, two collections now share the individual elements.\n",
    "\n",
    "Deep copies duplicate everything. A deep copy of a collection is two collections with all of the elements in the original collection duplicated.\n"
   ]
  },
  {
   "cell_type": "raw",
   "id": "5846ebee",
   "metadata": {},
   "source": [
    "4. What is the maximum possible length of an identifier?\n",
    "\n",
    "In Python, the highest possible length of an identifier is 79 characters."
   ]
  },
  {
   "cell_type": "raw",
   "id": "030f5d59",
   "metadata": {},
   "source": [
    "5. What is generator comprehension?\n",
    "\n",
    "Instead of implementing the generator function to create a generator, we can create a generator from any sequence in a single statement  using generator comprehension. So, let’s discuss the syntax and implementation of the generator comprehension.\n",
    "\n",
    "Syntax for generator comprehension\n",
    "The syntax for generator comprehension is almost identical to list comprehension. \n",
    "The syntax for set comprehension is: generator= (expression for element in iterable if condition)\n",
    "\n",
    "The iterable can be any iterable object such as list, set, tuple, or dictionary from which we have to create a new generator to access its elements.\n",
    "The element is the element of the iterable object for which we are creating the generator. \n",
    "The expression contains a value or any mathematical expression derived from the element.\n",
    "The condition is the conditional expression required to exclude or include an element in the generator. The conditional statement is optional and “if condition” can be omitted if you have to access all the elements of the iterable.\n",
    "generator is the name of a newly created generator using generator comprehension in Python. "
   ]
  },
  {
   "cell_type": "code",
   "execution_count": 15,
   "id": "6ea2b30c",
   "metadata": {},
   "outputs": [
    {
     "name": "stdout",
     "output_type": "stream",
     "text": [
      "0\n",
      "1\n",
      "4\n",
      "9\n",
      "16\n"
     ]
    }
   ],
   "source": [
    "mygen = (element**2 for element in range(5))\n",
    "for ele in mygen:\n",
    "    print(ele)"
   ]
  },
  {
   "cell_type": "code",
   "execution_count": 16,
   "id": "59f6a1e3",
   "metadata": {},
   "outputs": [
    {
     "data": {
      "text/plain": [
       "<generator object <genexpr> at 0x000001B884BBA0B0>"
      ]
     },
     "execution_count": 16,
     "metadata": {},
     "output_type": "execute_result"
    }
   ],
   "source": [
    "mygen"
   ]
  },
  {
   "cell_type": "code",
   "execution_count": null,
   "id": "76a4e125",
   "metadata": {},
   "outputs": [],
   "source": []
  }
 ],
 "metadata": {
  "kernelspec": {
   "display_name": "Python 3 (ipykernel)",
   "language": "python",
   "name": "python3"
  },
  "language_info": {
   "codemirror_mode": {
    "name": "ipython",
    "version": 3
   },
   "file_extension": ".py",
   "mimetype": "text/x-python",
   "name": "python",
   "nbconvert_exporter": "python",
   "pygments_lexer": "ipython3",
   "version": "3.8.8"
  }
 },
 "nbformat": 4,
 "nbformat_minor": 5
}
