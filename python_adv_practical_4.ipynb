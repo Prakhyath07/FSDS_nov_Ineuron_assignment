{
 "cells": [
  {
   "cell_type": "code",
   "execution_count": 1,
   "id": "8ec1135f",
   "metadata": {},
   "outputs": [],
   "source": [
    "\"\"\"\n",
    "1. In mathematics, the Fibonacci numbers, commonly denoted Fn, form a\n",
    "sequence, called the Fibonacci sequence, such that each number is the sum\n",
    "of the two preceding ones, starting from 0 and 1:\n",
    "\n",
    "The beginning of the sequence is this:\n",
    "0, 1, 1, 2, 3, 5, 8, 13, 21, 34, 55, 89, 144, ...\n",
    "The function fastFib(num) returns the fibonacci number Fn, of the given num\n",
    "as an argument.\n",
    "Examples\n",
    "fib_fast(5) ➞ 5\n",
    "fib_fast(10) ➞ 55\n",
    "fib_fast(20) ➞ 6765\n",
    "fib_fast(50) ➞ 12586269025\n",
    "\"\"\"\n",
    "\n",
    "def fib_fast(n):\n",
    "    try:\n",
    "        a=[0,1]\n",
    "        if n<=0:\n",
    "            return \"enter numbers geater than 0\"\n",
    "        elif n==1:\n",
    "            return 0\n",
    "        \n",
    "        elif n==2:\n",
    "            return a\n",
    "        else:\n",
    "            for i in range(2,n+1):\n",
    "                b= a[i-1]+a[i-2]\n",
    "                a.append(b)\n",
    "            return a[n]\n",
    "    except TypeError:\n",
    "        return \"Please enter only numbers\"\n",
    "    except exception as e:\n",
    "        return e  "
   ]
  },
  {
   "cell_type": "code",
   "execution_count": 2,
   "id": "0e7052d7",
   "metadata": {},
   "outputs": [
    {
     "data": {
      "text/plain": [
       "12586269025"
      ]
     },
     "execution_count": 2,
     "metadata": {},
     "output_type": "execute_result"
    }
   ],
   "source": [
    "fib_fast(50)"
   ]
  },
  {
   "cell_type": "code",
   "execution_count": 3,
   "id": "dea5f0f5",
   "metadata": {},
   "outputs": [],
   "source": [
    "\"\"\"\n",
    "2. Create a function that takes a strings characters as ASCII and returns each\n",
    "characters hexadecimal value as a string.\n",
    "Examples\n",
    "convert_to_hex(\"hello world\") ➞ \"68 65 6c 6c 6f 20 77 6f 72 6c 64\"\n",
    "convert_to_hex(\"Big Boi\") ➞ \"42 69 67 20 42 6f 69\"\n",
    "convert_to_hex(\"Marty Poppinson\") ➞ \"4d 61 72 74 79 20 50 6f 70 70 69 6e\n",
    "73 6f 6e\"\n",
    "\n",
    "\"\"\"\n",
    "\n",
    "def convert_to_hex(asc):\n",
    "    hex_strng=(\" \".join([i.encode(\"utf-8\").hex()  for i in asc]))\n",
    "    return hex_strng"
   ]
  },
  {
   "cell_type": "code",
   "execution_count": 7,
   "id": "98a5dae5",
   "metadata": {},
   "outputs": [
    {
     "data": {
      "text/plain": [
       "'4d 61 72 74 79 20 50 6f 70 70 69 6e 73 6f 6e'"
      ]
     },
     "execution_count": 7,
     "metadata": {},
     "output_type": "execute_result"
    }
   ],
   "source": [
    "convert_to_hex(\"Marty Poppinson\")"
   ]
  },
  {
   "cell_type": "code",
   "execution_count": 23,
   "id": "e9aef5ce",
   "metadata": {},
   "outputs": [],
   "source": [
    "\"\"\"\n",
    "3. Someone has attempted to censor my strings by replacing every vowel\n",
    "with a *, l*k* th*s. Luckily, I&#39;ve been able to find the vowels that were\n",
    "removed.\n",
    "Given a censored string and a string of the censored vowels, return the\n",
    "original uncensored string.\n",
    "Example\n",
    "uncensor(\"Wh*r* d*d my v*w*ls g*?\", \"eeioeo\") ➞ \"Where did my vowels go?\"\n",
    "uncensor(\"abcd\", \"\") ➞ \"abcd\"\n",
    "uncensor(\"*PP*RC*S*\", \"UEAE\") ➞ \"UPPERCASE\"\n",
    "\n",
    "\"\"\"\n",
    "\n",
    "def uncensor(text,vow):\n",
    "    \n",
    "    for i in vow:\n",
    "        text=text.replace(\"*\",i,1)\n",
    "        \n",
    "    return text\n",
    "        "
   ]
  },
  {
   "cell_type": "code",
   "execution_count": 26,
   "id": "81d6f0f0",
   "metadata": {},
   "outputs": [
    {
     "data": {
      "text/plain": [
       "'UPPERCASE'"
      ]
     },
     "execution_count": 26,
     "metadata": {},
     "output_type": "execute_result"
    }
   ],
   "source": [
    "uncensor(\"*PP*RC*S*\", \"UEAE\")"
   ]
  },
  {
   "cell_type": "code",
   "execution_count": 27,
   "id": "2a22c2dc",
   "metadata": {},
   "outputs": [],
   "source": [
    "\n",
    "\"\"\"\n",
    "4. Write a function that takes an IP address and returns the domain name\n",
    "using PTR DNS records.\n",
    "Example\n",
    "get_domain(\"8.8.8.8\") ➞ \"dns.google\"\n",
    "get_domain(\"8.8.4.4\") ➞ \"dns.google\"\n",
    "\"\"\"\n",
    "\n",
    "def get_domain(ip_address):\n",
    "    import socket\n",
    "    result=socket.gethostbyaddr(ip_address)\n",
    "    return list(result)[0]"
   ]
  },
  {
   "cell_type": "code",
   "execution_count": 32,
   "id": "45747a16",
   "metadata": {},
   "outputs": [
    {
     "data": {
      "text/plain": [
       "'dns.google'"
      ]
     },
     "execution_count": 32,
     "metadata": {},
     "output_type": "execute_result"
    }
   ],
   "source": [
    "get_domain(\"8.8.8.8\")"
   ]
  },
  {
   "cell_type": "code",
   "execution_count": 33,
   "id": "f6bc966f",
   "metadata": {},
   "outputs": [],
   "source": [
    "\"\"\"\n",
    "5. Create a function that takes an integer n and returns the factorial of\n",
    "factorials. See below examples for a better understanding:\n",
    "Examples\n",
    "fact_of_fact(4) ➞ 288\n",
    "# 4! * 3! * 2! * 1! = 288\n",
    "fact_of_fact(5) ➞ 34560\n",
    "fact_of_fact(6) ➞ 24883200\n",
    "\"\"\"\n",
    "\n",
    "def fact_of_fact(n):\n",
    "    def fact(n):\n",
    "        try:\n",
    "            if n<0:\n",
    "                return \"Enter number greater than or equal to 0\"\n",
    "            elif n==0:\n",
    "                return 1\n",
    "            else:\n",
    "                return n*fact(n-1)\n",
    "        except TypeError:\n",
    "            return \"Please enter only numbers\"\n",
    "        except exception as e:\n",
    "            return e\n",
    "    try:\n",
    "        if n<0:\n",
    "            return \"Enter number greater than or equal to 0\"\n",
    "        elif n==0:\n",
    "            return 1\n",
    "        else:\n",
    "            return fact(n)*fact_of_fact(n-1)\n",
    "    except TypeError:\n",
    "        return \"Please enter only numbers\"\n",
    "    except exception as e:\n",
    "        return e"
   ]
  },
  {
   "cell_type": "code",
   "execution_count": 36,
   "id": "16bad936",
   "metadata": {},
   "outputs": [
    {
     "data": {
      "text/plain": [
       "24883200"
      ]
     },
     "execution_count": 36,
     "metadata": {},
     "output_type": "execute_result"
    }
   ],
   "source": [
    "fact_of_fact(6)"
   ]
  },
  {
   "cell_type": "code",
   "execution_count": null,
   "id": "73521998",
   "metadata": {},
   "outputs": [],
   "source": []
  }
 ],
 "metadata": {
  "kernelspec": {
   "display_name": "Python 3 (ipykernel)",
   "language": "python",
   "name": "python3"
  },
  "language_info": {
   "codemirror_mode": {
    "name": "ipython",
    "version": 3
   },
   "file_extension": ".py",
   "mimetype": "text/x-python",
   "name": "python",
   "nbconvert_exporter": "python",
   "pygments_lexer": "ipython3",
   "version": "3.8.8"
  }
 },
 "nbformat": 4,
 "nbformat_minor": 5
}
