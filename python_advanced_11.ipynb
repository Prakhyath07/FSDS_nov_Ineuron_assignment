{
 "cells": [
  {
   "cell_type": "raw",
   "id": "37bae907",
   "metadata": {},
   "source": [
    "Q1. What is the concept of a metaclass?\n",
    "\n",
    "A Metaclass is the class of a class. Whenever an instance of a class (object) is created, the way that the object behaves is defined by the Class. A Metaclass defines the behavior of the Class itself.\n",
    "\n",
    "The reason behind the use of Metaclasses is that Python Classes are Objects themselves. Since Classes are Objects, we can do various operations on it, such as assigning it to a variable, copying, etc.\n",
    "\n",
    "And since they are objects, we can create them dynamically, as we can do for any other object.\n",
    "Any Instance of Class in Python is an Instance of type metaclass. E.g. Type of of int, str, float, list, tuple and many more is of metaclass type."
   ]
  },
  {
   "cell_type": "code",
   "execution_count": 2,
   "id": "1da53122",
   "metadata": {},
   "outputs": [
    {
     "name": "stdout",
     "output_type": "stream",
     "text": [
      "<class 'int'>\n",
      "<class 'list'>\n",
      "<class '__main__.A'>\n"
     ]
    }
   ],
   "source": [
    ">>> print(type(123))\n",
    "\n",
    ">>> print(type([1, 2, 3]))\n",
    "\n",
    " \n",
    ">>> class A():\n",
    "...     def __init__(self):\n",
    "...             pass\n",
    "...\n",
    ">>> a = A()\n",
    ">>> print(type(a))\n"
   ]
  },
  {
   "cell_type": "code",
   "execution_count": 7,
   "id": "afd95c2b",
   "metadata": {},
   "outputs": [
    {
     "name": "stdout",
     "output_type": "stream",
     "text": [
      "<class 'type'>\n",
      "<class 'type'>\n"
     ]
    }
   ],
   "source": [
    "print(type(type(123)))\n",
    "\n",
    "print(type(A))"
   ]
  },
  {
   "cell_type": "raw",
   "id": "dadaea27",
   "metadata": {},
   "source": [
    "Q2. What is the best way to declare a class's metaclass?\n",
    "\n",
    "we pass the metaclass parameter in the new class definition, which tells the class to use our custom metaclass as it’s own metaclass, instead of type."
   ]
  },
  {
   "cell_type": "code",
   "execution_count": 8,
   "id": "b4876194",
   "metadata": {},
   "outputs": [
    {
     "name": "stdout",
     "output_type": "stream",
     "text": [
      "Creating a new object of Student\n",
      "Initialising class Student\n"
     ]
    }
   ],
   "source": [
    "class MyMetaclass(type):\n",
    "    def __new__(cls, name, bases, dict):\n",
    "        print('Creating a new object of', name)\n",
    "        # Invoke __new__() method of the metaclass type\n",
    "        return super(MyMetaclass, cls).__new__(cls, name, bases, dict)\n",
    " \n",
    "    def __init__(cls, name, bases, dict):\n",
    "        print('Initialising class', name)\n",
    "        super(MyMetaclass, cls).__init__(name, bases, dict)\n",
    "\n",
    "        \n",
    "class Student(metaclass=MyMetaclass):\n",
    "    def __init__(self, name):\n",
    "        self.name = name\n",
    " \n",
    "    def get_name(self):\n",
    "        return self.name"
   ]
  },
  {
   "cell_type": "code",
   "execution_count": 9,
   "id": "d0a17be8",
   "metadata": {},
   "outputs": [
    {
     "name": "stdout",
     "output_type": "stream",
     "text": [
      "Amit\n",
      "Type of Student object: <class '__main__.Student'>\n",
      "Type of Student Class: <class '__main__.MyMetaclass'>\n"
     ]
    }
   ],
   "source": [
    "stud = Student('Amit')\n",
    "print(stud.get_name())\n",
    "print('Type of Student object:', type(stud))\n",
    "print('Type of Student Class:', type(Student))"
   ]
  },
  {
   "cell_type": "raw",
   "id": "8e977676",
   "metadata": {},
   "source": [
    "Q3. How do class decorators overlap with metaclasses for handling classes?\n",
    "\n",
    "Decorators are much, much simpler and more limited -- and therefore should be preferred whenever the desired effect can be achieved with either a metaclass or a class decorator.\n",
    "\n",
    "Anything you can do with a class decorator, you can of course do with a custom metaclass (just apply the functionality of the \"decorator function\", i.e., the one that takes a class object and modifies it, in the course of the metaclass's __new__ or __init__ that make the class object.\n",
    "\n",
    "There are many things you can do in a custom metaclass but not in a decorator (unless the decorator internally generates and applies a custom metaclass, of course -- but that's cheating;-)... and even then, in Python 3, there are things you can only do with a custom metaclass, not after the fact... but that's a pretty advanced sub-niche of your question, so let me give simpler examples).\n",
    "\n",
    "For example, suppose you want to make a class object X such that print X (or in Python 3 print(X) of course;-) displays peekaboo!. You cannot possibly do that without a custom metaclass, because the metaclass's override of __str__ is the crucial actor here, i.e., you need a def __str__(cls): return \"peekaboo!\" in the custom metaclass of class X.\n",
    "\n",
    "The same applies to all magic methods, i.e., to all kinds of operations as applied to the class object itself "
   ]
  },
  {
   "cell_type": "raw",
   "id": "4209c080",
   "metadata": {},
   "source": [
    "Q4. How do class decorators overlap with metaclasses for handling instances?\n",
    "\n",
    "The use of metaclass affects its children while the decorator affects only the current class."
   ]
  },
  {
   "cell_type": "code",
   "execution_count": 10,
   "id": "986892a0",
   "metadata": {},
   "outputs": [
    {
     "name": "stdout",
     "output_type": "stream",
     "text": [
      "3\n"
     ]
    }
   ],
   "source": [
    "# The script use class-decorator to replace/overwirte the method 'func1'.\n",
    "\n",
    "def deco4cls(cls):\n",
    "    cls.func1 = lambda self: 2\n",
    "    return cls\n",
    "\n",
    "\n",
    "@deco4cls\n",
    "class Cls1:\n",
    "    pass\n",
    "\n",
    "\n",
    "class Cls1_1(Cls1):\n",
    "    def func1(self):\n",
    "        return 3\n",
    "\n",
    "\n",
    "obj1_1 = Cls1_1()\n",
    "print(obj1_1.func1())"
   ]
  },
  {
   "cell_type": "code",
   "execution_count": 11,
   "id": "ad47dd93",
   "metadata": {},
   "outputs": [
    {
     "name": "stdout",
     "output_type": "stream",
     "text": [
      "2\n"
     ]
    }
   ],
   "source": [
    "# The script use metaclass to replace/overwrite the method 'func1'.\n",
    "\n",
    "class Deco4cls(type):\n",
    "    def __init__(cls, name, bases, attr_dict):\n",
    "        # print(cls, name, bases, attr_dict)\n",
    "        super().__init__(name, bases, attr_dict)\n",
    "        cls.func1 = lambda self: 2\n",
    "\n",
    "\n",
    "class Cls2(metaclass=Deco4cls):\n",
    "    pass\n",
    "\n",
    "\n",
    "class Cls2_1(Cls2):\n",
    "    def func1(self):\n",
    "        return 3\n",
    "\n",
    "\n",
    "obj2_1 = Cls2_1()\n",
    "print(obj2_1.func1())"
   ]
  },
  {
   "cell_type": "code",
   "execution_count": null,
   "id": "1d176817",
   "metadata": {},
   "outputs": [],
   "source": []
  }
 ],
 "metadata": {
  "kernelspec": {
   "display_name": "Python 3 (ipykernel)",
   "language": "python",
   "name": "python3"
  },
  "language_info": {
   "codemirror_mode": {
    "name": "ipython",
    "version": 3
   },
   "file_extension": ".py",
   "mimetype": "text/x-python",
   "name": "python",
   "nbconvert_exporter": "python",
   "pygments_lexer": "ipython3",
   "version": "3.8.8"
  }
 },
 "nbformat": 4,
 "nbformat_minor": 5
}
