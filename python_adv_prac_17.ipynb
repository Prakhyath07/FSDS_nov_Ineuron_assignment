{
 "cells": [
  {
   "cell_type": "raw",
   "id": "f5360c67",
   "metadata": {},
   "source": [
    "1. Create a function that transposes a 2D matrix.\n",
    "Examples\n",
    "transpose_matrix([\n",
    "[1, 1, 1],\n",
    "[2, 2, 2],\n",
    "[3, 3, 3]\n",
    "]) ➞ [\n",
    "[1, 2, 3],\n",
    "[1, 2, 3],\n",
    "[1, 2, 3]\n",
    "]\n",
    "transpose_matrix([\n",
    "[5, 5],\n",
    "[6, 7],\n",
    "[9, 1]\n",
    "]) ➞ [\n",
    "[5, 6, 9],\n",
    "[5, 7, 1]\n",
    "]"
   ]
  },
  {
   "cell_type": "code",
   "execution_count": 14,
   "id": "26737fee",
   "metadata": {},
   "outputs": [],
   "source": [
    "def transpose_matrix(mat):\n",
    "    new=[]\n",
    "    j=0\n",
    "    for i in range(len(mat[0])):\n",
    "        lin=[]\n",
    "        for j in range(len(mat)):\n",
    "            lin.append(mat[j][i])\n",
    "        new.append(lin)\n",
    "    print('[')\n",
    "    for i in new:\n",
    "        print(i)\n",
    "    print(']')\n",
    "        \n",
    "            "
   ]
  },
  {
   "cell_type": "code",
   "execution_count": 15,
   "id": "3dea6008",
   "metadata": {},
   "outputs": [
    {
     "name": "stdout",
     "output_type": "stream",
     "text": [
      "[\n",
      "[1, 2, 3]\n",
      "[1, 2, 3]\n",
      "[1, 2, 3]\n",
      "]\n"
     ]
    }
   ],
   "source": [
    "transpose_matrix([\n",
    "[1, 1, 1],\n",
    "[2, 2, 2],\n",
    "[3, 3, 3]\n",
    "])"
   ]
  },
  {
   "cell_type": "code",
   "execution_count": 16,
   "id": "a581f78c",
   "metadata": {},
   "outputs": [
    {
     "name": "stdout",
     "output_type": "stream",
     "text": [
      "[\n",
      "[5, 6, 9]\n",
      "[5, 7, 1]\n",
      "]\n"
     ]
    }
   ],
   "source": [
    "transpose_matrix([\n",
    "[5, 5],\n",
    "[6, 7],\n",
    "[9, 1]\n",
    "])"
   ]
  },
  {
   "cell_type": "raw",
   "id": "efb80c73",
   "metadata": {},
   "source": [
    "2. Create a function that determines whether a string is a valid hex code.\n",
    "\n",
    "A hex code must begin with a pound key # and is exactly 6 characters in length. Each character must be a digit from 0-9 or an alphabetic character from A-F. All alphabetic characters may be uppercase or lowercase.\n",
    "\n",
    "Examples\n",
    "\n",
    "is_valid_hex_code(\"#CD5C5C\") ➞ True\n",
    "\n",
    "is_valid_hex_code(\"#EAECEE\") ➞ True\n",
    "\n",
    "is_valid_hex_code(\"#eaecee\") ➞ True\n",
    "\n",
    "is_valid_hex_code(\"#CD5C58C\") ➞ False\n",
    "\n",
    "Length exceeds 6\n",
    "\n",
    "is_valid_hex_code(\"#CD5C5Z\") ➞ False\n",
    "\n",
    "Not all alphabetic characters in A-F\n",
    "\n",
    "is_valid_hex_code(\"#CD5C&C\") ➞ False\n",
    "\n",
    "Contains unacceptable character\n",
    "\n",
    "is_valid_hex_code(\"CD5C5C\") ➞ False\n",
    "\n",
    "Missing #"
   ]
  },
  {
   "cell_type": "code",
   "execution_count": 32,
   "id": "84418118",
   "metadata": {},
   "outputs": [],
   "source": [
    "def is_valid_hex_code(s):\n",
    "    a='ABCDEF0123456789'\n",
    "#     N=[0,1,2,3,4,5,6,7,8,9]\n",
    "    if s[0] != \"#\" or len(s)!=7:\n",
    "        return False\n",
    "    else:\n",
    "        for i in s[1:]:\n",
    "            if (str(i).upper() not in a):\n",
    "                return False\n",
    "    return True\n",
    "    "
   ]
  },
  {
   "cell_type": "code",
   "execution_count": 33,
   "id": "6837363b",
   "metadata": {},
   "outputs": [
    {
     "data": {
      "text/plain": [
       "True"
      ]
     },
     "execution_count": 33,
     "metadata": {},
     "output_type": "execute_result"
    }
   ],
   "source": [
    "is_valid_hex_code(\"#CD5C5C\")"
   ]
  },
  {
   "cell_type": "code",
   "execution_count": 34,
   "id": "50cfef1e",
   "metadata": {},
   "outputs": [
    {
     "data": {
      "text/plain": [
       "True"
      ]
     },
     "execution_count": 34,
     "metadata": {},
     "output_type": "execute_result"
    }
   ],
   "source": [
    "is_valid_hex_code(\"#EAECEE\")"
   ]
  },
  {
   "cell_type": "code",
   "execution_count": 35,
   "id": "63025fc2",
   "metadata": {},
   "outputs": [
    {
     "data": {
      "text/plain": [
       "True"
      ]
     },
     "execution_count": 35,
     "metadata": {},
     "output_type": "execute_result"
    }
   ],
   "source": [
    "is_valid_hex_code(\"#eaecee\")"
   ]
  },
  {
   "cell_type": "code",
   "execution_count": 36,
   "id": "e47b1d23",
   "metadata": {},
   "outputs": [
    {
     "data": {
      "text/plain": [
       "False"
      ]
     },
     "execution_count": 36,
     "metadata": {},
     "output_type": "execute_result"
    }
   ],
   "source": [
    "is_valid_hex_code(\"#CD5C58C\")"
   ]
  },
  {
   "cell_type": "code",
   "execution_count": 37,
   "id": "3a00b123",
   "metadata": {},
   "outputs": [
    {
     "data": {
      "text/plain": [
       "False"
      ]
     },
     "execution_count": 37,
     "metadata": {},
     "output_type": "execute_result"
    }
   ],
   "source": [
    "is_valid_hex_code(\"#CD5C5Z\")"
   ]
  },
  {
   "cell_type": "code",
   "execution_count": 38,
   "id": "853397ed",
   "metadata": {},
   "outputs": [
    {
     "data": {
      "text/plain": [
       "False"
      ]
     },
     "execution_count": 38,
     "metadata": {},
     "output_type": "execute_result"
    }
   ],
   "source": [
    "is_valid_hex_code(\"#CD5C&C\")"
   ]
  },
  {
   "cell_type": "code",
   "execution_count": 40,
   "id": "40081126",
   "metadata": {},
   "outputs": [
    {
     "data": {
      "text/plain": [
       "False"
      ]
     },
     "execution_count": 40,
     "metadata": {},
     "output_type": "execute_result"
    }
   ],
   "source": [
    "is_valid_hex_code(\"CD5C5C\")"
   ]
  },
  {
   "cell_type": "raw",
   "id": "c035431b",
   "metadata": {},
   "source": [
    "3. Given a list of math equations (given as strings), return the percentage of\n",
    "correct answers as a string. Round to the nearest whole number.\n",
    "Examples\n",
    "mark_maths([\"2+2=4\", \"3+2=5\", \"10-3=3\", \"5+5=10\"]) ➞ \"75%\"\n",
    "mark_maths([\"1-2=-2\"]), \"0%\"\n",
    "mark_maths([\"2+3=5\", \"4+4=9\", \"3-1=2\"]) ➞ \"67%\""
   ]
  },
  {
   "cell_type": "code",
   "execution_count": 53,
   "id": "3a5746c0",
   "metadata": {},
   "outputs": [],
   "source": [
    "def mark_maths(lst):\n",
    "    sign=[\"+\",\"-\",\"=\"]\n",
    "    res=0\n",
    "    for exp in lst:\n",
    "        temp=[]\n",
    "        start = 0\n",
    "        for i in range(0,len(exp)-1):\n",
    "            if exp[i]== '=':\n",
    "                temp.append(exp[i+1:])\n",
    "            elif exp[i+1] in sign and exp[i].isdigit():\n",
    "                temp.append(exp[start:i+1])\n",
    "                start=i+1\n",
    "        if(int(temp[0])+int(temp[1])==int(temp[2])):\n",
    "            res+=1\n",
    "    return (str(round((res/len(lst))*100)) +\"%\" ) "
   ]
  },
  {
   "cell_type": "code",
   "execution_count": 54,
   "id": "6ae180d1",
   "metadata": {},
   "outputs": [
    {
     "data": {
      "text/plain": [
       "'75%'"
      ]
     },
     "execution_count": 54,
     "metadata": {},
     "output_type": "execute_result"
    }
   ],
   "source": [
    "mark_maths([\"2+2=4\", \"3+2=5\", \"10-3=3\", \"5+5=10\"])"
   ]
  },
  {
   "cell_type": "code",
   "execution_count": 55,
   "id": "c7bd5992",
   "metadata": {},
   "outputs": [
    {
     "data": {
      "text/plain": [
       "'0%'"
      ]
     },
     "execution_count": 55,
     "metadata": {},
     "output_type": "execute_result"
    }
   ],
   "source": [
    "mark_maths([\"1-2=-2\"])"
   ]
  },
  {
   "cell_type": "code",
   "execution_count": 56,
   "id": "93ac8749",
   "metadata": {},
   "outputs": [
    {
     "data": {
      "text/plain": [
       "'67%'"
      ]
     },
     "execution_count": 56,
     "metadata": {},
     "output_type": "execute_result"
    }
   ],
   "source": [
    "mark_maths([\"2+3=5\", \"4+4=9\", \"3-1=2\"])"
   ]
  },
  {
   "cell_type": "raw",
   "id": "bfc1521d",
   "metadata": {},
   "source": [
    "4. There are two players, Alice and Bob, each with a 3-by-3 grid. A referee\n",
    "tells Alice to fill out one particular row in the grid (say the second row) by\n",
    "putting either a 1 or a 0 in each box, such that the sum of the numbers in that\n",
    "row is odd. The referee tells Bob to fill out one column in the grid (say the first\n",
    "column) by putting either a 1 or a 0 in each box, such that the sum of the\n",
    "numbers in that column is even.\n",
    "Alice and Bob win the game if Alice’s numbers give an odd sum, Bob’s give\n",
    "an even sum, and (most important) they’ve each written down the same\n",
    "number in the one square where their row and column intersect.\n",
    "Examples\n",
    "magic_square_game([2, \"100\"], [1, \"101\"]) ➞ False\n",
    "magic_square_game([2, \"001\"], [1, \"101\"]) ➞ True\n",
    "magic_square_game([3, \"111\"], [2, \"011\"]) ➞ True\n",
    "magic_square_game([1, \"010\"], [3, \"101\"]) ➞ False\n",
    "# Two lists, Alice [row, \"her choice\"], Bob [column, \"his choice\"]"
   ]
  },
  {
   "cell_type": "code",
   "execution_count": 77,
   "id": "c494e2df",
   "metadata": {},
   "outputs": [],
   "source": [
    "def magic_square_game(a,b):\n",
    "    ar=a[0]-1\n",
    "    bc=b[0]-1\n",
    "    an=a[1]\n",
    "    bn=b[1]\n",
    "    \n",
    "    def dig(n):\n",
    "        lst=[]\n",
    "        while n>0:\n",
    "            lst.append(n%10)\n",
    "            n=n//10\n",
    "#         lst.reverse()\n",
    "        return lst\n",
    "    anl=dig(int(an))\n",
    "    if len(anl)!=len(an):\n",
    "        for i in range(len(anl),len(an)):\n",
    "            anl.append(0)\n",
    "    anl.reverse()\n",
    "#     print(anl)\n",
    "    bnl=dig(int(bn))\n",
    "    if len(bnl)!=len(bn):\n",
    "        for i in range(len(bnl),len(bn)):\n",
    "            bnl.append(0)\n",
    "    bnl.reverse()\n",
    "#     print(bnl)\n",
    "    if sum(anl)%2!=0 and sum(bnl)%2==0:\n",
    "        if anl[bc]==bnl[ar]:\n",
    "            return True\n",
    "    return False"
   ]
  },
  {
   "cell_type": "code",
   "execution_count": 78,
   "id": "36d12901",
   "metadata": {
    "scrolled": true
   },
   "outputs": [
    {
     "data": {
      "text/plain": [
       "False"
      ]
     },
     "execution_count": 78,
     "metadata": {},
     "output_type": "execute_result"
    }
   ],
   "source": [
    "magic_square_game([2, \"100\"], [1, \"101\"])"
   ]
  },
  {
   "cell_type": "code",
   "execution_count": 79,
   "id": "fc174ee2",
   "metadata": {},
   "outputs": [
    {
     "data": {
      "text/plain": [
       "True"
      ]
     },
     "execution_count": 79,
     "metadata": {},
     "output_type": "execute_result"
    }
   ],
   "source": [
    "magic_square_game([2, \"001\"], [1, \"101\"])"
   ]
  },
  {
   "cell_type": "code",
   "execution_count": 80,
   "id": "ff274044",
   "metadata": {},
   "outputs": [
    {
     "data": {
      "text/plain": [
       "True"
      ]
     },
     "execution_count": 80,
     "metadata": {},
     "output_type": "execute_result"
    }
   ],
   "source": [
    "magic_square_game([3, \"111\"], [2, \"011\"])"
   ]
  },
  {
   "cell_type": "code",
   "execution_count": 81,
   "id": "2c0e321b",
   "metadata": {},
   "outputs": [
    {
     "data": {
      "text/plain": [
       "False"
      ]
     },
     "execution_count": 81,
     "metadata": {},
     "output_type": "execute_result"
    }
   ],
   "source": [
    "magic_square_game([1, \"010\"], [3, \"101\"])"
   ]
  },
  {
   "cell_type": "raw",
   "id": "fd9f466f",
   "metadata": {},
   "source": [
    "5. From point A, an object is moving towards point B at constant velocity va\n",
    "(in km/hr). From point B, another object is moving towards point A at constant\n",
    "velocity vb (in km/hr). Knowing this and the distance between point A and B\n",
    "(in km), write a function that returns how much time passes until both objects\n",
    "meet.\n",
    "Format the output like this:\n",
    "\n",
    "\"2h 23min 34s\"\n",
    "Examples\n",
    "lets_meet(100, 10, 30) ➞ \"2h 30min 0s\"\n",
    "lets_meet(280, 70, 80) ➞ \"1h 52min 0s\"\n",
    "lets_meet(90, 75, 65) ➞ \"0h 38min 34s\""
   ]
  },
  {
   "cell_type": "code",
   "execution_count": 82,
   "id": "6f987783",
   "metadata": {},
   "outputs": [],
   "source": [
    "def lets_meet(distance,Va,Vb):\n",
    "    \n",
    "    time=distance/(Va+Vb)\n",
    "    hour = int(time)\n",
    "    min = (time*60) % 60.\n",
    "    sec = (time*3600) % 60.\n",
    "    return \"%02dh:%02dmin:%02ds\" % (hour, min, sec)"
   ]
  },
  {
   "cell_type": "code",
   "execution_count": 84,
   "id": "14a16f80",
   "metadata": {},
   "outputs": [
    {
     "data": {
      "text/plain": [
       "'02h:30min:00s'"
      ]
     },
     "execution_count": 84,
     "metadata": {},
     "output_type": "execute_result"
    }
   ],
   "source": [
    "lets_meet(100, 10, 30)"
   ]
  },
  {
   "cell_type": "code",
   "execution_count": 85,
   "id": "4c838436",
   "metadata": {},
   "outputs": [
    {
     "data": {
      "text/plain": [
       "'01h:52min:00s'"
      ]
     },
     "execution_count": 85,
     "metadata": {},
     "output_type": "execute_result"
    }
   ],
   "source": [
    "lets_meet(280, 70, 80)"
   ]
  },
  {
   "cell_type": "code",
   "execution_count": 86,
   "id": "966e57eb",
   "metadata": {},
   "outputs": [
    {
     "data": {
      "text/plain": [
       "'00h:38min:34s'"
      ]
     },
     "execution_count": 86,
     "metadata": {},
     "output_type": "execute_result"
    }
   ],
   "source": [
    "lets_meet(90, 75, 65)"
   ]
  },
  {
   "cell_type": "code",
   "execution_count": null,
   "id": "5f6197fe",
   "metadata": {},
   "outputs": [],
   "source": []
  }
 ],
 "metadata": {
  "kernelspec": {
   "display_name": "Python 3 (ipykernel)",
   "language": "python",
   "name": "python3"
  },
  "language_info": {
   "codemirror_mode": {
    "name": "ipython",
    "version": 3
   },
   "file_extension": ".py",
   "mimetype": "text/x-python",
   "name": "python",
   "nbconvert_exporter": "python",
   "pygments_lexer": "ipython3",
   "version": "3.8.8"
  }
 },
 "nbformat": 4,
 "nbformat_minor": 5
}
