{
 "cells": [
  {
   "cell_type": "raw",
   "id": "06dfe2cf",
   "metadata": {},
   "source": [
    "\n",
    "Q1. What is the relationship between classes and modules?\n",
    "\n",
    "Classes in python are templates for creating objects. They contain variables and functions which define the class objects. At the same time, modules are python programs that can be imported into another python program. Importing a module enables the usage of the module’s functions and variables into another program.\n",
    "\n",
    "Classes:\n",
    "Classes in python act as a blueprint based on which objects are created. Objects are the very basis for object-oriented programming. The objects are the real-world entities, and class acts as a template that defines those objects.\n",
    "\n",
    "These real-world entities have behavior associated with them, and classes define that behavior. A class contains variables and functions which act on the objects.\n",
    "\n",
    "Modules in Python:\n",
    "Modules in Python are files with a .py extension using which we can reuse elements inside that file. When we create a python program, the program may contain inside it functions, variables, and even classes.\n",
    "\n",
    "If we want to reuse the same piece of function code or the same class, rewriting it would make our code redundant and repetitive. Instead, we can import that entire file as a module into another program.\n",
    "\n",
    "Doing so makes our code reusable and improves its readability. An entire project can then be broken down into smaller sections, and thus the code becomes more manageable.\n"
   ]
  },
  {
   "cell_type": "raw",
   "id": "b880ef6d",
   "metadata": {},
   "source": [
    "Q2. How do you make instances and classes?\n",
    "\n",
    "* Instances\n",
    "To create an instance of a class (\"to instantiate it\") do\n",
    "\n",
    "myObject = ClassName()\n",
    "\n",
    "Where ClassName is the name of the class for which you want to create a new object. myObject will be an object of type ClassName.\n",
    "\n",
    "A class instance is often instantiated by passing parameters as defined in __init__ method of class \n",
    "\n",
    "\n",
    "\n",
    "* Classes\n",
    "The class statement creates a new class definition. The name of the class immediately follows the keyword class followed by a colon as follows −\n",
    "\n",
    "class ClassName:\n",
    "'Optional class documentation string'\n",
    "class_suite\n",
    "\n",
    "The class has a documentation string, which can be accessed via ClassName.__doc__.\n",
    "The class_suite consists of all the component statements defining class members, data attributes and functions.\n",
    "Example\n",
    "Following is the example of a simple Python class −\n",
    "\n",
    "class Employee:\n",
    "   'Common base class for all employees'\n",
    "   empCount = 0\n",
    "   def __init__(self, name, salary):\n",
    "      self.name = name\n",
    "      self.salary = salary\n",
    "      Employee.empCount += 1\n",
    "   def displayCount(self):\n",
    "      print \"Total Employee %d\" % Employee.empCount\n",
    "   def displayEmployee(self):\n",
    "      print \"Name : \", self.name, \", Salary: \", self.salary\n",
    "      \n",
    "The variable empCount is a class variable whose value is shared among all instances of a this class. This can be accessed as Employee.empCount from inside the class or outside the class.\n",
    "\n",
    "The first method __init__ is a special method, which is called class constructor or initialization method that Python calls when you create a new instance of this class.\n",
    "\n",
    "You declare other class methods like normal functions with the exception that the first argument to each method is self. Python adds the self argument to the list for you; you do not need to include it when you call the methods."
   ]
  },
  {
   "cell_type": "raw",
   "id": "90c9c721",
   "metadata": {},
   "source": [
    "Q3. Where and how should be class attributes created?\n",
    "\n",
    "A class attribute is a Python variable that belongs to a class rather than a particular object. It is shared between all the objects of this class and it is defined outside the constructor function, init(self,...), of the class.\n",
    "\n",
    "The below ExampleClass is a basic Python class with two attributes: class_attr\n",
    "\n",
    "class ExampleClass(object):\n",
    "  class_attr = 0\n",
    "\n",
    "  def __init__(self, instance_attr):\n",
    "    self.instance_attr = instance_attr\n",
    "\n",
    "The class attribute (class_attr) is accessible as both a property of the class and as a property of objects, as it is shared between all of them"
   ]
  },
  {
   "cell_type": "raw",
   "id": "f2bec49d",
   "metadata": {},
   "source": [
    "Q4. Where and how are instance attributes created?\n",
    "\n",
    "An instance attribute is a Python variable belonging to one, and only one, object. This variable is only accessible in the scope of this object and it is defined inside the constructor function, init(self,..) of the class.\n",
    "\n",
    "class ExampleClass(object):\n",
    "class_attr = 0\n",
    "\n",
    "  def __init__(self, instance_attr):\n",
    "    self.instance_attr = instance_attr\n",
    "\n",
    "The instance_attr is only accessible from the scope of an object\n",
    "Notice that the class attribute can be accessed as a class property and as an instance property, however, accessing an instance attribute as a class property raises an AttributeError."
   ]
  },
  {
   "cell_type": "raw",
   "id": "d1072fd1",
   "metadata": {},
   "source": [
    "Q5. What does the term &quot;self&quot; in a Python class mean?\n",
    "\n",
    "Python self variable is used to bind the instance of the class to the instance method. We have to explicitly declare it as the first method argument to access the instance variables and methods. This variable is used only with the instance methods\n",
    "Python self variable is not a reserved keyword. But, it’s the best practice and convention to use the variable name as “self” to refer to the instance."
   ]
  },
  {
   "cell_type": "raw",
   "id": "059bf30e",
   "metadata": {},
   "source": [
    "Q6. How does a Python class handle operator overloading?\n",
    "\n",
    "To achieve operator overloading, we define a special method in a class definition. The name of the method should begin and end with a double underscore (_). The + operator is overloaded using a special method named add() . This method is implemented by both the int and str classes.\n",
    "\n",
    "following are some of the operator overloading magic function from python\n",
    "\n",
    "+   __add__(self, other)\n",
    "–   __sub__(self, other)\n",
    "*   __mul__(self, other)\n",
    "/   __truediv__(self, other)\n",
    "//  __floordiv__(self, other)\n",
    "%   __mod__(self, other)\n",
    "**  __pow__(self, other)"
   ]
  },
  {
   "cell_type": "raw",
   "id": "3a6ec7f8",
   "metadata": {},
   "source": [
    "Q7. When do you consider allowing operator overloading of your classes?\n",
    "\n",
    "Consider that we have two objects which are a physical representation of a class (user-defined data type) and we have to add two objects with binary ‘+’ operator it throws an error, because compiler don’t know how to add two objects. So we define a method for an operator and that process is called operator overloading. Now the + operator will perform arithmetic addition on two numbers, merge two lists, or concatenate two strings."
   ]
  },
  {
   "cell_type": "raw",
   "id": "50a8dd94",
   "metadata": {},
   "source": [
    "Q8. What is the most popular form of operator overloading?\n",
    "\n",
    "The + Operator is most popular operator overloding. When we use + operator, the magic method add is automatically invoked in which the operation for + operator is defined. There by changing this magic method’s code, we can give extra meaning to the + operator. Python operators work for built-in classes. But the same operator behaves differently with different types. For example, the + operator will perform arithmetic addition on two numbers, merge two lists, or concatenate two strings.\n",
    "\n",
    "This feature in Python that allows the same operator to have different meaning according to the context is called operator overloading."
   ]
  },
  {
   "cell_type": "raw",
   "id": "80c59e23",
   "metadata": {},
   "source": [
    "Q9. What are the two most important concepts to grasp in order to comprehend Python OOP code?\n",
    "\n",
    "The tow most important concept in order to comprehend python oop code are Classes and objects. where, classes represent and define concepts, while objects are instances of classes"
   ]
  },
  {
   "cell_type": "code",
   "execution_count": null,
   "id": "ec6d774c",
   "metadata": {},
   "outputs": [],
   "source": []
  }
 ],
 "metadata": {
  "kernelspec": {
   "display_name": "Python 3 (ipykernel)",
   "language": "python",
   "name": "python3"
  },
  "language_info": {
   "codemirror_mode": {
    "name": "ipython",
    "version": 3
   },
   "file_extension": ".py",
   "mimetype": "text/x-python",
   "name": "python",
   "nbconvert_exporter": "python",
   "pygments_lexer": "ipython3",
   "version": "3.8.8"
  }
 },
 "nbformat": 4,
 "nbformat_minor": 5
}
