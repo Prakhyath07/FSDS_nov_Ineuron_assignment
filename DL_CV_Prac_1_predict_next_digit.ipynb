{
 "cells": [
  {
   "cell_type": "code",
   "execution_count": 24,
   "id": "0287fee7",
   "metadata": {},
   "outputs": [
    {
     "name": "stdout",
     "output_type": "stream",
     "text": [
      "[10, 20, 30, 40, 50, 60, 70, 80, 90, 100, 110, 120, 130, 140, 150, 160, 170, 180, 190, 200]\n"
     ]
    }
   ],
   "source": [
    "data = [10, 20, 30, 40, 50, 60, 70, 80, 90, 100, 110, 120, 130, 140, 150, 160, 170, 180, 190, 200]\n",
    "print(data)"
   ]
  },
  {
   "cell_type": "code",
   "execution_count": 25,
   "id": "25f13dd8",
   "metadata": {},
   "outputs": [],
   "source": [
    "import numpy as np\n",
    "def splitSequence(seq, n_steps):\n",
    "    \n",
    "    #Declare X and y as empty list\n",
    "    X = []\n",
    "    y = []\n",
    "    \n",
    "    for i in range(len(seq)):\n",
    "        #get the last index\n",
    "        lastIndex = i + n_steps\n",
    "        \n",
    "        #if lastIndex is greater than length of sequence then break\n",
    "        if lastIndex > len(seq) - 1:\n",
    "            break\n",
    "            \n",
    "        #Create input and output sequence\n",
    "        seq_X, seq_y = seq[i:lastIndex], seq[lastIndex]\n",
    "        \n",
    "        #append seq_X, seq_y in X and y list\n",
    "        X.append(seq_X)\n",
    "        y.append(seq_y)\n",
    "        pass\n",
    "    #Convert X and y into numpy array\n",
    "    X = np.array(X)\n",
    "    y = np.array(y)\n",
    "    \n",
    "    return X,y "
   ]
  },
  {
   "cell_type": "code",
   "execution_count": 26,
   "id": "5a3855e6",
   "metadata": {},
   "outputs": [],
   "source": [
    "n_steps = 5\n",
    "X, y = splitSequence(data, n_steps)"
   ]
  },
  {
   "cell_type": "code",
   "execution_count": 27,
   "id": "e0211668",
   "metadata": {},
   "outputs": [
    {
     "data": {
      "text/plain": [
       "array([[ 10,  20,  30,  40,  50],\n",
       "       [ 20,  30,  40,  50,  60],\n",
       "       [ 30,  40,  50,  60,  70],\n",
       "       [ 40,  50,  60,  70,  80],\n",
       "       [ 50,  60,  70,  80,  90],\n",
       "       [ 60,  70,  80,  90, 100],\n",
       "       [ 70,  80,  90, 100, 110],\n",
       "       [ 80,  90, 100, 110, 120],\n",
       "       [ 90, 100, 110, 120, 130],\n",
       "       [100, 110, 120, 130, 140],\n",
       "       [110, 120, 130, 140, 150],\n",
       "       [120, 130, 140, 150, 160],\n",
       "       [130, 140, 150, 160, 170],\n",
       "       [140, 150, 160, 170, 180],\n",
       "       [150, 160, 170, 180, 190]])"
      ]
     },
     "execution_count": 27,
     "metadata": {},
     "output_type": "execute_result"
    }
   ],
   "source": [
    "X"
   ]
  },
  {
   "cell_type": "code",
   "execution_count": 28,
   "id": "f4205198",
   "metadata": {},
   "outputs": [
    {
     "name": "stdout",
     "output_type": "stream",
     "text": [
      "[10 20 30 40 50] 60\n",
      "[20 30 40 50 60] 70\n",
      "[30 40 50 60 70] 80\n",
      "[40 50 60 70 80] 90\n",
      "[50 60 70 80 90] 100\n",
      "[ 60  70  80  90 100] 110\n",
      "[ 70  80  90 100 110] 120\n",
      "[ 80  90 100 110 120] 130\n",
      "[ 90 100 110 120 130] 140\n",
      "[100 110 120 130 140] 150\n",
      "[110 120 130 140 150] 160\n",
      "[120 130 140 150 160] 170\n",
      "[130 140 150 160 170] 180\n",
      "[140 150 160 170 180] 190\n",
      "[150 160 170 180 190] 200\n"
     ]
    }
   ],
   "source": [
    "for i in range(len(X)):\n",
    "    print(X[i], y[i])"
   ]
  },
  {
   "cell_type": "code",
   "execution_count": 29,
   "id": "5b5eae11",
   "metadata": {},
   "outputs": [
    {
     "data": {
      "text/plain": [
       "(15, 5)"
      ]
     },
     "execution_count": 29,
     "metadata": {},
     "output_type": "execute_result"
    }
   ],
   "source": [
    "X.shape"
   ]
  },
  {
   "cell_type": "code",
   "execution_count": 30,
   "id": "159a8974",
   "metadata": {},
   "outputs": [],
   "source": [
    "from sklearn.model_selection import train_test_split\n",
    "X_train_full, X_test, y_train_full, y_test = train_test_split(X,y, random_state=42)\n",
    "X_train, X_valid, y_train, y_valid = train_test_split(X_train_full,y_train_full, random_state=42)\n",
    "\n",
    "from sklearn.preprocessing import StandardScaler\n",
    "scaler = StandardScaler()\n",
    "\n",
    "X_train = scaler.fit_transform(X_train)\n",
    "X_valid = scaler.transform(X_valid)\n",
    "X_test = scaler.transform(X_test)"
   ]
  },
  {
   "cell_type": "code",
   "execution_count": 31,
   "id": "129397e6",
   "metadata": {},
   "outputs": [
    {
     "data": {
      "text/plain": [
       "(8, 5)"
      ]
     },
     "execution_count": 31,
     "metadata": {},
     "output_type": "execute_result"
    }
   ],
   "source": [
    "X_train.shape"
   ]
  },
  {
   "cell_type": "code",
   "execution_count": 32,
   "id": "ef2e864e",
   "metadata": {},
   "outputs": [],
   "source": [
    "# reshape from [samples, timesteps] into [samples, timesteps, features]\n",
    "n_features = 1\n",
    "# X_train = X_train.reshape((X_train.shape[0], X_train.shape[1], n_features))\n",
    "# X_valid = X_valid.reshape((X_valid.shape[0], X_valid.shape[1], n_features))\n",
    "# X_test = X_test.reshape((X_test.shape[0], X_test.shape[1], n_features))\n",
    "# print(X_train[:2])\n",
    "\n",
    "X = X.reshape((X.shape[0], X.shape[1], n_features))\n"
   ]
  },
  {
   "cell_type": "code",
   "execution_count": 33,
   "id": "ce053cc1",
   "metadata": {},
   "outputs": [
    {
     "data": {
      "text/plain": [
       "(15, 5, 1)"
      ]
     },
     "execution_count": 33,
     "metadata": {},
     "output_type": "execute_result"
    }
   ],
   "source": [
    "X.shape"
   ]
  },
  {
   "cell_type": "code",
   "execution_count": 34,
   "id": "2283680d",
   "metadata": {},
   "outputs": [
    {
     "data": {
      "text/plain": [
       "array([[[10],\n",
       "        [20],\n",
       "        [30],\n",
       "        [40],\n",
       "        [50]],\n",
       "\n",
       "       [[20],\n",
       "        [30],\n",
       "        [40],\n",
       "        [50],\n",
       "        [60]]])"
      ]
     },
     "execution_count": 34,
     "metadata": {},
     "output_type": "execute_result"
    }
   ],
   "source": [
    "X[:2]"
   ]
  },
  {
   "cell_type": "code",
   "execution_count": 35,
   "id": "d0e83ab5",
   "metadata": {},
   "outputs": [],
   "source": [
    "import tensorflow as tf\n",
    "from tensorflow import keras\n",
    "from tensorflow.keras import layers"
   ]
  },
  {
   "cell_type": "code",
   "execution_count": 36,
   "id": "a2435a0a",
   "metadata": {},
   "outputs": [],
   "source": [
    "model = tf.keras.Sequential()\n",
    "model.add(layers.LSTM(50, activation='relu', input_shape=(n_steps, n_features)))\n",
    "model.add(layers.Dense(1))"
   ]
  },
  {
   "cell_type": "code",
   "execution_count": 37,
   "id": "6b9693ae",
   "metadata": {},
   "outputs": [
    {
     "data": {
      "text/plain": [
       "[<keras.layers.recurrent_v2.LSTM at 0x1e47e042040>,\n",
       " <keras.layers.core.dense.Dense at 0x1e47f94e850>]"
      ]
     },
     "execution_count": 37,
     "metadata": {},
     "output_type": "execute_result"
    }
   ],
   "source": [
    "model.layers"
   ]
  },
  {
   "cell_type": "code",
   "execution_count": 38,
   "id": "64b005ac",
   "metadata": {},
   "outputs": [
    {
     "name": "stdout",
     "output_type": "stream",
     "text": [
      "Model: \"sequential_1\"\n",
      "_________________________________________________________________\n",
      " Layer (type)                Output Shape              Param #   \n",
      "=================================================================\n",
      " lstm_1 (LSTM)               (None, 50)                10400     \n",
      "                                                                 \n",
      " dense_1 (Dense)             (None, 1)                 51        \n",
      "                                                                 \n",
      "=================================================================\n",
      "Total params: 10,451\n",
      "Trainable params: 10,451\n",
      "Non-trainable params: 0\n",
      "_________________________________________________________________\n"
     ]
    }
   ],
   "source": [
    "model.summary()"
   ]
  },
  {
   "cell_type": "code",
   "execution_count": 39,
   "id": "f0552187",
   "metadata": {},
   "outputs": [],
   "source": [
    "model.compile(optimizer=tf.keras.optimizers.Adam(0.01), loss=tf.keras.losses.MeanSquaredError(),metrics=['accuracy'])"
   ]
  },
  {
   "cell_type": "code",
   "execution_count": 40,
   "id": "2d67c6e9",
   "metadata": {},
   "outputs": [
    {
     "name": "stdout",
     "output_type": "stream",
     "text": [
      "Epoch 1/200\n",
      "1/1 [==============================] - 2s 2s/step - loss: 16188.8936 - accuracy: 0.0000e+00\n",
      "Epoch 2/200\n",
      "1/1 [==============================] - 0s 5ms/step - loss: 8738.2959 - accuracy: 0.0000e+00\n",
      "Epoch 3/200\n",
      "1/1 [==============================] - 0s 6ms/step - loss: 2312.3186 - accuracy: 0.0000e+00\n",
      "Epoch 4/200\n",
      "1/1 [==============================] - 0s 5ms/step - loss: 346.8190 - accuracy: 0.0000e+00\n",
      "Epoch 5/200\n",
      "1/1 [==============================] - 0s 7ms/step - loss: 301.6813 - accuracy: 0.0000e+00\n",
      "Epoch 6/200\n",
      "1/1 [==============================] - 0s 9ms/step - loss: 195.1428 - accuracy: 0.0000e+00\n",
      "Epoch 7/200\n",
      "1/1 [==============================] - 0s 5ms/step - loss: 110.2085 - accuracy: 0.0000e+00\n",
      "Epoch 8/200\n",
      "1/1 [==============================] - 0s 8ms/step - loss: 91.2654 - accuracy: 0.0000e+00\n",
      "Epoch 9/200\n",
      "1/1 [==============================] - 0s 6ms/step - loss: 177.0831 - accuracy: 0.0000e+00\n",
      "Epoch 10/200\n",
      "1/1 [==============================] - 0s 5ms/step - loss: 749.7807 - accuracy: 0.0000e+00\n",
      "Epoch 11/200\n",
      "1/1 [==============================] - 0s 6ms/step - loss: 146.1459 - accuracy: 0.0000e+00\n",
      "Epoch 12/200\n",
      "1/1 [==============================] - 0s 6ms/step - loss: 66.3629 - accuracy: 0.0000e+00\n",
      "Epoch 13/200\n",
      "1/1 [==============================] - 0s 8ms/step - loss: 37.0504 - accuracy: 0.0000e+00\n",
      "Epoch 14/200\n",
      "1/1 [==============================] - 0s 12ms/step - loss: 59.2380 - accuracy: 0.0000e+00\n",
      "Epoch 15/200\n",
      "1/1 [==============================] - 0s 10ms/step - loss: 52.0634 - accuracy: 0.0000e+00\n",
      "Epoch 16/200\n",
      "1/1 [==============================] - 0s 9ms/step - loss: 420.6504 - accuracy: 0.0000e+00\n",
      "Epoch 17/200\n",
      "1/1 [==============================] - 0s 9ms/step - loss: 105.7689 - accuracy: 0.0000e+00\n",
      "Epoch 18/200\n",
      "1/1 [==============================] - 0s 9ms/step - loss: 170.4923 - accuracy: 0.0000e+00\n",
      "Epoch 19/200\n",
      "1/1 [==============================] - 0s 9ms/step - loss: 71.9279 - accuracy: 0.0000e+00\n",
      "Epoch 20/200\n",
      "1/1 [==============================] - 0s 10ms/step - loss: 20.5514 - accuracy: 0.0000e+00\n",
      "Epoch 21/200\n",
      "1/1 [==============================] - 0s 10ms/step - loss: 119.6452 - accuracy: 0.0000e+00\n",
      "Epoch 22/200\n",
      "1/1 [==============================] - 0s 9ms/step - loss: 308.8489 - accuracy: 0.0000e+00\n",
      "Epoch 23/200\n",
      "1/1 [==============================] - 0s 9ms/step - loss: 120.6821 - accuracy: 0.0000e+00\n",
      "Epoch 24/200\n",
      "1/1 [==============================] - 0s 7ms/step - loss: 33.8871 - accuracy: 0.0000e+00\n",
      "Epoch 25/200\n",
      "1/1 [==============================] - 0s 6ms/step - loss: 102.6849 - accuracy: 0.0000e+00\n",
      "Epoch 26/200\n",
      "1/1 [==============================] - 0s 7ms/step - loss: 171.8422 - accuracy: 0.0000e+00\n",
      "Epoch 27/200\n",
      "1/1 [==============================] - 0s 8ms/step - loss: 140.8490 - accuracy: 0.0000e+00\n",
      "Epoch 28/200\n",
      "1/1 [==============================] - 0s 5ms/step - loss: 74.7867 - accuracy: 0.0000e+00\n",
      "Epoch 29/200\n",
      "1/1 [==============================] - 0s 6ms/step - loss: 65.4221 - accuracy: 0.0000e+00\n",
      "Epoch 30/200\n",
      "1/1 [==============================] - 0s 6ms/step - loss: 108.0064 - accuracy: 0.0000e+00\n",
      "Epoch 31/200\n",
      "1/1 [==============================] - 0s 6ms/step - loss: 115.2509 - accuracy: 0.0000e+00\n",
      "Epoch 32/200\n",
      "1/1 [==============================] - 0s 7ms/step - loss: 66.6767 - accuracy: 0.0000e+00\n",
      "Epoch 33/200\n",
      "1/1 [==============================] - 0s 7ms/step - loss: 26.8764 - accuracy: 0.0000e+00\n",
      "Epoch 34/200\n",
      "1/1 [==============================] - 0s 8ms/step - loss: 70.5168 - accuracy: 0.0000e+00\n",
      "Epoch 35/200\n",
      "1/1 [==============================] - 0s 6ms/step - loss: 143.9947 - accuracy: 0.0000e+00\n",
      "Epoch 36/200\n",
      "1/1 [==============================] - 0s 7ms/step - loss: 210.8953 - accuracy: 0.0000e+00\n",
      "Epoch 37/200\n",
      "1/1 [==============================] - 0s 7ms/step - loss: 123.6085 - accuracy: 0.0000e+00\n",
      "Epoch 38/200\n",
      "1/1 [==============================] - 0s 6ms/step - loss: 16.1766 - accuracy: 0.0000e+00\n",
      "Epoch 39/200\n",
      "1/1 [==============================] - 0s 6ms/step - loss: 49.3930 - accuracy: 0.0000e+00\n",
      "Epoch 40/200\n",
      "1/1 [==============================] - 0s 6ms/step - loss: 145.8797 - accuracy: 0.0000e+00\n",
      "Epoch 41/200\n",
      "1/1 [==============================] - 0s 7ms/step - loss: 79.4339 - accuracy: 0.0000e+00\n",
      "Epoch 42/200\n",
      "1/1 [==============================] - 0s 6ms/step - loss: 10.2825 - accuracy: 0.0000e+00\n",
      "Epoch 43/200\n",
      "1/1 [==============================] - 0s 7ms/step - loss: 37.7289 - accuracy: 0.0000e+00\n",
      "Epoch 44/200\n",
      "1/1 [==============================] - 0s 7ms/step - loss: 84.1867 - accuracy: 0.0000e+00\n",
      "Epoch 45/200\n",
      "1/1 [==============================] - 0s 6ms/step - loss: 76.8414 - accuracy: 0.0000e+00\n",
      "Epoch 46/200\n",
      "1/1 [==============================] - 0s 7ms/step - loss: 33.9144 - accuracy: 0.0000e+00\n",
      "Epoch 47/200\n",
      "1/1 [==============================] - 0s 6ms/step - loss: 17.8668 - accuracy: 0.0000e+00\n",
      "Epoch 48/200\n",
      "1/1 [==============================] - 0s 6ms/step - loss: 43.7113 - accuracy: 0.0000e+00\n",
      "Epoch 49/200\n",
      "1/1 [==============================] - 0s 6ms/step - loss: 59.3476 - accuracy: 0.0000e+00\n",
      "Epoch 50/200\n",
      "1/1 [==============================] - 0s 6ms/step - loss: 34.4748 - accuracy: 0.0000e+00\n",
      "Epoch 51/200\n",
      "1/1 [==============================] - 0s 6ms/step - loss: 8.8518 - accuracy: 0.0000e+00\n",
      "Epoch 52/200\n",
      "1/1 [==============================] - 0s 7ms/step - loss: 15.4120 - accuracy: 0.0000e+00\n",
      "Epoch 53/200\n",
      "1/1 [==============================] - 0s 6ms/step - loss: 30.7161 - accuracy: 0.0000e+00\n",
      "Epoch 54/200\n",
      "1/1 [==============================] - 0s 6ms/step - loss: 23.7648 - accuracy: 0.0000e+00\n",
      "Epoch 55/200\n",
      "1/1 [==============================] - 0s 7ms/step - loss: 7.5304 - accuracy: 0.0000e+00\n",
      "Epoch 56/200\n",
      "1/1 [==============================] - 0s 7ms/step - loss: 16.8125 - accuracy: 0.0000e+00\n",
      "Epoch 57/200\n",
      "1/1 [==============================] - 0s 8ms/step - loss: 26.4453 - accuracy: 0.0000e+00\n",
      "Epoch 58/200\n",
      "1/1 [==============================] - 0s 7ms/step - loss: 7.7366 - accuracy: 0.0000e+00\n",
      "Epoch 59/200\n",
      "1/1 [==============================] - 0s 6ms/step - loss: 4.8460 - accuracy: 0.0000e+00\n",
      "Epoch 60/200\n",
      "1/1 [==============================] - 0s 7ms/step - loss: 13.2477 - accuracy: 0.0000e+00\n",
      "Epoch 61/200\n",
      "1/1 [==============================] - 0s 6ms/step - loss: 11.7987 - accuracy: 0.0000e+00\n",
      "Epoch 62/200\n",
      "1/1 [==============================] - 0s 8ms/step - loss: 4.3658 - accuracy: 0.0000e+00\n",
      "Epoch 63/200\n",
      "1/1 [==============================] - 0s 7ms/step - loss: 5.7423 - accuracy: 0.0000e+00\n",
      "Epoch 64/200\n",
      "1/1 [==============================] - 0s 6ms/step - loss: 12.0896 - accuracy: 0.0000e+00\n",
      "Epoch 65/200\n",
      "1/1 [==============================] - 0s 6ms/step - loss: 9.0371 - accuracy: 0.0000e+00\n",
      "Epoch 66/200\n",
      "1/1 [==============================] - 0s 8ms/step - loss: 3.9376 - accuracy: 0.0000e+00\n",
      "Epoch 67/200\n",
      "1/1 [==============================] - 0s 7ms/step - loss: 5.5107 - accuracy: 0.0000e+00\n",
      "Epoch 68/200\n",
      "1/1 [==============================] - 0s 7ms/step - loss: 7.5839 - accuracy: 0.0000e+00\n",
      "Epoch 69/200\n",
      "1/1 [==============================] - 0s 6ms/step - loss: 4.5588 - accuracy: 0.0000e+00\n",
      "Epoch 70/200\n",
      "1/1 [==============================] - 0s 6ms/step - loss: 1.8359 - accuracy: 0.0000e+00\n",
      "Epoch 71/200\n",
      "1/1 [==============================] - 0s 8ms/step - loss: 4.5532 - accuracy: 0.0000e+00\n",
      "Epoch 72/200\n",
      "1/1 [==============================] - 0s 6ms/step - loss: 5.2778 - accuracy: 0.0000e+00\n",
      "Epoch 73/200\n",
      "1/1 [==============================] - 0s 8ms/step - loss: 2.0165 - accuracy: 0.0000e+00\n",
      "Epoch 74/200\n",
      "1/1 [==============================] - 0s 7ms/step - loss: 2.9098 - accuracy: 0.0000e+00\n",
      "Epoch 75/200\n",
      "1/1 [==============================] - 0s 6ms/step - loss: 4.8087 - accuracy: 0.0000e+00\n",
      "Epoch 76/200\n",
      "1/1 [==============================] - 0s 6ms/step - loss: 2.9238 - accuracy: 0.0000e+00\n",
      "Epoch 77/200\n",
      "1/1 [==============================] - 0s 7ms/step - loss: 1.9477 - accuracy: 0.0000e+00\n",
      "Epoch 78/200\n",
      "1/1 [==============================] - 0s 8ms/step - loss: 3.6854 - accuracy: 0.0000e+00\n",
      "Epoch 79/200\n",
      "1/1 [==============================] - 0s 5ms/step - loss: 2.7295 - accuracy: 0.0000e+00\n",
      "Epoch 80/200\n"
     ]
    },
    {
     "name": "stdout",
     "output_type": "stream",
     "text": [
      "1/1 [==============================] - 0s 5ms/step - loss: 1.4139 - accuracy: 0.0000e+00\n",
      "Epoch 81/200\n",
      "1/1 [==============================] - 0s 5ms/step - loss: 2.4005 - accuracy: 0.0000e+00\n",
      "Epoch 82/200\n",
      "1/1 [==============================] - 0s 6ms/step - loss: 2.4374 - accuracy: 0.0000e+00\n",
      "Epoch 83/200\n",
      "1/1 [==============================] - 0s 5ms/step - loss: 1.3164 - accuracy: 0.0000e+00\n",
      "Epoch 84/200\n",
      "1/1 [==============================] - 0s 5ms/step - loss: 1.5975 - accuracy: 0.0000e+00\n",
      "Epoch 85/200\n",
      "1/1 [==============================] - 0s 6ms/step - loss: 2.2110 - accuracy: 0.0000e+00\n",
      "Epoch 86/200\n",
      "1/1 [==============================] - 0s 4ms/step - loss: 1.4970 - accuracy: 0.0000e+00\n",
      "Epoch 87/200\n",
      "1/1 [==============================] - 0s 5ms/step - loss: 1.2157 - accuracy: 0.0000e+00\n",
      "Epoch 88/200\n",
      "1/1 [==============================] - 0s 6ms/step - loss: 1.7323 - accuracy: 0.0000e+00\n",
      "Epoch 89/200\n",
      "1/1 [==============================] - 0s 7ms/step - loss: 1.5047 - accuracy: 0.0000e+00\n",
      "Epoch 90/200\n",
      "1/1 [==============================] - 0s 6ms/step - loss: 0.9528 - accuracy: 0.0000e+00\n",
      "Epoch 91/200\n",
      "1/1 [==============================] - 0s 7ms/step - loss: 1.1962 - accuracy: 0.0000e+00\n",
      "Epoch 92/200\n",
      "1/1 [==============================] - 0s 6ms/step - loss: 1.3018 - accuracy: 0.0000e+00\n",
      "Epoch 93/200\n",
      "1/1 [==============================] - 0s 6ms/step - loss: 0.8393 - accuracy: 0.0000e+00\n",
      "Epoch 94/200\n",
      "1/1 [==============================] - 0s 7ms/step - loss: 0.8898 - accuracy: 0.0000e+00\n",
      "Epoch 95/200\n",
      "1/1 [==============================] - 0s 7ms/step - loss: 1.1056 - accuracy: 0.0000e+00\n",
      "Epoch 96/200\n",
      "1/1 [==============================] - 0s 7ms/step - loss: 0.8158 - accuracy: 0.0000e+00\n",
      "Epoch 97/200\n",
      "1/1 [==============================] - 0s 7ms/step - loss: 0.7294 - accuracy: 0.0000e+00\n",
      "Epoch 98/200\n",
      "1/1 [==============================] - 0s 6ms/step - loss: 0.9214 - accuracy: 0.0000e+00\n",
      "Epoch 99/200\n",
      "1/1 [==============================] - 0s 8ms/step - loss: 0.7117 - accuracy: 0.0000e+00\n",
      "Epoch 100/200\n",
      "1/1 [==============================] - 0s 7ms/step - loss: 0.5762 - accuracy: 0.0000e+00\n",
      "Epoch 101/200\n",
      "1/1 [==============================] - 0s 7ms/step - loss: 0.7054 - accuracy: 0.0000e+00\n",
      "Epoch 102/200\n",
      "1/1 [==============================] - 0s 6ms/step - loss: 0.5735 - accuracy: 0.0000e+00\n",
      "Epoch 103/200\n",
      "1/1 [==============================] - 0s 6ms/step - loss: 0.4476 - accuracy: 0.0000e+00\n",
      "Epoch 104/200\n",
      "1/1 [==============================] - 0s 9ms/step - loss: 0.5557 - accuracy: 0.0000e+00\n",
      "Epoch 105/200\n",
      "1/1 [==============================] - 0s 7ms/step - loss: 0.4791 - accuracy: 0.0000e+00\n",
      "Epoch 106/200\n",
      "1/1 [==============================] - 0s 6ms/step - loss: 0.3841 - accuracy: 0.0000e+00\n",
      "Epoch 107/200\n",
      "1/1 [==============================] - 0s 6ms/step - loss: 0.4643 - accuracy: 0.0000e+00\n",
      "Epoch 108/200\n",
      "1/1 [==============================] - 0s 9ms/step - loss: 0.4063 - accuracy: 0.0000e+00\n",
      "Epoch 109/200\n",
      "1/1 [==============================] - 0s 7ms/step - loss: 0.3271 - accuracy: 0.0000e+00\n",
      "Epoch 110/200\n",
      "1/1 [==============================] - 0s 7ms/step - loss: 0.3813 - accuracy: 0.0000e+00\n",
      "Epoch 111/200\n",
      "1/1 [==============================] - 0s 7ms/step - loss: 0.3227 - accuracy: 0.0000e+00\n",
      "Epoch 112/200\n",
      "1/1 [==============================] - 0s 7ms/step - loss: 0.2676 - accuracy: 0.0000e+00\n",
      "Epoch 113/200\n",
      "1/1 [==============================] - 0s 6ms/step - loss: 0.3077 - accuracy: 0.0000e+00\n",
      "Epoch 114/200\n",
      "1/1 [==============================] - 0s 5ms/step - loss: 0.2556 - accuracy: 0.0000e+00\n",
      "Epoch 115/200\n",
      "1/1 [==============================] - 0s 7ms/step - loss: 0.2333 - accuracy: 0.0000e+00\n",
      "Epoch 116/200\n",
      "1/1 [==============================] - 0s 7ms/step - loss: 0.2647 - accuracy: 0.0000e+00\n",
      "Epoch 117/200\n",
      "1/1 [==============================] - 0s 5ms/step - loss: 0.2165 - accuracy: 0.0000e+00\n",
      "Epoch 118/200\n",
      "1/1 [==============================] - 0s 7ms/step - loss: 0.2171 - accuracy: 0.0000e+00\n",
      "Epoch 119/200\n",
      "1/1 [==============================] - 0s 5ms/step - loss: 0.2261 - accuracy: 0.0000e+00\n",
      "Epoch 120/200\n",
      "1/1 [==============================] - 0s 6ms/step - loss: 0.1843 - accuracy: 0.0000e+00\n",
      "Epoch 121/200\n",
      "1/1 [==============================] - 0s 8ms/step - loss: 0.1951 - accuracy: 0.0000e+00\n",
      "Epoch 122/200\n",
      "1/1 [==============================] - 0s 5ms/step - loss: 0.1853 - accuracy: 0.0000e+00\n",
      "Epoch 123/200\n",
      "1/1 [==============================] - 0s 7ms/step - loss: 0.1672 - accuracy: 0.0000e+00\n",
      "Epoch 124/200\n",
      "1/1 [==============================] - 0s 6ms/step - loss: 0.1764 - accuracy: 0.0000e+00\n",
      "Epoch 125/200\n",
      "1/1 [==============================] - 0s 6ms/step - loss: 0.1585 - accuracy: 0.0000e+00\n",
      "Epoch 126/200\n",
      "1/1 [==============================] - 0s 7ms/step - loss: 0.1550 - accuracy: 0.0000e+00\n",
      "Epoch 127/200\n",
      "1/1 [==============================] - 0s 5ms/step - loss: 0.1606 - accuracy: 0.0000e+00\n",
      "Epoch 128/200\n",
      "1/1 [==============================] - 0s 7ms/step - loss: 0.1452 - accuracy: 0.0000e+00\n",
      "Epoch 129/200\n",
      "1/1 [==============================] - 0s 7ms/step - loss: 0.1502 - accuracy: 0.0000e+00\n",
      "Epoch 130/200\n",
      "1/1 [==============================] - 0s 6ms/step - loss: 0.1454 - accuracy: 0.0000e+00\n",
      "Epoch 131/200\n",
      "1/1 [==============================] - 0s 6ms/step - loss: 0.1371 - accuracy: 0.0000e+00\n",
      "Epoch 132/200\n",
      "1/1 [==============================] - 0s 7ms/step - loss: 0.1415 - accuracy: 0.0000e+00\n",
      "Epoch 133/200\n",
      "1/1 [==============================] - 0s 7ms/step - loss: 0.1309 - accuracy: 0.0000e+00\n",
      "Epoch 134/200\n",
      "1/1 [==============================] - 0s 5ms/step - loss: 0.1301 - accuracy: 0.0000e+00\n",
      "Epoch 135/200\n",
      "1/1 [==============================] - 0s 6ms/step - loss: 0.1275 - accuracy: 0.0000e+00\n",
      "Epoch 136/200\n",
      "1/1 [==============================] - 0s 6ms/step - loss: 0.1194 - accuracy: 0.0000e+00\n",
      "Epoch 137/200\n",
      "1/1 [==============================] - 0s 8ms/step - loss: 0.1204 - accuracy: 0.0000e+00\n",
      "Epoch 138/200\n",
      "1/1 [==============================] - 0s 5ms/step - loss: 0.1123 - accuracy: 0.0000e+00\n",
      "Epoch 139/200\n",
      "1/1 [==============================] - 0s 6ms/step - loss: 0.1105 - accuracy: 0.0000e+00\n",
      "Epoch 140/200\n",
      "1/1 [==============================] - 0s 5ms/step - loss: 0.1095 - accuracy: 0.0000e+00\n",
      "Epoch 141/200\n",
      "1/1 [==============================] - 0s 6ms/step - loss: 0.1038 - accuracy: 0.0000e+00\n",
      "Epoch 142/200\n",
      "1/1 [==============================] - 0s 5ms/step - loss: 0.1040 - accuracy: 0.0000e+00\n",
      "Epoch 143/200\n",
      "1/1 [==============================] - 0s 8ms/step - loss: 0.0971 - accuracy: 0.0000e+00\n",
      "Epoch 144/200\n",
      "1/1 [==============================] - 0s 6ms/step - loss: 0.0968 - accuracy: 0.0000e+00\n",
      "Epoch 145/200\n",
      "1/1 [==============================] - 0s 6ms/step - loss: 0.0908 - accuracy: 0.0000e+00\n",
      "Epoch 146/200\n",
      "1/1 [==============================] - 0s 6ms/step - loss: 0.0853 - accuracy: 0.0000e+00\n",
      "Epoch 147/200\n",
      "1/1 [==============================] - 0s 5ms/step - loss: 0.0820 - accuracy: 0.0000e+00\n",
      "Epoch 148/200\n",
      "1/1 [==============================] - 0s 7ms/step - loss: 0.0728 - accuracy: 0.0000e+00\n",
      "Epoch 149/200\n",
      "1/1 [==============================] - 0s 7ms/step - loss: 0.0685 - accuracy: 0.0000e+00\n",
      "Epoch 150/200\n",
      "1/1 [==============================] - 0s 8ms/step - loss: 0.0626 - accuracy: 0.0000e+00\n",
      "Epoch 151/200\n",
      "1/1 [==============================] - 0s 5ms/step - loss: 0.0609 - accuracy: 0.0000e+00\n",
      "Epoch 152/200\n",
      "1/1 [==============================] - 0s 8ms/step - loss: 0.0629 - accuracy: 0.0000e+00\n",
      "Epoch 153/200\n",
      "1/1 [==============================] - 0s 9ms/step - loss: 0.0682 - accuracy: 0.0000e+00\n",
      "Epoch 154/200\n",
      "1/1 [==============================] - 0s 7ms/step - loss: 0.0746 - accuracy: 0.0000e+00\n",
      "Epoch 155/200\n",
      "1/1 [==============================] - 0s 7ms/step - loss: 0.0668 - accuracy: 0.0000e+00\n",
      "Epoch 156/200\n",
      "1/1 [==============================] - 0s 7ms/step - loss: 0.0790 - accuracy: 0.0000e+00\n",
      "Epoch 157/200\n",
      "1/1 [==============================] - 0s 6ms/step - loss: 0.0587 - accuracy: 0.0000e+00\n",
      "Epoch 158/200\n",
      "1/1 [==============================] - 0s 8ms/step - loss: 0.0605 - accuracy: 0.0000e+00\n",
      "Epoch 159/200\n"
     ]
    },
    {
     "name": "stdout",
     "output_type": "stream",
     "text": [
      "1/1 [==============================] - 0s 7ms/step - loss: 0.0637 - accuracy: 0.0000e+00\n",
      "Epoch 160/200\n",
      "1/1 [==============================] - 0s 6ms/step - loss: 0.0449 - accuracy: 0.0000e+00\n",
      "Epoch 161/200\n",
      "1/1 [==============================] - 0s 7ms/step - loss: 0.0422 - accuracy: 0.0000e+00\n",
      "Epoch 162/200\n",
      "1/1 [==============================] - 0s 7ms/step - loss: 0.0482 - accuracy: 0.0000e+00\n",
      "Epoch 163/200\n",
      "1/1 [==============================] - 0s 8ms/step - loss: 0.0433 - accuracy: 0.0000e+00\n",
      "Epoch 164/200\n",
      "1/1 [==============================] - 0s 6ms/step - loss: 0.0456 - accuracy: 0.0000e+00\n",
      "Epoch 165/200\n",
      "1/1 [==============================] - 0s 6ms/step - loss: 0.0469 - accuracy: 0.0000e+00\n",
      "Epoch 166/200\n",
      "1/1 [==============================] - 0s 7ms/step - loss: 0.0316 - accuracy: 0.0000e+00\n",
      "Epoch 167/200\n",
      "1/1 [==============================] - 0s 6ms/step - loss: 0.0377 - accuracy: 0.0000e+00\n",
      "Epoch 168/200\n",
      "1/1 [==============================] - 0s 6ms/step - loss: 0.0325 - accuracy: 0.0000e+00\n",
      "Epoch 169/200\n",
      "1/1 [==============================] - 0s 5ms/step - loss: 0.0390 - accuracy: 0.0000e+00\n",
      "Epoch 170/200\n",
      "1/1 [==============================] - 0s 5ms/step - loss: 0.0328 - accuracy: 0.0000e+00\n",
      "Epoch 171/200\n",
      "1/1 [==============================] - 0s 5ms/step - loss: 0.0325 - accuracy: 0.0000e+00\n",
      "Epoch 172/200\n",
      "1/1 [==============================] - 0s 6ms/step - loss: 0.0263 - accuracy: 0.0000e+00\n",
      "Epoch 173/200\n",
      "1/1 [==============================] - 0s 6ms/step - loss: 0.0272 - accuracy: 0.0000e+00\n",
      "Epoch 174/200\n",
      "1/1 [==============================] - 0s 5ms/step - loss: 0.0228 - accuracy: 0.0000e+00\n",
      "Epoch 175/200\n",
      "1/1 [==============================] - 0s 6ms/step - loss: 0.0239 - accuracy: 0.0000e+00\n",
      "Epoch 176/200\n",
      "1/1 [==============================] - 0s 5ms/step - loss: 0.0263 - accuracy: 0.0000e+00\n",
      "Epoch 177/200\n",
      "1/1 [==============================] - 0s 5ms/step - loss: 0.0224 - accuracy: 0.0000e+00\n",
      "Epoch 178/200\n",
      "1/1 [==============================] - 0s 5ms/step - loss: 0.0202 - accuracy: 0.0000e+00\n",
      "Epoch 179/200\n",
      "1/1 [==============================] - 0s 5ms/step - loss: 0.0187 - accuracy: 0.0000e+00\n",
      "Epoch 180/200\n",
      "1/1 [==============================] - 0s 5ms/step - loss: 0.0192 - accuracy: 0.0000e+00\n",
      "Epoch 181/200\n",
      "1/1 [==============================] - 0s 5ms/step - loss: 0.0188 - accuracy: 0.0000e+00\n",
      "Epoch 182/200\n",
      "1/1 [==============================] - 0s 5ms/step - loss: 0.0174 - accuracy: 0.0000e+00\n",
      "Epoch 183/200\n",
      "1/1 [==============================] - 0s 6ms/step - loss: 0.0179 - accuracy: 0.0000e+00\n",
      "Epoch 184/200\n",
      "1/1 [==============================] - 0s 5ms/step - loss: 0.0150 - accuracy: 0.0000e+00\n",
      "Epoch 185/200\n",
      "1/1 [==============================] - 0s 6ms/step - loss: 0.0148 - accuracy: 0.0000e+00\n",
      "Epoch 186/200\n",
      "1/1 [==============================] - 0s 6ms/step - loss: 0.0149 - accuracy: 0.0000e+00\n",
      "Epoch 187/200\n",
      "1/1 [==============================] - 0s 5ms/step - loss: 0.0137 - accuracy: 0.0000e+00\n",
      "Epoch 188/200\n",
      "1/1 [==============================] - 0s 6ms/step - loss: 0.0138 - accuracy: 0.0000e+00\n",
      "Epoch 189/200\n",
      "1/1 [==============================] - 0s 8ms/step - loss: 0.0133 - accuracy: 0.0000e+00\n",
      "Epoch 190/200\n",
      "1/1 [==============================] - 0s 7ms/step - loss: 0.0119 - accuracy: 0.0000e+00\n",
      "Epoch 191/200\n",
      "1/1 [==============================] - 0s 7ms/step - loss: 0.0116 - accuracy: 0.0000e+00\n",
      "Epoch 192/200\n",
      "1/1 [==============================] - 0s 7ms/step - loss: 0.0115 - accuracy: 0.0000e+00\n",
      "Epoch 193/200\n",
      "1/1 [==============================] - 0s 6ms/step - loss: 0.0111 - accuracy: 0.0000e+00\n",
      "Epoch 194/200\n",
      "1/1 [==============================] - 0s 7ms/step - loss: 0.0107 - accuracy: 0.0000e+00\n",
      "Epoch 195/200\n",
      "1/1 [==============================] - 0s 6ms/step - loss: 0.0100 - accuracy: 0.0000e+00\n",
      "Epoch 196/200\n",
      "1/1 [==============================] - 0s 7ms/step - loss: 0.0096 - accuracy: 0.0000e+00\n",
      "Epoch 197/200\n",
      "1/1 [==============================] - 0s 6ms/step - loss: 0.0095 - accuracy: 0.0000e+00\n",
      "Epoch 198/200\n",
      "1/1 [==============================] - 0s 6ms/step - loss: 0.0091 - accuracy: 0.0000e+00\n",
      "Epoch 199/200\n",
      "1/1 [==============================] - 0s 7ms/step - loss: 0.0088 - accuracy: 0.0000e+00\n",
      "Epoch 200/200\n",
      "1/1 [==============================] - 0s 7ms/step - loss: 0.0085 - accuracy: 0.0000e+00\n"
     ]
    },
    {
     "data": {
      "text/plain": [
       "<keras.callbacks.History at 0x1e47f958eb0>"
      ]
     },
     "execution_count": 40,
     "metadata": {},
     "output_type": "execute_result"
    }
   ],
   "source": [
    "model.fit(X, y, epochs=200, verbose=1)"
   ]
  },
  {
   "cell_type": "code",
   "execution_count": 41,
   "id": "cf9d87ab",
   "metadata": {},
   "outputs": [],
   "source": [
    "test_data = np.array([90, 100, 110, 120, 130])\n",
    "# test_data = test_data.reshape((1, n_steps, n_features))\n",
    "# test_data"
   ]
  },
  {
   "cell_type": "code",
   "execution_count": 42,
   "id": "7c93ed08",
   "metadata": {},
   "outputs": [
    {
     "data": {
      "text/plain": [
       "(5,)"
      ]
     },
     "execution_count": 42,
     "metadata": {},
     "output_type": "execute_result"
    }
   ],
   "source": [
    "test_data.shape"
   ]
  },
  {
   "cell_type": "code",
   "execution_count": 43,
   "id": "15ab7141",
   "metadata": {},
   "outputs": [],
   "source": [
    "# EPOCHS = 500\n",
    "\n",
    "# history = model.fit(X_train, y_train, epochs=EPOCHS, validation_data=(X_valid, y_valid))"
   ]
  },
  {
   "cell_type": "code",
   "execution_count": 44,
   "id": "2cd0d59a",
   "metadata": {},
   "outputs": [],
   "source": [
    "# predictNextNumber = model.predict(scaler.transform([test_data]).reshape((1, n_steps, n_features)), verbose=1)\n",
    "# print(predictNextNumber)"
   ]
  },
  {
   "cell_type": "code",
   "execution_count": 45,
   "id": "763a25dc",
   "metadata": {},
   "outputs": [
    {
     "data": {
      "text/plain": [
       "array([[[160],\n",
       "        [170],\n",
       "        [180],\n",
       "        [190],\n",
       "        [200]]])"
      ]
     },
     "execution_count": 45,
     "metadata": {},
     "output_type": "execute_result"
    }
   ],
   "source": [
    "test_data = np.array([160, 170, 180, 190, 200])\n",
    "test_data = test_data.reshape((1, n_steps, n_features))\n",
    "test_data"
   ]
  },
  {
   "cell_type": "code",
   "execution_count": 46,
   "id": "5bfaba05",
   "metadata": {},
   "outputs": [
    {
     "name": "stdout",
     "output_type": "stream",
     "text": [
      "1/1 [==============================] - 0s 168ms/step\n",
      "[[210.57683]]\n"
     ]
    }
   ],
   "source": [
    "predictNextNumber = model.predict(test_data, verbose=1)\n",
    "print(predictNextNumber)"
   ]
  },
  {
   "cell_type": "code",
   "execution_count": null,
   "id": "9fdf6a37",
   "metadata": {},
   "outputs": [],
   "source": []
  },
  {
   "cell_type": "code",
   "execution_count": null,
   "id": "91321f5f",
   "metadata": {},
   "outputs": [],
   "source": []
  }
 ],
 "metadata": {
  "kernelspec": {
   "display_name": "Python 3 (ipykernel)",
   "language": "python",
   "name": "python3"
  },
  "language_info": {
   "codemirror_mode": {
    "name": "ipython",
    "version": 3
   },
   "file_extension": ".py",
   "mimetype": "text/x-python",
   "name": "python",
   "nbconvert_exporter": "python",
   "pygments_lexer": "ipython3",
   "version": "3.8.8"
  }
 },
 "nbformat": 4,
 "nbformat_minor": 5
}
