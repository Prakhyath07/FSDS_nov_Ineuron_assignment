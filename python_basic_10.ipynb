{
 "cells": [
  {
   "cell_type": "raw",
   "id": "9bc6e4aa",
   "metadata": {},
   "source": [
    "1. How do you distinguish between shutil.copy() and shutil.copytree()?\n",
    "\n",
    "shutil.copy : Copies a single file\n",
    "shutil.copytree() : will copy an entire folder and every folder and file contained in it"
   ]
  },
  {
   "cell_type": "raw",
   "id": "605d30fb",
   "metadata": {},
   "source": [
    "2. What function is used to rename files??\n",
    "\n",
    "Answer:\n",
    "import os\n",
    "os.rename(\"text.txt\",\"testnew.txt\")"
   ]
  },
  {
   "cell_type": "raw",
   "id": "0fc94483",
   "metadata": {},
   "source": [
    "3. What is the difference between the delete functions in the send2trash and shutil modules?\n",
    "\n",
    "import shutil\n",
    "shutil.rmtree():\n",
    "The shutil module’s rmtree() function can be used to delete files or folders. But, this function delete the files\n",
    "permanently. \n",
    "The operations cannot be undone if there were any accidental deletions performed \n",
    "\n",
    "import send2trash\n",
    "send2trash.send2trash() : Using send2trash, we can send files to the Trash or Recycle Bin instead of permanently \n",
    "deleting them.\n",
    "If the directory contains files or other folders, those are also deleted. A TrashPermissionError exception is raised, \n",
    "in case a file could not be deleted due to permission error or any other unexpected reason."
   ]
  },
  {
   "cell_type": "raw",
   "id": "0629a1f4",
   "metadata": {},
   "source": [
    "4. ZipFile objects have a close() method just like File objects’ close() method. What ZipFile method is equivalent to File objects’ open() method?\n",
    "\n",
    "The zipfile.ZipFile() function is equivalent to the open() function; the first argument is the filename, and the second argument is the mode to open the ZIP file in (read, write, or append)."
   ]
  },
  {
   "cell_type": "raw",
   "id": "bd77c56a",
   "metadata": {},
   "source": [
    "5. Create a programme that searches a folder tree for files with a certain file extension (such as .pdf\n",
    "or .jpg). Copy these files from whatever location they are in to a new folder."
   ]
  },
  {
   "cell_type": "code",
   "execution_count": 2,
   "id": "da3ad97a",
   "metadata": {},
   "outputs": [
    {
     "name": "stdout",
     "output_type": "stream",
     "text": [
      "Looking in C:\\ineuron\\Assignments\\Python Basic\\dummy 1 for files with extensions of .pptx, .bmp\n",
      "C:\\ineuron\\Assignments\\Python Basic\\dummy 1 [] ['New Microsoft PowerPoint Presentation.pptx', 'rand_image.bmp']\n",
      "Coping C:\\ineuron\\Assignments\\Python Basic\\dummy 1\\New Microsoft PowerPoint Presentation.pptx to C:\\ineuron\\Assignments\\Python Basic\\dummy 2\n",
      "Coping C:\\ineuron\\Assignments\\Python Basic\\dummy 1\\rand_image.bmp to C:\\ineuron\\Assignments\\Python Basic\\dummy 2\n"
     ]
    }
   ],
   "source": [
    "import os, shutil\n",
    "\n",
    "def selectiveCopy(folder, extensions, destFolder):\n",
    "    folder = os.path.abspath(folder)\n",
    "    destFolder = os.path.abspath(destFolder)\n",
    "    print('Looking in', folder, 'for files with extensions of', ', '.join(extensions))\n",
    "    for foldername, subfolders, filenames in os.walk(folder):\n",
    "#         print(foldername, subfolders, filenames)\n",
    "        for filename in filenames:\n",
    "            name, extension = os.path.splitext(filename)\n",
    "            if extension in extensions:\n",
    "                fileAbsPath = foldername + os.path.sep + filename\n",
    "                print('Coping', fileAbsPath, 'to', destFolder)\n",
    "                shutil.copy(fileAbsPath, destFolder)\n",
    "\n",
    "extensions = ['.pptx', '.bmp']\n",
    "folder = 'dummy 1'\n",
    "destFolder = 'dummy 2'\n",
    "selectiveCopy(folder, extensions, destFolder)"
   ]
  },
  {
   "cell_type": "code",
   "execution_count": null,
   "id": "21e681ac",
   "metadata": {},
   "outputs": [],
   "source": []
  }
 ],
 "metadata": {
  "kernelspec": {
   "display_name": "Python 3 (ipykernel)",
   "language": "python",
   "name": "python3"
  },
  "language_info": {
   "codemirror_mode": {
    "name": "ipython",
    "version": 3
   },
   "file_extension": ".py",
   "mimetype": "text/x-python",
   "name": "python",
   "nbconvert_exporter": "python",
   "pygments_lexer": "ipython3",
   "version": "3.8.8"
  }
 },
 "nbformat": 4,
 "nbformat_minor": 5
}
