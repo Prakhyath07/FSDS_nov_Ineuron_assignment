{
 "cells": [
  {
   "cell_type": "raw",
   "id": "d0199326",
   "metadata": {},
   "source": [
    "Q1. Which two operator overloading methods can you use in your classes to support iteration?\n",
    "\n",
    "Overload __iter__\n",
    "The magic method, __iter__, is the basis of the iterator protocol.\n",
    "\n",
    "The __iter__ method returns an iterator, which is any object with a method called next, which is callable without any arguments.\n",
    "\n",
    "When you call the next method, the iterator should return its \"next value.\" If the method is called, and the iterator has no more values to return, it should raise a StopIteration exception.\n",
    "\n"
   ]
  },
  {
   "cell_type": "code",
   "execution_count": 5,
   "id": "66ab48ce",
   "metadata": {},
   "outputs": [
    {
     "name": "stdout",
     "output_type": "stream",
     "text": [
      "file1\n",
      "file2\n",
      "file3\n",
      "file4\n"
     ]
    }
   ],
   "source": [
    "class FileList:\n",
    "    def __init__(self):\n",
    "        self.ptr = 0\n",
    "        self.file_list = [\"file1\", \"file2\", \"file3\", \"file4\" ]\n",
    "        \n",
    "    def __iter__(self):\n",
    "        self.ptr = 0\n",
    "        return self\n",
    "    def __next__(self):\n",
    "        if self.ptr == len(self.file_list):\n",
    "            raise StopIteration\n",
    "        s = self.file_list[self.ptr]\n",
    "        self.ptr = self.ptr + 1\n",
    "        return s\n",
    "\n",
    "fl = FileList()\n",
    "for f in fl :\n",
    "    print(f)"
   ]
  },
  {
   "cell_type": "raw",
   "id": "ad2e9283",
   "metadata": {},
   "source": [
    "Q2. In what contexts do the two operator overloading methods manage printing?\n",
    "\n",
    "Ans: __str__ and __repr__ are two operator overloading methods that manage printing.\n",
    "\n",
    "The difference between both these operators is the goal of __repr__ is to be unambiguous and __str__ is to be readable.\n",
    "Whenever we are printing any object reference internally __str__ method will be called by default.\n",
    "The main purpose of __str__ is for readability. it prints the informal string representation of an object, one that is useful for printing the object. it may not be possible to convert result string to original object.\n",
    "\n",
    "__repr__ is used to print official string representation of an object, so it includes all information and development."
   ]
  },
  {
   "cell_type": "code",
   "execution_count": 13,
   "id": "efc67465",
   "metadata": {},
   "outputs": [
    {
     "data": {
      "text/plain": [
       "This a test object"
      ]
     },
     "execution_count": 13,
     "metadata": {},
     "output_type": "execute_result"
    }
   ],
   "source": [
    "class Test:\n",
    "    def __repr__(self):\n",
    "        return \"This a test object\"\n",
    "    def __str__(self):\n",
    "        return \"member of Test\"\n",
    "\n",
    "t = Test()\n",
    "t\n"
   ]
  },
  {
   "cell_type": "code",
   "execution_count": 14,
   "id": "91759ccf",
   "metadata": {},
   "outputs": [
    {
     "name": "stdout",
     "output_type": "stream",
     "text": [
      "member of Test\n"
     ]
    }
   ],
   "source": [
    "\n",
    "print(t)"
   ]
  },
  {
   "cell_type": "raw",
   "id": "cf314826",
   "metadata": {},
   "source": [
    "Q3. In a class, how do you intercept slice operations?\n",
    "\n",
    "Ans: In a class __getitem__ method is used for overloading slice operation. This slice method is provided with start integer number, stop integer number and step integer number.\n",
    "\n",
    "Example: __getitem__(slice(start,stop,step))"
   ]
  },
  {
   "cell_type": "code",
   "execution_count": 15,
   "id": "4dcfee6a",
   "metadata": {},
   "outputs": [],
   "source": [
    "from dataclasses import dataclass, field\n",
    "from typing import List\n",
    "\n",
    "\n",
    "@dataclass\n",
    "class ShoppingItem:\n",
    "\n",
    "    name: str\n",
    "    price: float\n",
    "\n",
    "\n",
    "@dataclass\n",
    "class ShoppingCart:\n",
    "\n",
    "    items: List[ShoppingItem]\n",
    "    discount: float = field(default=0)\n",
    "\n",
    "    def __post_init__(self):\n",
    "        self.items.sort(key=lambda item: item.price)\n",
    "\n",
    "    def total_price(self):\n",
    "        return (1 - self.discount) * sum(item.price for item in self.items)\n",
    "\n",
    "    def __getitem__(self, key):\n",
    "        return self.items[key]"
   ]
  },
  {
   "cell_type": "code",
   "execution_count": 16,
   "id": "6e7bccf9",
   "metadata": {},
   "outputs": [
    {
     "name": "stdout",
     "output_type": "stream",
     "text": [
      "ShoppingItem(name='Shoes', price=80)\n"
     ]
    }
   ],
   "source": [
    "cart = ShoppingCart(\n",
    "    items=[\n",
    "        ShoppingItem(name=\"Shirt\", price=100),\n",
    "        ShoppingItem(name=\"Pants\", price=120),\n",
    "        ShoppingItem(name=\"Socks\", price=40),\n",
    "        ShoppingItem(name=\"Shoes\", price=80),\n",
    "    ]\n",
    ")\n",
    "print(cart[1])  # Will print Shoes"
   ]
  },
  {
   "cell_type": "raw",
   "id": "c3a24b02",
   "metadata": {},
   "source": [
    "Q4. In a class, how do you capture in-place addition?\n",
    "\n",
    "Ans: a+b is normal addition. Whereas a+=b is inplace addition operation. In this in-place addition a itself will store the value of addition. In a class __iadd__ method is used for this in-place operation\n",
    "\n"
   ]
  },
  {
   "cell_type": "code",
   "execution_count": 17,
   "id": "446e090f",
   "metadata": {},
   "outputs": [
    {
     "name": "stdout",
     "output_type": "stream",
     "text": [
      "300\n"
     ]
    }
   ],
   "source": [
    "class Book:\n",
    "    def __init__(self,pages):\n",
    "        self.pages = pages\n",
    "    def __iadd__(self,other):\n",
    "        self.pages += other.pages\n",
    "        return self.pages\n",
    "        \n",
    "b1 = Book(100)\n",
    "b2 = Book(200)\n",
    "b1+=b2\n",
    "print(b1)"
   ]
  },
  {
   "cell_type": "raw",
   "id": "ac989765",
   "metadata": {},
   "source": [
    "Q5. When is it appropriate to use operator overloading?\n",
    "\n",
    "Ans: Operator overloading is used when we want to use an operator to achieve different result than its normal operation to have different meaning according to the context required in user defined function."
   ]
  },
  {
   "cell_type": "code",
   "execution_count": null,
   "id": "5d811f5a",
   "metadata": {},
   "outputs": [],
   "source": []
  }
 ],
 "metadata": {
  "kernelspec": {
   "display_name": "Python 3 (ipykernel)",
   "language": "python",
   "name": "python3"
  },
  "language_info": {
   "codemirror_mode": {
    "name": "ipython",
    "version": 3
   },
   "file_extension": ".py",
   "mimetype": "text/x-python",
   "name": "python",
   "nbconvert_exporter": "python",
   "pygments_lexer": "ipython3",
   "version": "3.8.8"
  }
 },
 "nbformat": 4,
 "nbformat_minor": 5
}
