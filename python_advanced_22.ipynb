{
 "cells": [
  {
   "cell_type": "raw",
   "id": "3bd9c888",
   "metadata": {},
   "source": [
    "Q1. What are the benefits of the built-in array package, if any?\n",
    "\n",
    "Ans: Arrays represent multiple data items of the same type using a single name. In arrays, the elements can be accessed randomly by using the index number. Arrays allocate memory in contiguous memory locations for all its elements. Hence there is no chance of extra memory being allocated in case of arrays. This avoids memory overflow or shortage of memory in arrays."
   ]
  },
  {
   "cell_type": "raw",
   "id": "61c0ed94",
   "metadata": {},
   "source": [
    "Q2. What are some of the array package's limitations ?\n",
    "\n",
    "Ans: The number of elements to be stored in an array should be known in advance. An array is a static structure (which means the array is of fixed size). Once declared the size of the array cannot be modified. The memory which is allocated to it cannot be increased or decreased.\n",
    "\n",
    "Insertion and deletion are quite difficult in an array as the elements are stored in consecutive memory locations and the shifting operation is costly.\n",
    "\n",
    "Allocating more memory than the requirement leads to wastage of memory space and less allocation of memory also leads to a problem"
   ]
  },
  {
   "cell_type": "raw",
   "id": "cb9f21e8",
   "metadata": {},
   "source": [
    "Q3. Describe the main differences between the array and numpy packages ?\n",
    "\n",
    "Ans: The array package doesn't provide any help with numerical calculation with the items insdie it in number form while NumPy give you a wide variety of numerical operations.\n",
    "\n",
    "An array is a single dimensional entity which hold the numerical data, while numpy can have more than 1 dimension.\n",
    "\n",
    "In case of array, item can be accessed by its index position and it is easy task while in numpy item is accessed by its column and row index, which makes it slightly time taking. Same goes with appending operation.\n",
    "\n",
    "In case of array we do not form a tabular structure, while in numpy it forms a tabular structure"
   ]
  },
  {
   "cell_type": "raw",
   "id": "580720d4",
   "metadata": {},
   "source": [
    "Q4. Explain the distinctions between the empty, ones, and zeros functions.\n",
    "\n",
    "empty() function\n",
    "The empty() function of NumPy creates an uninitialized array having shape and dtype as given to the empty() function.\n",
    "Syntax:\n",
    "\n",
    "empty(shape, dtype=float, order='C', *, like=None)\n",
    "\n",
    "The followings are the arguments of empty() function:\n",
    "\n",
    "shape: Takes single integer input or tuple of integers as input(number of rows and columns).\n",
    "dtype: Sets the data type of elements in the ndarray(default is float).\n",
    "order: Store row-major(‘C’) or column-major(‘F’)order in memory for multi-dimensional data.\n",
    "The parameter shape is a mandatory argument and dtype, order, and like are the optional arguments in empty() function.\n"
   ]
  },
  {
   "cell_type": "code",
   "execution_count": 2,
   "id": "42fa9686",
   "metadata": {},
   "outputs": [
    {
     "data": {
      "text/plain": [
       "array([7536757, 6029426, 6881378])"
      ]
     },
     "execution_count": 2,
     "metadata": {},
     "output_type": "execute_result"
    }
   ],
   "source": [
    "import numpy as np\n",
    "np_arr = np.empty(3, dtype=int) \n",
    "np_arr\n",
    "# The output shows that np_arr contains 3 random integer values(because the resultant array is uninitialized)."
   ]
  },
  {
   "cell_type": "raw",
   "id": "bebf55ed",
   "metadata": {},
   "source": [
    "zeros() function\n",
    "The zeros() function of NumPy creates a ndarray initialized with 0 values having shape and dtype as given as input.\n",
    "\n",
    "Syntax:\n",
    "\n",
    "zeros(shape, dtype=float, order='C', *, like=None)\n",
    "\n",
    "The arguments of zeros() function are same as empty() function.\n"
   ]
  },
  {
   "cell_type": "code",
   "execution_count": 3,
   "id": "593a5d7c",
   "metadata": {},
   "outputs": [
    {
     "data": {
      "text/plain": [
       "array([0., 0., 0., 0., 0.])"
      ]
     },
     "execution_count": 3,
     "metadata": {},
     "output_type": "execute_result"
    }
   ],
   "source": [
    "np_arr = np.zeros(5) \n",
    "np_arr"
   ]
  },
  {
   "cell_type": "raw",
   "id": "d2bc02f3",
   "metadata": {},
   "source": [
    "ones() function:\n",
    "The ones() function of NumPy creates a ndarray initialized with 1 having shape and dtype as given as input.\n",
    "\n",
    "Syntax:\n",
    "\n",
    "np.ones(shape, dtype=None, order='C', *, like=None)\n",
    "\n",
    "The arguments of ones() function are the same as zeros() and empty() function. The only change is that the dtype default value is set to None."
   ]
  },
  {
   "cell_type": "code",
   "execution_count": 8,
   "id": "2a30c062",
   "metadata": {},
   "outputs": [
    {
     "data": {
      "text/plain": [
       "array([[1., 1.],\n",
       "       [1., 1.]])"
      ]
     },
     "execution_count": 8,
     "metadata": {},
     "output_type": "execute_result"
    }
   ],
   "source": [
    "np_arr = np.ones((2, 2), dtype=float) \n",
    "np_arr"
   ]
  },
  {
   "cell_type": "raw",
   "id": "e82487d9",
   "metadata": {},
   "source": [
    "Q5. In the fromfunction function, which is used to construct new arrays, what is the role of the callable argument ?\n",
    "\n",
    "Ans: Its function is to execute the function over each coordinate and the resulting array. The function is called with N parameters, where N is the rank of shape. Each parameter represents the coordinates of the array varying along a specific axis."
   ]
  },
  {
   "cell_type": "raw",
   "id": "d859ad33",
   "metadata": {},
   "source": [
    "Q6. What happens when a numpy array is combined with a single-value operand (a scalar, such as an int or a floating-point value) through addition, as in the expression A + n ?\n",
    "\n",
    "Ans: If any scaler value such as integer is added to the numpy array then all the elements inside the array will add that value in it."
   ]
  },
  {
   "cell_type": "code",
   "execution_count": 9,
   "id": "e0d9bfe4",
   "metadata": {},
   "outputs": [
    {
     "data": {
      "text/plain": [
       "array([[2.5, 2.5],\n",
       "       [2.5, 2.5]])"
      ]
     },
     "execution_count": 9,
     "metadata": {},
     "output_type": "execute_result"
    }
   ],
   "source": [
    "np_arr+1.5"
   ]
  },
  {
   "cell_type": "raw",
   "id": "6189ff00",
   "metadata": {},
   "source": [
    "Q7. Can array-to-scalar operations use combined operation-assign operators (such as += or *=)? What is the outcome ?\n",
    "\n",
    "Ans: It will carry out provided operation on all elements of array."
   ]
  },
  {
   "cell_type": "code",
   "execution_count": 10,
   "id": "380c2da0",
   "metadata": {},
   "outputs": [
    {
     "data": {
      "text/plain": [
       "array([[1.5, 1.5],\n",
       "       [1.5, 1.5]])"
      ]
     },
     "execution_count": 10,
     "metadata": {},
     "output_type": "execute_result"
    }
   ],
   "source": [
    "np_arr*=1.5\n",
    "np_arr"
   ]
  },
  {
   "cell_type": "raw",
   "id": "32c316d7",
   "metadata": {},
   "source": [
    "Q8. Does a numpy array contain fixed-length strings? What happens if you allocate a longer string to one of these arrays ?\n",
    "\n",
    "Ans: : Yes, it is possible that we can include a string of fixed length in numpy array. The dtype of any numpy array containing string values is the maximum length of any string present in the array.Once set, it will only be able to store new string having length not more than the maximum length at the time of the creation. If we try to reassign some another string value having length greater than the maximum length of the existing elements, it simply discards all the values beyond the maximum length accept upto those values which are under the limit."
   ]
  },
  {
   "cell_type": "code",
   "execution_count": 22,
   "id": "f79dc1b3",
   "metadata": {},
   "outputs": [
    {
     "name": "stdout",
     "output_type": "stream",
     "text": [
      "['USA' 'Japan' 'UK' '' 'India' 'China']\n"
     ]
    }
   ],
   "source": [
    "import numpy as np\n",
    "  \n",
    "# Create the numpy array\n",
    "country = np.array(['USA', 'Japan', 'UK', '', 'India', 'China'])\n",
    "  \n",
    "# Print the array\n",
    "print(country)"
   ]
  },
  {
   "cell_type": "code",
   "execution_count": 23,
   "id": "2761adb0",
   "metadata": {},
   "outputs": [
    {
     "name": "stdout",
     "output_type": "stream",
     "text": [
      "['USA' 'Japan' 'UK' 'New Z' 'India' 'China']\n"
     ]
    }
   ],
   "source": [
    "\n",
    "# Assign 'New Zealand' at the place of missing value\n",
    "country[country == ''] = 'New Zealand'\n",
    "  \n",
    "# Print the modified array\n",
    "print(country)"
   ]
  },
  {
   "cell_type": "raw",
   "id": "2eed15d6",
   "metadata": {},
   "source": [
    "Q9. What happens when you combine two numpy arrays using an operation like addition (+) or multiplication (*)? What are the conditions for combining two numpy arrays ?\n",
    "\n",
    "Ans: It will simply add or multiply element to element at same position"
   ]
  },
  {
   "cell_type": "raw",
   "id": "3bafca82",
   "metadata": {},
   "source": [
    "Q10. What is the best way to use a Boolean array to mask another array ?\n",
    "\n",
    "Ans: The best way to use a Boolean array to mask another array is by Using masked_where of numpy package"
   ]
  },
  {
   "cell_type": "raw",
   "id": "3ac2a3d8",
   "metadata": {},
   "source": [
    "Q11. What are three different ways to get the standard deviation of a wide collection of data using both standard Python and its packages? Sort the three of them by how quickly they execute ?\n",
    "\n",
    "Ans: Using the Statistics Module\n",
    "The statistics module has a built-in function called stdev, which follows the syntax below:\n",
    "\n",
    "standard_deviation = stdev([data], xbar)\n",
    "xbar is a boolean parameter (either True or False), to take the actual mean of the data set as a value\n"
   ]
  },
  {
   "cell_type": "code",
   "execution_count": 24,
   "id": "2dd04889",
   "metadata": {},
   "outputs": [
    {
     "name": "stdout",
     "output_type": "stream",
     "text": [
      "2.5549516194593154\n"
     ]
    }
   ],
   "source": [
    "import statistics\n",
    "\n",
    "sample = [1,2,3,4,5,5,5,5,10]\n",
    "standard_deviation = statistics.stdev(sample)\n",
    "print(standard_deviation)"
   ]
  },
  {
   "cell_type": "code",
   "execution_count": null,
   "id": "e5beb47b",
   "metadata": {},
   "outputs": [],
   "source": [
    "Using Numpy to Calculate Standard Deviation\n",
    "Numpy has a function named np.std(), which is used to calculate the standard deviation of a sample. The function uses the following syntax:\n",
    "\n",
    "np.std(\n",
    "   [data],   # The data to use\n",
    "   ddof=1    # The degrees of freedom to use\n",
    ")"
   ]
  },
  {
   "cell_type": "code",
   "execution_count": 25,
   "id": "061f10c2",
   "metadata": {},
   "outputs": [
    {
     "name": "stdout",
     "output_type": "stream",
     "text": [
      "2.5549516194593154\n"
     ]
    }
   ],
   "source": [
    "import numpy as np\n",
    "\n",
    "sample = [1,2,3,4,5,5,5,5,10]\n",
    "standard_deviation = np.std(sample, ddof=1)\n",
    "print(standard_deviation)"
   ]
  },
  {
   "cell_type": "raw",
   "id": "c7947517",
   "metadata": {},
   "source": [
    "Pandas Standard Deviation\n",
    "If you are working with Pandas, you may be wondering if Pandas has a function for standard deviations. Pandas lets you calculate a standard deviation for either a series, or even an entire Pandas DataFrame.\n",
    "\n",
    "The standard syntax looks like this:\n",
    "df.std(\n",
    "   self, \n",
    "   axis=None, \n",
    "   skipna=None, \n",
    "   level=None, \n",
    "   ddof=1, \n",
    "   numeric_only=None\n",
    ")\n",
    "\n",
    "axis is either 0 for index or 1 for columns\n",
    "skipna is used to include/exclude null/NA values in the calculation\n",
    "level determines if the axis is a multi-index and tells Pandas which level to count\n",
    "ddof defaults to 1 as the formula is used for samples\n",
    "numeric_only includes only numeric values in the calculation"
   ]
  },
  {
   "cell_type": "code",
   "execution_count": 26,
   "id": "91215b9a",
   "metadata": {},
   "outputs": [
    {
     "name": "stdout",
     "output_type": "stream",
     "text": [
      "Height    15.247951\n",
      "Weight    32.901368\n",
      "dtype: float64\n"
     ]
    },
    {
     "name": "stderr",
     "output_type": "stream",
     "text": [
      "C:\\Users\\prakh\\AppData\\Local\\Temp/ipykernel_17684/2948612296.py:10: FutureWarning: Dropping of nuisance columns in DataFrame reductions (with 'numeric_only=None') is deprecated; in a future version this will raise TypeError.  Select only valid columns before calling the reduction.\n",
      "  standard_deviation = df.std()\n"
     ]
    }
   ],
   "source": [
    "import pandas as pd\n",
    "\n",
    "dataframe_dictionary = {\n",
    "   'Name': ['John', 'Meaghan', 'Kate', 'Peter', 'Jane'], \n",
    "   'Height': [170,155,160,185,145], \n",
    "   'Weight': [160, 120, 125, 200, 135]\n",
    "}\n",
    "\n",
    "df = pd.DataFrame(data = dataframe_dictionary)\n",
    "standard_deviation = df.std()\n",
    "\n",
    "print(standard_deviation)"
   ]
  },
  {
   "cell_type": "raw",
   "id": "29a21781",
   "metadata": {},
   "source": [
    "12. What is the dimensionality of a Boolean mask-generated array ?\n",
    "\n",
    "Ans: It will have same dimensionality as input array."
   ]
  },
  {
   "cell_type": "code",
   "execution_count": null,
   "id": "a0427033",
   "metadata": {},
   "outputs": [],
   "source": []
  }
 ],
 "metadata": {
  "kernelspec": {
   "display_name": "Python 3 (ipykernel)",
   "language": "python",
   "name": "python3"
  },
  "language_info": {
   "codemirror_mode": {
    "name": "ipython",
    "version": 3
   },
   "file_extension": ".py",
   "mimetype": "text/x-python",
   "name": "python",
   "nbconvert_exporter": "python",
   "pygments_lexer": "ipython3",
   "version": "3.8.8"
  }
 },
 "nbformat": 4,
 "nbformat_minor": 5
}
