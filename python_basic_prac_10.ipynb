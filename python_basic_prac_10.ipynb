{
 "cells": [
  {
   "cell_type": "raw",
   "id": "804375ed",
   "metadata": {},
   "source": [
    "1. Write a Python program to find sum of elements in list?"
   ]
  },
  {
   "cell_type": "code",
   "execution_count": 1,
   "id": "944b60ec",
   "metadata": {},
   "outputs": [],
   "source": [
    "def sum_lst(lst):\n",
    "    sum=0\n",
    "    for i in lst:\n",
    "        sum+=i\n",
    "    return sum"
   ]
  },
  {
   "cell_type": "code",
   "execution_count": 2,
   "id": "20a786f3",
   "metadata": {},
   "outputs": [
    {
     "data": {
      "text/plain": [
       "10"
      ]
     },
     "execution_count": 2,
     "metadata": {},
     "output_type": "execute_result"
    }
   ],
   "source": [
    "sum_lst([1,2,3,4])"
   ]
  },
  {
   "cell_type": "raw",
   "id": "9e4f0394",
   "metadata": {},
   "source": [
    "2. Write a Python program to Multiply all numbers in the list?"
   ]
  },
  {
   "cell_type": "code",
   "execution_count": 5,
   "id": "011b23ab",
   "metadata": {},
   "outputs": [],
   "source": [
    "def mul_lst(lst):\n",
    "    mul=1\n",
    "    for i in lst:\n",
    "        mul*=i\n",
    "    return mul"
   ]
  },
  {
   "cell_type": "code",
   "execution_count": 6,
   "id": "ffa44602",
   "metadata": {},
   "outputs": [
    {
     "data": {
      "text/plain": [
       "24"
      ]
     },
     "execution_count": 6,
     "metadata": {},
     "output_type": "execute_result"
    }
   ],
   "source": [
    "mul_lst([1,2,3,4])"
   ]
  },
  {
   "cell_type": "raw",
   "id": "f3a80ef5",
   "metadata": {},
   "source": [
    "3. Write a Python program to find smallest number in a list?"
   ]
  },
  {
   "cell_type": "code",
   "execution_count": 17,
   "id": "9bbddce9",
   "metadata": {},
   "outputs": [],
   "source": [
    "def small_lst(lst):\n",
    "    min=lst[0]\n",
    "    for i in lst[1:]:\n",
    "        \n",
    "        if i<min:\n",
    "            min=i\n",
    "    return min"
   ]
  },
  {
   "cell_type": "code",
   "execution_count": 18,
   "id": "a2a5a52b",
   "metadata": {},
   "outputs": [
    {
     "data": {
      "text/plain": [
       "2"
      ]
     },
     "execution_count": 18,
     "metadata": {},
     "output_type": "execute_result"
    }
   ],
   "source": [
    "small_lst([11,2,3,4])"
   ]
  },
  {
   "cell_type": "raw",
   "id": "0502d8ad",
   "metadata": {},
   "source": [
    "4. Write a Python program to find largest number in a list?"
   ]
  },
  {
   "cell_type": "code",
   "execution_count": 19,
   "id": "2afcaef8",
   "metadata": {},
   "outputs": [],
   "source": [
    "def large_lst(lst):\n",
    "    max=lst[0]\n",
    "    for i in lst[1:]:\n",
    "        \n",
    "        if i>max:\n",
    "            max=i\n",
    "    return max"
   ]
  },
  {
   "cell_type": "code",
   "execution_count": 20,
   "id": "73261303",
   "metadata": {},
   "outputs": [
    {
     "data": {
      "text/plain": [
       "4"
      ]
     },
     "execution_count": 20,
     "metadata": {},
     "output_type": "execute_result"
    }
   ],
   "source": [
    "large_lst([1,2,3,4])"
   ]
  },
  {
   "cell_type": "raw",
   "id": "eed0aa9f",
   "metadata": {},
   "source": [
    "5. Write a Python program to find second largest number in a list?"
   ]
  },
  {
   "cell_type": "code",
   "execution_count": 26,
   "id": "24163bd9",
   "metadata": {},
   "outputs": [],
   "source": [
    "def sec_large_lst(lst):\n",
    "    lst.sort(reverse=True)\n",
    "    return lst[1]"
   ]
  },
  {
   "cell_type": "code",
   "execution_count": 27,
   "id": "607ad0c1",
   "metadata": {},
   "outputs": [
    {
     "data": {
      "text/plain": [
       "8"
      ]
     },
     "execution_count": 27,
     "metadata": {},
     "output_type": "execute_result"
    }
   ],
   "source": [
    "sec_large_lst([1,4,3,5,4,8,6,9])"
   ]
  },
  {
   "cell_type": "raw",
   "id": "6b3d9e24",
   "metadata": {},
   "source": [
    "6. Write a Python program to find N largest elements from a list?"
   ]
  },
  {
   "cell_type": "code",
   "execution_count": 28,
   "id": "4658a4f4",
   "metadata": {},
   "outputs": [],
   "source": [
    "def N_large_lst(lst,n):\n",
    "    lst.sort(reverse=True)\n",
    "    return lst[0:n]"
   ]
  },
  {
   "cell_type": "code",
   "execution_count": 30,
   "id": "090cb0fc",
   "metadata": {},
   "outputs": [
    {
     "data": {
      "text/plain": [
       "[9, 8, 6, 5]"
      ]
     },
     "execution_count": 30,
     "metadata": {},
     "output_type": "execute_result"
    }
   ],
   "source": [
    "N_large_lst([1,4,3,5,4,8,6,9],4)"
   ]
  },
  {
   "cell_type": "raw",
   "id": "1e079d84",
   "metadata": {},
   "source": [
    "7. Write a Python program to print even numbers in a list?"
   ]
  },
  {
   "cell_type": "code",
   "execution_count": 31,
   "id": "cbbc0e82",
   "metadata": {},
   "outputs": [],
   "source": [
    "def evn_lst(lst):\n",
    "    evn=[]\n",
    "    for i in lst:\n",
    "        if i%2==0:\n",
    "            evn.append(i)\n",
    "    for i in evn:\n",
    "        print(i)\n",
    "            "
   ]
  },
  {
   "cell_type": "code",
   "execution_count": 32,
   "id": "8d2046cb",
   "metadata": {},
   "outputs": [
    {
     "name": "stdout",
     "output_type": "stream",
     "text": [
      "4\n",
      "4\n",
      "8\n",
      "6\n"
     ]
    }
   ],
   "source": [
    "evn_lst([1,4,3,5,4,8,6,9])"
   ]
  },
  {
   "cell_type": "raw",
   "id": "c7b4c20c",
   "metadata": {},
   "source": [
    "8. Write a Python program to print odd numbers in a List?"
   ]
  },
  {
   "cell_type": "code",
   "execution_count": 34,
   "id": "62440d2d",
   "metadata": {},
   "outputs": [],
   "source": [
    "def odd_lst(lst):\n",
    "    odd=[]\n",
    "    for i in lst:\n",
    "        if i%2!=0:\n",
    "            odd.append(i)\n",
    "    for i in odd:\n",
    "        print(i)"
   ]
  },
  {
   "cell_type": "code",
   "execution_count": 35,
   "id": "65165bfe",
   "metadata": {},
   "outputs": [
    {
     "name": "stdout",
     "output_type": "stream",
     "text": [
      "1\n",
      "3\n",
      "5\n",
      "9\n"
     ]
    }
   ],
   "source": [
    "odd_lst([1,4,3,5,4,8,6,9])"
   ]
  },
  {
   "cell_type": "raw",
   "id": "7b9e07f6",
   "metadata": {},
   "source": [
    "9. Write a Python program to Remove empty List from List?"
   ]
  },
  {
   "cell_type": "code",
   "execution_count": 83,
   "id": "08c2ca25",
   "metadata": {},
   "outputs": [],
   "source": [
    "def emp_lst(lst):\n",
    "    l=lst.copy()\n",
    "    for i in lst:\n",
    "        if (type(i)==list) and (len(i)==0):\n",
    "            l.remove(i)\n",
    "    return l\n",
    "            "
   ]
  },
  {
   "cell_type": "code",
   "execution_count": 84,
   "id": "0ed8ee19",
   "metadata": {},
   "outputs": [
    {
     "data": {
      "text/plain": [
       "[1, 4, 3, 5, 4, 8, 6, 9, [90776, 6, 67, 0]]"
      ]
     },
     "execution_count": 84,
     "metadata": {},
     "output_type": "execute_result"
    }
   ],
   "source": [
    "emp_lst([1,4,3,5,4,8,6,9,[],[],[90776,6,67,0]])"
   ]
  },
  {
   "cell_type": "raw",
   "id": "cc2eae47",
   "metadata": {},
   "source": [
    "10. Write a Python program to Cloning or Copying a list?"
   ]
  },
  {
   "cell_type": "code",
   "execution_count": 85,
   "id": "f9b7d897",
   "metadata": {},
   "outputs": [],
   "source": [
    "def copy_lst(lst):\n",
    "    list_c=[]\n",
    "    for i in lst:\n",
    "        list_c.append(i)\n",
    "    return list_c"
   ]
  },
  {
   "cell_type": "code",
   "execution_count": 87,
   "id": "a06ff92d",
   "metadata": {},
   "outputs": [
    {
     "data": {
      "text/plain": [
       "[1, 4, 3, 5, 4, 8, 6, 9, [], [], [90776, 6, 67, 0]]"
      ]
     },
     "execution_count": 87,
     "metadata": {},
     "output_type": "execute_result"
    }
   ],
   "source": [
    "copy_lst([1,4,3,5,4,8,6,9,[],[],[90776,6,67,0]])"
   ]
  },
  {
   "cell_type": "raw",
   "id": "1aa58aec",
   "metadata": {},
   "source": [
    "11. Write a Python program to Count occurrences of an element in a list?"
   ]
  },
  {
   "cell_type": "code",
   "execution_count": 88,
   "id": "112ea56c",
   "metadata": {},
   "outputs": [],
   "source": [
    "def count_lst(lst,ele):\n",
    "    count=0\n",
    "    for i in lst:\n",
    "        if i==ele:\n",
    "            count+=1\n",
    "    return count"
   ]
  },
  {
   "cell_type": "code",
   "execution_count": 90,
   "id": "9d70e296",
   "metadata": {},
   "outputs": [
    {
     "data": {
      "text/plain": [
       "2"
      ]
     },
     "execution_count": 90,
     "metadata": {},
     "output_type": "execute_result"
    }
   ],
   "source": [
    "count_lst([1,4,3,5,4,8,6,9,[],[],[90776,6,67,0]],4)"
   ]
  },
  {
   "cell_type": "code",
   "execution_count": null,
   "id": "46b3e8b7",
   "metadata": {},
   "outputs": [],
   "source": []
  }
 ],
 "metadata": {
  "kernelspec": {
   "display_name": "Python 3 (ipykernel)",
   "language": "python",
   "name": "python3"
  },
  "language_info": {
   "codemirror_mode": {
    "name": "ipython",
    "version": 3
   },
   "file_extension": ".py",
   "mimetype": "text/x-python",
   "name": "python",
   "nbconvert_exporter": "python",
   "pygments_lexer": "ipython3",
   "version": "3.8.8"
  }
 },
 "nbformat": 4,
 "nbformat_minor": 5
}
