{
 "cells": [
  {
   "cell_type": "raw",
   "id": "1067e3aa",
   "metadata": {},
   "source": [
    "1. What does RGBA stand for?\n",
    "\n",
    "RGBA stands for red, green, blue, and alpha (transparency) in the color\n",
    "An RGBA value is a tuple of 4 integers, each ranging from 0 to 255. The four integers correspond \n",
    "to the amount of red, green, blue, and alpha (transparency) in the color"
   ]
  },
  {
   "cell_type": "raw",
   "id": "ad3d82e6",
   "metadata": {},
   "source": [
    "2. From the Pillow module, how do you get the RGBA value of any images?\n"
   ]
  },
  {
   "cell_type": "code",
   "execution_count": 1,
   "id": "72e90e13",
   "metadata": {},
   "outputs": [
    {
     "data": {
      "text/plain": [
       "(255, 0, 0, 255)"
      ]
     },
     "execution_count": 1,
     "metadata": {},
     "output_type": "execute_result"
    }
   ],
   "source": [
    "from PIL import ImageColor\n",
    "ImageColor.getcolor('red', 'RGBA')\n"
   ]
  },
  {
   "cell_type": "code",
   "execution_count": 2,
   "id": "45c5c3ae",
   "metadata": {},
   "outputs": [
    {
     "data": {
      "text/plain": [
       "(0, 128, 0, 255)"
      ]
     },
     "execution_count": 2,
     "metadata": {},
     "output_type": "execute_result"
    }
   ],
   "source": [
    "ImageColor.getcolor('green', 'RGBA')"
   ]
  },
  {
   "cell_type": "raw",
   "id": "3066d118",
   "metadata": {},
   "source": [
    "3. What is a box tuple, and how does it work?\n",
    "\n",
    "A box tuple is a tuple value of four integers: the left edge x-coordinate, the top edge y-coordinate, the width, and the height, respectively"
   ]
  },
  {
   "cell_type": "raw",
   "id": "53882abc",
   "metadata": {},
   "source": [
    "4. Use your image and load in notebook then, How can you find out the width and height of an Image object?\n"
   ]
  },
  {
   "cell_type": "code",
   "execution_count": 71,
   "id": "b573c5f9",
   "metadata": {},
   "outputs": [
    {
     "data": {
      "text/plain": [
       "(400, 400)"
      ]
     },
     "execution_count": 71,
     "metadata": {},
     "output_type": "execute_result"
    }
   ],
   "source": [
    "from PIL import Image\n",
    "myImg = Image.open('a.jpg')\n",
    "w,h = myImg.size\n",
    "w,h"
   ]
  },
  {
   "cell_type": "raw",
   "id": "0543a37f",
   "metadata": {},
   "source": [
    "5. What method would you call to get Image object for a 100×100 image, excluding the lower-left quarter of it?\n",
    "## blank image\n",
    "m = Image.new('RGBA', (100, 100))\n",
    "\n",
    "## open 100x100 image\n",
    "myImg = Image.open('a.jpg')\n",
    "\n",
    "## get top half\n",
    "new=myImg.crop((0,0,100,50))\n",
    "\n",
    "## get right lower quarter\n",
    "new2=myImg.crop((50, 50, 100, 100))\n",
    "\n",
    "## copy both to blank image hence get output ignoring left lower quarter\n",
    "im.paste(new,(0,0))\n",
    "im.paste(new2,(50,50))\n"
   ]
  },
  {
   "cell_type": "code",
   "execution_count": 78,
   "id": "7832c6e0",
   "metadata": {},
   "outputs": [
    {
     "data": {
      "image/png": "[encoded data removed]",
      "text/plain": [
       "<PIL.JpegImagePlugin.JpegImageFile image mode=RGB size=400x400 at 0x19392C3C820>"
      ]
     },
     "metadata": {},
     "output_type": "display_data"
    }
   ],
   "source": [
    "myImg = Image.open('a.jpg')\n",
    "display(myImg)"
   ]
  },
  {
   "cell_type": "code",
   "execution_count": 79,
   "id": "98153cb1",
   "metadata": {},
   "outputs": [
    {
     "data": {
      "image/png": "[encoded data removed]",
      "text/plain": [
       "<PIL.Image.Image image mode=RGBA size=400x400 at 0x19392E517C0>"
      ]
     },
     "metadata": {},
     "output_type": "display_data"
    }
   ],
   "source": [
    "im = Image.new('RGBA', (400, 400))\n",
    "new=myImg.crop((0,0,400,200))\n",
    "new2=myImg.crop((200, 200, 400, 400))\n",
    "im.paste(new,(0,0))\n",
    "im.paste(new2,(200,200))\n",
    "display(im)"
   ]
  },
  {
   "cell_type": "raw",
   "id": "e48ea8f6",
   "metadata": {},
   "source": [
    "6. After making changes to an Image object, how could you save it as an image file?\n",
    "\n",
    "By Calling the imageObj.save('new_filename.png') method of the Image object."
   ]
  },
  {
   "cell_type": "raw",
   "id": "9c7cd09f",
   "metadata": {},
   "source": [
    "7. What module contains Pillow’s shape-drawing code?\n",
    "\n",
    "    The ImageDraw module contains code to draw on images"
   ]
  },
  {
   "cell_type": "raw",
   "id": "0b23069a",
   "metadata": {},
   "source": [
    "8. Image objects do not have drawing methods. What kind of object does? How do you get this kind of object?\n",
    "\n",
    "\n",
    "ImageDraw objects has drawing methods \n",
    "\n",
    "such as point(), line(), or rectangle(). \n",
    "\n",
    "They are returned by passing the Image object to the ImageDraw.Draw() function"
   ]
  },
  {
   "cell_type": "code",
   "execution_count": null,
   "id": "f44dcb6c",
   "metadata": {},
   "outputs": [],
   "source": []
  },
  {
   "cell_type": "code",
   "execution_count": null,
   "id": "3e2d3ae4",
   "metadata": {},
   "outputs": [],
   "source": []
  }
 ],
 "metadata": {
  "kernelspec": {
   "display_name": "Python 3 (ipykernel)",
   "language": "python",
   "name": "python3"
  },
  "language_info": {
   "codemirror_mode": {
    "name": "ipython",
    "version": 3
   },
   "file_extension": ".py",
   "mimetype": "text/x-python",
   "name": "python",
   "nbconvert_exporter": "python",
   "pygments_lexer": "ipython3",
   "version": "3.8.8"
  }
 },
 "nbformat": 4,
 "nbformat_minor": 5
}
