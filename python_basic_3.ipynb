{
 "cells": [
  {
   "cell_type": "raw",
   "id": "25eb68e7",
   "metadata": {},
   "source": [
    "1. Why are functions advantageous to have in your programs?"
   ]
  },
  {
   "cell_type": "raw",
   "id": "e2e70bc0",
   "metadata": {},
   "source": [
    "The advantages of using functions are:\n",
    "    Avoid repetition of codes.\n",
    "    Increases program readability and modularity\n",
    "    Divide a complex problem into simpler ones.\n",
    "    Reduces chances of error.\n",
    "    Modifying a program becomes easier by using function."
   ]
  },
  {
   "cell_type": "raw",
   "id": "5233e6de",
   "metadata": {},
   "source": [
    "2. When does the code in a function run: when it's specified or when it's called?"
   ]
  },
  {
   "cell_type": "raw",
   "id": "1d5e7e01",
   "metadata": {},
   "source": [
    "The code in function runs when its called"
   ]
  },
  {
   "cell_type": "raw",
   "id": "2b2a01fb",
   "metadata": {},
   "source": [
    "3. What statement creates a function?"
   ]
  },
  {
   "cell_type": "raw",
   "id": "99f33f45",
   "metadata": {},
   "source": [
    "The def key word followed by name of function with its arguments stored inside paranthesis followed by a colon(:)  creates a funciton\n",
    "example:\n",
    "def functionName():\n",
    "    pass"
   ]
  },
  {
   "cell_type": "raw",
   "id": "992b1753",
   "metadata": {},
   "source": [
    "4. What is the difference between a function and a function call?"
   ]
  },
  {
   "cell_type": "raw",
   "id": "fe27eb01",
   "metadata": {},
   "source": [
    "A function : is a block of code that does a particular operation and returns a result. It usually accepts inputs as parameters and returns a result. The parameters are not mandatory. It wont execute unless called in the program\n",
    "example:\n",
    "def functionName():\n",
    "    pass\n",
    "\n",
    "A Function call : is the code used to pass control to a function by calling the name of function followed by requrired arguments enclosed in parathesis\n",
    "example:\n",
    "assign = functionName(a,b)\n"
   ]
  },
  {
   "cell_type": "raw",
   "id": "664705a2",
   "metadata": {},
   "source": [
    "5. How many global scopes are there in a Python program? How many local scopes?"
   ]
  },
  {
   "cell_type": "raw",
   "id": "789ead23",
   "metadata": {},
   "source": [
    "one global scope, and a local scope is created whenever a function is called.\n",
    "\n",
    "There are two types of scope in python : global and local\n",
    "variables with global scope can be accessed anywhere in the program\n",
    "where as variable with local scope can not be accessed globally but only where it is defined for example inside a function"
   ]
  },
  {
   "cell_type": "raw",
   "id": "c68c0d0f",
   "metadata": {},
   "source": [
    "6. What happens to variables in a local scope when the function call returns?"
   ]
  },
  {
   "cell_type": "raw",
   "id": "8763d53a",
   "metadata": {},
   "source": [
    "Variables in local scope are destroyed once the execution of function completes hence it cant be used anywhere else in program\n",
    "\n",
    "When function is called again the variable is created again in a different memory location"
   ]
  },
  {
   "cell_type": "raw",
   "id": "d37d6f20",
   "metadata": {},
   "source": [
    "7. What is the concept of a return value? Is it possible to have a return value in an expression?"
   ]
  },
  {
   "cell_type": "raw",
   "id": "1d5efde8",
   "metadata": {},
   "source": [
    "A return statement is used to end the execution of the function call and “returns” the result (value of the expression following the return keyword) to the caller. The statements after the return statements are not executed. If the return statement is without any expression, then the special value None is returned. A return statement is overall used to invoke a function so that the passed statements can be executed.\n",
    "\n",
    "return value can only be used in functions so expression cannot have a return value\n"
   ]
  },
  {
   "cell_type": "raw",
   "id": "018df40d",
   "metadata": {},
   "source": [
    "8. If a function does not have a return statement, what is the return value of a call to that function?"
   ]
  },
  {
   "cell_type": "code",
   "execution_count": 1,
   "id": "5c2efc41",
   "metadata": {},
   "outputs": [],
   "source": [
    "None"
   ]
  },
  {
   "cell_type": "raw",
   "id": "fd676051",
   "metadata": {},
   "source": [
    "9. How do you make a function variable refer to the global variable?"
   ]
  },
  {
   "cell_type": "raw",
   "id": "4da3986f",
   "metadata": {},
   "source": [
    "we can use global key word as prefix while declaring the variable inside a function so that it can be used globally\n",
    "def functionName():\n",
    "    global name=\"prakhyath\"\n",
    "    return None\n"
   ]
  },
  {
   "cell_type": "raw",
   "id": "95814f2f",
   "metadata": {},
   "source": [
    "10. What is the data type of None?"
   ]
  },
  {
   "cell_type": "code",
   "execution_count": 3,
   "id": "268c601f",
   "metadata": {},
   "outputs": [
    {
     "data": {
      "text/plain": [
       "NoneType"
      ]
     },
     "execution_count": 3,
     "metadata": {},
     "output_type": "execute_result"
    }
   ],
   "source": [
    "## The data type of none is NoneType\n",
    "type(None)"
   ]
  },
  {
   "cell_type": "raw",
   "id": "43de3963",
   "metadata": {},
   "source": [
    "11. What does the sentence import areallyourpetsnamederic do?"
   ]
  },
  {
   "cell_type": "raw",
   "id": "a5ab252f",
   "metadata": {},
   "source": [
    "That import statement imports a module named areallyourpetsnamederic."
   ]
  },
  {
   "cell_type": "raw",
   "id": "6e2da25e",
   "metadata": {},
   "source": [
    "12. If you had a bacon() feature in a spam module, what would you call it after importing spam?"
   ]
  },
  {
   "cell_type": "raw",
   "id": "60666955",
   "metadata": {},
   "source": [
    "This function can be called with spam.bacon() as shown  below:\n",
    "    import spam\n",
    "    spam.bacon()"
   ]
  },
  {
   "cell_type": "raw",
   "id": "6a12c222",
   "metadata": {},
   "source": [
    "13. What can you do to save a programme from crashing if it encounters an error?"
   ]
  },
  {
   "cell_type": "raw",
   "id": "6d252ec4",
   "metadata": {},
   "source": [
    "we can write lines of code in try block. This will not crash the programme. And in except block we can catch the exception"
   ]
  },
  {
   "cell_type": "raw",
   "id": "4808e26d",
   "metadata": {},
   "source": [
    "14. What is the purpose of the try clause? What is the purpose of the except clause?"
   ]
  },
  {
   "cell_type": "raw",
   "id": "b817edbe",
   "metadata": {},
   "source": [
    "The code that could potentially cause an error goes in the try clause.\n",
    "\n",
    "The code that executes if an error happens goes in the except clause."
   ]
  },
  {
   "cell_type": "code",
   "execution_count": null,
   "id": "837b1a50",
   "metadata": {},
   "outputs": [],
   "source": []
  }
 ],
 "metadata": {
  "kernelspec": {
   "display_name": "Python 3 (ipykernel)",
   "language": "python",
   "name": "python3"
  },
  "language_info": {
   "codemirror_mode": {
    "name": "ipython",
    "version": 3
   },
   "file_extension": ".py",
   "mimetype": "text/x-python",
   "name": "python",
   "nbconvert_exporter": "python",
   "pygments_lexer": "ipython3",
   "version": "3.8.8"
  }
 },
 "nbformat": 4,
 "nbformat_minor": 5
}
