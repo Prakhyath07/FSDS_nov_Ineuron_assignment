{
 "cells": [
  {
   "cell_type": "raw",
   "id": "be0167ad",
   "metadata": {},
   "source": [
    "1. Create a function that takes a list and returns a new list containing only\n",
    "prime numbers.\n",
    "Examples\n",
    "filter_primes([7, 9, 3, 9, 10, 11, 27]) ➞ [7, 3, 11]\n",
    "filter_primes([10007, 1009, 1007, 27, 147, 77, 1001, 70]) ➞ [10007, 1009]\n",
    "filter_primes([1009, 10, 10, 10, 3, 33, 9, 4, 1, 61, 63, 69, 1087, 1091, 1093,\n",
    "1097]) ➞ [1009, 3, 61, 1087, 1091, 1093, 1097]"
   ]
  },
  {
   "cell_type": "code",
   "execution_count": 1,
   "id": "60f165a1",
   "metadata": {},
   "outputs": [],
   "source": [
    "\n",
    "    \n",
    "def filter_primes(lst):\n",
    "    def isPrime(num1): \n",
    "        if num1 > 1:\n",
    "            for i in range(2,num1):\n",
    "                if (num1%i) == 0:               \n",
    "                    break\n",
    "            else:\n",
    "                return True\n",
    "        else:\n",
    "            return False\n",
    "    new_lst = [i for i in lst if isPrime(i)]\n",
    "    return new_lst"
   ]
  },
  {
   "cell_type": "code",
   "execution_count": 2,
   "id": "203f1d0f",
   "metadata": {},
   "outputs": [
    {
     "data": {
      "text/plain": [
       "[7, 3, 11]"
      ]
     },
     "execution_count": 2,
     "metadata": {},
     "output_type": "execute_result"
    }
   ],
   "source": [
    "filter_primes([7, 9, 3, 9, 10, 11, 27])"
   ]
  },
  {
   "cell_type": "code",
   "execution_count": 3,
   "id": "aae4fbe2",
   "metadata": {},
   "outputs": [
    {
     "data": {
      "text/plain": [
       "[10007, 1009]"
      ]
     },
     "execution_count": 3,
     "metadata": {},
     "output_type": "execute_result"
    }
   ],
   "source": [
    "filter_primes([10007, 1009, 1007, 27, 147, 77, 1001, 70])"
   ]
  },
  {
   "cell_type": "code",
   "execution_count": 4,
   "id": "33fdb9e7",
   "metadata": {},
   "outputs": [
    {
     "data": {
      "text/plain": [
       "[1009, 3, 61, 1087, 1091, 1093, 1097]"
      ]
     },
     "execution_count": 4,
     "metadata": {},
     "output_type": "execute_result"
    }
   ],
   "source": [
    "filter_primes([1009, 10, 10, 10, 3, 33, 9, 4, 1, 61, 63, 69, 1087, 1091, 1093,\n",
    "1097])"
   ]
  },
  {
   "cell_type": "raw",
   "id": "3db7f848",
   "metadata": {},
   "source": [
    "2. Once a water balloon pops, is soaks the area around it. The ground gets\n",
    "drier the further away you travel from the balloon.\n",
    "The effect of a water balloon popping can be modeled using a list. Create a\n",
    "function that takes a list which takes the pre-pop state and returns the state\n",
    "after the balloon is popped. The pre-pop state will contain at most a single\n",
    "balloon, whose size is represented by the only non-zero element.\n",
    "Examples\n",
    "pop([0, 0, 0, 0, 4, 0, 0, 0, 0]) ➞ [0, 1, 2, 3, 4, 3, 2, 1, 0]\n",
    "pop([0, 0, 0, 3, 0, 0, 0]) ➞ [0, 1, 2, 3, 2, 1, 0]\n",
    "pop([0, 0, 2, 0, 0]) ➞ [0, 1, 2, 1, 0]\n",
    "pop([0]) ➞ [0]"
   ]
  },
  {
   "cell_type": "code",
   "execution_count": 29,
   "id": "65044da4",
   "metadata": {},
   "outputs": [],
   "source": [
    "def pop(lst):\n",
    "    tl=len(lst)\n",
    "    if tl==1:\n",
    "        return lst\n",
    "    else:\n",
    "        mid=(tl//2)\n",
    "        \n",
    "        mid_val=lst[mid]\n",
    "     \n",
    "        for i in range(1,mid):\n",
    "\n",
    "            mid_val+=-1\n",
    "           \n",
    "            lst[mid-i]=mid_val\n",
    "            lst[mid+i]=mid_val\n",
    "        return lst\n",
    "    "
   ]
  },
  {
   "cell_type": "code",
   "execution_count": 30,
   "id": "9ea1b13a",
   "metadata": {},
   "outputs": [
    {
     "data": {
      "text/plain": [
       "[0, 1, 2, 3, 4, 3, 2, 1, 0]"
      ]
     },
     "execution_count": 30,
     "metadata": {},
     "output_type": "execute_result"
    }
   ],
   "source": [
    "pop([0, 0, 0, 0, 4, 0, 0, 0, 0])"
   ]
  },
  {
   "cell_type": "code",
   "execution_count": 31,
   "id": "dc853070",
   "metadata": {},
   "outputs": [
    {
     "data": {
      "text/plain": [
       "[0, 1, 2, 3, 2, 1, 0]"
      ]
     },
     "execution_count": 31,
     "metadata": {},
     "output_type": "execute_result"
    }
   ],
   "source": [
    "pop([0, 0, 0, 3, 0, 0, 0])"
   ]
  },
  {
   "cell_type": "code",
   "execution_count": 32,
   "id": "be08f485",
   "metadata": {},
   "outputs": [
    {
     "data": {
      "text/plain": [
       "[0, 1, 2, 1, 0]"
      ]
     },
     "execution_count": 32,
     "metadata": {},
     "output_type": "execute_result"
    }
   ],
   "source": [
    "pop([0, 0, 2, 0, 0])"
   ]
  },
  {
   "cell_type": "code",
   "execution_count": 33,
   "id": "e44ad7c7",
   "metadata": {},
   "outputs": [
    {
     "data": {
      "text/plain": [
       "[0]"
      ]
     },
     "execution_count": 33,
     "metadata": {},
     "output_type": "execute_result"
    }
   ],
   "source": [
    "pop([0])"
   ]
  },
  {
   "cell_type": "raw",
   "id": "770192bb",
   "metadata": {},
   "source": [
    "3. 'Loves me, loves me not' is a traditional game in which a person plucks off\n",
    "all the petals of a flower one by one, saying the phrase 'Loves me' and\n",
    "'Loves me not' when determining whether the one that they love, loves them\n",
    "back.\n",
    "Given a number of petals, return a string which repeats the phrases 'Loves\n",
    "me' and 'Loves me not' for every alternating petal, and return the last phrase\n",
    "in all caps. Remember to put a comma and space between phrases.\n",
    "Examples\n",
    "loves_me(3) ➞ 'Loves me, Loves me not, LOVES ME'\n",
    "loves_me(6) ➞ 'Loves me, Loves me not, Loves me, Loves me not, Loves\n",
    "me, LOVES ME NOT'\n",
    "\n",
    "loves_me(1) ➞ 'LOVES ME'"
   ]
  },
  {
   "cell_type": "code",
   "execution_count": 47,
   "id": "8dcada51",
   "metadata": {},
   "outputs": [],
   "source": [
    "def loves_me(a):\n",
    "    lst=[]\n",
    "    i=1\n",
    "    while i<=a:\n",
    "        if i%2==0:\n",
    "            if i==a:\n",
    "                lst.append('LOVES ME NOT')\n",
    "            else:\n",
    "                lst.append('Loves me not,')\n",
    "        else:\n",
    "            if i==a:\n",
    "                lst.append('LOVES ME')\n",
    "            else:\n",
    "                lst.append('Loves me,')\n",
    "        i+=1\n",
    "    for i in lst:\n",
    "        print(i,end=' ')"
   ]
  },
  {
   "cell_type": "code",
   "execution_count": 48,
   "id": "e4d1eeaa",
   "metadata": {},
   "outputs": [
    {
     "name": "stdout",
     "output_type": "stream",
     "text": [
      "Loves me, Loves me not, LOVES ME "
     ]
    }
   ],
   "source": [
    "loves_me(3)"
   ]
  },
  {
   "cell_type": "code",
   "execution_count": 49,
   "id": "bf113f02",
   "metadata": {},
   "outputs": [
    {
     "name": "stdout",
     "output_type": "stream",
     "text": [
      "Loves me, Loves me not, Loves me, Loves me not, Loves me, LOVES ME NOT "
     ]
    }
   ],
   "source": [
    "loves_me(6)"
   ]
  },
  {
   "cell_type": "code",
   "execution_count": 51,
   "id": "1f31cce6",
   "metadata": {},
   "outputs": [
    {
     "name": "stdout",
     "output_type": "stream",
     "text": [
      "LOVES ME "
     ]
    }
   ],
   "source": [
    "loves_me(1)"
   ]
  },
  {
   "cell_type": "raw",
   "id": "3d4f1308",
   "metadata": {},
   "source": [
    "4. Write a function that sorts each string in a list by the letter in alphabetic\n",
    "ascending order (a-z).\n",
    "Examples\n",
    "sort_by_letter(['932c', '832u32', '2344b'])\n",
    "➞ ['2344b', '932c', '832u32']\n",
    "sort_by_letter(['99a', '78b', 'c2345', '11d'])\n",
    "➞ ['99a', '78b', 'c2345', '11d']\n",
    "sort_by_letter(['572z', '5y5', '304q2'])\n",
    "➞ ['304q2', '5y5', '572z']\n",
    "sort_by_letter([])\n",
    "➞ []"
   ]
  },
  {
   "cell_type": "code",
   "execution_count": 52,
   "id": "91a37d9e",
   "metadata": {},
   "outputs": [],
   "source": [
    "\n",
    "def sort_by_letter(l):\n",
    "    def f_l(w):\n",
    "        for j in w:\n",
    "            if j.isalpha():\n",
    "                x=j\n",
    "        return x\n",
    "\n",
    "\n",
    "    if len(l)>0:\n",
    "        m = l[0]\n",
    "        for i in range(len(l)-1):\n",
    "            for j in range(i+1,len(l)):\n",
    "                if ord(f_l(l[i])) > ord(f_l(l[j])):\n",
    "                    temp = l[i]\n",
    "                    l[i]=l[j]\n",
    "                    l[j]=temp\n",
    "    return l"
   ]
  },
  {
   "cell_type": "code",
   "execution_count": 53,
   "id": "3a53ac41",
   "metadata": {},
   "outputs": [
    {
     "data": {
      "text/plain": [
       "['2344b', '932c', '832u32']"
      ]
     },
     "execution_count": 53,
     "metadata": {},
     "output_type": "execute_result"
    }
   ],
   "source": [
    "sort_by_letter(['932c', '832u32', '2344b'])"
   ]
  },
  {
   "cell_type": "code",
   "execution_count": 54,
   "id": "3a1db77f",
   "metadata": {},
   "outputs": [
    {
     "data": {
      "text/plain": [
       "['99a', '78b', 'c2345', '11d']"
      ]
     },
     "execution_count": 54,
     "metadata": {},
     "output_type": "execute_result"
    }
   ],
   "source": [
    "sort_by_letter(['99a', '78b', 'c2345', '11d'])"
   ]
  },
  {
   "cell_type": "code",
   "execution_count": 55,
   "id": "6b9a744c",
   "metadata": {},
   "outputs": [
    {
     "data": {
      "text/plain": [
       "['304q2', '5y5', '572z']"
      ]
     },
     "execution_count": 55,
     "metadata": {},
     "output_type": "execute_result"
    }
   ],
   "source": [
    "sort_by_letter(['572z', '5y5', '304q2'])"
   ]
  },
  {
   "cell_type": "code",
   "execution_count": 56,
   "id": "69725571",
   "metadata": {},
   "outputs": [
    {
     "data": {
      "text/plain": [
       "[]"
      ]
     },
     "execution_count": 56,
     "metadata": {},
     "output_type": "execute_result"
    }
   ],
   "source": [
    "sort_by_letter([])"
   ]
  },
  {
   "cell_type": "raw",
   "id": "c85dc2ff",
   "metadata": {},
   "source": [
    "5. There are three cups on a table, at positions A, B, and C. At the start, there\n",
    "is a ball hidden under the cup at position B.\n",
    "\n",
    "However, I perform several swaps on the cups, which is notated as two\n",
    "letters. For example, if I swap the cups at positions A and B, I could notate\n",
    "this as AB or BA.\n",
    "Create a function that returns the letter position that the ball is at, once I finish\n",
    "swapping the cups. The swaps will be given to you as a list.\n",
    "\n",
    "Example\n",
    "cup_swapping(['AB', 'CA', 'AB']) ➞ 'C'\n",
    "# Ball begins at position B.\n",
    "# Cups A and B swap, so the ball is at position A.\n",
    "# Cups C and A swap, so the ball is at position C.\n",
    "# Cups A and B swap, but the ball is at position C, so it doesn't move."
   ]
  },
  {
   "cell_type": "code",
   "execution_count": 67,
   "id": "c5917d1c",
   "metadata": {},
   "outputs": [],
   "source": [
    "def cup_swapping(lst):\n",
    "    B='B'\n",
    "    for i in lst:\n",
    "        if B in i:\n",
    "            B= i.replace(B,\"\")\n",
    "    return B"
   ]
  },
  {
   "cell_type": "code",
   "execution_count": 70,
   "id": "750e9006",
   "metadata": {},
   "outputs": [
    {
     "data": {
      "text/plain": [
       "'A'"
      ]
     },
     "execution_count": 70,
     "metadata": {},
     "output_type": "execute_result"
    }
   ],
   "source": [
    "cup_swapping(['AB', 'CB', 'CB'])"
   ]
  },
  {
   "cell_type": "code",
   "execution_count": 71,
   "id": "e5758e49",
   "metadata": {},
   "outputs": [
    {
     "data": {
      "text/plain": [
       "'C'"
      ]
     },
     "execution_count": 71,
     "metadata": {},
     "output_type": "execute_result"
    }
   ],
   "source": [
    "cup_swapping(['AB', 'CA', 'AB'])"
   ]
  },
  {
   "cell_type": "code",
   "execution_count": null,
   "id": "feafdd7c",
   "metadata": {},
   "outputs": [],
   "source": []
  }
 ],
 "metadata": {
  "kernelspec": {
   "display_name": "Python 3 (ipykernel)",
   "language": "python",
   "name": "python3"
  },
  "language_info": {
   "codemirror_mode": {
    "name": "ipython",
    "version": 3
   },
   "file_extension": ".py",
   "mimetype": "text/x-python",
   "name": "python",
   "nbconvert_exporter": "python",
   "pygments_lexer": "ipython3",
   "version": "3.8.8"
  }
 },
 "nbformat": 4,
 "nbformat_minor": 5
}
