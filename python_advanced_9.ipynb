{
 "cells": [
  {
   "cell_type": "raw",
   "id": "75856e2e",
   "metadata": {},
   "source": [
    "Q1. In Python 3.X, what are the names and functions of string object types?\n",
    "\n",
    "Ans: The following are the names and functions of string object types in Python 3.X\n",
    "\n",
    "<stirng>.isdecimal() -> Returns True if all characters in a string are decimal.\n",
    "<string>.isalnum() -> Returns True if all characters in the string are AlphaNumeric.\n",
    "<string>.istitle() -> Returns True if first character in a string is in Uppercase.\n",
    "<string>.partition(<sub_string>) -> Splits string at first occurance of sub string and returns a tuple of 3 elements.\n",
    "<string>.rpartition(<sub_string>) -> Splits string at last occurance of sub string and returns a tuple of 3 elements.\n",
    "<string>.isidentifier() -> Returns True if give string is a valid identifier name.\n",
    "len(<string>) -> Returns the length of the given string.\n",
    "<string>.index(<sub_string>) -> Returns the lowest index of substring if substring is found in the string.\n",
    "<string>.rindex(<sub_string>) -> Returns the highest index of substring if substring is found in the string.\n",
    "max(<string>) -> Returns the highest Alphabetical Character in the string as per ASCII.\n",
    "min(<string>) -> Returns the lowest Alphabetical Character in the string as per ASCII.\n",
    "<string>.splitlines() -> Returns a list of lines in the string.\n",
    "<string>.capitalize() -> Returns the string with first character capitalized.\n",
    "<string>.upper() -> Returns the string with all characters in uppercase.\n",
    "<string>.lower() -> Returns the string with all characters in lowercase\n",
    "<string>.casefold() -> Returns the string in lowercase which can be used for caseless comparisions.\n",
    "<string>.expandtabs(no_of_spaces) -> Replaces tabs in a string with specified no of spaces default is 8\n",
    "<string>.find(<sub_string>) -> Returns lowest index of substring if substring is found in the string else returns -1.\n",
    "<string>.rfind(<sub_string>) -> Returns highest index of substring if substring is found in the string else returns -1.\n",
    "<string>.count(<char>) -> Returns the no of occurances of the char in the given string.\n",
    "<string>.split(<sep>) -> Returns list of words seperated by given sep else seperated by whitespace.\n",
    "<string>.rsplit(<sep>) -> Returns list of words seperated by given sep else seperated by whitespace scanning from end.\n",
    "<string>.lstrip() -> Returns a copy of where leading whitespaces are removed.\n",
    "<string>.rstrip() -> Returns a copy of where trailed whitespaces are removed.\n",
    "<string>.strip() -> Returns a copy of where both leading and trailing whitespaces are removed.\n",
    "<string>.swapcase() -> Swaps lowercase characters with uppercase and vice versa.\n",
    "<sep>.join(<list>) -> Concatenates a list or tuple of words with intervening occuernces of sep.\n",
    "<string>.translate(<mapping_table>) -> translates the characters using table.\n",
    "<string>.maketrans(<dict>) -> Creating a mapping translation tbale usable for <string>.translate(<mapping_table>)\n",
    "<string>.replace(<char_1>,<char_2>) -> Replace all occurances of char_1 with char_2 in string.\n",
    "<string>.encode() -> Encodes string into any encoding supported by python. Default encoding is UTF-8.\n",
    "<string>.ljust(<no_of_spaces>) -> Left-justify in a field of given width.\n",
    "<string>.rjust(<no_of_spaces>) -> Right-justify in a field of given width.\n",
    "<string>.center(<no_of_spaces>) -> Center-justify in a field of given width.\n",
    "<stirng>.zfill(<length>) -> Zfill adds zeros to the begining of string until the specified length is reached."
   ]
  },
  {
   "cell_type": "raw",
   "id": "6560eb52",
   "metadata": {},
   "source": [
    "Q2. How do the string forms in Python 3.X vary in terms of operations?\n",
    "\n",
    "\n",
    "In python 3.x\n",
    "Python string contains unicode string and byte string.\n",
    "\n",
    "str: unicode string\n",
    "\n",
    "s = '博客'\n",
    "print(s)\n",
    "print(type(s))\n",
    "\n",
    "The result is:\n",
    "\n",
    "博客\n",
    "<class 'str'>\n",
    "\n",
    "bytes: a byte string\n",
    "\n",
    "s = b'https://www.tutorialexample.com'\n",
    "print(s)\n",
    "print(type(s))\n",
    "The result is:\n",
    "\n",
    "b'https://www.tutorialexample.com'\n",
    "<class 'bytes'>\n",
    "\n",
    "You should notice:\n",
    "\n",
    "SyntaxError: bytes can only contain ASCII literal characters.\n",
    "\n",
    "so this is error:\n",
    "\n",
    "s = b'博客'\n",
    "\n",
    "\n",
    "In python 2.x\n",
    "str: is a byte string\n",
    "\n",
    "bytes: the same to str\n",
    "\n",
    "unicode: a unicode string, it can be create as u’博客’\n",
    "\n",
    "In summary, in python 3.x, string is a unicode string, however, string should be created with u as a unicode string in python 2.x."
   ]
  },
  {
   "cell_type": "raw",
   "id": "1b2ae7ed",
   "metadata": {},
   "source": [
    "Q3. In 3.X, how do you put non-ASCII Unicode characters in a string?"
   ]
  },
  {
   "cell_type": "code",
   "execution_count": 13,
   "id": "9f6c9296",
   "metadata": {},
   "outputs": [
    {
     "name": "stdout",
     "output_type": "stream",
     "text": [
      "False\n",
      "False\n",
      "False\n",
      "False\n",
      "False\n",
      "kožušček\n",
      "आप नीचे अपनी भाषा और इनपुट उपकरण चुनें और लिखना आरंभ करें\n",
      "谢谢你\n",
      "ありがとう。\n",
      "улыбаться Владимир Путин\n"
     ]
    }
   ],
   "source": [
    "print(u'ko\\u017eu\\u0161\\u010dek'.isascii())\n",
    "print(\"आप नीचे अपनी भाषा और इनपुट उपकरण चुनें और लिखना आरंभ करें\".isascii())\n",
    "print(\"谢谢你\".isascii())\n",
    "print(\"ありがとう。\".isascii())\n",
    "print(\"улыбаться Владимир Путин\".isascii())\n",
    "\n",
    "\n",
    "## all above are non ascii but can be printed directly\n",
    "print(u'ko\\u017eu\\u0161\\u010dek')\n",
    "print(\"आप नीचे अपनी भाषा और इनपुट उपकरण चुनें और लिखना आरंभ करें\")\n",
    "print(\"谢谢你\")\n",
    "print(\"ありがとう。\")\n",
    "print(\"улыбаться Владимир Путин\")"
   ]
  },
  {
   "cell_type": "code",
   "execution_count": 11,
   "id": "c638cdf2",
   "metadata": {},
   "outputs": [
    {
     "data": {
      "text/plain": [
       "True"
      ]
     },
     "execution_count": 11,
     "metadata": {},
     "output_type": "execute_result"
    }
   ],
   "source": [
    "\"1\".isascii()"
   ]
  },
  {
   "cell_type": "raw",
   "id": "e9b9aae0",
   "metadata": {},
   "source": [
    "In contrast to the same string s in Python 2.x, in this case s is already a Unicode string, and all strings in Python 3.x are automatically Unicode. The visible difference is that s wasn't changed after we instantiated it.\n",
    "\n",
    "But using the open method for writing to files in both branches will not allow for Unicode strings (that contain non-ASCII characters) to be written to files. In order to do this the strings must be encoded.\n",
    "we'd need to use str.encode and the wb (binary) mode for open to write the string to a file without causing an error.\n"
   ]
  },
  {
   "cell_type": "code",
   "execution_count": 14,
   "id": "f374fc7c",
   "metadata": {},
   "outputs": [
    {
     "ename": "UnicodeEncodeError",
     "evalue": "'charmap' codec can't encode characters in position 0-8: character maps to <undefined>",
     "output_type": "error",
     "traceback": [
      "\u001b[1;31m---------------------------------------------------------------------------\u001b[0m",
      "\u001b[1;31mUnicodeEncodeError\u001b[0m                        Traceback (most recent call last)",
      "\u001b[1;32m~\\AppData\\Local\\Temp/ipykernel_14988/1745324492.py\u001b[0m in \u001b[0;36m<module>\u001b[1;34m\u001b[0m\n\u001b[0;32m      1\u001b[0m \u001b[1;32mwith\u001b[0m \u001b[0mopen\u001b[0m\u001b[1;33m(\u001b[0m\u001b[1;34m'nonlat.txt'\u001b[0m\u001b[1;33m,\u001b[0m \u001b[1;34m'w'\u001b[0m\u001b[1;33m)\u001b[0m \u001b[1;32mas\u001b[0m \u001b[0mf\u001b[0m\u001b[1;33m:\u001b[0m\u001b[1;33m\u001b[0m\u001b[1;33m\u001b[0m\u001b[0m\n\u001b[1;32m----> 2\u001b[1;33m     \u001b[0mf\u001b[0m\u001b[1;33m.\u001b[0m\u001b[0mwrite\u001b[0m\u001b[1;33m(\u001b[0m\u001b[1;34m\"улыбаться Владимир Путин\"\u001b[0m\u001b[1;33m)\u001b[0m\u001b[1;33m\u001b[0m\u001b[1;33m\u001b[0m\u001b[0m\n\u001b[0m",
      "\u001b[1;32m~\\anaconda3\\lib\\encodings\\cp1252.py\u001b[0m in \u001b[0;36mencode\u001b[1;34m(self, input, final)\u001b[0m\n\u001b[0;32m     17\u001b[0m \u001b[1;32mclass\u001b[0m \u001b[0mIncrementalEncoder\u001b[0m\u001b[1;33m(\u001b[0m\u001b[0mcodecs\u001b[0m\u001b[1;33m.\u001b[0m\u001b[0mIncrementalEncoder\u001b[0m\u001b[1;33m)\u001b[0m\u001b[1;33m:\u001b[0m\u001b[1;33m\u001b[0m\u001b[1;33m\u001b[0m\u001b[0m\n\u001b[0;32m     18\u001b[0m     \u001b[1;32mdef\u001b[0m \u001b[0mencode\u001b[0m\u001b[1;33m(\u001b[0m\u001b[0mself\u001b[0m\u001b[1;33m,\u001b[0m \u001b[0minput\u001b[0m\u001b[1;33m,\u001b[0m \u001b[0mfinal\u001b[0m\u001b[1;33m=\u001b[0m\u001b[1;32mFalse\u001b[0m\u001b[1;33m)\u001b[0m\u001b[1;33m:\u001b[0m\u001b[1;33m\u001b[0m\u001b[1;33m\u001b[0m\u001b[0m\n\u001b[1;32m---> 19\u001b[1;33m         \u001b[1;32mreturn\u001b[0m \u001b[0mcodecs\u001b[0m\u001b[1;33m.\u001b[0m\u001b[0mcharmap_encode\u001b[0m\u001b[1;33m(\u001b[0m\u001b[0minput\u001b[0m\u001b[1;33m,\u001b[0m\u001b[0mself\u001b[0m\u001b[1;33m.\u001b[0m\u001b[0merrors\u001b[0m\u001b[1;33m,\u001b[0m\u001b[0mencoding_table\u001b[0m\u001b[1;33m)\u001b[0m\u001b[1;33m[\u001b[0m\u001b[1;36m0\u001b[0m\u001b[1;33m]\u001b[0m\u001b[1;33m\u001b[0m\u001b[1;33m\u001b[0m\u001b[0m\n\u001b[0m\u001b[0;32m     20\u001b[0m \u001b[1;33m\u001b[0m\u001b[0m\n\u001b[0;32m     21\u001b[0m \u001b[1;32mclass\u001b[0m \u001b[0mIncrementalDecoder\u001b[0m\u001b[1;33m(\u001b[0m\u001b[0mcodecs\u001b[0m\u001b[1;33m.\u001b[0m\u001b[0mIncrementalDecoder\u001b[0m\u001b[1;33m)\u001b[0m\u001b[1;33m:\u001b[0m\u001b[1;33m\u001b[0m\u001b[1;33m\u001b[0m\u001b[0m\n",
      "\u001b[1;31mUnicodeEncodeError\u001b[0m: 'charmap' codec can't encode characters in position 0-8: character maps to <undefined>"
     ]
    }
   ],
   "source": [
    "with open('nonlat.txt', 'w') as f:\n",
    "    f.write(\"улыбаться Владимир Путин\")"
   ]
  },
  {
   "cell_type": "code",
   "execution_count": 20,
   "id": "3abb1217",
   "metadata": {},
   "outputs": [],
   "source": [
    "with open('nonlat.txt', 'wb') as f:\n",
    "    f.write(\"आप नीचे अपनी भाषा और इनपुट उपकरण चुनें और लिखना आरंभ करें\".encode())"
   ]
  },
  {
   "cell_type": "raw",
   "id": "2d9a0533",
   "metadata": {},
   "source": [
    "Q4. In Python 3.X, what are the key differences between text-mode and binary-mode files?\n",
    "\n",
    "Ans: The major difference between these two is that a text file contains textual information in the form of alphabets, digits and special characters or symbols. On the other hand, a binary file contains bytes or a compiled version of a text file.\n",
    "\n",
    "When a file is opened in text mode, reading its data automatically decodes its content (as per the platform default or as per provided encoding), and returns it as a str; writing operation takes a str, and automatically encodes it before transferring to the file. Text mode files also support universal end-of-line translation, and encoding specification arguments.\n",
    "\n",
    "When a file is opened in binary mode by adding a b to the mode string argument in the open() call, reading its data does not decode it in any way, and simply returns its content raw and unchanged, as a bytes object; writing takes a bytes object and transfers it to the file unchanged. Binary-mode files also accept a bytearray object for the content to be written to the file.\n",
    "\n",
    "his mode is about conversion of line endings.\n",
    "\n",
    "When reading in text mode, the platform's native line endings (\\r\\n on Windows) are converted to Python's Unix-style \\n line endings. When writing in text mode, the reverse happens.\n",
    "\n",
    "In binary mode, no such conversion is done.\n",
    "\n",
    "Other platforms usually do fine without the conversion, because they store line endings natively as \\n. (An exception is Mac OS, which used to use \\r in the old days.) Code relying on this, however, is not portable."
   ]
  },
  {
   "cell_type": "raw",
   "id": "b1e2d5b6",
   "metadata": {},
   "source": [
    "Q5. How can you interpret a Unicode text file containing text encoded in a different encoding than\n",
    "your platform' default?\n",
    "\n",
    "Ans: Use of encode() and decode() method can be used to you interpret a Unicode text file containing text encoded in a different encoding than your platform's default, by default encoding parameter is UTF-8"
   ]
  },
  {
   "cell_type": "raw",
   "id": "48a4e553",
   "metadata": {},
   "source": [
    "Q6. What is the best way to make a Unicode text file in a particular encoding format?\n",
    "\n",
    "Ans: Use str.encode() and file.write() to make a Unicode text file in a particular encoding format, default encoding format is UTF-18.\n",
    "\n",
    "Call str.encode(encoding) with encoding set to utf8 to encode str.\n",
    "Call open(file, mode) to open a file with mode set to wb . wb writes to files in binary mode & preserves UTF-8format.\n",
    "Call file.write(data) to write data to the file."
   ]
  },
  {
   "cell_type": "raw",
   "id": "4a36e04e",
   "metadata": {},
   "source": [
    "Q7. What qualifies ASCII text as a form of Unicode text?\n",
    "\n",
    "\n",
    "Unicode and ASCII are the most popular character encoding standards that are currently being used all over the world. Unicode is the universal character encoding used to process, store and facilitate the interchange of text data in any language while ASCII is used for the representation of text such as symbols, letters, digits, etc. in computers.\n",
    "\n",
    "ASCII :\n",
    "\n",
    "It is a character encoding standard for electronic communication. American Standard Code for Information Interchange(ASCII) and was first launched in 1963. ASCII codes are used to represent text in computers and telecom devices. \n",
    "ASCII is used for representing 128 English characters in the form of numbers, with each letter being assigned to a specific number in the range 0 to 127. For e.g., the ASCII code for uppercase A is 65, uppercase B is 66, and so on. Check out the following table for some more examples.\n",
    "Most computers are using ASCII encoding for text representation, which makes transferring data from one device to another a lot easier.\n",
    "\n",
    "Unicode :\n",
    "\n",
    "Unicode provides a unique way to define every character in every spoken language of the world by assigning it a unique number. The Unicode standard is maintained by the Unicode Consortium and defines more than 1,40,000 characters from more than 150 modern and historic scripts along with emoji.\n",
    "Unicode can be defined with different character encoding like UTF-8, UTF-16, UTF-32, etc. Among these UTF-8 is the most popular as it used in over 90% of websites on the World Wide Web as well as on most modern Operating systems like Windows.\n",
    "\n",
    "Key factor-1 :\n",
    "Size –\n",
    "\n",
    "It is obvious by now that Unicode represents far more characters than ASCII. ASCII uses a 7-bit range to encode just 128 distinct characters. Unicode on the other hand encodes 154 written scripts. And did I mention emoji? Those too.\n",
    "So, we can say that, while Unicode supports a larger range of characters it also takes up a lot more space than ASCII. \n",
    "Key factor-2 :\n",
    "ASCII == UNICODE?\n",
    "\n",
    "For backward compatibility, the first 128 Unicode characters point to ASCII characters. And since UTF-8 encodes each of those characters using 1-byte. \n",
    "ASCII is essentially just UTF-8, or we can say that ASCII is a subset of Unicode. Vice versa isn’t true.\n"
   ]
  },
  {
   "cell_type": "raw",
   "id": "4e4a94e2",
   "metadata": {},
   "source": [
    "Q8. How much of an effect does the change in string types in Python 3.X have on your code?\n",
    "\n",
    "Python 3.0 uses the concepts of text and (binary) data instead of Unicode strings and 8-bit strings. All text is Unicode; however, encoded Unicode is represented as binary data. The type used to hold text is str, the type used to hold data is bytes.\n",
    "\n",
    "As far as syntax goes, since Unicode is now the default, the leading u or U is deprecated. Similarly, the new bytes object requires a leading b or B for its literals."
   ]
  }
 ],
 "metadata": {
  "kernelspec": {
   "display_name": "Python 3 (ipykernel)",
   "language": "python",
   "name": "python3"
  },
  "language_info": {
   "codemirror_mode": {
    "name": "ipython",
    "version": 3
   },
   "file_extension": ".py",
   "mimetype": "text/x-python",
   "name": "python",
   "nbconvert_exporter": "python",
   "pygments_lexer": "ipython3",
   "version": "3.8.8"
  }
 },
 "nbformat": 4,
 "nbformat_minor": 5
}
