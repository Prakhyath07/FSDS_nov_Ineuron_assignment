{
 "cells": [
  {
   "cell_type": "raw",
   "id": "b58b59ea",
   "metadata": {},
   "source": [
    "Q1. If you have any, what are your choices for increasing the comparison between different figures on the same graph?\n",
    "\n",
    "Ans: Matplotlib provides a convenient method called subplots for increasing the comparison between different figures on the same graph. Subplots mean a group of smaller axes (where each axis is a plot) that can exist together within a single figure."
   ]
  },
  {
   "cell_type": "raw",
   "id": "7e8b8bdf",
   "metadata": {},
   "source": [
    "Q2. Can you explain the benefit of compound interest over a higher rate of interest that does not compound after reading this chapter?\n",
    "\n",
    "Ans: Compound interest makes a sum of money grow at a faster rate than simple interest,because in addition to earning returns on the money you invest, you also earn returns on those returns at the end of every compounding period, which could be daily, monthly, quarterly or annually."
   ]
  },
  {
   "cell_type": "raw",
   "id": "43e2c97d",
   "metadata": {},
   "source": [
    "Q3. What is a histogram, exactly? Name a numpy method for creating such a graph ?\n",
    "\n",
    "Ans: Histogram is a diagram consisting of rectangles whose height is proportional to the frequency of a variable and whose width is equal to the class interval.\n",
    "\n",
    "numpy.histogram() is the built in function used."
   ]
  },
  {
   "cell_type": "raw",
   "id": "a7353cf5",
   "metadata": {},
   "source": [
    "Q4. If necessary, how do you change the aspect ratios between the X and Y axes ?\n",
    "\n",
    "Ans: We can use figure(figsize=(10,8)) function inside the matplot.pyplot library which we scale down or up the graph."
   ]
  },
  {
   "cell_type": "raw",
   "id": "ff1b72c7",
   "metadata": {},
   "source": [
    "Q5. Compare and contrast the three types of array multiplication between two numpy arrays: dot product, outer product, and regular multiplication of two numpy arrays ?\n",
    "\n",
    "1. Matrix product of two given arrays(dot product)\n",
    "\n",
    "The dot product involves multiplying the corresponding elements in the row of the first matrix, by that of the columns of the second matrix, and summing up the result, resulting in a single value. The dot product can only be performed on sequences of equal lengths.\n",
    "In order to find the matrix product of two given arrays, we can use the following function :\n",
    "\n",
    "np.matmul(array a, array b)\n",
    "Input for this function cannot be a scalar value\n",
    "\n",
    "A =\tall\ta12\ta13\n",
    "a21\ta22\ta23\n",
    "\n",
    "B =\tb11\tb12\tb13\n",
    "b21\tb22\tb23\n",
    "b31\tb32\tb33\n",
    "A @B =\n",
    "\n",
    "a11*b11 + a12*b21 + a13*b31\ta11*b12 + a12*b22 + a13*b32\ta11*b13 + a12*b23 + a13*b33\n",
    "a21*b11 + a22*b21 + a23*b31\ta21*b12 + a22*b22 + a23*b32\ta21*b13 + a22*b23 + a23*b33\n",
    "\n",
    "2. outer product:\n",
    "If the two vectors have dimensions n and m, then their outer product is an n × m matrix\n",
    "Given two vectors u and v of size mx1 and nx1 their outer product is defined as the mxn obtained by multiplying each element of u by each element of v\n",
    "\n",
    "The outer product of the vectors and matrices can be found using the outer() method of NumPy.\n",
    "Syntax:\n",
    "\n",
    "numpy.outer(a, b, out = None)\n",
    "\n",
    "3. Element wise multiplication of two given arrays(regular multiplication)\n",
    "In order to find the element-wise product of two given arrays, we can use the following function.\n",
    "\n",
    "np.multiply(array a, array b)\n",
    "\n",
    "A =\tall\ta12\ta13\n",
    "a21\ta22\ta23\n",
    "\n",
    "B =\tb11\tb12\tb13\n",
    "b21\tb22\tb23\n",
    "\n",
    "A*B =\n",
    "\n",
    "a11*b11\ta12*b12\ta13*b13\n",
    "a21*b21\ta22*b22\ta23*b23\n",
    "\n",
    "\n"
   ]
  },
  {
   "cell_type": "raw",
   "id": "9675652e",
   "metadata": {},
   "source": [
    "Q6. Before you buy a home, which numpy function will you use to measure your monthly mortgage payment ?\n",
    "\n",
    "Ans: np.pmt(rate, nper, pv) function we will be using in order to calculate monthly mortgage payment before you purchase a house.\n",
    "\n",
    "rate = The periodic interest rate\n",
    "nper = The number of payment periods\n",
    "pv = The total value of the mortgage loan"
   ]
  },
  {
   "cell_type": "raw",
   "id": "84dce111",
   "metadata": {},
   "source": [
    "Q7. Can string data be stored in numpy arrays? If so, list at least one restriction that applies to this data ?\n",
    "\n",
    "Ans: Yes, an array can store the string. The limitation which imposed on the string data is, whenever we store the data of string dtype then it should should keep in mind that the string which is having the maximum length is the limit."
   ]
  },
  {
   "cell_type": "code",
   "execution_count": null,
   "id": "274e0ca8",
   "metadata": {},
   "outputs": [],
   "source": []
  }
 ],
 "metadata": {
  "kernelspec": {
   "display_name": "Python 3 (ipykernel)",
   "language": "python",
   "name": "python3"
  },
  "language_info": {
   "codemirror_mode": {
    "name": "ipython",
    "version": 3
   },
   "file_extension": ".py",
   "mimetype": "text/x-python",
   "name": "python",
   "nbconvert_exporter": "python",
   "pygments_lexer": "ipython3",
   "version": "3.8.8"
  }
 },
 "nbformat": 4,
 "nbformat_minor": 5
}
