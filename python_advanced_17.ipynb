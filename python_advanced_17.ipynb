{
 "cells": [
  {
   "cell_type": "raw",
   "id": "2a39159d",
   "metadata": {},
   "source": [
    "Q1. Explain the difference between greedy and non-greedy syntax with visual terms in as few words\n",
    "as possible. What is the bare minimum effort required to transform a greedy pattern into a non-greedy\n",
    "one? What characters or characters can you introduce or change?\n",
    "\n",
    "Greedy Match –\n",
    "A greedy match in regular expression tries to match as many characters as possible.\n",
    "\n",
    "For example [0-9]+ will try to match as many digits as possible. It gets never enough of it. It’s too greedy.\n",
    "By default all quantifiers are greedy. They will try to match as many characters as possible"
   ]
  },
  {
   "cell_type": "code",
   "execution_count": 6,
   "id": "8a8531a3",
   "metadata": {},
   "outputs": [
    {
     "data": {
      "text/plain": [
       "<re.Match object; span=(0, 11), match='12345678910'>"
      ]
     },
     "execution_count": 6,
     "metadata": {},
     "output_type": "execute_result"
    }
   ],
   "source": [
    "import re\n",
    "\n",
    "re.match('[0-9]+', '12345678910')\n"
   ]
  },
  {
   "cell_type": "raw",
   "id": "396472fd",
   "metadata": {},
   "source": [
    "Non Greedy Match –\n",
    "A Non-Greedy match tries match as few characters as possible. You can make default quantifiers *, +, ?, {}, {m,n}, non greedy by appending a question marks after them like this – *?, +?, ??, {m}?, {m,n}?"
   ]
  },
  {
   "cell_type": "code",
   "execution_count": 7,
   "id": "3c7df613",
   "metadata": {},
   "outputs": [
    {
     "data": {
      "text/plain": [
       "<re.Match object; span=(0, 1), match='1'>"
      ]
     },
     "execution_count": 7,
     "metadata": {},
     "output_type": "execute_result"
    }
   ],
   "source": [
    "re.match('[0-9]+?', '12345678910')"
   ]
  },
  {
   "cell_type": "raw",
   "id": "6e0e482c",
   "metadata": {},
   "source": [
    "Q2. When exactly does greedy versus non-greedy make a difference?  What if you're looking for a\n",
    "non-greedy match but the only one available is greedy?\n",
    "\n",
    "Below is a case where greedy and non greedy make a differene\n",
    "Suppose you have the following HTML fragment that represents a button element:\n",
    "\n",
    "s = '<button type=\"submit\" class=\"btn\">Send</button>'\n",
    "Code language: Python (python)\n",
    "And you want to match the texts within the quotes (\"\") like submit and btn."
   ]
  },
  {
   "cell_type": "code",
   "execution_count": 8,
   "id": "25351603",
   "metadata": {},
   "outputs": [
    {
     "name": "stdout",
     "output_type": "stream",
     "text": [
      "\"submit\" class=\"btn\"\n"
     ]
    }
   ],
   "source": [
    "import re\n",
    "\n",
    "s = '<button type=\"submit\" class=\"btn\">Send</button>'\n",
    "\n",
    "pattern = '\".+\"'\n",
    "matches = re.finditer(pattern, s)\n",
    "\n",
    "for match in matches:\n",
    "    print(match.group())"
   ]
  },
  {
   "cell_type": "raw",
   "id": "f8493d80",
   "metadata": {},
   "source": [
    "The result is not what you expected.\n",
    "\n",
    "By default, the quantifier (+) runs in the greedy mode, in which it tries to match the preceding element (\".) as much as possible."
   ]
  },
  {
   "cell_type": "code",
   "execution_count": 9,
   "id": "66ae55b4",
   "metadata": {},
   "outputs": [
    {
     "name": "stdout",
     "output_type": "stream",
     "text": [
      "\"submit\"\n",
      "\"btn\"\n"
     ]
    }
   ],
   "source": [
    "## non greedy approach\n",
    "import re\n",
    "\n",
    "s = '<button type=\"submit\" class=\"btn\">Send</button>'\n",
    "\n",
    "pattern = '\".+?\"'\n",
    "matches = re.finditer(pattern, s)\n",
    "\n",
    "for match in matches:\n",
    "    print(match.group())"
   ]
  },
  {
   "cell_type": "raw",
   "id": "77bb7ab5",
   "metadata": {},
   "source": [
    "Q3. In a simple match of a string, which looks only for one match and does not do any replacement, is\n",
    "the use of a nontagged group likely to make any practical difference?\n",
    "\n",
    "if we are looking for only on match using non tagged group we can call the first match as group(1)"
   ]
  },
  {
   "cell_type": "code",
   "execution_count": 15,
   "id": "0dd5fad4",
   "metadata": {},
   "outputs": [
    {
     "name": "stdout",
     "output_type": "stream",
     "text": [
      "3\n"
     ]
    }
   ],
   "source": [
    "import re\n",
    "\n",
    "s = 'Python 3.10'\n",
    "pattern = '(\\d+)\\.(\\d+)'\n",
    "\n",
    "match = re.search(pattern, s)\n",
    "\n",
    "# show the whole match\n",
    "print(match.group(1))\n"
   ]
  },
  {
   "cell_type": "code",
   "execution_count": 13,
   "id": "b496b978",
   "metadata": {},
   "outputs": [
    {
     "name": "stdout",
     "output_type": "stream",
     "text": [
      "3\n",
      "10\n"
     ]
    }
   ],
   "source": [
    "for group in match.groups():\n",
    "    print(group)"
   ]
  },
  {
   "cell_type": "raw",
   "id": "950ae555",
   "metadata": {},
   "source": [
    "Q4. Describe a scenario in which using a nontagged category would have a significant impact on the\n",
    "program's outcomes."
   ]
  },
  {
   "cell_type": "code",
   "execution_count": 17,
   "id": "9125f4cc",
   "metadata": {},
   "outputs": [
    {
     "name": "stdout",
     "output_type": "stream",
     "text": [
      "10\n"
     ]
    }
   ],
   "source": [
    "# Suppose you don’t want to capture the digits before the literal character (.), \n",
    "# you can use a non-capturing group like this:\n",
    "\n",
    "import re\n",
    "\n",
    "s = 'Python 3.10'\n",
    "pattern = '(?:\\d+)\\.(\\d+)'\n",
    "\n",
    "match = re.search(pattern, s)\n",
    "\n",
    "# show the whole match\n",
    "# print(match.group())\n",
    "\n",
    "# show the groups\n",
    "for group in match.groups():\n",
    "    print(group)"
   ]
  },
  {
   "cell_type": "raw",
   "id": "59ae19c3",
   "metadata": {},
   "source": [
    "Q5. Unlike a normal regex pattern, a look-ahead condition does not consume the characters it\n",
    "examines. Describe a situation in which this could make a difference in the results of your\n",
    "programme.\n",
    "\n",
    "Lookahead portion is not part of the search string. Hence, it is termed as zero width assertion. They are important when you don’t want the output to return lookahead portion present in search string but want to use it to match pattern which is followed by a particular section. Below example will make this clear."
   ]
  },
  {
   "cell_type": "code",
   "execution_count": 18,
   "id": "68780504",
   "metadata": {},
   "outputs": [
    {
     "name": "stdout",
     "output_type": "stream",
     "text": [
      "Using lookahead: geeks\n",
      "Without using lookahead: geeksf\n"
     ]
    }
   ],
   "source": [
    "# import required module\n",
    "import re\n",
    "  \n",
    "# using lookahead\n",
    "example1 = re.search(r'geeks(?=[a-z])',\n",
    "                     \"geeksforgeeks\")\n",
    "  \n",
    "print('Using lookahead:', example1.group())\n",
    "  \n",
    "# without using lookahead\n",
    "example2 = re.search(r'geeks([a-z])',\n",
    "                     \"geeksforgeeks\")\n",
    "  \n",
    "print('Without using lookahead:', example2.group())"
   ]
  },
  {
   "cell_type": "raw",
   "id": "a85e620b",
   "metadata": {},
   "source": [
    "Q6. In standard expressions, what is the difference between positive look-ahead and negative look-\n",
    "ahead?\n",
    "\n",
    "# Positive lookahead\n",
    "(?=<lookahead_regex>\n",
    "positive look ahead matches patter which comes after look ahead regex\n",
    "\n",
    "# Negative Lookahead\n",
    "(?!<lookahead_regex>) \n",
    "Negative lookahead is opposite of lookahead. It is to assure that the search string is not followed by <lookahead_regex>"
   ]
  },
  {
   "cell_type": "code",
   "execution_count": 19,
   "id": "aff6eb56",
   "metadata": {},
   "outputs": [
    {
     "name": "stdout",
     "output_type": "stream",
     "text": [
      "Pattern: geeks\n"
     ]
    }
   ],
   "source": [
    "import re\n",
    "  \n",
    "# lookahead example\n",
    "example = re.search(r'geeks(?=[a-z])', \"geeksforgeeks\")\n",
    "  \n",
    "# display output\n",
    "print(\"Pattern:\", example.group())"
   ]
  },
  {
   "cell_type": "code",
   "execution_count": 20,
   "id": "cc1435d2",
   "metadata": {},
   "outputs": [
    {
     "name": "stdout",
     "output_type": "stream",
     "text": [
      "Negative Lookahead: geeks\n"
     ]
    }
   ],
   "source": [
    "# negative lookahead\n",
    "example2 = re.search('geeks(?![a-z])',\n",
    "                     'geeks123')\n",
    "print('Negative Lookahead:', example2.group())"
   ]
  },
  {
   "cell_type": "code",
   "execution_count": 23,
   "id": "c6f670db",
   "metadata": {},
   "outputs": [
    {
     "name": "stdout",
     "output_type": "stream",
     "text": [
      "None\n"
     ]
    }
   ],
   "source": [
    "# negative lookahead\n",
    "example2 = re.search('geeks(?![a-z])',\n",
    "                     'geeksfor')\n",
    "print(example2)"
   ]
  },
  {
   "cell_type": "raw",
   "id": "3fa1f580",
   "metadata": {},
   "source": [
    "Q7. What is the benefit of referring to groups by name rather than by number in a standard\n",
    "expression?\n",
    "\n",
    "The advantage to named groups is that it adds readability and understandability to the code, so that you can easily see what part of a regular expression match is being referenced.\n"
   ]
  },
  {
   "cell_type": "code",
   "execution_count": 24,
   "id": "d34eff62",
   "metadata": {},
   "outputs": [
    {
     "name": "stdout",
     "output_type": "stream",
     "text": [
      "Month:  June\n",
      "Day:  15\n",
      "Year:  1987\n"
     ]
    }
   ],
   "source": [
    "import re\n",
    "\n",
    "string1= \"June 15, 1987\"\n",
    "\n",
    "regex= r\"^(?P<month>\\w+)\\s(?P<day>\\d+)\\,?\\s(?P<year>\\d+)\"\n",
    "\n",
    "matches= re.search(regex, string1)\n",
    "\n",
    "print(\"Month: \", matches.group('month'))\n",
    "print(\"Day: \", matches.group('day'))\n",
    "print(\"Year: \", matches.group('year'))"
   ]
  },
  {
   "cell_type": "raw",
   "id": "ef6a1ff0",
   "metadata": {},
   "source": [
    "Q8. Can you identify repeated items within a target string using named groups, as in \"The cow\n",
    "jumped over the moon\"?\n",
    "\n"
   ]
  },
  {
   "cell_type": "code",
   "execution_count": 139,
   "id": "7432234e",
   "metadata": {},
   "outputs": [
    {
     "name": "stdout",
     "output_type": "stream",
     "text": [
      "The\n"
     ]
    }
   ],
   "source": [
    "import re\n",
    "\n",
    "text = \"The cow jumped over the moon\" \n",
    "result = re.search(r'(?si)\\b(?P<repeated>\\w+)\\b(?=.*?\\b\\1\\b)', text)\n",
    "print(result.group('repeated'))"
   ]
  },
  {
   "cell_type": "raw",
   "id": "05af0adf",
   "metadata": {},
   "source": [
    "Q9. When parsing a string, what is at least one thing that the Scanner interface does for you that the re.findall feature does not?\n",
    "\n",
    "Python Scanner class for scanning (i.e. lexical analysis of) strings. The class\n",
    "is styled after Ruby's StringScanner, but is not 100% the same.\n",
    "\n",
    "one thing that scanner interface does different to findall is:\n",
    "check(pattern, flags=0)\n",
    "Return a match for the pattern (or None) at the scan pointer without \n",
    "actually consuming the string\n",
    "If the pattern matched but was zero length, the empty string is returned\n",
    "If the pattern did not match, None is returned"
   ]
  },
  {
   "cell_type": "raw",
   "id": "7620afc9",
   "metadata": {},
   "source": [
    "Q10. Does a scanner object have to be named scanner?\n",
    "\n",
    "no"
   ]
  },
  {
   "cell_type": "code",
   "execution_count": null,
   "id": "6bb33a1d",
   "metadata": {},
   "outputs": [],
   "source": []
  },
  {
   "cell_type": "code",
   "execution_count": null,
   "id": "74d9484f",
   "metadata": {},
   "outputs": [],
   "source": []
  }
 ],
 "metadata": {
  "kernelspec": {
   "display_name": "Python 3 (ipykernel)",
   "language": "python",
   "name": "python3"
  },
  "language_info": {
   "codemirror_mode": {
    "name": "ipython",
    "version": 3
   },
   "file_extension": ".py",
   "mimetype": "text/x-python",
   "name": "python",
   "nbconvert_exporter": "python",
   "pygments_lexer": "ipython3",
   "version": "3.8.8"
  }
 },
 "nbformat": 4,
 "nbformat_minor": 5
}
