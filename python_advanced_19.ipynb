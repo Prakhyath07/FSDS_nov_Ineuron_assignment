{
 "cells": [
  {
   "cell_type": "raw",
   "id": "bdd579e2",
   "metadata": {},
   "source": [
    "Q1. Define the relationship between a class and its instances. Is it a one-to-one or a one-to-many\n",
    "partnership, for example?\n",
    "\n",
    "Its a one to many relationship as one class can have many instances and on instance can be created from only one class"
   ]
  },
  {
   "cell_type": "code",
   "execution_count": 1,
   "id": "1c6b8749",
   "metadata": {},
   "outputs": [],
   "source": [
    "class Parent1:\n",
    "    pass\n",
    "\n",
    "obj1=Parent1()\n",
    "obj2=Parent1()"
   ]
  },
  {
   "cell_type": "code",
   "execution_count": 2,
   "id": "54b09f11",
   "metadata": {},
   "outputs": [
    {
     "name": "stdout",
     "output_type": "stream",
     "text": [
      "<__main__.Parent1 object at 0x00000257F39BC430>\n"
     ]
    }
   ],
   "source": [
    "print(obj1)"
   ]
  },
  {
   "cell_type": "code",
   "execution_count": 3,
   "id": "d261c201",
   "metadata": {},
   "outputs": [
    {
     "name": "stdout",
     "output_type": "stream",
     "text": [
      "<__main__.Parent1 object at 0x00000257F39BC970>\n"
     ]
    }
   ],
   "source": [
    "print(obj2)"
   ]
  },
  {
   "cell_type": "raw",
   "id": "9d66aa83",
   "metadata": {},
   "source": [
    "Q2. What kind of data is held only in an instance?\n",
    "\n",
    "value of instance attributes are only held in instance and not shared with class"
   ]
  },
  {
   "cell_type": "raw",
   "id": "e3867d27",
   "metadata": {},
   "source": [
    "Q3. What kind of knowledge is stored in a class?\n",
    "\n",
    "A class is a user-defined blueprint or prototype from which objects are created. Classes provide a means of bundling data and functionality together. Creating a new class creates a new type of object, allowing new instances of that type to be made. Each class instance can have attributes attached to it for maintaining its state.\n"
   ]
  },
  {
   "cell_type": "raw",
   "id": "cd20ab26",
   "metadata": {},
   "source": [
    "Q4. What exactly is a method, and how is it different from a regular function?\n",
    "\n",
    "\n",
    "Python Functions\n",
    "Simply put, a function is a series of steps executed as a single unit and “encapsulated” under a single name. It is a group of statements capable of performing some tasks.\n",
    "\n",
    "A function in a program can take arguments (that is, the data to operate on) and can optionally return some data after performing the intended task. Creating a function is basically giving your computer well-defined instructions to perform a task.\n",
    "\n",
    "Python Methods\n",
    "Objects in object-oriented programming have attributes, i.e. data values within them. But how do we access these attribute values? We access them through methods.\n",
    "\n",
    "Methods represent the behavior of an Object.\n",
    "\n",
    "A method is a piece of code that is associated with an object and operates upon the data of that object. In most respects, a method is identical to a function.\n",
    "\n",
    "Except for two major differences:\n",
    "\n",
    "It is associated with an object and we call it ‘on’ that object.\n",
    "It operates on the data which is contained within the class."
   ]
  },
  {
   "cell_type": "raw",
   "id": "ee3c29e6",
   "metadata": {},
   "source": [
    "Q5. Is inheritance supported in Python, and if so, what is the syntax?\n",
    "\n",
    "yes\n",
    "\n",
    "while creating the child class we have to mention its parent class in paranthesis and use the super() function to initilize attributes from parent class\n",
    "class Student(Person):\n",
    "  def __init__(self, fname, lname):\n",
    "    super().__init__(fname, lname)"
   ]
  },
  {
   "cell_type": "raw",
   "id": "4c9e8fa0",
   "metadata": {},
   "source": [
    "Q6. How much encapsulation (making instance or class variables private) does Python support?\n",
    "\n",
    "Protected members (in C++ and JAVA) are those members of the class that cannot be accessed outside the class but can be accessed from within the class and its subclasses. To accomplish this in Python, just follow the convention by prefixing the name of the member by a single underscore “_”.\n",
    "\n",
    "Although the protected variable can be accessed out of the class as well as in the derived class(modified too in derived class), it is customary(convention not a rule) to not access the protected out the class body.\n",
    "\n",
    "Private members are similar to protected members, the difference is that the class members declared private should neither be accessed outside the class nor by any base class. In Python, there is no existence of Private instance variables that cannot be accessed except inside a class.\n",
    "\n",
    "However, to define a private member prefix the member name with double underscore “__”.\n",
    "\n",
    "Note: Python’s private and protected members can be accessed outside the class through python name mangling. "
   ]
  },
  {
   "cell_type": "raw",
   "id": "938d1138",
   "metadata": {},
   "source": [
    "Q7. How do you distinguish between a class variable and an instance variable?\n",
    "\n",
    "An instance variable is a variable which has one copy per object / instance. That means every object will have one copy of it.\n",
    "\n",
    "A class variable is a variable which has one copy per class. The class variables will not have a copy in the object."
   ]
  },
  {
   "cell_type": "raw",
   "id": "5d4051c0",
   "metadata": {},
   "source": [
    "Q8. When, if ever, can self be included in a class's method definitions?\n",
    "\n",
    "self represents the instance of the class. By using the “self”  we can access the attributes and methods of the class in python. It binds the attributes with the given arguments.\n",
    "\n",
    "Self is the first argument to be passed in Constructor and Instance Method."
   ]
  },
  {
   "cell_type": "raw",
   "id": "9a1efea1",
   "metadata": {},
   "source": [
    "Q9. What is the difference between the _ _add_ _ and the _ _radd_ _ methods?\n",
    "\n",
    "he __add__() method in Python specifies what happens when you call + on two objects. When you call obj1 + obj2, you are essentially calling obj1.__add__(obj2).\n",
    "\n",
    "For example, let’s call + on two int objects:\n"
   ]
  },
  {
   "cell_type": "code",
   "execution_count": 4,
   "id": "d5832d5a",
   "metadata": {},
   "outputs": [
    {
     "name": "stdout",
     "output_type": "stream",
     "text": [
      "30\n",
      "30\n"
     ]
    }
   ],
   "source": [
    "\n",
    "n1 = 10\n",
    "n2 = 20\n",
    "print(n1 + n2)\n",
    "print(n1.__add__(n2))"
   ]
  },
  {
   "cell_type": "raw",
   "id": "bb10ff20",
   "metadata": {},
   "source": [
    "\n",
    "The __radd__() closely relates to the __add__() method\n",
    "The __radd__() method means reverse add.\n",
    "\n",
    "The reverse add flips a + b to b + a. This means a.__add__(b) turns into b.__radd__(a)."
   ]
  },
  {
   "cell_type": "raw",
   "id": "2c3657f5",
   "metadata": {},
   "source": [
    "Q10. When is it necessary to use a reflection method? When do you not need it, even though you\n",
    "support the operation in question?\n",
    "\n",
    "Reflection Refers to the information that the program can \"dynamically\" acquire objects during operation\n",
    "Python is a dynamic language, and the reflection mechanism is considered a key to the dynamic language.\n",
    "\n",
    "Reflection mechanism: refers to the operation of the program\n",
    "\n",
    "For any class, you can know all properties and methods of this class;\n",
    "\n",
    "For any object, you can invoke any of his methods and properties.\n",
    "\n",
    "This dynamic acquisition program information and the function of the dynamic call object are referred to as reflective mechanisms.\n",
    "\n",
    "Implementing the reflection in Python is very simple, during the program running, if we get an object that does not know what attributes, if you want to operate its internal properties, you can get the properties of any class or object first by the built-in function DIR. List, list all-character string format\n",
    "\n"
   ]
  },
  {
   "cell_type": "raw",
   "id": "c4a3d899",
   "metadata": {},
   "source": [
    "Q11. What is the _ _iadd_ _ method called?\n",
    "\n",
    "inplace addition:\n",
    "The _add_ method, does simple addition, takes two arguments, returns the sum, and stores it in another variable without modifying any of the arguments.\n",
    "On the other hand, _iadd_ method also takes two arguments, but it makes an in-place change in 1st argument passed by storing the sum in it. As object mutation is needed in this process, immutable targets such as numbers, strings, and tuples, shouldn’t have _iadd_ method."
   ]
  },
  {
   "cell_type": "raw",
   "id": "5fc0d8ef",
   "metadata": {},
   "source": [
    "Q12. Is the _ _init_ _ method inherited by subclasses? What do you do if you need to customize its\n",
    "behavior within a subclass?\n",
    "\n",
    "yes __init__ method is inherited by subclasses\n",
    "\n",
    "if we need to customize its behaviour in subclass we can create __init__ method in subclass and within it we can call super().__init__(parent attr) to get value from parent class"
   ]
  },
  {
   "cell_type": "code",
   "execution_count": 12,
   "id": "069c9a8a",
   "metadata": {},
   "outputs": [],
   "source": [
    "class parent:\n",
    "    def __init__(self,one):\n",
    "        self.one=one\n",
    "\n",
    "class child(parent):\n",
    "    pass"
   ]
  },
  {
   "cell_type": "code",
   "execution_count": 13,
   "id": "d8df95c7",
   "metadata": {},
   "outputs": [
    {
     "data": {
      "text/plain": [
       "'one'"
      ]
     },
     "execution_count": 13,
     "metadata": {},
     "output_type": "execute_result"
    }
   ],
   "source": [
    "inst=child('one')\n",
    "inst.one"
   ]
  },
  {
   "cell_type": "code",
   "execution_count": 14,
   "id": "56082590",
   "metadata": {},
   "outputs": [],
   "source": [
    "class parent:\n",
    "    def __init__(self,one):\n",
    "        self.one=one\n",
    "\n",
    "class child(parent):\n",
    "    def __init__(self,one,two):\n",
    "        super().__init__(one)\n",
    "        self.two=two"
   ]
  },
  {
   "cell_type": "code",
   "execution_count": 15,
   "id": "4a24b607",
   "metadata": {},
   "outputs": [
    {
     "data": {
      "text/plain": [
       "'one'"
      ]
     },
     "execution_count": 15,
     "metadata": {},
     "output_type": "execute_result"
    }
   ],
   "source": [
    "inst=child('one','two')\n",
    "inst.one"
   ]
  },
  {
   "cell_type": "code",
   "execution_count": 11,
   "id": "d9954504",
   "metadata": {},
   "outputs": [
    {
     "data": {
      "text/plain": [
       "'two'"
      ]
     },
     "execution_count": 11,
     "metadata": {},
     "output_type": "execute_result"
    }
   ],
   "source": [
    "inst.two"
   ]
  },
  {
   "cell_type": "code",
   "execution_count": null,
   "id": "01469277",
   "metadata": {},
   "outputs": [],
   "source": []
  }
 ],
 "metadata": {
  "kernelspec": {
   "display_name": "Python 3 (ipykernel)",
   "language": "python",
   "name": "python3"
  },
  "language_info": {
   "codemirror_mode": {
    "name": "ipython",
    "version": 3
   },
   "file_extension": ".py",
   "mimetype": "text/x-python",
   "name": "python",
   "nbconvert_exporter": "python",
   "pygments_lexer": "ipython3",
   "version": "3.8.8"
  }
 },
 "nbformat": 4,
 "nbformat_minor": 5
}
