{
 "cells": [
  {
   "cell_type": "raw",
   "id": "c7f2f1cb",
   "metadata": {},
   "source": [
    "Q1. What are the two latest user-defined exception constraints in Python 3.X?\n",
    "\n",
    "PEP 352: All exceptions must be derived (directly or indirectly) from BaseException. This is the root of the exception hierarchy. This is not new as a recommendation, but the requirement to inherit from BaseException is new. (Python 2.6 still allowed classic classes to be raised, and placed no restriction on what you can catch.) As a consequence, string exceptions are finally truly and utterly dead.\n",
    "\n",
    "Almost all exceptions should actually derive from Exception; BaseException should only be used as a base class for exceptions that should only be handled at the top level, such as SystemExit or KeyboardInterrupt. The recommended idiom for handling all exceptions except for this latter category is to use except Exception.\n"
   ]
  },
  {
   "cell_type": "raw",
   "id": "70b0e846",
   "metadata": {},
   "source": [
    "Q2. How are class-based exceptions that have been raised matched to handlers?\n",
    "\n",
    "Ans: In python, Users can define custom exceptions by creating a new class. This exception class has to be derived, either directly or indirectly from built-in Exception class. This new exception class like other exceptions can be raised using the raise statement with an optional error message.\n",
    "\n",
    "\n"
   ]
  },
  {
   "cell_type": "code",
   "execution_count": 1,
   "id": "f40a5cb8",
   "metadata": {},
   "outputs": [
    {
     "ename": "ToYoungException",
     "evalue": "To Young For Voting",
     "output_type": "error",
     "traceback": [
      "\u001b[1;31m---------------------------------------------------------------------------\u001b[0m",
      "\u001b[1;31mToYoungException\u001b[0m                          Traceback (most recent call last)",
      "\u001b[1;32m~\\AppData\\Local\\Temp/ipykernel_9192/1019652075.py\u001b[0m in \u001b[0;36m<module>\u001b[1;34m\u001b[0m\n\u001b[0;32m      3\u001b[0m         \u001b[0mself\u001b[0m\u001b[1;33m.\u001b[0m\u001b[0mmsg\u001b[0m \u001b[1;33m=\u001b[0m \u001b[0mmsg\u001b[0m\u001b[1;33m\u001b[0m\u001b[1;33m\u001b[0m\u001b[0m\n\u001b[0;32m      4\u001b[0m \u001b[0mage\u001b[0m \u001b[1;33m=\u001b[0m \u001b[1;36m12\u001b[0m\u001b[1;33m\u001b[0m\u001b[1;33m\u001b[0m\u001b[0m\n\u001b[1;32m----> 5\u001b[1;33m \u001b[1;32mif\u001b[0m \u001b[0mage\u001b[0m \u001b[1;33m<=\u001b[0m \u001b[1;36m18\u001b[0m\u001b[1;33m:\u001b[0m \u001b[1;32mraise\u001b[0m \u001b[0mToYoungException\u001b[0m\u001b[1;33m(\u001b[0m\u001b[1;34m'To Young For Voting'\u001b[0m\u001b[1;33m)\u001b[0m\u001b[1;33m\u001b[0m\u001b[1;33m\u001b[0m\u001b[0m\n\u001b[0m",
      "\u001b[1;31mToYoungException\u001b[0m: To Young For Voting"
     ]
    }
   ],
   "source": [
    "class ToYoungException(Exception):\n",
    "    def __init__(self,msg):\n",
    "        self.msg = msg\n",
    "age = 12\n",
    "if age <= 18: raise ToYoungException('To Young For Voting')"
   ]
  },
  {
   "cell_type": "raw",
   "id": "49b2eb4e",
   "metadata": {},
   "source": [
    "Q3. Describe two methods for attaching context information to exception artefacts.\n",
    "\n",
    "When raising a new exception (rather than using a bare raise to re-raise the exception currently being handled), the implicit exception context can be supplemented with an explicit cause by using from with raise:\n",
    "\n",
    "raise new_exc from original_exc"
   ]
  },
  {
   "cell_type": "code",
   "execution_count": 5,
   "id": "65b3a292",
   "metadata": {},
   "outputs": [
    {
     "ename": "NameError",
     "evalue": "Make sure your define the variable before calling it ",
     "output_type": "error",
     "traceback": [
      "\u001b[1;31m---------------------------------------------------------------------------\u001b[0m",
      "\u001b[1;31mNameError\u001b[0m                                 Traceback (most recent call last)",
      "\u001b[1;32m~\\AppData\\Local\\Temp/ipykernel_9192/2539005481.py\u001b[0m in \u001b[0;36m<module>\u001b[1;34m\u001b[0m\n\u001b[0;32m      1\u001b[0m \u001b[1;32mtry\u001b[0m\u001b[1;33m:\u001b[0m\u001b[1;33m\u001b[0m\u001b[1;33m\u001b[0m\u001b[0m\n\u001b[1;32m----> 2\u001b[1;33m     \u001b[1;33m[\u001b[0m\u001b[0mpermission\u001b[0m\u001b[1;33m(\u001b[0m\u001b[1;33m)\u001b[0m \u001b[1;32mfor\u001b[0m \u001b[0mpermission\u001b[0m \u001b[1;32min\u001b[0m \u001b[0mself\u001b[0m\u001b[1;33m.\u001b[0m\u001b[0mpermission_classes\u001b[0m\u001b[1;33m]\u001b[0m\u001b[1;33m\u001b[0m\u001b[1;33m\u001b[0m\u001b[0m\n\u001b[0m\u001b[0;32m      3\u001b[0m \u001b[1;32mexcept\u001b[0m \u001b[0mNameError\u001b[0m \u001b[1;32mas\u001b[0m \u001b[0me\u001b[0m\u001b[1;33m:\u001b[0m\u001b[1;33m\u001b[0m\u001b[1;33m\u001b[0m\u001b[0m\n",
      "\u001b[1;31mNameError\u001b[0m: name 'self' is not defined",
      "\nThe above exception was the direct cause of the following exception:\n",
      "\u001b[1;31mNameError\u001b[0m                                 Traceback (most recent call last)",
      "\u001b[1;32m~\\AppData\\Local\\Temp/ipykernel_9192/2539005481.py\u001b[0m in \u001b[0;36m<module>\u001b[1;34m\u001b[0m\n\u001b[0;32m      2\u001b[0m     \u001b[1;33m[\u001b[0m\u001b[0mpermission\u001b[0m\u001b[1;33m(\u001b[0m\u001b[1;33m)\u001b[0m \u001b[1;32mfor\u001b[0m \u001b[0mpermission\u001b[0m \u001b[1;32min\u001b[0m \u001b[0mself\u001b[0m\u001b[1;33m.\u001b[0m\u001b[0mpermission_classes\u001b[0m\u001b[1;33m]\u001b[0m\u001b[1;33m\u001b[0m\u001b[1;33m\u001b[0m\u001b[0m\n\u001b[0;32m      3\u001b[0m \u001b[1;32mexcept\u001b[0m \u001b[0mNameError\u001b[0m \u001b[1;32mas\u001b[0m \u001b[0me\u001b[0m\u001b[1;33m:\u001b[0m\u001b[1;33m\u001b[0m\u001b[1;33m\u001b[0m\u001b[0m\n\u001b[1;32m----> 4\u001b[1;33m     raise NameError(\"Make sure your define the variable before calling it \"\n\u001b[0m\u001b[0;32m      5\u001b[0m                     ) from e\n",
      "\u001b[1;31mNameError\u001b[0m: Make sure your define the variable before calling it "
     ]
    }
   ],
   "source": [
    "try:\n",
    "    [permission() for permission in self.permission_classes]\n",
    "except NameError as e:\n",
    "    raise NameError(\"Make sure your define the variable before calling it \"\n",
    "                    ) from e"
   ]
  },
  {
   "cell_type": "raw",
   "id": "8dd6037f",
   "metadata": {},
   "source": [
    "# second method is to just append your message to the argument of the original exception if possible as in err. args += (\"message\",) and re-raise the exception message. The traceback might not take you to the line numbers where the exception was caught but it will take you to where the exception occurred for sure.\n",
    "\n"
   ]
  },
  {
   "cell_type": "code",
   "execution_count": 7,
   "id": "500c44fa",
   "metadata": {},
   "outputs": [
    {
     "name": "stdout",
     "output_type": "stream",
     "text": [
      " error was <class 'ValueError'>\n",
      "hello\n"
     ]
    }
   ],
   "source": [
    "try:\n",
    "    try:\n",
    "      raise ValueError\n",
    "    except ValueError as err:\n",
    "       err.extra_info = \"hello\"\n",
    "       raise \n",
    "except ValueError as e:\n",
    "    print(\" error was \"+ str(type(e))+str(e))\n",
    "    if 'extra_info' in dir(e):\n",
    "       print(e.extra_info)"
   ]
  },
  {
   "cell_type": "raw",
   "id": "99adfc4b",
   "metadata": {},
   "source": [
    "Q4. Describe two methods for specifying the text of an exception object's error message.\n",
    "\n",
    "exception.args and exception.message\n",
    "\n",
    "example1): args\n",
    "def process(val):\n",
    "    with context(val):\n",
    "        do_something(val)\n",
    "\n",
    "def do_something(val):\n",
    "    # assert False\n",
    "    return 1/val\n",
    "\n",
    "@contextlib.contextmanager\n",
    "def context(msg):\n",
    "    try:\n",
    "        yield\n",
    "    except Exception as ex:\n",
    "        msg = '{}: {}'.format(msg, ex.args[0]) if ex.args else str(msg)\n",
    "        ex.args = (msg,) + ex.args[1:]\n",
    "        raise\n",
    "\n",
    "process(0)\n",
    "\n",
    "\n",
    "example 2) message:\n",
    "try:\n",
    "    pass\n",
    "except Exception as e:\n",
    "    # Just print(e) is cleaner and more likely what you want,\n",
    "    # but if you insist on printing message specifically whenever possible...\n",
    "    if hasattr(e, 'message'):\n",
    "        print(e.message)\n",
    "    else:\n",
    "        print(e)\n"
   ]
  },
  {
   "cell_type": "raw",
   "id": "6b1b149d",
   "metadata": {},
   "source": [
    "Q5. Why do you no longer use string-based exceptions?\n",
    "\n",
    "String exceptions were matched by simple object identity: the raised exception was matched to except clauses by Python's is test.\n",
    "there was no direct way to organize exceptions into more flexible categories or groups compared to class method. The net result was that exception handlers were coupled with exception sets in a way that made changes difficult."
   ]
  }
 ],
 "metadata": {
  "kernelspec": {
   "display_name": "Python 3 (ipykernel)",
   "language": "python",
   "name": "python3"
  },
  "language_info": {
   "codemirror_mode": {
    "name": "ipython",
    "version": 3
   },
   "file_extension": ".py",
   "mimetype": "text/x-python",
   "name": "python",
   "nbconvert_exporter": "python",
   "pygments_lexer": "ipython3",
   "version": "3.8.8"
  }
 },
 "nbformat": 4,
 "nbformat_minor": 5
}
