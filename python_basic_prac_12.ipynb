{
 "cells": [
  {
   "cell_type": "raw",
   "id": "fba321c0",
   "metadata": {},
   "source": [
    "1. Write a Python program to Extract Unique values dictionary values?"
   ]
  },
  {
   "cell_type": "code",
   "execution_count": 1,
   "id": "628cc4ab",
   "metadata": {},
   "outputs": [],
   "source": [
    "def unq_dict(dict):\n",
    "    unique=[]\n",
    "    for i in dict.values():\n",
    "        if i not in unique:\n",
    "            unique.append(i)\n",
    "    return unique"
   ]
  },
  {
   "cell_type": "code",
   "execution_count": 3,
   "id": "c87c947d",
   "metadata": {},
   "outputs": [
    {
     "data": {
      "text/plain": [
       "[5, 6, 1]"
      ]
     },
     "execution_count": 3,
     "metadata": {},
     "output_type": "execute_result"
    }
   ],
   "source": [
    "dict={'a' : 5,\n",
    " 'b' : 5,\n",
    " 'c' : 6,\n",
    " 'd' : 1}\n",
    "\n",
    "unq_dict(dict)"
   ]
  },
  {
   "cell_type": "raw",
   "id": "a50aff23",
   "metadata": {},
   "source": [
    "2. Write a Python program to find the sum of all items in a dictionary?"
   ]
  },
  {
   "cell_type": "code",
   "execution_count": 5,
   "id": "9c738a15",
   "metadata": {},
   "outputs": [],
   "source": [
    "def sum_dict(dict):\n",
    "    unique=0\n",
    "    for i in dict.values():\n",
    "        unique+=i\n",
    "    return unique"
   ]
  },
  {
   "cell_type": "code",
   "execution_count": 6,
   "id": "c3c5e56e",
   "metadata": {},
   "outputs": [
    {
     "data": {
      "text/plain": [
       "17"
      ]
     },
     "execution_count": 6,
     "metadata": {},
     "output_type": "execute_result"
    }
   ],
   "source": [
    "sum_dict(dict)"
   ]
  },
  {
   "cell_type": "raw",
   "id": "75100fa7",
   "metadata": {},
   "source": [
    "3. Write a Python program to Merging two Dictionaries?"
   ]
  },
  {
   "cell_type": "code",
   "execution_count": 7,
   "id": "5e97d8b0",
   "metadata": {},
   "outputs": [],
   "source": [
    "def merge_dict(dict1,dict2):\n",
    "    dict3=dict1.copy()\n",
    "    dict3.update(dict2)\n",
    "    \n",
    "    return dict3"
   ]
  },
  {
   "cell_type": "code",
   "execution_count": 8,
   "id": "e5d0e3d9",
   "metadata": {},
   "outputs": [
    {
     "data": {
      "text/plain": [
       "{'a': 1, 'b': 2, 'c': 4, 'd': 5, 'e': 7}"
      ]
     },
     "execution_count": 8,
     "metadata": {},
     "output_type": "execute_result"
    }
   ],
   "source": [
    "dict1={'a':1,\"b\":2,'c':4}\n",
    "dict2={'d':5,'e':7}\n",
    "\n",
    "merge_dict(dict1,dict2)"
   ]
  },
  {
   "cell_type": "raw",
   "id": "d27d090e",
   "metadata": {},
   "source": [
    "4. Write a Python program to convert key-values list to flat dictionary?"
   ]
  },
  {
   "cell_type": "code",
   "execution_count": 9,
   "id": "0d9bc00c",
   "metadata": {},
   "outputs": [],
   "source": [
    "def flat_dict(lst):\n",
    "    dict={}\n",
    "    for i in lst:\n",
    "        dict[i[0]]=i[1]\n",
    "    \n",
    "    return dict"
   ]
  },
  {
   "cell_type": "code",
   "execution_count": 10,
   "id": "89c9d3d2",
   "metadata": {},
   "outputs": [
    {
     "data": {
      "text/plain": [
       "{'a': 1, 'b': 2, 'c': 4}"
      ]
     },
     "execution_count": 10,
     "metadata": {},
     "output_type": "execute_result"
    }
   ],
   "source": [
    "flat_dict([['a',1],[\"b\",2],['c',4]])"
   ]
  },
  {
   "cell_type": "raw",
   "id": "141a22cb",
   "metadata": {},
   "source": [
    "5. Write a Python program to insertion at the beginning in OrderedDict?"
   ]
  },
  {
   "cell_type": "code",
   "execution_count": 11,
   "id": "27857bba",
   "metadata": {},
   "outputs": [
    {
     "name": "stdout",
     "output_type": "stream",
     "text": [
      "Ordered Dictionary after insertion : OrderedDict([('Jan', '1'), ('Feb', '2'), ('Mar', '3')])\n"
     ]
    }
   ],
   "source": [
    "# insertion of items in beginning of ordered dict\n",
    "from collections import OrderedDict\n",
    "  \n",
    "# initialising ordered_dict\n",
    "iniordered_dict = OrderedDict([('Feb', '2'), ('Mar', '3')])\n",
    "  \n",
    "# inserting items in starting of dict \n",
    "iniordered_dict.update({'Jan':'1'})\n",
    "iniordered_dict.move_to_end('Jan', last = False)\n",
    "  \n",
    "# print result\n",
    "print (\"Ordered Dictionary after insertion : \"+str(iniordered_dict))"
   ]
  },
  {
   "cell_type": "raw",
   "id": "9dc70db3",
   "metadata": {},
   "source": [
    "6. Write a Python program to check order of character in string using OrderedDict()?"
   ]
  },
  {
   "cell_type": "code",
   "execution_count": 21,
   "id": "7fdcdc94",
   "metadata": {},
   "outputs": [
    {
     "name": "stdout",
     "output_type": "stream",
     "text": [
      "true\n"
     ]
    }
   ],
   "source": [
    "# Function to check if string follows order of \n",
    "# characters defined by a pattern \n",
    "from collections import OrderedDict \n",
    "  \n",
    "def checkOrder(input, pattern): \n",
    "      \n",
    "    # create empty OrderedDict \n",
    "    # output will be like {'a': None,'b': None, 'c': None} \n",
    "    dict = OrderedDict.fromkeys(input) \n",
    "#     print(dict)\n",
    "    # traverse generated OrderedDict parallel with \n",
    "    # pattern string to check if order of characters \n",
    "    # are same or not \n",
    "    ptrlen = 0\n",
    "    for key,value in dict.items(): \n",
    "        if (key == pattern[ptrlen]): \n",
    "            ptrlen = ptrlen + 1\n",
    "          \n",
    "        # check if we have traverse complete \n",
    "        # pattern string \n",
    "        if (ptrlen == (len(pattern))): \n",
    "            return 'true'\n",
    "  \n",
    "    # if we come out from for loop that means \n",
    "    # order was mismatched \n",
    "    return 'false'\n",
    "  \n",
    "# Driver program \n",
    "\n",
    "input = 'engineers rock'\n",
    "pattern = 'er'\n",
    "print (checkOrder(input,pattern))"
   ]
  },
  {
   "cell_type": "raw",
   "id": "523a38e1",
   "metadata": {},
   "source": [
    "7. Write a Python program to sort Python Dictionaries by Key or Value?"
   ]
  },
  {
   "cell_type": "code",
   "execution_count": 36,
   "id": "a7d17b3f",
   "metadata": {},
   "outputs": [],
   "source": [
    "def sort_dict(dict,by='keys'):\n",
    "    \"\"\"\n",
    "    to sort by values please mention by='values'\n",
    "    by default sorting is dont by keys\n",
    "    \n",
    "    \"\"\"\n",
    "    sort={}\n",
    "    if by=='keys':\n",
    "        sort = {key: value for key, value in sorted(dt.items())}\n",
    "            \n",
    "    if by=='values':\n",
    "        sort_val=sorted(dict.values())\n",
    "        sort = {key: value for key, value in sorted(dt.items(), key=lambda item: item[1])}\n",
    "    return sort\n",
    "    \n",
    "\n",
    "            "
   ]
  },
  {
   "cell_type": "code",
   "execution_count": 38,
   "id": "1291ca57",
   "metadata": {},
   "outputs": [
    {
     "data": {
      "text/plain": [
       "{6: 3, 5: 4, 1: 6}"
      ]
     },
     "execution_count": 38,
     "metadata": {},
     "output_type": "execute_result"
    }
   ],
   "source": [
    "dt = {5:4, 1:6, 6:3}\n",
    "sort_dict(dt,by='values')"
   ]
  },
  {
   "cell_type": "code",
   "execution_count": 37,
   "id": "be1930d2",
   "metadata": {},
   "outputs": [
    {
     "data": {
      "text/plain": [
       "{1: 6, 5: 4, 6: 3}"
      ]
     },
     "execution_count": 37,
     "metadata": {},
     "output_type": "execute_result"
    }
   ],
   "source": [
    "dt = {5:4, 1:6, 6:3}\n",
    "sort_dict(dt)"
   ]
  },
  {
   "cell_type": "code",
   "execution_count": null,
   "id": "28219b53",
   "metadata": {},
   "outputs": [],
   "source": []
  }
 ],
 "metadata": {
  "kernelspec": {
   "display_name": "Python 3 (ipykernel)",
   "language": "python",
   "name": "python3"
  },
  "language_info": {
   "codemirror_mode": {
    "name": "ipython",
    "version": 3
   },
   "file_extension": ".py",
   "mimetype": "text/x-python",
   "name": "python",
   "nbconvert_exporter": "python",
   "pygments_lexer": "ipython3",
   "version": "3.8.8"
  }
 },
 "nbformat": 4,
 "nbformat_minor": 5
}
