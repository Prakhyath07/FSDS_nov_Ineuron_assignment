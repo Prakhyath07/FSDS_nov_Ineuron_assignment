{
 "cells": [
  {
   "cell_type": "markdown",
   "id": "37d18982",
   "metadata": {},
   "source": [
    "1. Write a Python Program to Add Two Matrices?"
   ]
  },
  {
   "cell_type": "code",
   "execution_count": 42,
   "id": "73ccf814",
   "metadata": {
    "scrolled": true
   },
   "outputs": [],
   "source": [
    "def add_mat(mat1,mat2):\n",
    "    import numpy as np\n",
    "    mat1=np.array(mat1)\n",
    "    mat2=np.array(mat2)\n",
    "    sum=np.zeros( mat1.shape)\n",
    "    \n",
    "    if mat1.shape != mat2.shape:\n",
    "        return \"Please enter matrixes of same shape\"\n",
    "    else:\n",
    "        for i in range(mat1.shape[0]):\n",
    "            for j in range(mat1.shape[1]):\n",
    "                  sum[i][j]=mat1[i][j]+mat2[i][j]\n",
    "        return sum\n",
    "        \n",
    "        "
   ]
  },
  {
   "cell_type": "code",
   "execution_count": 45,
   "id": "d5f5d3bc",
   "metadata": {},
   "outputs": [
    {
     "data": {
      "text/plain": [
       "array([[2., 4.],\n",
       "       [2., 2.]])"
      ]
     },
     "execution_count": 45,
     "metadata": {},
     "output_type": "execute_result"
    }
   ],
   "source": [
    "mat1=[[1,2],\n",
    "     [1,2]]\n",
    "mat2=[[1,2],\n",
    "     [1,0]]\n",
    "add_mat(mat1,mat2)"
   ]
  },
  {
   "cell_type": "raw",
   "id": "a8ac4ef2",
   "metadata": {},
   "source": [
    "2. Write a Python Program to Multiply Two Matrices?"
   ]
  },
  {
   "cell_type": "code",
   "execution_count": 14,
   "id": "d3256550",
   "metadata": {},
   "outputs": [],
   "source": [
    "def mul_mat(mat1,mat2):\n",
    "    import numpy as np\n",
    "    mat1=np.array(mat1)\n",
    "    mat2=np.array(mat2)\n",
    "    mul=np.zeros( (mat1.shape[0],mat2.shape[1]))\n",
    "    \n",
    "    if mat1.shape[0]!=mat2.shape[1]:\n",
    "        return \"Please enter matrixes of correct shape\"\n",
    "    else:   \n",
    "        for i in range(mat1.shape[0]):\n",
    "            for j in range(mat2.shape[1]):\n",
    "                for k in range(mat2.shape[0]):\n",
    "                    mul[i][j]+=mat1[i][k]*mat2[k][j]\n",
    "            \n",
    "            \n",
    "                    \n",
    "        return mul"
   ]
  },
  {
   "cell_type": "code",
   "execution_count": 15,
   "id": "2c0bb711",
   "metadata": {},
   "outputs": [
    {
     "data": {
      "text/plain": [
       "array([[15., 28.],\n",
       "       [26., 34.]])"
      ]
     },
     "execution_count": 15,
     "metadata": {},
     "output_type": "execute_result"
    }
   ],
   "source": [
    "mul_mat([[1,3,5],\n",
    "        [3,4,6]],\n",
    "       [[4,0],\n",
    "       [2,1],\n",
    "       [1,5]])"
   ]
  },
  {
   "cell_type": "raw",
   "id": "93e9d90e",
   "metadata": {},
   "source": [
    "3. Write a Python Program to Transpose a Matrix?"
   ]
  },
  {
   "cell_type": "code",
   "execution_count": 17,
   "id": "df1da6bd",
   "metadata": {},
   "outputs": [],
   "source": [
    "def mat_transpose(mat):\n",
    "    import numpy as np\n",
    "    mat=np.array(mat)\n",
    "    tra=np.zeros( (mat.shape[1],mat.shape[0]))\n",
    "    \n",
    "    for i in range(mat.shape[1]):\n",
    "        for j in range(mat.shape[0]):\n",
    "            tra[i][j]=mat[j][i]\n",
    "    \n",
    "    return tra\n",
    "    \n",
    "    "
   ]
  },
  {
   "cell_type": "code",
   "execution_count": 18,
   "id": "455e0c7a",
   "metadata": {},
   "outputs": [
    {
     "data": {
      "text/plain": [
       "array([[1., 3.],\n",
       "       [3., 4.],\n",
       "       [5., 6.]])"
      ]
     },
     "execution_count": 18,
     "metadata": {},
     "output_type": "execute_result"
    }
   ],
   "source": [
    "mat_transpose([[1,3,5],\n",
    "        [3,4,6]])"
   ]
  },
  {
   "cell_type": "raw",
   "id": "0cb2afa9",
   "metadata": {},
   "source": [
    "4. Write a Python Program to Sort Words in Alphabetic Order?"
   ]
  },
  {
   "cell_type": "code",
   "execution_count": 40,
   "id": "40d1ddcd",
   "metadata": {},
   "outputs": [],
   "source": [
    "# To take input from the user\n",
    "def sort_words(str):\n",
    "    sort=''\n",
    "    words = [word.lower() for word in str.split()]\n",
    "    words.sort()\n",
    "    \n",
    "    \n",
    "    sort=' '.join(words)\n",
    "    return sort"
   ]
  },
  {
   "cell_type": "code",
   "execution_count": 41,
   "id": "29eeb43a",
   "metadata": {},
   "outputs": [
    {
     "data": {
      "text/plain": [
       "'a alphabetic in order program python sort to words write'"
      ]
     },
     "execution_count": 41,
     "metadata": {},
     "output_type": "execute_result"
    }
   ],
   "source": [
    "sort_words('Write a Python Program to Sort Words in Alphabetic Order')"
   ]
  },
  {
   "cell_type": "raw",
   "id": "b733f541",
   "metadata": {},
   "source": [
    "5. Write a Python Program to Remove Punctuation From a String?"
   ]
  },
  {
   "cell_type": "code",
   "execution_count": 43,
   "id": "ba14d35f",
   "metadata": {},
   "outputs": [],
   "source": [
    "def remove_punc(str):\n",
    "    import string\n",
    "    exclude = set(string.punctuation)\n",
    "    new = ''.join(ch for ch in str if ch not in exclude)\n",
    "    return new"
   ]
  },
  {
   "cell_type": "code",
   "execution_count": 45,
   "id": "509cede9",
   "metadata": {},
   "outputs": [
    {
     "data": {
      "text/plain": [
       "'5 Write a Python Program to Remove Punctuation From a String'"
      ]
     },
     "execution_count": 45,
     "metadata": {},
     "output_type": "execute_result"
    }
   ],
   "source": [
    "remove_punc('5. Write a@ Python Program, to Remove !Punctuation From a String?')"
   ]
  },
  {
   "cell_type": "code",
   "execution_count": null,
   "id": "9494467a",
   "metadata": {},
   "outputs": [],
   "source": []
  }
 ],
 "metadata": {
  "kernelspec": {
   "display_name": "Python 3 (ipykernel)",
   "language": "python",
   "name": "python3"
  },
  "language_info": {
   "codemirror_mode": {
    "name": "ipython",
    "version": 3
   },
   "file_extension": ".py",
   "mimetype": "text/x-python",
   "name": "python",
   "nbconvert_exporter": "python",
   "pygments_lexer": "ipython3",
   "version": "3.8.8"
  }
 },
 "nbformat": 4,
 "nbformat_minor": 5
}
