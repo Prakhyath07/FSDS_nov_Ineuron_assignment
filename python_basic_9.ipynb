{
 "cells": [
  {
   "cell_type": "raw",
   "id": "5e0fd35a",
   "metadata": {},
   "source": [
    "\n",
    "1. To what does a relative path refer?\n",
    "The relative path is the path of a file with respect to our current working directory."
   ]
  },
  {
   "cell_type": "raw",
   "id": "901f3c3a",
   "metadata": {},
   "source": [
    "\n",
    "2. What does an absolute path start with your operating system?\n",
    "An absolute path contains the full path of directory from the root of the file system up to target file or directory. An absolute path start with the root folder, such as / or C:.\n"
   ]
  },
  {
   "cell_type": "raw",
   "id": "9588e217",
   "metadata": {},
   "source": [
    "3. What do the functions os.getcwd() and os.chdir() do?\n",
    "\n",
    "getcwd stands for \"get current working directory\". \n",
    "os.getcwd() returns the absolute path of the working directory where Python is currently running as a string str . \n",
    "\n",
    "chdir stabds of \"change directory\".\n",
    "os.chdir() method in Python used to change the current working directory to specified path. It takes only a single argument as new directory path.\n"
   ]
  },
  {
   "cell_type": "raw",
   "id": "19e66bcd",
   "metadata": {},
   "source": [
    "\n",
    "4. What are the . and .. folders?\n",
    "The . signifies the current directory\n",
    "\n",
    "while .. signifies the parent directory."
   ]
  },
  {
   "cell_type": "raw",
   "id": "4b80adf8",
   "metadata": {},
   "source": [
    "5. In C:\\bacon\\eggs\\spam.txt, which part is the dir name, and which part is the base name?\n",
    "\n",
    "The basename is the final rightmost segment of the file path . \n",
    "\n",
    "In the above path base name is spam.txt. \n",
    "os.path.basename() can be used to extract base name from the path. \n",
    "dir name is the folder name in which file exists. \n",
    "In the above path dir name is C:\\bacon\\eggs . \n",
    "os.path.dirname() can be used to extract dir name form path.\n"
   ]
  },
  {
   "cell_type": "raw",
   "id": "0d40dbb4",
   "metadata": {},
   "source": [
    "\n",
    "6. What are the three “mode” arguments that can be passed to the open() function?\n",
    "\n",
    "mode arguments that can be passed to open () function are: 'r' Open a file for reading. (default)\n",
    "\n",
    "'w' Open a file for writing. Creates a new file if it does not exist or truncates the file if it exists.pointer is placed at the begining of the file\n",
    "\n",
    "'a' Open for appending at the end of the file without truncating it.\n",
    "Creates a new file if it does not exist. pointer is placed at the begining of file\n",
    "\n",
    "'+' Open a file for updating (reading and writing)\n",
    "pointer is placed at the end of the file\n",
    "\n"
   ]
  },
  {
   "cell_type": "raw",
   "id": "97c038af",
   "metadata": {},
   "source": [
    "7. What happens if an existing file is opened in write mode?\n",
    "\n",
    "when a existing file is opened in write mode,we will be able to write to the file but content which were previously present will be overwritten if new content is passed.\n",
    "\n"
   ]
  },
  {
   "cell_type": "raw",
   "id": "ac858140",
   "metadata": {},
   "source": [
    "8. How do you tell the difference between read() and readlines()?\n",
    "\n",
    "read() basically is trying to read the whole file and save it into a single string to be used later while readlines() is also trying to read the whole file but it will do a split(\"\\n\") and store the strings of lines into a list.\n",
    "\n"
   ]
  },
  {
   "cell_type": "raw",
   "id": "9af6f9fc",
   "metadata": {},
   "source": [
    "9. What data structure does a shelf value resemble?\n",
    "\n",
    "A shelf value resembles a dictionary value; it has keys and values, along with keys() and values() methods that work similarly to the dictionary methods of the same names."
   ]
  },
  {
   "cell_type": "raw",
   "id": "565b342e",
   "metadata": {},
   "source": []
  }
 ],
 "metadata": {
  "kernelspec": {
   "display_name": "Python 3 (ipykernel)",
   "language": "python",
   "name": "python3"
  },
  "language_info": {
   "codemirror_mode": {
    "name": "ipython",
    "version": 3
   },
   "file_extension": ".py",
   "mimetype": "text/x-python",
   "name": "python",
   "nbconvert_exporter": "python",
   "pygments_lexer": "ipython3",
   "version": "3.8.8"
  }
 },
 "nbformat": 4,
 "nbformat_minor": 5
}
