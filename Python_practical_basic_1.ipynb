{
 "cells": [
  {
   "cell_type": "code",
   "execution_count": 1,
   "id": "280177fc",
   "metadata": {},
   "outputs": [],
   "source": [
    "## 1. Write a Python program to print \"Hello Python\"\n",
    "\n",
    "def HP():\n",
    "    print(\"Hello Python\")"
   ]
  },
  {
   "cell_type": "code",
   "execution_count": 2,
   "id": "0b893c8c",
   "metadata": {},
   "outputs": [
    {
     "name": "stdout",
     "output_type": "stream",
     "text": [
      "Hello Python\n"
     ]
    }
   ],
   "source": [
    "HP()"
   ]
  },
  {
   "cell_type": "code",
   "execution_count": 30,
   "id": "e6a5fb92",
   "metadata": {},
   "outputs": [],
   "source": [
    "## 2. Write a Python program to do arithmetical operations addition and division.?\n",
    "\n",
    "def add_div(num_1,num_2,op):\n",
    "    \"\"\" enter num_1 as first argument\n",
    "        enter num_2 as second argument\n",
    "        enter \"+\" or \"/\" as second argument within double quotes\n",
    "    \"\"\"\n",
    "    if op==\"+\":\n",
    "        return num_1+num_2\n",
    "    elif op == \"/\":\n",
    "        try:\n",
    "            return num_1/num_2\n",
    "        except ZeroDivisionError:\n",
    "            return \"cannot divide by 0\"\n",
    "        except exception as e:\n",
    "            return e\n",
    "    else:\n",
    "        return \"only addition (+) or division (/) of two numbers allowed\"\n",
    "\n",
    "## or\n",
    "\n",
    "def ari_op():\n",
    "    num_1 = float(input(\"Enter first number \"))\n",
    "    num_2 = float(input(\"Enter second number \"))\n",
    "    op = input(\"Enter 'a' for addition \\nEnter 'd' for division \")\n",
    "    op= op.lower()\n",
    "    if op==\"a\":\n",
    "        return num_1+num_2\n",
    "    elif op == \"d\":\n",
    "        try:\n",
    "            return num_1/num_2\n",
    "        except ZeroDivisionError:\n",
    "            return \"cannot divide by 0\"\n",
    "        except exception as e:\n",
    "            return e\n",
    "    else:\n",
    "        return \"only addition or division of two numbers allowed\""
   ]
  },
  {
   "cell_type": "code",
   "execution_count": 14,
   "id": "95c4441f",
   "metadata": {},
   "outputs": [
    {
     "data": {
      "text/plain": [
       "3"
      ]
     },
     "execution_count": 14,
     "metadata": {},
     "output_type": "execute_result"
    }
   ],
   "source": [
    "add_div(1,2,\"+\")"
   ]
  },
  {
   "cell_type": "code",
   "execution_count": 15,
   "id": "d51b8f07",
   "metadata": {},
   "outputs": [
    {
     "data": {
      "text/plain": [
       "'cannot divide by 0'"
      ]
     },
     "execution_count": 15,
     "metadata": {},
     "output_type": "execute_result"
    }
   ],
   "source": [
    "add_div(4,0,\"/\")"
   ]
  },
  {
   "cell_type": "code",
   "execution_count": 11,
   "id": "975f8218",
   "metadata": {},
   "outputs": [
    {
     "data": {
      "text/plain": [
       "'only addition (+) or division (/) of two numbers allowed'"
      ]
     },
     "execution_count": 11,
     "metadata": {},
     "output_type": "execute_result"
    }
   ],
   "source": [
    "add_div(4,2,\"*\")"
   ]
  },
  {
   "cell_type": "code",
   "execution_count": 29,
   "id": "fde546cd",
   "metadata": {},
   "outputs": [
    {
     "name": "stdout",
     "output_type": "stream",
     "text": [
      "Enter first number 80\n",
      "Enter second number 67\n",
      "Enter 'a' for addition \n",
      " Enter 'd' for division a\n"
     ]
    },
    {
     "data": {
      "text/plain": [
       "147.0"
      ]
     },
     "execution_count": 29,
     "metadata": {},
     "output_type": "execute_result"
    }
   ],
   "source": [
    "ari_op()"
   ]
  },
  {
   "cell_type": "code",
   "execution_count": 31,
   "id": "15713749",
   "metadata": {},
   "outputs": [
    {
     "name": "stdout",
     "output_type": "stream",
     "text": [
      "Enter first number 74\n",
      "Enter second number 37\n",
      "Enter 'a' for addition \n",
      "Enter 'd' for division d\n"
     ]
    },
    {
     "data": {
      "text/plain": [
       "2.0"
      ]
     },
     "execution_count": 31,
     "metadata": {},
     "output_type": "execute_result"
    }
   ],
   "source": [
    "ari_op()"
   ]
  },
  {
   "cell_type": "code",
   "execution_count": 32,
   "id": "d9d07615",
   "metadata": {},
   "outputs": [
    {
     "name": "stdout",
     "output_type": "stream",
     "text": [
      "Enter first number 8\n",
      "Enter second number 0\n",
      "Enter 'a' for addition \n",
      "Enter 'd' for division d\n"
     ]
    },
    {
     "data": {
      "text/plain": [
       "'cannot divide by 0'"
      ]
     },
     "execution_count": 32,
     "metadata": {},
     "output_type": "execute_result"
    }
   ],
   "source": [
    "ari_op()"
   ]
  },
  {
   "cell_type": "code",
   "execution_count": 35,
   "id": "92a023da",
   "metadata": {},
   "outputs": [],
   "source": [
    "## 3. Write a Python program to find the area of a triangle?\n",
    "import math\n",
    "def tri_area(a,b,c):\n",
    "    \"\"\"\n",
    "    This function returns area of triangle when lenght of 3 sides are given\n",
    "    \n",
    "    \"\"\"\n",
    "    \n",
    "    \n",
    "    s= 0.5*(a+b+c)\n",
    "    a = s*(s-a)*(s-b)*(s-c)\n",
    "    area = math.sqrt(a)\n",
    "    \n",
    "    return area\n",
    "    "
   ]
  },
  {
   "cell_type": "code",
   "execution_count": 36,
   "id": "cdf0fe3b",
   "metadata": {},
   "outputs": [
    {
     "data": {
      "text/plain": [
       "6.0"
      ]
     },
     "execution_count": 36,
     "metadata": {},
     "output_type": "execute_result"
    }
   ],
   "source": [
    "tri_area(3,4,5)"
   ]
  },
  {
   "cell_type": "code",
   "execution_count": 46,
   "id": "066db415",
   "metadata": {},
   "outputs": [],
   "source": [
    "## 4. Write a Python program to swap two variables?\n",
    "\n",
    "def swap():\n",
    "    \"\"\" this function swaps two variables\"\"\"\n",
    "    \n",
    "    a=input(\"enter value of a \")\n",
    "    b=input(\"enter value of b \")\n",
    "    print(\"Before swapping value of a = {} \\nvalue of b = {}\".format(a,b))\n",
    "    temp =b\n",
    "    b=a\n",
    "    a=temp\n",
    "    \n",
    "    print(\"After swapping value of a = {} \\nvalue of b = {}\".format(a,b))"
   ]
  },
  {
   "cell_type": "code",
   "execution_count": 45,
   "id": "69dc2b26",
   "metadata": {},
   "outputs": [
    {
     "name": "stdout",
     "output_type": "stream",
     "text": [
      "enter value of a P\n",
      "enter value of b S\n",
      "Before swapping value of a = P \n",
      "value of b =S\n",
      "After swapping value of a = S \n",
      "value of b =P\n"
     ]
    }
   ],
   "source": [
    "swap()"
   ]
  },
  {
   "cell_type": "code",
   "execution_count": 62,
   "id": "1dbb0396",
   "metadata": {},
   "outputs": [],
   "source": [
    "## 5. Write a Python program to generate a random number?\n",
    "import random\n",
    "def rand_num():\n",
    "    \n",
    "    \"\"\"\n",
    "    Return a random integer between 1 to 100000\n",
    "    \"\"\"\n",
    "    nu= random.randint(1,100000)\n",
    "    return nu\n",
    "    "
   ]
  },
  {
   "cell_type": "code",
   "execution_count": 63,
   "id": "a9839e1a",
   "metadata": {},
   "outputs": [
    {
     "data": {
      "text/plain": [
       "45779"
      ]
     },
     "execution_count": 63,
     "metadata": {},
     "output_type": "execute_result"
    }
   ],
   "source": [
    "rand_num()"
   ]
  },
  {
   "cell_type": "code",
   "execution_count": null,
   "id": "4fdc45c0",
   "metadata": {},
   "outputs": [],
   "source": []
  },
  {
   "cell_type": "code",
   "execution_count": null,
   "id": "3b0089dc",
   "metadata": {},
   "outputs": [],
   "source": []
  }
 ],
 "metadata": {
  "kernelspec": {
   "display_name": "Python 3 (ipykernel)",
   "language": "python",
   "name": "python3"
  },
  "language_info": {
   "codemirror_mode": {
    "name": "ipython",
    "version": 3
   },
   "file_extension": ".py",
   "mimetype": "text/x-python",
   "name": "python",
   "nbconvert_exporter": "python",
   "pygments_lexer": "ipython3",
   "version": "3.8.8"
  }
 },
 "nbformat": 4,
 "nbformat_minor": 5
}
