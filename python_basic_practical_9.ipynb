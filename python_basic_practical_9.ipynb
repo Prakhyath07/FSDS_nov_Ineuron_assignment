{
 "cells": [
  {
   "cell_type": "raw",
   "id": "0e173cca",
   "metadata": {},
   "source": [
    "1. Write a Python program to check if the given number is a Disarium Number?"
   ]
  },
  {
   "cell_type": "code",
   "execution_count": 1,
   "id": "56e8d6fb",
   "metadata": {},
   "outputs": [],
   "source": [
    "def disarium(num):\n",
    "    digits=[]\n",
    "    inp=num\n",
    "    while num>0:\n",
    "        digits.append(num%10)\n",
    "        num=num//10\n",
    "    digits.reverse()\n",
    "    n=len(digits)\n",
    "    sum=0\n",
    "    for i in range(0,n):\n",
    "        sum+=(digits[i]**(i+1))\n",
    "    if sum==inp:\n",
    "        return True\n",
    "    else:\n",
    "        return False"
   ]
  },
  {
   "cell_type": "code",
   "execution_count": 2,
   "id": "5b8f1478",
   "metadata": {},
   "outputs": [
    {
     "data": {
      "text/plain": [
       "True"
      ]
     },
     "execution_count": 2,
     "metadata": {},
     "output_type": "execute_result"
    }
   ],
   "source": [
    "disarium(175)"
   ]
  },
  {
   "cell_type": "raw",
   "id": "52f03ed6",
   "metadata": {},
   "source": [
    "2. Write a Python program to print all disarium numbers between 1 to 100?"
   ]
  },
  {
   "cell_type": "code",
   "execution_count": 3,
   "id": "fdbbee26",
   "metadata": {},
   "outputs": [
    {
     "name": "stdout",
     "output_type": "stream",
     "text": [
      "1\n",
      "2\n",
      "3\n",
      "4\n",
      "5\n",
      "6\n",
      "7\n",
      "8\n",
      "9\n",
      "89\n"
     ]
    }
   ],
   "source": [
    "def disarium(num):\n",
    "    digits=[]\n",
    "    inp=num\n",
    "    while num>0:\n",
    "        digits.append(num%10)\n",
    "        num=num//10\n",
    "    digits.reverse()\n",
    "    n=len(digits)\n",
    "    sum=0\n",
    "    for i in range(0,n):\n",
    "        sum+=(digits[i]**(i+1))\n",
    "    if sum==inp:\n",
    "        return True\n",
    "    else:\n",
    "        return False\n",
    "    \n",
    "for i in range(1,101):\n",
    "    if disarium(i):\n",
    "        print(i)"
   ]
  },
  {
   "cell_type": "raw",
   "id": "d9cd6e13",
   "metadata": {},
   "source": [
    "3. Write a Python program to check if the given number is Happy Number?"
   ]
  },
  {
   "cell_type": "code",
   "execution_count": 1,
   "id": "abd05496",
   "metadata": {},
   "outputs": [],
   "source": [
    "def Happy_num(num):\n",
    "    original=num\n",
    "    def digits(num):\n",
    "        digits=[]\n",
    "        inp=num\n",
    "        while num>0:\n",
    "            digits.append(num%10)\n",
    "            num=num//10\n",
    "        digits.reverse()\n",
    "        return digits\n",
    "    n=len(digits(num))\n",
    "\n",
    "    sum=0\n",
    "    for i in range(0,n):\n",
    "        sum+=((digits(num)[i])**2)\n",
    "    num=sum\n",
    "    \n",
    "    while len(digits(num))>1:\n",
    "        n=len(digits(num))\n",
    "        \n",
    "        sum=0\n",
    "        for i in range(0,n):\n",
    "            sum+=((digits(num)[i])**2)\n",
    "        num=sum\n",
    "        if num==original:\n",
    "            break\n",
    "        \n",
    "    if num==1:\n",
    "        return True\n",
    "    else:\n",
    "        return False"
   ]
  },
  {
   "cell_type": "code",
   "execution_count": 2,
   "id": "c18567c6",
   "metadata": {},
   "outputs": [
    {
     "data": {
      "text/plain": [
       "True"
      ]
     },
     "execution_count": 2,
     "metadata": {},
     "output_type": "execute_result"
    }
   ],
   "source": [
    "Happy_num(7)"
   ]
  },
  {
   "cell_type": "raw",
   "id": "9cfee714",
   "metadata": {},
   "source": [
    "4. Write a Python program to print all happy numbers between 1 and 100?"
   ]
  },
  {
   "cell_type": "code",
   "execution_count": 3,
   "id": "09061dcf",
   "metadata": {},
   "outputs": [
    {
     "name": "stdout",
     "output_type": "stream",
     "text": [
      "1\n",
      "7\n",
      "10\n",
      "13\n",
      "19\n",
      "23\n",
      "28\n",
      "31\n",
      "32\n",
      "44\n",
      "49\n",
      "68\n",
      "70\n",
      "79\n",
      "82\n",
      "86\n",
      "91\n",
      "94\n",
      "97\n",
      "100\n"
     ]
    }
   ],
   "source": [
    "def Happy_num(num):\n",
    "    original=num\n",
    "    def digits(num):\n",
    "        digits=[]\n",
    "        inp=num\n",
    "        while num>0:\n",
    "            digits.append(num%10)\n",
    "            num=num//10\n",
    "        digits.reverse()\n",
    "        return digits\n",
    "    n=len(digits(num))\n",
    "\n",
    "    sum=0\n",
    "    for i in range(0,n):\n",
    "        sum+=((digits(num)[i])**2)\n",
    "    num=sum\n",
    "    \n",
    "    while len(digits(num))>1:\n",
    "        n=len(digits(num))\n",
    "        \n",
    "        sum=0\n",
    "        for i in range(0,n):\n",
    "            sum+=((digits(num)[i])**2)\n",
    "        num=sum\n",
    "        if num==original:\n",
    "            break\n",
    "        \n",
    "    if num==1:\n",
    "        return True\n",
    "    else:\n",
    "        return False\n",
    "\n",
    "for i in range(1,101):\n",
    "    if Happy_num(i):\n",
    "        print(i)\n"
   ]
  },
  {
   "cell_type": "raw",
   "id": "1665b666",
   "metadata": {},
   "source": [
    "5. Write a Python program to determine whether the given number is a Harshad Number?"
   ]
  },
  {
   "cell_type": "code",
   "execution_count": 4,
   "id": "94c65d86",
   "metadata": {},
   "outputs": [],
   "source": [
    "def Harshad_num(num):\n",
    "    digits=[]\n",
    "    inp=num\n",
    "    while num>0:\n",
    "        digits.append(num%10)\n",
    "        num=num//10\n",
    "    digits.reverse()\n",
    "    n=len(digits)\n",
    "    sum=0\n",
    "    \n",
    "    for i in range(n):\n",
    "        sum+=digits[i]\n",
    "    if inp%sum==0:\n",
    "        return True\n",
    "    else:\n",
    "        return False"
   ]
  },
  {
   "cell_type": "code",
   "execution_count": 5,
   "id": "781a5124",
   "metadata": {},
   "outputs": [
    {
     "data": {
      "text/plain": [
       "True"
      ]
     },
     "execution_count": 5,
     "metadata": {},
     "output_type": "execute_result"
    }
   ],
   "source": [
    "Harshad_num(156)"
   ]
  },
  {
   "cell_type": "raw",
   "id": "ffa03dc0",
   "metadata": {},
   "source": [
    "6. Write a Python program to print all pronic numbers between 1 and 100?"
   ]
  },
  {
   "cell_type": "code",
   "execution_count": 3,
   "id": "a9f0d8b5",
   "metadata": {},
   "outputs": [],
   "source": [
    "def pronic():\n",
    "    i=1\n",
    "    mul=0\n",
    "    while mul<101:\n",
    "        mul=i*(i+1)\n",
    "        i+=1\n",
    "        if mul<101:\n",
    "            print(mul)"
   ]
  },
  {
   "cell_type": "code",
   "execution_count": 4,
   "id": "9c9aa667",
   "metadata": {},
   "outputs": [
    {
     "name": "stdout",
     "output_type": "stream",
     "text": [
      "2\n",
      "6\n",
      "12\n",
      "20\n",
      "30\n",
      "42\n",
      "56\n",
      "72\n",
      "90\n"
     ]
    }
   ],
   "source": [
    "pronic()"
   ]
  },
  {
   "cell_type": "code",
   "execution_count": null,
   "id": "910ffc14",
   "metadata": {},
   "outputs": [],
   "source": []
  }
 ],
 "metadata": {
  "kernelspec": {
   "display_name": "Python 3 (ipykernel)",
   "language": "python",
   "name": "python3"
  },
  "language_info": {
   "codemirror_mode": {
    "name": "ipython",
    "version": 3
   },
   "file_extension": ".py",
   "mimetype": "text/x-python",
   "name": "python",
   "nbconvert_exporter": "python",
   "pygments_lexer": "ipython3",
   "version": "3.8.8"
  }
 },
 "nbformat": 4,
 "nbformat_minor": 5
}
