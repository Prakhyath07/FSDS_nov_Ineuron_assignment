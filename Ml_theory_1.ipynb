{
 "cells": [
  {
   "cell_type": "raw",
   "id": "a4b7f628",
   "metadata": {},
   "source": [
    "1. What does one mean by the term \"machine learning\"?\n",
    "\n",
    "Machine learning is an area of artificial intelligence (AI) with a concept that a computer program can learn and adapt to new data without human intervention.\n",
    "A complex algorithm or source code is built into a computer that allows for the machine to identify data and build predictions around the data that it identifies.\n",
    "Machine learning is useful in parsing the immense amount of information that is consistently and readily available in the world to assist in decision making.\n",
    "Machine learning can be applied in a variety of areas, such as in investing, advertising, lending, organizing news, fraud detection, and more.\n"
   ]
  },
  {
   "cell_type": "raw",
   "id": "7c0b3087",
   "metadata": {},
   "source": [
    "2.Can you think of 4 distinct types of issues where it shines?\n",
    "\n",
    "1. Supervised Learning \n",
    "Type #1: Classification\n",
    "\n",
    "The training data contains defined discrete labels and the goal is to predict the discrete labels the testing data maps to.\n",
    "This classification can be binary or multi-class, based on the use case.\n",
    "For example, Mails are generally classified into spam, inbox, promotions, forums, updates, etc.\n",
    "\n",
    "Type #2: Regression\n",
    "\n",
    "The training data has discrete continuous values instead of labels and the goal is to predict a value as close\n",
    "to the actual output according to the trend observed in the training data.\n",
    "A major focus lies on minimising the error value to as little as possible.\n",
    "For example: Predicting real estate prices in a locality based on various features.\n",
    "The model can take into account a single feature or multiple features.\n",
    "\n",
    "2.Unsupervised Learning: Clustering: \n",
    "The focus is on splitting the raw data into a pre-defined number of clusters that are different from\n",
    "other clusters but similar within the same cluster.\n",
    "For example, Recommender systems recommend items similar to the ones you have already shown a\n",
    "liking towards on the basis of various features.\n",
    "\n",
    "3.Semi-Supervised Learning\n",
    "\n",
    "As the name suggests, semi-supervised learning is an amalgamation of both supervised and unsupervised machine learning techniques. The training data includes both labelled and unlabelled data, however the proportion of unlabelled data is generally higher as compared to its labelled data counterpart.\n",
    "\n",
    "In semi-supervised learning, the unsupervised technique is used to divide the data into smaller sub groups, which is then fed to supervised techniques to generate accurate labelling.\n",
    "\n",
    "For example: Classification of images datasets where only a small fraction of images have been labelled.\n",
    "\n",
    "\n",
    "4.Reinforcement Learning\n",
    "\n",
    "Reinforcement learning is probably the latest development in the field of machine learning where the model keeps improving its performance and accuracy incrementally with the help of a reward feedback, which can be positive or negative. As and when new data is fed into the system, the system learns and adds the data to its knowledge base, making it better trained and more experienced.\n",
    "\n"
   ]
  },
  {
   "cell_type": "raw",
   "id": "d0c89709",
   "metadata": {},
   "source": [
    "3.What is a labeled training set, and how does it work?\n",
    "\n",
    "Labeled training set is the input to supervised learning models using which the model learns the importance of each feature by continuously updating the weightage assigned by comparing the predicted output to labeled ouput and thus iterative reducing the error"
   ]
  },
  {
   "cell_type": "raw",
   "id": "f6b2a9b9",
   "metadata": {},
   "source": [
    "4.What are the two most important tasks that are supervised?\n",
    "\n",
    "Classification and regression\n"
   ]
  },
  {
   "cell_type": "raw",
   "id": "47b9523b",
   "metadata": {},
   "source": [
    "5.Can you think of four examples of unsupervised tasks?\n",
    "\n",
    "* Audience augmentation\n",
    "* Anomaly detection\n",
    "* Pattern recognition\n",
    "* Recommendation engines"
   ]
  },
  {
   "cell_type": "raw",
   "id": "afe7f10d",
   "metadata": {},
   "source": [
    "6.State the machine learning model that would be best to make a robot walk through various\n",
    "unfamiliar terrains?\n",
    "\n",
    "Reinforcement learning"
   ]
  },
  {
   "cell_type": "raw",
   "id": "8e159389",
   "metadata": {},
   "source": [
    "7.Which algorithm will you use to divide your customers into different groups?\n",
    "\n",
    "Unsupervised machine learning algorithms like K-means clustering, DBSCAN etc"
   ]
  },
  {
   "cell_type": "raw",
   "id": "2edfac12",
   "metadata": {},
   "source": [
    "8.Will you consider the problem of spam detection to be a supervised or unsupervised learning\n",
    "problem?\n",
    "\n",
    "the problem of spam detection belongs to both supervised and unsupervised learning\n",
    "\n",
    "supervised is prefered.\n"
   ]
  },
  {
   "cell_type": "raw",
   "id": "83c60db3",
   "metadata": {},
   "source": [
    "9.What is the concept of an online learning system?\n",
    "\n",
    "In computer science, online machine learning is a method of machine learning in which data becomes available in a sequential order and is used to update the best predictor for future data at each step, as opposed to batch learning techniques which generate the best predictor by learning on the entire training data set at once. Online learning is a common technique used in areas of machine learning where it is computationally infeasible to train over the entire dataset"
   ]
  },
  {
   "cell_type": "raw",
   "id": "abf36271",
   "metadata": {},
   "source": [
    "10.What is out-of-core learning, and how does it differ from core learning?\n",
    "\n",
    "In computing, external memory algorithms or out-of-core algorithms are algorithms that are designed to process data that are too large to fit into a computer's main memory at once. Such algorithms must be optimized to efficiently fetch and access data stored in slow bulk memory (auxiliary memory) such as hard drives or tape drives, or when memory is on a computer network."
   ]
  },
  {
   "cell_type": "raw",
   "id": "9b444a0b",
   "metadata": {},
   "source": [
    "11.What kind of learning algorithm makes predictions using a similarity measure?\n",
    "\n",
    "For algorithms like the k-nearest neighbor and k-means,"
   ]
  },
  {
   "cell_type": "raw",
   "id": "0a5b1b9e",
   "metadata": {},
   "source": [
    "12.What's the difference between a model parameter and a hyperparameter in a learning\n",
    "algorithm?\n",
    "\n",
    "A model parameter is a configuration variable that is internal to the model and whose value can be estimated from data.\n",
    "\n",
    "They are required by the model when making predictions.\n",
    "They values define the skill of the model on your problem.\n",
    "They are estimated or learned from data.\n",
    "They are often not set manually by the practitioner.\n",
    "They are often saved as part of the learned model.\n",
    "\n",
    "\n",
    "A model hyperparameter is a configuration that is external to the model and whose value cannot be estimated from data.\n",
    "\n",
    "They are often used in processes to help estimate model parameters.\n",
    "They are often specified by the practitioner.\n",
    "They can often be set using heuristics.\n",
    "They are often tuned for a given predictive modeling problem.\n",
    "We cannot know the best value for a model hyperparameter on a given problem. We may use rules of thumb, copy values used on other problems, or search for the best value by trial and error.\n",
    "\n",
    "When a machine learning algorithm is tuned for a specific problem, such as when you are using a grid search or a random search, then you are tuning the hyperparameters of the model or order to discover the parameters of the model that result in the most skillful predictions."
   ]
  },
  {
   "cell_type": "raw",
   "id": "c76922da",
   "metadata": {},
   "source": [
    "13.What are the criteria that model-based learning algorithms look for? What is the most popular\n",
    "method they use to achieve success? What method do they use to make predictions?\n",
    "\n",
    "key idea enabling model-based learning algorithms for machine learning is Bayesian inference/learning. In MBML, latent/hidden parameters are expressed as random variables with probability distributions. This allows for a coherent and principled manner of quantification of uncertainty in the model parameters. Once the observed variables in the model are fixed to their observed values, initially assumed probability distributions (i.e. priors) are updated using the Bayes' theorem.\n",
    "\n",
    "Predictions: Perform backward reasoning to update the prior distribution over the latent variables or parameters. In other words, calculate the posterior probability distributions of latent variables conditioned on observed variables.\n"
   ]
  },
  {
   "cell_type": "raw",
   "id": "2e5a2969",
   "metadata": {},
   "source": [
    "14.Can you name four of the most important Machine Learning challenges?\n",
    "\n",
    "\n",
    "1. Supervised Learning \n",
    "Type #1: Classification\n",
    "\n",
    "The training data contains defined discrete labels and the goal is to predict the discrete labels the testing data maps to.\n",
    "This classification can be binary or multi-class, based on the use case.\n",
    "For example, Mails are generally classified into spam, inbox, promotions, forums, updates, etc.\n",
    "\n",
    "Type #2: Regression\n",
    "\n",
    "The training data has discrete continuous values instead of labels and the goal is to predict a value as close\n",
    "to the actual output according to the trend observed in the training data.\n",
    "A major focus lies on minimising the error value to as little as possible.\n",
    "For example: Predicting real estate prices in a locality based on various features.\n",
    "The model can take into account a single feature or multiple features.\n",
    "\n",
    "2.Unsupervised Learning: Clustering: \n",
    "The focus is on splitting the raw data into a pre-defined number of clusters that are different from\n",
    "other clusters but similar within the same cluster.\n",
    "For example, Recommender systems recommend items similar to the ones you have already shown a\n",
    "liking towards on the basis of various features.\n",
    "\n",
    "3.Semi-Supervised Learning\n",
    "\n",
    "As the name suggests, semi-supervised learning is an amalgamation of both supervised and unsupervised machine learning techniques. The training data includes both labelled and unlabelled data, however the proportion of unlabelled data is generally higher as compared to its labelled data counterpart.\n",
    "\n",
    "In semi-supervised learning, the unsupervised technique is used to divide the data into smaller sub groups, which is then fed to supervised techniques to generate accurate labelling.\n",
    "\n",
    "For example: Classification of images datasets where only a small fraction of images have been labelled.\n",
    "\n",
    "\n",
    "4.Reinforcement Learning\n",
    "\n",
    "Reinforcement learning is probably the latest development in the field of machine learning where the model keeps improving its performance and accuracy incrementally with the help of a reward feedback, which can be positive or negative. As and when new data is fed into the system, the system learns and adds the data to its knowledge base, making it better trained and more experienced."
   ]
  },
  {
   "cell_type": "raw",
   "id": "f229dd85",
   "metadata": {},
   "source": [
    "15.What happens if the model performs well on the training data but fails to generalize the results\n",
    "to new situations? Can you think of three different options?\n",
    "\n",
    "This is called overfitting.\n",
    "statistical model is said to be overfitted if it can’t generalize well with unseen data.\n",
    " \n",
    "Below are several ways that can be used to prevent overfitting:\n",
    "\n",
    "Early Stopping:In this technique, the training is paused before the model starts learning the noise within the model\n",
    "\n",
    "\n",
    "Feature Selection: While building the ML model, we have a number of parameters or features that are used to predict the outcome. However, sometimes some of these features are redundant or less important for the prediction, and for this feature selection process is applied. In the feature selection process, we identify the most important features within training data, and other features are removed. Further, this process helps to simplify the model and reduces noise from the data. Some algorithms have the auto-feature selection, and if not, then we can manually perform this process.\n",
    "\n",
    "Cross-Validation: Cross-validation is one of the powerful techniques to prevent overfitting.\n",
    "In the general k-fold cross-validation technique, we divided the dataset into k-equal-sized subsets of data; these subsets are known as folds.\n",
    "\n",
    "Regularization: Regularization is the most popular technique to prevent overfitting. It is a group of methods that forces the learning algorithms to make a model simpler. Applying the regularization technique may slightly increase the bias but slightly reduces the variance. In this technique, we modify the objective function by adding the penalizing term, which has a higher value with a more complex model.\n",
    "\n",
    "The two commonly used regularization techniques are L1 Regularization and L2 Regularization."
   ]
  },
  {
   "cell_type": "raw",
   "id": "cd59b28c",
   "metadata": {},
   "source": [
    "16.What exactly is a test set, and why would you need one?\n",
    "\n",
    "Test set is used to get an unbiased estimate of the final model performance.we fit the final model to the test set to get an unbiased estimate of what the true error rate will be in the real world.\n",
    "\n"
   ]
  },
  {
   "cell_type": "raw",
   "id": "0bd8e77b",
   "metadata": {},
   "source": [
    "17.What is a validation set's purpose?\n",
    "\n",
    "The validation set is used to optimize the model parameters while the test set is used to provide an unbiased estimate of the final model.\n",
    "\n",
    "It can be shown that the error rate as measured by k-fold cross validation tends to underestimate the true error rate once the model is applied to an unseen dataset.\n"
   ]
  },
  {
   "cell_type": "raw",
   "id": "cc054437",
   "metadata": {},
   "source": [
    "18.What precisely is the train-dev kit, when will you need it, how do you put it to use?\n",
    "\n",
    "Setting up the training, development (dev) and test sets has a huge impact on productivity. It is important to choose the dev and test sets from the same distribution and it must be taken randomly from all the data.\n",
    "\n",
    "Guideline: Choose a dev set and test set to reflect data you expect to get in the future.\n",
    "\n",
    "The size of the dev and test set should be big enough for the dev and test results to be representative of the performance of the model. If the dev set has 100 examples, the dev accuracy can vary a lot depending on the chosen dev set. For bigger datasets (>1M examples), the dev and test set can have around 10,000 examples each for instance (only 1% of the total data).\n",
    "\n",
    "Guideline: The dev and test sets should be just big enough to represent accurately the performance of the model\n",
    "\n",
    "If the training set and dev sets have different distributions, it is good practice to introduce a train-dev set that has the same distribution as the training set. This train-dev set will be used to measure how much the model is overfitting."
   ]
  },
  {
   "cell_type": "raw",
   "id": "b6fba3ef",
   "metadata": {},
   "source": [
    "19.What could go wrong if you use the test set to tune hyperparameters?\n",
    "\n",
    "There will be data leakage as we will be basically training the modle using test set.\n",
    "hence when we check the performance of model on test set it will not be unbiazed"
   ]
  }
 ],
 "metadata": {
  "kernelspec": {
   "display_name": "Python 3 (ipykernel)",
   "language": "python",
   "name": "python3"
  },
  "language_info": {
   "codemirror_mode": {
    "name": "ipython",
    "version": 3
   },
   "file_extension": ".py",
   "mimetype": "text/x-python",
   "name": "python",
   "nbconvert_exporter": "python",
   "pygments_lexer": "ipython3",
   "version": "3.8.8"
  }
 },
 "nbformat": 4,
 "nbformat_minor": 5
}
