{
 "cells": [
  {
   "cell_type": "raw",
   "id": "b191eddd",
   "metadata": {},
   "source": [
    "1. What is the concept of human learning? Please give two examples.\n",
    "\n",
    "All human learning is — observing something, identifying a pattern, building a theory (model) to explain this pattern and testing this theory to check if its fits in most or all observations\n",
    "\n",
    "Newton studied the motion of physical bodies and explained this motion in terms of forces acted upon them. He discovered the “pattern” or “relationship” between the forces acting upon a body and the motion as a response to these forces and expressed it in form of his laws (“model”). Newton’s second law of motion is expressed mathematically as follows:\n",
    "\n",
    "Force = Mass * Acceleration\n",
    "\n",
    "Is this model accurate? Does it fit all observations? This model works in almost all cases but there are some exceptions. It starts predicting inaccurate results for bodies that are moving at very very high speeds. Einstein proposed another model to explain the motion of such bodies.\n",
    "\n",
    "No model or learning reflects “true” or “absolute” reality. Every model or learning is an approximation of observed reality."
   ]
  },
  {
   "cell_type": "raw",
   "id": "acc191f8",
   "metadata": {},
   "source": [
    "2. What different forms of human learning are there? Are there any machine learning equivalents?\n",
    "\n",
    "* A human can be taught by the teacher in a class room which is similar to super vised machine learning\n",
    "* A human can learn things on his own because of his experiences which is similar to un Reinforcement learning"
   ]
  },
  {
   "cell_type": "raw",
   "id": "2e1d9151",
   "metadata": {},
   "source": [
    "3. What is machine learning, and how does it work? What are the key responsibilities of machine\n",
    "learning?\n",
    "\n",
    "Machine learning is an area of artificial intelligence (AI) with a concept that a computer program can learn and adapt to new data without human intervention.\n",
    "A complex algorithm or source code is built into a computer that allows for the machine to identify data and build predictions around the data that it identifies.\n",
    "Machine learning is useful in parsing the immense amount of information that is consistently and readily available in the world to assist in decision making.\n",
    "Machine learning can be applied in a variety of areas, such as in investing, advertising, lending, organizing news, fraud detection, and more.\n"
   ]
  },
  {
   "cell_type": "raw",
   "id": "41a5d9db",
   "metadata": {},
   "source": [
    "4. Define the terms \"penalty\" and \"reward\" in the context of reinforcement learning.\n",
    "\n",
    "Reinforcement Learning is a feedback-based Machine learning technique in which an agent learns to behave in an environment by performing the actions and seeing the results of actions. For each good action, the agent gets positive feedback, and for each bad action, the agent gets negative feedback or penalty\n",
    "The agent learns that what actions lead to positive feedback or rewards and what actions lead to negative feedback penalty. As a positive reward, the agent gets a positive point, and as a penalty, it gets a negative point."
   ]
  },
  {
   "cell_type": "raw",
   "id": "9c9dceb1",
   "metadata": {},
   "source": [
    "5. Explain the term \"learning as a search\"?\n",
    "Applied machine learning is challenging because the designing of a perfect learning system for a given problem is intractable.\n",
    "\n",
    "There is no best training data or best algorithm for your problem, only the best that you can discover.\n",
    "\n",
    "The application of machine learning is best thought of as search problem for the best mapping of inputs to outputs given the knowledge and resources available to you for a given project."
   ]
  },
  {
   "cell_type": "raw",
   "id": "a6e380e6",
   "metadata": {},
   "source": [
    "6. What are the various goals of machine learning? What is the relationship between these and\n",
    "human learning?\n",
    "\n",
    "Goal of machine learning is to let machines to learn on their own based on the data and then be able to predict something based on new data.\n",
    "\n",
    "Even for a human since birth we will be looking at different things and learning from them. So as we grow up we will be able to take some decisions on our own"
   ]
  },
  {
   "cell_type": "raw",
   "id": "09632cfd",
   "metadata": {},
   "source": [
    "7. Illustrate the various elements of machine learning using a real-life illustration.\n",
    "\n",
    "House price regression:\n",
    "\n",
    "Data: the data for the model to learn can be square feet of the house and their corresponding prices based on houses sold earlier.\n",
    "\n",
    "model:\n",
    "we can use a linear regression model to learn the relationship between the input variable that is square feet of the house and the output that is price of house.\n",
    "The algorithm can achieve it in a crude way as follows:\n",
    "\n",
    "Assume that Price is w times Area. Start by randomly taking any value of w\n",
    "For each value of Area and w, calculate Price. Compare it with the original price given in data. Original Price — Calculated Price is the error. Take a mean of the error for all Calculated and Original Prices. This is the average error caused by the model\n",
    "Change the value of w and keep repeating step 2 until the average error is 0 or approaches very close to 0 and no improvement is made\n",
    "\n"
   ]
  },
  {
   "cell_type": "raw",
   "id": "098cd92b",
   "metadata": {},
   "source": [
    "8. Provide an example of the abstraction method.\n",
    "\n",
    "As in other fields of Artificial Intelligence, abstraction plays a key role in learning.\n",
    "\n",
    "in super vised learning most widely used abstraction approaches are feature selection and feature discretization The Filter, Wrapper and Embedded approaches, used for feature selection, can be extended to include many other types of abstractions, in both propositional and relational learning. Feature construction, Predicate invention, Term abstraction and propositionalization are also reviewed within the context of propositional and relational learning.\n",
    "\n",
    "In the case of Reinforcement Learning, abstraction methods can be either model driven (by analyzing the transition table and approximating it using a dynamic Bayesian network), or value driven (by analyzing the function V, and learning for it a compact representation, such as a decision tree), or policy driven. "
   ]
  },
  {
   "cell_type": "raw",
   "id": "d8051336",
   "metadata": {},
   "source": [
    "9. What is the concept of generalization? What function does it play in the machine learning\n",
    "process?\n",
    "\n",
    "In machine learning, generalization is a definition to demonstrate how well is a trained model to classify or forecast unseen data. Training a generalized machine learning model means, in general, it works for all subset of unseen data. An example is when we train a model to classify between dogs and cats. If the model is provided with dogs images dataset with only two breeds, it may obtain a good performance. But, it possibly gets a low classification score when it is tested by other breeds of dogs as well. This issue can result to classify an actual dog image as a cat from the unseen dataset. Therefore, data diversity is very important factor in order to make a good prediction."
   ]
  },
  {
   "cell_type": "raw",
   "id": "ec1bb359",
   "metadata": {},
   "source": [
    "10. What is classification, exactly? What are the main distinctions between classification and regression?\n",
    "\n",
    "Classification is a predictive model that approximates a mapping function from input variables to identify discrete output variables, which can be labels or categories. The mapping function of classification algorithms is responsible for predicting the label or category of the given input variables. A classification algorithm can have both discrete and real-valued variables, but it requires that the examples be classified into one of two or more classes. \n",
    "\n",
    "The most significant difference between regression vs classification is that while regression helps predict a continuous quantity, classification predicts discrete class labels. \n"
   ]
  },
  {
   "cell_type": "raw",
   "id": "d7b6d1ce",
   "metadata": {},
   "source": [
    "11. What is regression, and how does it work? Give an example of a real-world problem that was\n",
    "solved using regression.\n",
    "\n",
    "Regression algorithms predict a continuous value based on the input variables. The main goal of regression problems is to estimate a mapping function based on the input and output variables. If your target variable is a quantity like income, scores, height or weight, or the probability of a binary category (like the probability of rain in particular regions)"
   ]
  },
  {
   "cell_type": "raw",
   "id": "cab46873",
   "metadata": {},
   "source": [
    "12. Describe the clustering mechanism in detail.\n",
    "\n",
    "Clustering is an unsupervised machine learning method that categorizes the objects in unlabelled data into different categories. It can be defined officially as a method to group or categorize unlabelled data into different groups depending on the similarities. It means the clustering group the data points which are similar to one group and not similar to another group.\n",
    "\n",
    "In a dataset, there may be objects which can be grouped only to a single group and that is called hard clustering. Like that there will be data objects which can be other groups too that we call soft clustering. This is the broad classification. Let us check the clustering methods used in ML one by one.\n",
    "\n",
    "Partitioning clustering\n",
    "Density-based Clustering\n",
    "Distribution Model\n",
    "Hierarchical Clustering\n",
    "Fuzzy Clustering\n",
    "\n",
    "\n",
    "\n",
    "Partitioning clustering is also called centroid-based clustering because this clustering is based on a center point called centroid and grouping based on that centroid. In partitioning clustering, the data point is divided into non-hierarchical groups. For example, K means clustering.\n",
    "In this clustering method, the dataset is split into a number of predefined groups which can be represented as K, so K groups. Each cluster has a center and that is created in a way that the similar points to that cluster will be close (minimum distance) to the center point than the other points of other clusters.\n",
    "\n",
    "Density-based Clustering\n",
    "Density-based clustering is a way of clustering a dataset with respect to the density of data points and connecting these denser data points into a cluster. This method connects the highly-dense points to a cluster. \n",
    "In this method, the ML algorithm finds all the clusters in the dataset, and then it connects the dense areas of similar features into clusters. Due to this connection of dense areas the shape of this cluster will be arbitrarily shaped. This type of clustering is tough if the dataset is highly varying densities and dimensions.\n",
    "\n",
    "Distribution Model Based clustering\n",
    "This method of clustering is based on probability as the data is divided into different clusters based on the chance of how the dataset belongs to a distribution. This method is making the grouping by assuming some distribution called Gaussian distribution.\n",
    "\n",
    "Hierarchical Clustering\n",
    "Hierarchical clustering is a little similar to partitioning clustering so it can be used as an alternative for that. The difference is that in partitioning clustering we need to pre-define the cluster numbers but here, there is no need for that. \n",
    "In this clustering method as we know a hierarchal tree is created which is called a dendrogram. We can add any number of observations to that dendrogram by cutting the dendrogram's incorrect level. \n",
    "\n",
    "Fuzzy Clustering Algorithm\n",
    "This type of clustering is for soft clustering. In soft clustering, a data point may belong to more than one group so it will be hard to group such points. Here the data points are given a value that we call membership. The point is added to the cluster on the degree of membership. "
   ]
  },
  {
   "cell_type": "raw",
   "id": "92411b85",
   "metadata": {},
   "source": [
    "13. Make brief observations on two of the following topics:\n",
    "\n",
    "i. Machine learning algorithms are used\n",
    "ii. Studying under supervision\n",
    "iii. Studying without supervision\n",
    "\n",
    "iv. Reinforcement learning is a form of learning based on positive reinforcement.\n",
    "\n",
    "\n",
    "Studying under super vision:\n",
    "The training data contains defined discrete labels and the goal is to predict the discrete labels the testing data maps to.\n",
    "This classification can be binary or multi-class, based on the use case.\n",
    "For example, Mails are generally classified into spam, inbox, promotions, forums, updates, etc.\n",
    "\n",
    "Studying without super vision:\n",
    "The focus is on splitting the raw data into a pre-defined number of clusters that are different from\n",
    "other clusters but similar within the same cluster.\n",
    "For example, Recommender systems recommend items similar to the ones you have already shown a\n",
    "liking towards on the basis of various features."
   ]
  }
 ],
 "metadata": {
  "kernelspec": {
   "display_name": "Python 3 (ipykernel)",
   "language": "python",
   "name": "python3"
  },
  "language_info": {
   "codemirror_mode": {
    "name": "ipython",
    "version": 3
   },
   "file_extension": ".py",
   "mimetype": "text/x-python",
   "name": "python",
   "nbconvert_exporter": "python",
   "pygments_lexer": "ipython3",
   "version": "3.8.8"
  }
 },
 "nbformat": 4,
 "nbformat_minor": 5
}
