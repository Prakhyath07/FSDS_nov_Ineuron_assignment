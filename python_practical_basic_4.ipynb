{
 "cells": [
  {
   "cell_type": "code",
   "execution_count": 14,
   "id": "897c7c3a",
   "metadata": {},
   "outputs": [],
   "source": [
    "## 1. Write a Python Program to Find the Factorial of a Number?\n",
    "\n",
    "def fact(n):\n",
    "    try:\n",
    "        if n<0:\n",
    "            return \"Enter number greater than or equal to 0\"\n",
    "        elif n==0:\n",
    "            return 1\n",
    "        else:\n",
    "            return n*fact(n-1)\n",
    "    except TypeError:\n",
    "        return \"Please enter only numbers\"\n",
    "    except exception as e:\n",
    "        return e\n",
    "\n",
    "        "
   ]
  },
  {
   "cell_type": "code",
   "execution_count": 15,
   "id": "c6edba6b",
   "metadata": {},
   "outputs": [
    {
     "data": {
      "text/plain": [
       "20922789888000"
      ]
     },
     "execution_count": 15,
     "metadata": {},
     "output_type": "execute_result"
    }
   ],
   "source": [
    "fact(16)"
   ]
  },
  {
   "cell_type": "code",
   "execution_count": 25,
   "id": "48b6f0b2",
   "metadata": {},
   "outputs": [],
   "source": [
    "def mul_table(n,m=10):\n",
    "    \"\"\"\n",
    "    this function returns the multiplication table from 1 to m for entered number n\n",
    "    m=10 by default\n",
    "    \"\"\"\n",
    "    try:\n",
    "        for i in range(1,m+1):\n",
    "            print(\"{0} * {1} = {2}\".format(n,i,n*i))\n",
    "    except TypeError:\n",
    "        return \"Please enter only numbers\"\n",
    "    except exception as e:\n",
    "        return e "
   ]
  },
  {
   "cell_type": "code",
   "execution_count": 26,
   "id": "73a0e7e6",
   "metadata": {},
   "outputs": [
    {
     "name": "stdout",
     "output_type": "stream",
     "text": [
      "2 * 1 = 2\n",
      "2 * 2 = 4\n",
      "2 * 3 = 6\n",
      "2 * 4 = 8\n",
      "2 * 5 = 10\n",
      "2 * 6 = 12\n",
      "2 * 7 = 14\n",
      "2 * 8 = 16\n",
      "2 * 9 = 18\n",
      "2 * 10 = 20\n",
      "2 * 11 = 22\n",
      "2 * 12 = 24\n"
     ]
    }
   ],
   "source": [
    "mul_table(2,12)"
   ]
  },
  {
   "cell_type": "code",
   "execution_count": 39,
   "id": "d8b4046c",
   "metadata": {},
   "outputs": [],
   "source": [
    "## 3. Write a Python Program to Print the Fibonacci sequence?\n",
    "\n",
    "def fibon(n):\n",
    "    try:\n",
    "        a=[0,1]\n",
    "        if n<=0:\n",
    "            return \"enter numbers geater than 0\"\n",
    "        elif n==1:\n",
    "            return 0\n",
    "        \n",
    "        elif n==2:\n",
    "            return a\n",
    "        else:\n",
    "            for i in range(2,n):\n",
    "                b= a[i-1]+a[i-2]\n",
    "                a.append(b)\n",
    "            return a\n",
    "    except TypeError:\n",
    "        return \"Please enter only numbers\"\n",
    "    except exception as e:\n",
    "        return e    "
   ]
  },
  {
   "cell_type": "code",
   "execution_count": 43,
   "id": "740eb263",
   "metadata": {},
   "outputs": [
    {
     "data": {
      "text/plain": [
       "[0, 1, 1, 2, 3, 5, 8, 13, 21, 34]"
      ]
     },
     "execution_count": 43,
     "metadata": {},
     "output_type": "execute_result"
    }
   ],
   "source": [
    "fibon(10)"
   ]
  },
  {
   "cell_type": "code",
   "execution_count": 46,
   "id": "82e26511",
   "metadata": {},
   "outputs": [],
   "source": [
    "## 4. Write a Python Program to Check Armstrong Number?\n",
    "def chk_armstrong(n):\n",
    "    try:\n",
    "        a=str(n)\n",
    "        b=len(a)\n",
    "        c=int(a[0])**b\n",
    "        for i in range(1,b):\n",
    "            c+=int(a[i])**b\n",
    "\n",
    "        if c==n:\n",
    "            return \"Entered number is an Armstrong number\"\n",
    "        else:\n",
    "            return \"Entered number is not an Armstrong number\"\n",
    "    except TypeError:\n",
    "        return \"Please enter only numbers\"\n",
    "    except exception as e:\n",
    "        return e \n",
    "    \n",
    "        "
   ]
  },
  {
   "cell_type": "code",
   "execution_count": 56,
   "id": "549b7f77",
   "metadata": {},
   "outputs": [
    {
     "data": {
      "text/plain": [
       "'Entered number is an Armstrong number'"
      ]
     },
     "execution_count": 56,
     "metadata": {},
     "output_type": "execute_result"
    }
   ],
   "source": [
    "chk_armstrong(1634)"
   ]
  },
  {
   "cell_type": "code",
   "execution_count": 57,
   "id": "935def50",
   "metadata": {},
   "outputs": [],
   "source": [
    "## 5. Write a Python Program to Find Armstrong Number in an Interval?\n",
    "def armstrong(x,y):\n",
    "    try:\n",
    "        am=[]\n",
    "        for n in range(x,y+1):\n",
    "            a=str(n)\n",
    "            b=len(a)\n",
    "            c=int(a[0])**b\n",
    "            for i in range(1,b):\n",
    "                c+=int(a[i])**b\n",
    "\n",
    "            if c==n:\n",
    "                am.append(n)\n",
    "            else:\n",
    "                continue\n",
    "        return am\n",
    "    except TypeError:\n",
    "        return \"Please enter only numbers\"\n",
    "    except exception as e:\n",
    "        return e \n"
   ]
  },
  {
   "cell_type": "code",
   "execution_count": 59,
   "id": "954c8d08",
   "metadata": {},
   "outputs": [
    {
     "data": {
      "text/plain": [
       "[0, 1, 2, 3, 4, 5, 6, 7, 8, 9, 153, 370, 371]"
      ]
     },
     "execution_count": 59,
     "metadata": {},
     "output_type": "execute_result"
    }
   ],
   "source": [
    "armstrong(0,400)"
   ]
  },
  {
   "cell_type": "code",
   "execution_count": 65,
   "id": "0e63c426",
   "metadata": {},
   "outputs": [],
   "source": [
    "## 6. Write a Python Program to Find the Sum of Natural Numbers?\n",
    "def nat_num_sum(n):\n",
    "    try:\n",
    "        sum=(n*(n+1))/2\n",
    "        return sum\n",
    "            \n",
    "    except TypeError:\n",
    "        return \"Please enter only numbers\"\n",
    "    except exception as e:\n",
    "        return e "
   ]
  },
  {
   "cell_type": "code",
   "execution_count": 75,
   "id": "5f0d13ba",
   "metadata": {},
   "outputs": [
    {
     "data": {
      "text/plain": [
       "55.0"
      ]
     },
     "execution_count": 75,
     "metadata": {},
     "output_type": "execute_result"
    }
   ],
   "source": [
    "nat_num_sum(10)\n"
   ]
  },
  {
   "cell_type": "code",
   "execution_count": null,
   "id": "1938bafc",
   "metadata": {},
   "outputs": [],
   "source": []
  }
 ],
 "metadata": {
  "kernelspec": {
   "display_name": "Python 3 (ipykernel)",
   "language": "python",
   "name": "python3"
  },
  "language_info": {
   "codemirror_mode": {
    "name": "ipython",
    "version": 3
   },
   "file_extension": ".py",
   "mimetype": "text/x-python",
   "name": "python",
   "nbconvert_exporter": "python",
   "pygments_lexer": "ipython3",
   "version": "3.8.8"
  }
 },
 "nbformat": 4,
 "nbformat_minor": 5
}
