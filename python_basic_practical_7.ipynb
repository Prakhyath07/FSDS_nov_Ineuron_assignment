{
 "cells": [
  {
   "cell_type": "raw",
   "id": "997a2ae5",
   "metadata": {},
   "source": [
    "1. Write a Python Program to find sum of array?"
   ]
  },
  {
   "cell_type": "code",
   "execution_count": 1,
   "id": "0279dfa4",
   "metadata": {},
   "outputs": [],
   "source": [
    "def sum_array(array):\n",
    "    sum=0\n",
    "    for i in array:\n",
    "        sum+=i\n",
    "    return sum"
   ]
  },
  {
   "cell_type": "code",
   "execution_count": 2,
   "id": "cfbb80df",
   "metadata": {},
   "outputs": [
    {
     "data": {
      "text/plain": [
       "12"
      ]
     },
     "execution_count": 2,
     "metadata": {},
     "output_type": "execute_result"
    }
   ],
   "source": [
    "sum_array([1,2,4,5])"
   ]
  },
  {
   "cell_type": "raw",
   "id": "0c3db273",
   "metadata": {},
   "source": [
    "2. Write a Python Program to find largest element in an array?"
   ]
  },
  {
   "cell_type": "code",
   "execution_count": 3,
   "id": "69732080",
   "metadata": {},
   "outputs": [],
   "source": [
    "def large(array):\n",
    "    l=array[0]\n",
    "    for i in array[1:]:\n",
    "        if i>l:\n",
    "            l=i\n",
    "    return l\n",
    "            \n",
    "        "
   ]
  },
  {
   "cell_type": "code",
   "execution_count": 6,
   "id": "a58ef08f",
   "metadata": {},
   "outputs": [
    {
     "data": {
      "text/plain": [
       "72"
      ]
     },
     "execution_count": 6,
     "metadata": {},
     "output_type": "execute_result"
    }
   ],
   "source": [
    "large([1,1,72,4,5])"
   ]
  },
  {
   "cell_type": "raw",
   "id": "3fdb78d2",
   "metadata": {},
   "source": [
    "3. Write a Python Program for array rotation?"
   ]
  },
  {
   "cell_type": "code",
   "execution_count": 11,
   "id": "78e13e9b",
   "metadata": {},
   "outputs": [],
   "source": [
    "def rotate(array):\n",
    "    rot=[]\n",
    "    n=len(array)\n",
    "    for i in range(n-1,-1,-1):\n",
    "        rot.append(array[i])\n",
    "    return rot"
   ]
  },
  {
   "cell_type": "code",
   "execution_count": 12,
   "id": "6e3d9fa2",
   "metadata": {},
   "outputs": [
    {
     "data": {
      "text/plain": [
       "[5, 4, 72, 1, 1]"
      ]
     },
     "execution_count": 12,
     "metadata": {},
     "output_type": "execute_result"
    }
   ],
   "source": [
    "rotate([1,1,72,4,5])"
   ]
  },
  {
   "cell_type": "raw",
   "id": "3a59c2be",
   "metadata": {},
   "source": [
    "4. Write a Python Program to Split the array and add the first part to the end?"
   ]
  },
  {
   "cell_type": "code",
   "execution_count": 19,
   "id": "3a76a005",
   "metadata": {},
   "outputs": [],
   "source": [
    "def split_add(array):\n",
    "    n=len(array)//2\n",
    "    a=array[n:]\n",
    "    for i in array[:n]:\n",
    "        a.append(i)\n",
    "    return a\n",
    "    "
   ]
  },
  {
   "cell_type": "code",
   "execution_count": 21,
   "id": "20d5487e",
   "metadata": {},
   "outputs": [
    {
     "data": {
      "text/plain": [
       "[4, 5, 6, 1, 1, 72]"
      ]
     },
     "execution_count": 21,
     "metadata": {},
     "output_type": "execute_result"
    }
   ],
   "source": [
    "split_add([1,1,72,4,5,6])"
   ]
  },
  {
   "cell_type": "code",
   "execution_count": 25,
   "id": "1d33df49",
   "metadata": {},
   "outputs": [],
   "source": [
    "def monotonic(array):\n",
    "    n=len(array)\n",
    "    asc=True\n",
    "    for i in range(n-2):\n",
    "        if (array[i]<=array[i+1]) and (array[i+1]<=array[i+2]):\n",
    "            continue\n",
    "        else:\n",
    "            asc=False\n",
    "            break\n",
    "    desc=True\n",
    "    for i in range(n-2):\n",
    "        if (array[i]>=array[i+1]) and (array[i+1]>=array[i+2]):\n",
    "            continue\n",
    "        else:\n",
    "            desc=False\n",
    "            break\n",
    "    return asc or desc\n",
    "            \n",
    "    \n",
    "    \n"
   ]
  },
  {
   "cell_type": "code",
   "execution_count": 29,
   "id": "997be3c3",
   "metadata": {},
   "outputs": [
    {
     "data": {
      "text/plain": [
       "False"
      ]
     },
     "execution_count": 29,
     "metadata": {},
     "output_type": "execute_result"
    }
   ],
   "source": [
    "monotonic([-11,5,4,3,2,1])"
   ]
  },
  {
   "cell_type": "code",
   "execution_count": null,
   "id": "8d35f95b",
   "metadata": {},
   "outputs": [],
   "source": []
  }
 ],
 "metadata": {
  "kernelspec": {
   "display_name": "Python 3 (ipykernel)",
   "language": "python",
   "name": "python3"
  },
  "language_info": {
   "codemirror_mode": {
    "name": "ipython",
    "version": 3
   },
   "file_extension": ".py",
   "mimetype": "text/x-python",
   "name": "python",
   "nbconvert_exporter": "python",
   "pygments_lexer": "ipython3",
   "version": "3.8.8"
  }
 },
 "nbformat": 4,
 "nbformat_minor": 5
}
