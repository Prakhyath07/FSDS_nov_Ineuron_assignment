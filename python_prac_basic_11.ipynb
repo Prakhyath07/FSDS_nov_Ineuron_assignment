{
 "cells": [
  {
   "cell_type": "raw",
   "id": "7c9acca5",
   "metadata": {},
   "source": [
    "1. Write a Python program to find words which are greater than given length k?"
   ]
  },
  {
   "cell_type": "code",
   "execution_count": 13,
   "id": "3676af8a",
   "metadata": {},
   "outputs": [],
   "source": [
    "def is_grt(txt,k):\n",
    "    txt = txt.split()\n",
    "    listOfWords = []\n",
    "    for i in txt:\n",
    "        if len(i) > int(k):\n",
    "            listOfWords.append(i)\n",
    "    return listOfWords\n",
    "\n",
    "\n",
    "    "
   ]
  },
  {
   "cell_type": "code",
   "execution_count": 14,
   "id": "66096f6d",
   "metadata": {},
   "outputs": [
    {
     "data": {
      "text/plain": [
       "['Python', 'Programming', 'Assignment']"
      ]
     },
     "execution_count": 14,
     "metadata": {},
     "output_type": "execute_result"
    }
   ],
   "source": [
    "txt=\"Python Basic Programming Assignment\"\n",
    "\n",
    "is_grt(txt,5)"
   ]
  },
  {
   "cell_type": "raw",
   "id": "22e3275c",
   "metadata": {},
   "source": [
    "2. Write a Python program for removing i-th character from a string?"
   ]
  },
  {
   "cell_type": "code",
   "execution_count": 20,
   "id": "d01152c9",
   "metadata": {},
   "outputs": [],
   "source": [
    "def rem_i(string,i):\n",
    "    string_=string.replace(string[i-1],\"\",1)\n",
    "    return string_"
   ]
  },
  {
   "cell_type": "code",
   "execution_count": 21,
   "id": "ad2d93cb",
   "metadata": {},
   "outputs": [
    {
     "data": {
      "text/plain": [
       "'pyhhon'"
      ]
     },
     "execution_count": 21,
     "metadata": {},
     "output_type": "execute_result"
    }
   ],
   "source": [
    "rem_i(\"pythhon\",3)"
   ]
  },
  {
   "cell_type": "raw",
   "id": "85bef806",
   "metadata": {},
   "source": [
    "3. Write a Python program to split and join a string?"
   ]
  },
  {
   "cell_type": "code",
   "execution_count": 23,
   "id": "befca36e",
   "metadata": {},
   "outputs": [],
   "source": [
    "def spl_join(string):    \n",
    "    split = string.split(\" \")\n",
    "    print(\"Split string : \",split)\n",
    "\n",
    "    join = \"-\".join(split)\n",
    "    print(\"Joint string : \",join)"
   ]
  },
  {
   "cell_type": "code",
   "execution_count": 24,
   "id": "7f76269d",
   "metadata": {},
   "outputs": [
    {
     "name": "stdout",
     "output_type": "stream",
     "text": [
      "Split string :  ['Python', 'Basic', 'Programming', 'Assignment']\n",
      "Joint string :  Python-Basic-Programming-Assignment\n"
     ]
    }
   ],
   "source": [
    "spl_join(\"Python Basic Programming Assignment\")"
   ]
  },
  {
   "cell_type": "raw",
   "id": "658053ca",
   "metadata": {},
   "source": [
    "4. Write a Python to check if a given string is binary string or not?"
   ]
  },
  {
   "cell_type": "code",
   "execution_count": 25,
   "id": "5d6bd30f",
   "metadata": {},
   "outputs": [],
   "source": [
    "def Binary(str):\n",
    "    binary = '01'\n",
    "    for i in range(len(str)):\n",
    "        if str[i] not in binary:\n",
    "            print('String is not Binary')\n",
    "            break\n",
    "    else:\n",
    "        print('String is Binary')\n",
    "        \n"
   ]
  },
  {
   "cell_type": "code",
   "execution_count": 28,
   "id": "ebd37621",
   "metadata": {},
   "outputs": [
    {
     "name": "stdout",
     "output_type": "stream",
     "text": [
      "String is Binary\n"
     ]
    }
   ],
   "source": [
    "Binary('101010101')"
   ]
  },
  {
   "cell_type": "code",
   "execution_count": 29,
   "id": "f13dc4be",
   "metadata": {},
   "outputs": [
    {
     "name": "stdout",
     "output_type": "stream",
     "text": [
      "String is not Binary\n"
     ]
    }
   ],
   "source": [
    "Binary('1233451234234')"
   ]
  },
  {
   "cell_type": "raw",
   "id": "4e3145b8",
   "metadata": {},
   "source": [
    "5. Write a Python program to find uncommon words from two Strings?"
   ]
  },
  {
   "cell_type": "code",
   "execution_count": 30,
   "id": "64134e42",
   "metadata": {},
   "outputs": [],
   "source": [
    "def uncommon(sent1,sent2):\n",
    "    lst1 = sent1.lower().split()\n",
    "    lst2 = sent2.lower().split()\n",
    "    uniq=[]\n",
    "    \n",
    "    for i in lst1:\n",
    "        if i not in lst2:\n",
    "            uniq.append(i)\n",
    "    for i in lst2:\n",
    "        if i not in lst1:\n",
    "            uniq.append(i)\n",
    "    return uniq"
   ]
  },
  {
   "cell_type": "code",
   "execution_count": 31,
   "id": "70f955ed",
   "metadata": {},
   "outputs": [
    {
     "data": {
      "text/plain": [
       "[]"
      ]
     },
     "execution_count": 31,
     "metadata": {},
     "output_type": "execute_result"
    }
   ],
   "source": [
    "uncommon('Python Basic Programming Assignment','python basic Programming Assignment')"
   ]
  },
  {
   "cell_type": "code",
   "execution_count": 32,
   "id": "67175aef",
   "metadata": {},
   "outputs": [
    {
     "data": {
      "text/plain": [
       "['basic', 'programming', 'assignment', 'advanced', 'project']"
      ]
     },
     "execution_count": 32,
     "metadata": {},
     "output_type": "execute_result"
    }
   ],
   "source": [
    "uncommon('Python Basic Programming Assignment','python advanced  project')"
   ]
  },
  {
   "cell_type": "raw",
   "id": "cf76aaaf",
   "metadata": {},
   "source": [
    "6. Write a Python to find all duplicate characters in string?"
   ]
  },
  {
   "cell_type": "code",
   "execution_count": 35,
   "id": "f9b179c3",
   "metadata": {},
   "outputs": [],
   "source": [
    "def dup(string):\n",
    "    duplicate=[]\n",
    "    for i in range(len(string)):\n",
    "        for j in range(len(string)):\n",
    "            if string[i]==string[j] and i!=j:\n",
    "                duplicate.append(string[i])\n",
    "    return set(duplicate)"
   ]
  },
  {
   "cell_type": "code",
   "execution_count": 36,
   "id": "6ce7cb3f",
   "metadata": {},
   "outputs": [
    {
     "data": {
      "text/plain": [
       "{'e', 'q', 't', 'w'}"
      ]
     },
     "execution_count": 36,
     "metadata": {},
     "output_type": "execute_result"
    }
   ],
   "source": [
    "dup(\"qwertetdweq\")"
   ]
  },
  {
   "cell_type": "raw",
   "id": "a92f6326",
   "metadata": {},
   "source": [
    "7. Write a Python Program to check if a string contains any special character?"
   ]
  },
  {
   "cell_type": "code",
   "execution_count": 47,
   "id": "f0c4851a",
   "metadata": {},
   "outputs": [],
   "source": [
    "def sp_chr(sentence):\n",
    "    import string\n",
    "    special = string.punctuation\n",
    "    special_=set()\n",
    "    for i in sentence:\n",
    "        if i in special:\n",
    "            special_.add(i)\n",
    "    return special_\n",
    "    \n",
    "    "
   ]
  },
  {
   "cell_type": "code",
   "execution_count": 48,
   "id": "d30e525d",
   "metadata": {},
   "outputs": [
    {
     "data": {
      "text/plain": [
       "{'!', '#', '$', '%', '(', ')', '*', '@', '^'}"
      ]
     },
     "execution_count": 48,
     "metadata": {},
     "output_type": "execute_result"
    }
   ],
   "source": [
    "sp_chr(\"qwe!wdc@w####X$%^Hh*()\")"
   ]
  },
  {
   "cell_type": "code",
   "execution_count": null,
   "id": "fed37247",
   "metadata": {},
   "outputs": [],
   "source": []
  },
  {
   "cell_type": "code",
   "execution_count": null,
   "id": "d68179a8",
   "metadata": {},
   "outputs": [],
   "source": []
  },
  {
   "cell_type": "code",
   "execution_count": null,
   "id": "a181f3ef",
   "metadata": {},
   "outputs": [],
   "source": []
  }
 ],
 "metadata": {
  "kernelspec": {
   "display_name": "Python 3 (ipykernel)",
   "language": "python",
   "name": "python3"
  },
  "language_info": {
   "codemirror_mode": {
    "name": "ipython",
    "version": 3
   },
   "file_extension": ".py",
   "mimetype": "text/x-python",
   "name": "python",
   "nbconvert_exporter": "python",
   "pygments_lexer": "ipython3",
   "version": "3.8.8"
  }
 },
 "nbformat": 4,
 "nbformat_minor": 5
}
