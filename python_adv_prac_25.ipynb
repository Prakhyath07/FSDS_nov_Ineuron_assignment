{
 "cells": [
  {
   "cell_type": "raw",
   "id": "bb7ac940",
   "metadata": {},
   "source": [
    "1. Write four functions that directly mutate a list:\n",
    "\n",
    "1. repeat(lst, n): Repeat lst n times.\n",
    "2. add(lst, x): Adds x to the end of the lst.\n",
    "3. remove(lst, m, n): Removes all elements between indices m and n\n",
    "inclusive in lst.\n",
    "4. concat(lst, x): concatenates lst with x (another list).\n",
    "Examples\n",
    "lst = [1, 2, 3, 4]\n",
    "repeat(lst, 3) ➞ [1, 2, 3, 4, 1, 2, 3, 4, 1, 2, 3, 4]\n",
    "add(lst, 1) ➞ [1, 2, 3, 4, 1, 2, 3, 4, 1, 2, 3, 4, 1]\n",
    "remove(lst, 1, 12) ➞ [1]\n",
    "concat(lst, [3, 4]) ➞ [1, 3, 4]"
   ]
  },
  {
   "cell_type": "code",
   "execution_count": 28,
   "id": "eb922775",
   "metadata": {},
   "outputs": [],
   "source": [
    "def repeat(lst,n):\n",
    "    lst2=lst.copy()\n",
    "    for i in range(n-1):\n",
    "        lst.extend(lst2)\n",
    "    return lst\n",
    "\n",
    "def add(lst,x):\n",
    "    lst.append(x)\n",
    "    return lst\n",
    "def remove(lst, m, n):\n",
    "    for i in range(m,n+1):\n",
    "        lst.pop(m)\n",
    "    return lst\n",
    "\n",
    "def concat(lst, x):\n",
    "    lst.extend(x)\n",
    "    return lst"
   ]
  },
  {
   "cell_type": "code",
   "execution_count": 29,
   "id": "b181d9ce",
   "metadata": {},
   "outputs": [
    {
     "data": {
      "text/plain": [
       "[1, 2, 3, 4, 1, 2, 3, 4, 1, 2, 3, 4]"
      ]
     },
     "execution_count": 29,
     "metadata": {},
     "output_type": "execute_result"
    }
   ],
   "source": [
    "lst = [1, 2, 3, 4]\n",
    "repeat(lst, 3)"
   ]
  },
  {
   "cell_type": "code",
   "execution_count": 30,
   "id": "9f2f6733",
   "metadata": {},
   "outputs": [
    {
     "data": {
      "text/plain": [
       "[1, 2, 3, 4, 1, 2, 3, 4, 1, 2, 3, 4, 1]"
      ]
     },
     "execution_count": 30,
     "metadata": {},
     "output_type": "execute_result"
    }
   ],
   "source": [
    "add(lst, 1)"
   ]
  },
  {
   "cell_type": "code",
   "execution_count": 31,
   "id": "073e59fc",
   "metadata": {},
   "outputs": [
    {
     "data": {
      "text/plain": [
       "[1]"
      ]
     },
     "execution_count": 31,
     "metadata": {},
     "output_type": "execute_result"
    }
   ],
   "source": [
    "remove(lst, 1, 12)"
   ]
  },
  {
   "cell_type": "code",
   "execution_count": 32,
   "id": "e15bd403",
   "metadata": {},
   "outputs": [
    {
     "data": {
      "text/plain": [
       "[1, 3, 4]"
      ]
     },
     "execution_count": 32,
     "metadata": {},
     "output_type": "execute_result"
    }
   ],
   "source": [
    "concat(lst, [3, 4])"
   ]
  },
  {
   "cell_type": "raw",
   "id": "3c91a4e1",
   "metadata": {},
   "source": [
    "2. The classic game of Mastermind is played on a tray on which the\n",
    "Mastermind conceals a code and the Guesser has 10 tries to guess it. The\n",
    "code is a sequence of 4 (or 6, sometimes more) pegs of different colors. Each\n",
    "guess is a corresponding sequence of 4 (or more) pegs of different colors. A\n",
    "guess is \"correct\" when the color of every peg in the guess exactly matches\n",
    "the corresponding peg in the Mastermind's code.\n",
    "After each guess by the Guesser, the Mastermind will give a score comprising\n",
    "black & white pegs, not arranged in any order:\n",
    "- Black peg == guess peg matches the color of a code peg in the same\n",
    "position.\n",
    "- White peg == guess peg matches the color of a code peg in another\n",
    "position.\n",
    "Create a function that takes two strings, code and guess as arguments, and\n",
    "returns the score in a dictionary.\n",
    "- The code and guess are strings of numeric digits\n",
    "- The color of the pegs are represented by numeric digits\n",
    "- no \"peg\" may be double-scored\n",
    "Examples\n",
    "guess_score(\"1423\", \"5678\") ➞ {\"black\": 0, \"white\": 0}\n",
    "\n",
    "guess_score(\"1423\", \"2222\") ➞ {\"black\": 1, \"white\": 0}\n",
    "guess_score(\"1423\", \"1234\") ➞ {\"black\": 1, \"white\": 3}\n",
    "guess_score(\"1423\", \"2211\") ➞ {\"black\": 0, \"white\": 2}"
   ]
  },
  {
   "cell_type": "code",
   "execution_count": 74,
   "id": "11ccd5cc",
   "metadata": {},
   "outputs": [],
   "source": [
    "def guess_score(code,guess):\n",
    "    dic={\"black\": 0, \"white\": 0}\n",
    "    for i in range(len(code)):\n",
    "        if code[i]==guess[i]:\n",
    "            dic['black']+=1\n",
    "        else:\n",
    "            for j in range(len(guess)):\n",
    "                if (code[i]==guess[j]) and i!=j:             \n",
    "                    dic['white']+=1\n",
    "                    break                            \n",
    "    return dic"
   ]
  },
  {
   "cell_type": "code",
   "execution_count": 75,
   "id": "1d228e85",
   "metadata": {},
   "outputs": [
    {
     "data": {
      "text/plain": [
       "{'black': 0, 'white': 0}"
      ]
     },
     "execution_count": 75,
     "metadata": {},
     "output_type": "execute_result"
    }
   ],
   "source": [
    "guess_score(\"1423\", \"5678\")"
   ]
  },
  {
   "cell_type": "code",
   "execution_count": 76,
   "id": "cbbc8dcb",
   "metadata": {},
   "outputs": [
    {
     "data": {
      "text/plain": [
       "{'black': 1, 'white': 0}"
      ]
     },
     "execution_count": 76,
     "metadata": {},
     "output_type": "execute_result"
    }
   ],
   "source": [
    "guess_score(\"1423\", \"2222\")"
   ]
  },
  {
   "cell_type": "code",
   "execution_count": 77,
   "id": "3685d34a",
   "metadata": {},
   "outputs": [
    {
     "data": {
      "text/plain": [
       "{'black': 1, 'white': 3}"
      ]
     },
     "execution_count": 77,
     "metadata": {},
     "output_type": "execute_result"
    }
   ],
   "source": [
    "guess_score(\"1423\", \"1234\")"
   ]
  },
  {
   "cell_type": "code",
   "execution_count": 78,
   "id": "87423bd7",
   "metadata": {},
   "outputs": [
    {
     "data": {
      "text/plain": [
       "{'black': 0, 'white': 2}"
      ]
     },
     "execution_count": 78,
     "metadata": {},
     "output_type": "execute_result"
    }
   ],
   "source": [
    "guess_score(\"1423\", \"2211\")"
   ]
  },
  {
   "cell_type": "raw",
   "id": "0843bfa1",
   "metadata": {},
   "source": [
    "3. Create a function that takes a list lst and a number N and returns a list of\n",
    "two integers from lst whose product equals N.\n",
    "Examples\n",
    "two_product([1, 2, -1, 4, 5], 20) ➞ [4, 5]\n",
    "two_product([1, 2, 3, 4, 5], 10) ➞ [2, 5]\n",
    "two_product([100, 12, 4, 1, 2], 15) ➞ None"
   ]
  },
  {
   "cell_type": "code",
   "execution_count": 84,
   "id": "e7f402f8",
   "metadata": {},
   "outputs": [],
   "source": [
    "def two_product(lst,num):\n",
    "    op=[]\n",
    "    for i in range(len(lst)):\n",
    "        for j in range(i,len(lst)):\n",
    "            if lst[i]*lst[j]==num:\n",
    "                op.append(lst[i])\n",
    "                op.append(lst[j])\n",
    "    if len(op)==0:\n",
    "        return 'None'\n",
    "    else:\n",
    "        return op"
   ]
  },
  {
   "cell_type": "code",
   "execution_count": 85,
   "id": "3f1bf4a9",
   "metadata": {},
   "outputs": [
    {
     "data": {
      "text/plain": [
       "[4, 5]"
      ]
     },
     "execution_count": 85,
     "metadata": {},
     "output_type": "execute_result"
    }
   ],
   "source": [
    "two_product([1, 2, -1, 4, 5], 20)\n"
   ]
  },
  {
   "cell_type": "code",
   "execution_count": 86,
   "id": "bf5d05b9",
   "metadata": {},
   "outputs": [
    {
     "data": {
      "text/plain": [
       "[2, 5]"
      ]
     },
     "execution_count": 86,
     "metadata": {},
     "output_type": "execute_result"
    }
   ],
   "source": [
    "two_product([1, 2, 3, 4, 5], 10)"
   ]
  },
  {
   "cell_type": "code",
   "execution_count": 87,
   "id": "98285eac",
   "metadata": {},
   "outputs": [
    {
     "data": {
      "text/plain": [
       "'None'"
      ]
     },
     "execution_count": 87,
     "metadata": {},
     "output_type": "execute_result"
    }
   ],
   "source": [
    "two_product([100, 12, 4, 1, 2], 15)"
   ]
  },
  {
   "cell_type": "raw",
   "id": "a3e28616",
   "metadata": {},
   "source": [
    "4. In this challenge, sort a list containing a series of dates given as strings.\n",
    "Each date is given in the format DD-MM-YYYY_HH:MM:\n",
    "\"12-02-2012_13:44\"\n",
    "The priority of criteria used for sorting will be:\n",
    "- Year\n",
    "- Month\n",
    "- Day\n",
    "- Hours\n",
    "- Minutes\n",
    "Given a list lst and a string mode, implement a function that returns:\n",
    "- if mode is equal to \"ASC\", the list lst sorted in ascending order.\n",
    "- if mode is equal to \"DSC\", the list lst sorted in descending order.\n",
    "Examples\n",
    "sort_dates([\"10-02-2018_12:30\", \"10-02-2016_12:30\", \"10-02-2018_12:15\"],\n",
    "\"ASC\") ➞ [\"10-02-2016_12:30\", \"10-02-2018_12:15\", \"10-02-2018_12:30\"]\n",
    "sort_dates([\"10-02-2018_12:30\", \"10-02-2016_12:30\", \"10-02-2018_12:15\"],\n",
    "\"DSC\") ➞ [\"10-02-2018_12:30\", \"10-02-2018_12:15\", \"10-02-2016_12:30\"]\n",
    "\n",
    "sort_dates([\"09-02-2000_10:03\", \"10-02-2000_18:29\", \"01-01-1999_00:55\"],\n",
    "\"ASC\") ➞ [\"01-01-1999_00:55\", \"09-02-2000_10:03\", \"10-02-2000_18:29\"]"
   ]
  },
  {
   "cell_type": "code",
   "execution_count": 94,
   "id": "cd99c94f",
   "metadata": {},
   "outputs": [],
   "source": [
    "def sort_dates(dates,mode):\n",
    "    from datetime import datetime\n",
    "    if mode==\"ASC\":\n",
    "        dates.sort(key = lambda date: datetime.strptime(date, \"%d-%m-%Y_%H:%M\"))\n",
    "    else:\n",
    "        dates.sort(key = lambda date: datetime.strptime(date, \"%d-%m-%Y_%H:%M\"),reverse=True)\n",
    "    return dates"
   ]
  },
  {
   "cell_type": "code",
   "execution_count": 95,
   "id": "e51280d4",
   "metadata": {},
   "outputs": [
    {
     "data": {
      "text/plain": [
       "['10-02-2016_12:30', '10-02-2018_12:15', '10-02-2018_12:30']"
      ]
     },
     "execution_count": 95,
     "metadata": {},
     "output_type": "execute_result"
    }
   ],
   "source": [
    "sort_dates([\"10-02-2018_12:30\", \"10-02-2016_12:30\", \"10-02-2018_12:15\"],\n",
    "\"ASC\")"
   ]
  },
  {
   "cell_type": "code",
   "execution_count": 96,
   "id": "cfff46ef",
   "metadata": {},
   "outputs": [
    {
     "data": {
      "text/plain": [
       "['10-02-2018_12:30', '10-02-2018_12:15', '10-02-2016_12:30']"
      ]
     },
     "execution_count": 96,
     "metadata": {},
     "output_type": "execute_result"
    }
   ],
   "source": [
    "sort_dates([\"10-02-2018_12:30\", \"10-02-2016_12:30\", \"10-02-2018_12:15\"],\n",
    "\"DSC\")"
   ]
  },
  {
   "cell_type": "code",
   "execution_count": 97,
   "id": "b56854e1",
   "metadata": {},
   "outputs": [
    {
     "data": {
      "text/plain": [
       "['01-01-1999_00:55', '09-02-2000_10:03', '10-02-2000_18:29']"
      ]
     },
     "execution_count": 97,
     "metadata": {},
     "output_type": "execute_result"
    }
   ],
   "source": [
    "sort_dates([\"09-02-2000_10:03\", \"10-02-2000_18:29\", \"01-01-1999_00:55\"],\n",
    "\"ASC\")"
   ]
  },
  {
   "cell_type": "raw",
   "id": "f4bebd75",
   "metadata": {},
   "source": [
    "5. Write a function that selects all words that have all the same vowels (in any\n",
    "order and/or number) as the first word, including the first word.\n",
    "Examples\n",
    "same_vowel_group([\"toe\", \"ocelot\", \"maniac\"]) ➞ [\"toe\", \"ocelot\"]\n",
    "same_vowel_group([\"many\", \"carriage\", \"emit\", \"apricot\", \"animal\"]) ➞\n",
    "[\"many\"]\n",
    "same_vowel_group([\"hoops\", \"chuff\", \"bot\", \"bottom\"]) ➞ [\"hoops\", \"bot\",\n",
    "\"bottom\"]"
   ]
  },
  {
   "cell_type": "code",
   "execution_count": 110,
   "id": "0f827bbe",
   "metadata": {},
   "outputs": [],
   "source": [
    "def same_vowel_group(lst):\n",
    "    vowels='aeiou'\n",
    "    op=[lst[0]]\n",
    "    first=list(set([i for i in lst[0] if i.lower() in vowels] ))\n",
    "    for i in lst[1:]:\n",
    "        if(list(set([j for j in i if j.lower() in vowels])))==first:\n",
    "            op.append(i)\n",
    "    return op"
   ]
  },
  {
   "cell_type": "code",
   "execution_count": 111,
   "id": "46c439cf",
   "metadata": {},
   "outputs": [
    {
     "data": {
      "text/plain": [
       "['toe', 'ocelot']"
      ]
     },
     "execution_count": 111,
     "metadata": {},
     "output_type": "execute_result"
    }
   ],
   "source": [
    "same_vowel_group([\"toe\", \"ocelot\", \"maniac\"])"
   ]
  },
  {
   "cell_type": "code",
   "execution_count": 112,
   "id": "4cff4b26",
   "metadata": {},
   "outputs": [
    {
     "data": {
      "text/plain": [
       "['many']"
      ]
     },
     "execution_count": 112,
     "metadata": {},
     "output_type": "execute_result"
    }
   ],
   "source": [
    "same_vowel_group([\"many\", \"carriage\", \"emit\", \"apricot\", \"animal\"])"
   ]
  },
  {
   "cell_type": "code",
   "execution_count": 113,
   "id": "0907e9e4",
   "metadata": {},
   "outputs": [
    {
     "data": {
      "text/plain": [
       "['hoops', 'bot', 'bottom']"
      ]
     },
     "execution_count": 113,
     "metadata": {},
     "output_type": "execute_result"
    }
   ],
   "source": [
    "same_vowel_group([\"hoops\", \"chuff\", \"bot\", \"bottom\"])"
   ]
  },
  {
   "cell_type": "raw",
   "id": "07708f20",
   "metadata": {},
   "source": [
    "6. Create a function that takes a list of more than three numbers and returns\n",
    "the Least Common Multiple (LCM).\n",
    "Examples\n",
    "lcm_of_list([1, 2, 3, 4, 5, 6, 7, 8, 9, 10]) ➞ 2520\n",
    "lcm_of_list([13, 6, 17, 18, 19, 20, 37]) ➞ 27965340\n",
    "lcm_of_list([44, 64, 12, 17, 65]) ➞ 2333760"
   ]
  },
  {
   "cell_type": "code",
   "execution_count": 115,
   "id": "eb98df22",
   "metadata": {},
   "outputs": [],
   "source": [
    "def lcm_of_list(lst):\n",
    "    lcm = 1\n",
    "    for i in lst:\n",
    "        lcm = lcm*i//gcd(lcm, i)\n",
    "    return lcm"
   ]
  },
  {
   "cell_type": "code",
   "execution_count": 116,
   "id": "4ebd9e69",
   "metadata": {},
   "outputs": [
    {
     "data": {
      "text/plain": [
       "2520"
      ]
     },
     "execution_count": 116,
     "metadata": {},
     "output_type": "execute_result"
    }
   ],
   "source": [
    "lcm_of_list([1, 2, 3, 4, 5, 6, 7, 8, 9, 10])"
   ]
  },
  {
   "cell_type": "code",
   "execution_count": 117,
   "id": "cae92a3e",
   "metadata": {},
   "outputs": [
    {
     "data": {
      "text/plain": [
       "27965340"
      ]
     },
     "execution_count": 117,
     "metadata": {},
     "output_type": "execute_result"
    }
   ],
   "source": [
    "lcm_of_list([13, 6, 17, 18, 19, 20, 37])"
   ]
  },
  {
   "cell_type": "code",
   "execution_count": 118,
   "id": "8f7571c8",
   "metadata": {},
   "outputs": [
    {
     "data": {
      "text/plain": [
       "2333760"
      ]
     },
     "execution_count": 118,
     "metadata": {},
     "output_type": "execute_result"
    }
   ],
   "source": [
    "lcm_of_list([44, 64, 12, 17, 65])"
   ]
  },
  {
   "cell_type": "code",
   "execution_count": null,
   "id": "dda9735c",
   "metadata": {},
   "outputs": [],
   "source": []
  }
 ],
 "metadata": {
  "kernelspec": {
   "display_name": "Python 3 (ipykernel)",
   "language": "python",
   "name": "python3"
  },
  "language_info": {
   "codemirror_mode": {
    "name": "ipython",
    "version": 3
   },
   "file_extension": ".py",
   "mimetype": "text/x-python",
   "name": "python",
   "nbconvert_exporter": "python",
   "pygments_lexer": "ipython3",
   "version": "3.8.8"
  }
 },
 "nbformat": 4,
 "nbformat_minor": 5
}
