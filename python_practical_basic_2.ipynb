{
 "cells": [
  {
   "cell_type": "code",
   "execution_count": 11,
   "id": "d09d28ea",
   "metadata": {},
   "outputs": [],
   "source": [
    "##1. Write a Python program to convert kilometers to miles?\n",
    "\n",
    "def km_miles(km):\n",
    "    \"\"\"\n",
    "    returns value in miles\n",
    "    \"\"\"\n",
    "    return 0.621371*km"
   ]
  },
  {
   "cell_type": "code",
   "execution_count": 12,
   "id": "88a27928",
   "metadata": {},
   "outputs": [
    {
     "data": {
      "text/plain": [
       "0.621371"
      ]
     },
     "execution_count": 12,
     "metadata": {},
     "output_type": "execute_result"
    }
   ],
   "source": [
    "km_miles(1)"
   ]
  },
  {
   "cell_type": "code",
   "execution_count": 13,
   "id": "65ff234f",
   "metadata": {},
   "outputs": [],
   "source": [
    "## 2. Write a Python program to convert Celsius to Fahrenheit?\n",
    "\n",
    "def cel_far(cel):\n",
    "    \"\"\"\n",
    "    returns value in Fahrenheit\n",
    "    \"\"\"\n",
    "    return ((9/5)*cel)+32"
   ]
  },
  {
   "cell_type": "code",
   "execution_count": 16,
   "id": "a9805575",
   "metadata": {},
   "outputs": [
    {
     "data": {
      "text/plain": [
       "41.0"
      ]
     },
     "execution_count": 16,
     "metadata": {},
     "output_type": "execute_result"
    }
   ],
   "source": [
    "cel_far(5)"
   ]
  },
  {
   "cell_type": "code",
   "execution_count": 28,
   "id": "cc7982e1",
   "metadata": {},
   "outputs": [],
   "source": [
    "## 3. Write a Python program to display calendar?\n",
    "import calendar\n",
    "def calendar_disp():\n",
    "    \n",
    "    month = int(input('Month (mm): '))\n",
    "    year = int(input('Year (yyyy): '))\n",
    "    if 0<month<13:\n",
    "        # display the calendar\n",
    "        print(calendar.month(year, month))\n",
    "    else:\n",
    "        return \"Enter month in range of 1-12 only\" \n",
    " "
   ]
  },
  {
   "cell_type": "code",
   "execution_count": 29,
   "id": "0c655d9d",
   "metadata": {},
   "outputs": [
    {
     "name": "stdout",
     "output_type": "stream",
     "text": [
      "Month (mm): 10\n",
      "Year (yyyy): 1998\n",
      "    October 1998\n",
      "Mo Tu We Th Fr Sa Su\n",
      "          1  2  3  4\n",
      " 5  6  7  8  9 10 11\n",
      "12 13 14 15 16 17 18\n",
      "19 20 21 22 23 24 25\n",
      "26 27 28 29 30 31\n",
      "\n"
     ]
    }
   ],
   "source": [
    "calendar_disp()"
   ]
  },
  {
   "cell_type": "code",
   "execution_count": 34,
   "id": "cd956de8",
   "metadata": {},
   "outputs": [],
   "source": [
    "### 4. Write a Python program to solve quadratic equation?\n",
    "import cmath\n",
    "\n",
    "def qud_eqn(a,b,c):\n",
    "    if a>0:\n",
    "        # calculating  the discriminant\n",
    "        dis = (b**2) - (4 * a*c)\n",
    "\n",
    "        # find two results\n",
    "        ans1 = (-b-cmath.sqrt(dis))/(2 * a)\n",
    "        ans2 = (-b + cmath.sqrt(dis))/(2 * a)\n",
    "        return ans1, ans2\n",
    "    else:\n",
    "        return \"Value of a should be greater than 0\"\n",
    "\n",
    "\n",
    "    \n"
   ]
  },
  {
   "cell_type": "code",
   "execution_count": 36,
   "id": "2ffd155d",
   "metadata": {},
   "outputs": [
    {
     "data": {
      "text/plain": [
       "((-12+0j), (2+0j))"
      ]
     },
     "execution_count": 36,
     "metadata": {},
     "output_type": "execute_result"
    }
   ],
   "source": [
    "qud_eqn(1,10,-24)"
   ]
  },
  {
   "cell_type": "code",
   "execution_count": 40,
   "id": "eb621e29",
   "metadata": {},
   "outputs": [],
   "source": [
    "## 5. Write a Python program to swap two variables without temp variable?\n",
    "\n",
    "\n",
    "def swap():\n",
    "    \"\"\" this function swaps two variables\"\"\"\n",
    "    \n",
    "    a=int(input(\"enter value of a \"))\n",
    "    b=int(input(\"enter value of b \"))\n",
    "    print(\"Before swapping value of a = {} \\nvalue of b = {}\".format(a,b))\n",
    "    a=a-b\n",
    "    b=a+b\n",
    "    a=b-a\n",
    "    \n",
    "    print(\"After swapping value of a = {} \\nvalue of b = {}\".format(a,b))"
   ]
  },
  {
   "cell_type": "code",
   "execution_count": 41,
   "id": "98e2bfcf",
   "metadata": {},
   "outputs": [
    {
     "name": "stdout",
     "output_type": "stream",
     "text": [
      "enter value of a 1\n",
      "enter value of b 2\n",
      "Before swapping value of a = 1 \n",
      "value of b = 2\n",
      "After swapping value of a = 2 \n",
      "value of b = 1\n"
     ]
    }
   ],
   "source": [
    "swap()"
   ]
  },
  {
   "cell_type": "code",
   "execution_count": null,
   "id": "04593e54",
   "metadata": {},
   "outputs": [],
   "source": []
  }
 ],
 "metadata": {
  "kernelspec": {
   "display_name": "Python 3 (ipykernel)",
   "language": "python",
   "name": "python3"
  },
  "language_info": {
   "codemirror_mode": {
    "name": "ipython",
    "version": 3
   },
   "file_extension": ".py",
   "mimetype": "text/x-python",
   "name": "python",
   "nbconvert_exporter": "python",
   "pygments_lexer": "ipython3",
   "version": "3.8.8"
  }
 },
 "nbformat": 4,
 "nbformat_minor": 5
}
