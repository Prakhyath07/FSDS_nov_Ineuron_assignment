{
 "cells": [
  {
   "cell_type": "raw",
   "id": "77eafd9a",
   "metadata": {},
   "source": [
    "1. Add the current date to the text file today.txt as a string.\n"
   ]
  },
  {
   "cell_type": "code",
   "execution_count": 2,
   "id": "a4fef776",
   "metadata": {},
   "outputs": [],
   "source": [
    "import datetime\n",
    "from datetime import date\n",
    "now = date.today()\n",
    "cur_date = now.isoformat()\n",
    "with open('today.txt','w') as file:\n",
    "    file.write(cur_date)"
   ]
  },
  {
   "cell_type": "raw",
   "id": "4c9cf5ba",
   "metadata": {},
   "source": [
    "2. Read the text file today.txt into the string today_string\n"
   ]
  },
  {
   "cell_type": "code",
   "execution_count": 3,
   "id": "574f9ff6",
   "metadata": {},
   "outputs": [
    {
     "data": {
      "text/plain": [
       "'2022-08-09'"
      ]
     },
     "execution_count": 3,
     "metadata": {},
     "output_type": "execute_result"
    }
   ],
   "source": [
    "with open('today.txt','r') as file:\n",
    "    today_string = file.read()\n",
    "today_string"
   ]
  },
  {
   "cell_type": "raw",
   "id": "c8d17d3a",
   "metadata": {},
   "source": [
    "3. Parse the date from today_string.\n"
   ]
  },
  {
   "cell_type": "code",
   "execution_count": 4,
   "id": "7b33de1d",
   "metadata": {},
   "outputs": [
    {
     "data": {
      "text/plain": [
       "datetime.datetime(2022, 8, 9, 0, 0)"
      ]
     },
     "execution_count": 4,
     "metadata": {},
     "output_type": "execute_result"
    }
   ],
   "source": [
    "from datetime import datetime\n",
    "format = '%Y-%m-%d'\n",
    "datetime.strptime(today_string,format)"
   ]
  },
  {
   "cell_type": "raw",
   "id": "b9088c67",
   "metadata": {},
   "source": [
    "4. List the files in your current directory\n"
   ]
  },
  {
   "cell_type": "code",
   "execution_count": 5,
   "id": "09fe775a",
   "metadata": {},
   "outputs": [
    {
     "data": {
      "text/plain": [
       "['.ipynb_checkpoints',\n",
       " 'a.jpg',\n",
       " 'amma.jpg',\n",
       " 'books.csv',\n",
       " 'books.db',\n",
       " 'dummy 1',\n",
       " 'dummy 2',\n",
       " 'hellothere.docx',\n",
       " 'Prakhyath Bhandary.pdf',\n",
       " 'probabilitydistributions-rot.pdf',\n",
       " 'probabilitydistributions.pdf',\n",
       " 'python_basics_2.ipynb',\n",
       " 'python_basic_1.ipynb',\n",
       " 'python_basic_10.ipynb',\n",
       " 'python_basic_11.ipynb',\n",
       " 'python_basic_12.ipynb',\n",
       " 'python_basic_13.ipynb',\n",
       " 'python_basic_14.ipynb',\n",
       " 'python_basic_15.ipynb',\n",
       " 'python_basic_16.ipynb',\n",
       " 'python_basic_17.ipynb',\n",
       " 'python_basic_18.ipynb',\n",
       " 'python_basic_19.ipynb',\n",
       " 'python_basic_20.ipynb',\n",
       " 'python_basic_21.ipynb',\n",
       " 'python_basic_3.ipynb',\n",
       " 'python_basic_4.ipynb',\n",
       " 'python_basic_5.ipynb',\n",
       " 'python_basic_6.ipynb',\n",
       " 'python_basic_7.ipynb',\n",
       " 'python_basic_8.ipynb',\n",
       " 'python_basic_9.ipynb',\n",
       " 'test.csv',\n",
       " 'test.txt',\n",
       " 'today.txt',\n",
       " 'zoo.py',\n",
       " '__pycache__']"
      ]
     },
     "execution_count": 5,
     "metadata": {},
     "output_type": "execute_result"
    }
   ],
   "source": [
    "import os\n",
    "os.listdir('.')"
   ]
  },
  {
   "cell_type": "raw",
   "id": "d990216c",
   "metadata": {},
   "source": [
    "5. Create a list of all of the files in your parent directory (minimum five files should be available)."
   ]
  },
  {
   "cell_type": "code",
   "execution_count": 8,
   "id": "150fbac1",
   "metadata": {},
   "outputs": [
    {
     "data": {
      "text/plain": [
       "['DL CV Practical',\n",
       " 'Excel',\n",
       " 'ML practical',\n",
       " 'model.weights.alex.best.hdf5',\n",
       " 'Python Advanced Practical',\n",
       " 'Python Basic',\n",
       " 'Python Basic practical',\n",
       " 'SQL',\n",
       " 'to git hub']"
      ]
     },
     "execution_count": 8,
     "metadata": {},
     "output_type": "execute_result"
    }
   ],
   "source": [
    "import os\n",
    "a=os.listdir('..')\n",
    "a"
   ]
  },
  {
   "cell_type": "raw",
   "id": "a89e0cef",
   "metadata": {},
   "source": [
    "6. Use multiprocessing to create three separate processes. Make each one wait a random number of\n",
    "seconds between one and five, print the current time, and then exit."
   ]
  },
  {
   "cell_type": "code",
   "execution_count": 26,
   "id": "b0d30f90",
   "metadata": {},
   "outputs": [
    {
     "name": "stdout",
     "output_type": "stream",
     "text": [
      "Finished in 0.13second(s)\n"
     ]
    }
   ],
   "source": [
    "import multiprocessing\n",
    "import time\n",
    "\n",
    "\n",
    "\n",
    "\n",
    "def printsec():\n",
    "    from datetime import datetime\n",
    "    from time import sleep\n",
    "    import random\n",
    "    seconds = random.randint(1, 5)\n",
    "    sleep(seconds)\n",
    "    print('wait', seconds, 'seconds, time is', datetime.utcnow())\n",
    "\n",
    "if __name__ == '__main__':\n",
    "    start = time.perf_counter()\n",
    "    \n",
    "    proc1 = multiprocessing.Process(target=printsec)\n",
    "    proc2 = multiprocessing.Process(target=printsec)\n",
    "    proc3 = multiprocessing.Process(target=printsec)\n",
    "\n",
    "    proc1.start()\n",
    "    proc2.start()\n",
    "    proc3.start()\n",
    "\n",
    "    proc1.join()\n",
    "    proc2.join()\n",
    "    proc3.join()\n",
    "\n",
    "    finish = time.perf_counter()\n",
    "\n",
    "    print(f'Finished in {round(finish - start, 2)}second(s)')"
   ]
  },
  {
   "cell_type": "code",
   "execution_count": 31,
   "id": "aed5f616",
   "metadata": {},
   "outputs": [
    {
     "name": "stdout",
     "output_type": "stream",
     "text": [
      "wait 2 seconds, time is 2022-08-09 13:40:50.982367\n",
      "wait 3 seconds, time is 2022-08-09 13:40:51.979380\n",
      "wait 5 seconds, time is 2022-08-09 13:40:53.973227\n",
      "Finished in 5.12second(s)\n"
     ]
    }
   ],
   "source": [
    "!python tr.py"
   ]
  },
  {
   "cell_type": "raw",
   "id": "b5dbecba",
   "metadata": {},
   "source": [
    "7. Create a date object of your day of birth.\n"
   ]
  },
  {
   "cell_type": "code",
   "execution_count": 37,
   "id": "64e8081c",
   "metadata": {},
   "outputs": [
    {
     "data": {
      "text/plain": [
       "datetime.date(1996, 7, 29)"
      ]
     },
     "execution_count": 37,
     "metadata": {},
     "output_type": "execute_result"
    }
   ],
   "source": [
    "my_date = date(1996,7,29)\n",
    "my_date"
   ]
  },
  {
   "cell_type": "raw",
   "id": "8af2fbc0",
   "metadata": {},
   "source": [
    "8. What day of the week was your day of birth?\n"
   ]
  },
  {
   "cell_type": "code",
   "execution_count": 38,
   "id": "37d095f5",
   "metadata": {},
   "outputs": [
    {
     "data": {
      "text/plain": [
       "0"
      ]
     },
     "execution_count": 38,
     "metadata": {},
     "output_type": "execute_result"
    }
   ],
   "source": [
    "my_date.weekday()"
   ]
  },
  {
   "cell_type": "raw",
   "id": "0e569a63",
   "metadata": {},
   "source": [
    "9. When will you be (or when were you) 10,000 days old?\n"
   ]
  },
  {
   "cell_type": "code",
   "execution_count": 39,
   "id": "4cce4574",
   "metadata": {},
   "outputs": [
    {
     "data": {
      "text/plain": [
       "datetime.date(2023, 12, 15)"
      ]
     },
     "execution_count": 39,
     "metadata": {},
     "output_type": "execute_result"
    }
   ],
   "source": [
    "from datetime import timedelta\n",
    "day10000 = my_date + timedelta(days=10000)\n",
    "day10000"
   ]
  },
  {
   "cell_type": "code",
   "execution_count": null,
   "id": "cf0e0616",
   "metadata": {},
   "outputs": [],
   "source": []
  }
 ],
 "metadata": {
  "kernelspec": {
   "display_name": "Python 3 (ipykernel)",
   "language": "python",
   "name": "python3"
  },
  "language_info": {
   "codemirror_mode": {
    "name": "ipython",
    "version": 3
   },
   "file_extension": ".py",
   "mimetype": "text/x-python",
   "name": "python",
   "nbconvert_exporter": "python",
   "pygments_lexer": "ipython3",
   "version": "3.8.8"
  }
 },
 "nbformat": 4,
 "nbformat_minor": 5
}
