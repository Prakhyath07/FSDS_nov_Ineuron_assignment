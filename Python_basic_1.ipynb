{
 "cells": [
  {
   "cell_type": "raw",
   "id": "7dabe520",
   "metadata": {},
   "source": [
    "1. In the below elements which of them are values or an expression? eg:- values can be integer or string and expressions will be mathematical operators.\n",
    "*\n",
    "'hello'\n",
    "-87.8\n",
    "-\n",
    "/\n",
    "+\n",
    "6\n"
   ]
  },
  {
   "cell_type": "raw",
   "id": "153e823b",
   "metadata": {},
   "source": [
    "Answer :\n",
    "Following are operators:\n",
    " *,-,/,+\n",
    "Following are values:\n",
    "'hello', -87.8, 6"
   ]
  },
  {
   "cell_type": "raw",
   "id": "fd6e2318",
   "metadata": {},
   "source": [
    "2. What is the difference between string and variable?"
   ]
  },
  {
   "cell_type": "raw",
   "id": "b48094f6",
   "metadata": {},
   "source": [
    "A string is simply a series of characters. Anything inside quotes is considered a string in Python,and you can use single or double quotes around your strings like this:\n",
    "\"This is a string.\"\n",
    "'This is also a string.'\n",
    "\n",
    "\n",
    "\n",
    "Variables are nothing but reserved memory locations to store values. This means that when you    create a variable you reserve some space in memory.\n",
    "\n",
    "Based on the data type of a variable, the interpreter allocates memory and decides what can be stored in the reserved memory. Therefore, by assigning different data types to variables, you can store integers, decimals or characters in these variables.\n",
    "\n",
    "Python variables do not need explicit declaration to reserve memory space. The declaration happens automatically when you assign a value to a variable. The equal sign(=) is used to assign values to variables.\n",
    "\n",
    "Variable names can contain only letters, numbers, and underscores. They can start with a letter or an underscore, but not with a number. Spaces are not allowed in variable names, but underscores can be used to separate words in variable names."
   ]
  },
  {
   "cell_type": "raw",
   "id": "69fc4dd5",
   "metadata": {},
   "source": [
    "3. Describe three different data types."
   ]
  },
  {
   "cell_type": "raw",
   "id": "512eaaca",
   "metadata": {},
   "source": [
    "Integers:\n",
    "Integer values belong to the int class. Specifically, integers represent positive or negative whole numbers without a decimal.Integers have unlimited precision. There is no distinction between long and short numbers. The length depends on the computer memory.\n",
    "Some examples of integers include:"
   ]
  },
  {
   "cell_type": "code",
   "execution_count": 1,
   "id": "ffca050f",
   "metadata": {},
   "outputs": [
    {
     "name": "stdout",
     "output_type": "stream",
     "text": [
      "0 is <class 'int'>\n",
      "-1 is <class 'int'>\n",
      "10 is <class 'int'>\n"
     ]
    }
   ],
   "source": [
    "print(0, \"is\", type(0))\n",
    "print(-1, \"is\", type(-1))\n",
    "print(10, \"is\", type(10))"
   ]
  },
  {
   "cell_type": "raw",
   "id": "2417899a",
   "metadata": {},
   "source": [
    "Lists:\n",
    "A Python list is an ordered changeable array. Lists allow duplicate elements regardless of their type. Adding or removing members from a list allows changes after creation.\n",
    "\n",
    "Create a list in Python by using square brackets, separating individual elements with a comma:\n",
    "A = [1, 2, \"Bob\", 3.4]\n",
    "\n",
    "Since Python lists are changeable, they allow creating empty lists and appending elements later, as well as adding or removing members to an existing list\n",
    "\n",
    "\n",
    "Tuples:\n",
    "Python Tuples are an array of unchangeable ordered elements. Once a tuple is stored into a variable, members cannot be added or removed. A tuple allows duplicate members of any type.\n",
    "\n",
    "To create a tuple, use the standard round brackets, separating individual elements with a comma:\n",
    "t = (\"bare\", \"metal\", \"cloud\", 2.0, \"cloud\")\n",
    "\n",
    "\n",
    "\n"
   ]
  },
  {
   "cell_type": "raw",
   "id": "2c23fd32",
   "metadata": {},
   "source": [
    "4. What is an expression made up of? What do all expressions do?"
   ]
  },
  {
   "cell_type": "raw",
   "id": "f4b1b38f",
   "metadata": {},
   "source": [
    "An expression is a combination of operators and operands that is interpreted to produce some other value. In any programming language, an expression is evaluated as per the precedence of its operators. So that if there is more than one operator in an expression, their precedence decides which operation will be performed first. We have many different types of expressions in Python.\n",
    "\n",
    "Example: \n",
    " * x = 15 + 1.3\n",
    "\n",
    " *\n",
    "    x = 40\n",
    "    y = 12\n",
    "\n",
    "    add = x + y\n",
    "    sub = x - y\n",
    "    pro = x * y\n",
    "    div = x / y\n",
    "    \n",
    " *  P = (10 == 9)\n",
    "    Q = (7 > 5)\n",
    "\n",
    "    # Logical Expressions\n",
    "    R = P and Q\n",
    "    S = P or Q\n",
    "    T = not P\n",
    "\n"
   ]
  },
  {
   "cell_type": "raw",
   "id": "d3c35c05",
   "metadata": {},
   "source": [
    "5. This assignment statements, like spam = 10. What is the difference between an\n",
    "expression and a statement?"
   ]
  },
  {
   "cell_type": "raw",
   "id": "a9429410",
   "metadata": {},
   "source": [
    "- The assignemnt statemets assign a value to the variable.\n",
    "- The expressions evaluates the values of variables on which different operation is performed.\n",
    "- in spam = 10 , value 10 in assigned to spam, and now spam will have value 10.\n",
    "- But in expression a = C+B, the value of A depends on the value of C and B."
   ]
  },
  {
   "cell_type": "raw",
   "id": "aa9cccf7",
   "metadata": {},
   "source": [
    "\n",
    "6. After running the following code, what does the variable bacon contain?\n",
    "bacon = 22\n",
    "bacon + 1"
   ]
  },
  {
   "cell_type": "raw",
   "id": "c49fc771",
   "metadata": {},
   "source": [
    "Variable bacon will have a value of 22 itself as after increasing the value of bacon it was not assigned back to it"
   ]
  },
  {
   "cell_type": "code",
   "execution_count": 2,
   "id": "a16df756",
   "metadata": {},
   "outputs": [
    {
     "name": "stdout",
     "output_type": "stream",
     "text": [
      "22\n"
     ]
    }
   ],
   "source": [
    "bacon = 22\n",
    "bacon + 1\n",
    "print(bacon)"
   ]
  },
  {
   "cell_type": "raw",
   "id": "597633fe",
   "metadata": {},
   "source": [
    "7. What should the values of the following two terms be?\n",
    "'spam' + 'spamspam'\n",
    "'spam' * 3"
   ]
  },
  {
   "cell_type": "raw",
   "id": "0d400855",
   "metadata": {},
   "source": [
    "'spam' + 'spamspam'='spamspamspam'\n",
    "\n",
    "'spam' * 3 = 'spamspamspam'"
   ]
  },
  {
   "cell_type": "raw",
   "id": "c29000f5",
   "metadata": {},
   "source": [
    "8. Why is eggs a valid variable name while 100 is invalid?"
   ]
  },
  {
   "cell_type": "raw",
   "id": "4eda06be",
   "metadata": {},
   "source": [
    "As per the rules of a valid variable:\n",
    "    Variable names can contain only letters, numbers, and underscores. They can start with a letter or an underscore, but not with a number. Spaces are not allowed in variable names, but underscores can be used to separate words in variable names.\n",
    "    \n",
    "since 100 starts with a number its not a valid variable"
   ]
  },
  {
   "cell_type": "raw",
   "id": "c4a31583",
   "metadata": {},
   "source": [
    "9. What three functions can be used to get the integer, floating-point number, or string\n",
    "version of a value?"
   ]
  },
  {
   "cell_type": "raw",
   "id": "01e6a1b3",
   "metadata": {},
   "source": [
    "- int()\n",
    "- float()\n",
    "- str()  will convert the values to integer, float or string versions of the values passed to them"
   ]
  },
  {
   "cell_type": "raw",
   "id": "6fd1d7f3",
   "metadata": {},
   "source": [
    "10. Why does this expression cause an error? How can you fix it?\n",
    "'I have eaten ' + 99 + ' burritos.'"
   ]
  },
  {
   "cell_type": "raw",
   "id": "2f986051",
   "metadata": {},
   "source": [
    "- This will error out since string concatination with interger values can not be performed.\n",
    "This can be fixed by converting 99 into string by str(99) or by enclosing it with inverted commas '99"
   ]
  },
  {
   "cell_type": "code",
   "execution_count": null,
   "id": "cac8b2be",
   "metadata": {},
   "outputs": [],
   "source": []
  }
 ],
 "metadata": {
  "kernelspec": {
   "display_name": "Python 3 (ipykernel)",
   "language": "python",
   "name": "python3"
  },
  "language_info": {
   "codemirror_mode": {
    "name": "ipython",
    "version": 3
   },
   "file_extension": ".py",
   "mimetype": "text/x-python",
   "name": "python",
   "nbconvert_exporter": "python",
   "pygments_lexer": "ipython3",
   "version": "3.8.8"
  }
 },
 "nbformat": 4,
 "nbformat_minor": 5
}
