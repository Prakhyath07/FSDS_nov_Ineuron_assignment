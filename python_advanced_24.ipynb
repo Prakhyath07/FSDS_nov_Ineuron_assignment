{
 "cells": [
  {
   "cell_type": "raw",
   "id": "21cbc3ef",
   "metadata": {},
   "source": [
    "Q1. Is it permissible to use several import statements to import the same module? What would the\n",
    "goal be? Can you think of a situation where it would be beneficial?\n",
    "\n",
    "It is normal and accepted to re-import the same module in each file where it's used. This helps your code be more explicit about where the things in its namespace originate - better to import numpy than to from myOtherModule import numpy. In general, the only things you want to import from a file or module are things that originate in that file or module. Any other shared resources should probably be imported from the shared source directly.\n",
    "\n",
    "This doesn't cause any memory problems, because the python interpreter only ever loads any given module once (unless you use importlib or similar to mess with that behavior or reload a module explicitly). The first time a module is imported, it's cached in sys.modules, and subsequent imports check sys.modules to see if the module has been loaded, before trying to load it again."
   ]
  },
  {
   "cell_type": "raw",
   "id": "3c379f76",
   "metadata": {},
   "source": [
    "Q2. What are some of a module's characteristics? (Name at least one.)\n",
    "\n",
    "Characteristics of Modules\n",
    "The following are the desirable characteristics of a module.\n",
    "\n",
    "1. Modules contain instructions, processing logic, and data.\n",
    "\n",
    "2. Modules can be separately compiled and stored in a library.\n",
    "\n",
    "3. Modules can be included in a program.\n",
    "\n",
    "4. Module segments can be used by invoking a name and some parameters.\n",
    "\n",
    "5. Module segments can be used by other modules."
   ]
  },
  {
   "cell_type": "raw",
   "id": "2cd823b4",
   "metadata": {},
   "source": [
    "Q3. Circular importing, such as when two modules import each other, can lead to dependencies and\n",
    "bugs that aren't visible. How can you go about creating a program that avoids mutual importing?\n",
    "\n",
    "Circular importing is a form of circular dependency that is created with the import statement in Python.\n",
    "\n",
    "For example, let's analyze the following code:\n",
    "\n",
    "# module1\n",
    "import module2\n",
    "\n",
    "def function1():\n",
    "    module2.function2()\n",
    "\n",
    "def function3():\n",
    "    print('Goodbye, World!')\n",
    "    \n",
    "    \n",
    "# module2\n",
    "import module1\n",
    "\n",
    "def function2():\n",
    "    print('Hello, World!')\n",
    "    module1.function3()\n",
    "\n",
    "# __init__.py\n",
    "\n",
    "import module1\n",
    "\n",
    "module1.function1()\n",
    "\n",
    "When Python imports a module, it checks the module registry to see if the module was already imported. If the module was already registered, Python uses that existing object from cache. The module registry is a table of modules that have been initialized and indexed by module name. This table can be accessed through sys.modules.\n",
    "\n",
    "If it was not registered, Python finds the module, initializes it if necessary, and executes it in the new module's namespace.\n",
    "\n",
    "In our example, when Python reaches import module2, it loads and executes it. However, module2 also calls for module1, which in turn defines function1().\n",
    "\n",
    "The problem occurs when function2() tries to call module1's function3(). Since module1 was loaded first, and in turn loaded module2 before it could reach function3(), that function isn't yet defined and throws an error when called\n",
    "\n",
    "\n",
    "\n",
    "How to Fix Circular Dependencies\n",
    "In general, circular imports are the result of bad designs. A deeper analysis of the program could have concluded that the dependency isn't actually required, or that the depended functionality can be moved to different modules that wouldn't contain the circular reference.\n",
    "\n",
    "A simple solution is that sometimes both modules can just be merged into a single, larger module. The resulting code from our example above would look something like this:\n",
    "\n",
    "# module 1 & 2\n",
    "\n",
    "def function1():\n",
    "    function2()\n",
    "\n",
    "def function2():\n",
    "    print('Hello, World!')\n",
    "    function3()\n",
    "\n",
    "def function3():\n",
    "    print('Goodbye, World!')\n",
    "\n",
    "\n",
    "However, the merged module may have some unrelated functions (tight coupling) and could become very large if the two modules already have a lot code in them.\n",
    "\n",
    "So if that doesn't work, another solution could have been to defer the import of module2 to import it only when it is needed. This can be done by placing the import of module2 within the definition of function1():\n",
    "\n",
    "# module 1\n",
    "\n",
    "def function1():\n",
    "    import module2\n",
    "    module2.function2()\n",
    "\n",
    "def function3():\n",
    "    print('Goodbye, World!')"
   ]
  },
  {
   "cell_type": "raw",
   "id": "c96ec1d5",
   "metadata": {},
   "source": [
    "Q4. Why is _ _all_ _ in Python?\n",
    "\n",
    "Python __all__ is a variable that can be set in the __init__.py file of a package. The __all__ variable is a list of strings that defines those symbols that are imported when a program does.\n",
    "\n",
    "Python __all__ is a list of public objects of that module, as interpreted by import *. The __all__  overrides the default of hiding everything that begins with an underscore. \n",
    "\n",
    "Objects that start with an underscore or are not mentioned in __all__ if __all__ is present are not exactly hidden; they can be seen and accessed perfectly normally if you know their names. It is only in the case of an “import *“, which is not recommended anyway, that the contrast carries any weight.\n",
    "\n",
    "he following file data.py explicitly exports the variables men and lifestyle.\n",
    "\n",
    "__all__ = ['men', 'lifestyle']\n",
    "\n",
    "men = 5\n",
    "\n",
    "def lifestyle(): return 'lifestyle'\n",
    "These variables can then be imported in an app.py file like the following.\n",
    "\n",
    "from data import *\n",
    "\n",
    "print(men)\n",
    "\n",
    "If the __all__ above is commented out, this code will then execute to completion, as the default behaviour of import * is to import all symbols that do not begin with an underscore, from the given namespace."
   ]
  },
  {
   "cell_type": "raw",
   "id": "2904fb94",
   "metadata": {},
   "source": [
    "Q5. In what situation is it useful to refer to the _ _name_ _ attribute or the string '_ _main_ _'?\n",
    "\n",
    "The __name__ variable (two underscores before and after) is a special Python variable. It gets its value depending on how we execute the containing script.\n",
    "\n",
    "Sometimes you write a script with functions that might be useful in other scripts as well. In Python, you can import that script as a module in another script.\n",
    "\n",
    "Thanks to this special variable, you can decide whether you want to run the script. Or that you want to import the functions defined in the script.\n",
    "\n",
    "What values can the __name__ variable contain?\n",
    "\n",
    "When you run your script, the __name__ variable equals __main__. When you import the containing script, it will contain the name of the script.\n",
    "\n",
    "Let us take a look at these two use cases and describe the process with two illustrations.\n",
    "\n",
    "Scenario 1 - Run the script\n",
    "Suppose we wrote the script nameScript.py as follows:\n"
   ]
  },
  {
   "cell_type": "code",
   "execution_count": 2,
   "id": "d09e1683",
   "metadata": {},
   "outputs": [
    {
     "name": "stdout",
     "output_type": "stream",
     "text": [
      "The value of __name__ is __main__\n"
     ]
    }
   ],
   "source": [
    "# nameScript.py\n",
    "def myFunction():\n",
    "    print('The value of __name__ is ' + __name__)\n",
    "def main():\n",
    "    myFunction()\n",
    "if __name__ == '__main__':\n",
    "    main()"
   ]
  },
  {
   "cell_type": "code",
   "execution_count": 3,
   "id": "feadc77d",
   "metadata": {},
   "outputs": [
    {
     "name": "stdout",
     "output_type": "stream",
     "text": [
      "The value of __name__ is nameScript\n"
     ]
    }
   ],
   "source": [
    "# importingScript.py\n",
    "import nameScript as ns\n",
    "ns.myFunction()"
   ]
  },
  {
   "cell_type": "raw",
   "id": "d1377cb5",
   "metadata": {},
   "source": [
    "In importingScript.py the __name__ variable is set to __main__. By importing nameScript, Python starts looking for a file by adding .py to the module name. It then runs the code contained in the imported file.\n",
    "\n",
    "But this time it is set to nameScript. Again the def statements for main and myFunction are run. But, now the condition evaluates to false and main is not called.\n",
    "\n",
    "In importingScript.py we call myFunction which outputs nameScript. NameScript is known to myFunction when that function was defined.\n",
    "\n",
    "If you would print __name__ in the importingScript, this would output __main__. The reason for this is that Python uses the value known in the scope of importingScript."
   ]
  },
  {
   "cell_type": "raw",
   "id": "56444753",
   "metadata": {},
   "source": []
  },
  {
   "cell_type": "code",
   "execution_count": null,
   "id": "aae24343",
   "metadata": {},
   "outputs": [],
   "source": []
  }
 ],
 "metadata": {
  "kernelspec": {
   "display_name": "Python 3 (ipykernel)",
   "language": "python",
   "name": "python3"
  },
  "language_info": {
   "codemirror_mode": {
    "name": "ipython",
    "version": 3
   },
   "file_extension": ".py",
   "mimetype": "text/x-python",
   "name": "python",
   "nbconvert_exporter": "python",
   "pygments_lexer": "ipython3",
   "version": "3.8.8"
  }
 },
 "nbformat": 4,
 "nbformat_minor": 5
}
