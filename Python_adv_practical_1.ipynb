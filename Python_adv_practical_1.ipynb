{
 "cells": [
  {
   "cell_type": "code",
   "execution_count": 1,
   "id": "d7577608",
   "metadata": {},
   "outputs": [],
   "source": [
    "\"\"\"1. Write a function that takes a list of lists and returns the value of all of the\n",
    "symbols in it, where each symbol adds or takes something from the total\n",
    "score. Symbol values:\n",
    "# = 5\n",
    "O = 3\n",
    "X = 1\n",
    "! = -1\n",
    "!! = -3\n",
    "!!! = -5\n",
    "\n",
    "A list of lists containing 2 #s, a O, and a !!! would equal (0 + 5 + 5 + 3 - 5) 8.\n",
    "If the final score is negative, return 0 (e.g. 3 #s, 3 !!s, 2 !!!s and a X would be\n",
    "(0 + 5 + 5 + 5 - 3 - 3 - 3 - 5 - 5 + 1) -3, so return 0.\n",
    "Examples\n",
    "check_score([\n",
    "[\"#\", \"!\"],\n",
    "[\"!!\", \"X\"]\n",
    "]) ➞ 2\n",
    "check_score([\n",
    "[\"!!!\", \"O\", \"!\"],\n",
    "[\"X\", \"#\", \"!!!\"],\n",
    "[\"!!\", \"X\", \"O\"]\n",
    "]) ➞ 0\n",
    "\"\"\"\n",
    "\n",
    "def check_score(n):\n",
    "    h=\"#\"\n",
    "    o=\"O\"\n",
    "    x=\"X\"\n",
    "    e=\"!\"\n",
    "    ex=\"!!\"\n",
    "    exc=\"!!!\"\n",
    "\n",
    "    try:\n",
    "        score=0\n",
    "        for i in range(0,len(n)):\n",
    "            for j in range(0,len(n[i])):\n",
    "                if n[i][j]==h:\n",
    "                    score+=5\n",
    "                elif n[i][j]==o:\n",
    "                    score+=3\n",
    "                elif n[i][j]==x:\n",
    "                    score+=1\n",
    "                elif n[i][j]==e:\n",
    "                    score+=-1\n",
    "                elif n[i][j]==ex:\n",
    "                    score+=-3\n",
    "                elif n[i][j]==exc:\n",
    "                    score+=-5\n",
    "                else:\n",
    "                    return \"Enter valid symbols\"\n",
    "\n",
    "        return score if score>=0 else 0\n",
    "    except exception as e:\n",
    "        return e\n",
    "\n",
    "    "
   ]
  },
  {
   "cell_type": "code",
   "execution_count": 2,
   "id": "a0951213",
   "metadata": {},
   "outputs": [
    {
     "data": {
      "text/plain": [
       "2"
      ]
     },
     "execution_count": 2,
     "metadata": {},
     "output_type": "execute_result"
    }
   ],
   "source": [
    "check_score([\n",
    "[\"#\", \"!\"],\n",
    "[\"!!\", \"X\"]\n",
    "])"
   ]
  },
  {
   "cell_type": "code",
   "execution_count": 3,
   "id": "722973eb",
   "metadata": {},
   "outputs": [],
   "source": [
    "\"\"\"\n",
    "2. Create a function that takes a variable number of arguments, each\n",
    "argument representing the number of items in a group, and returns the\n",
    "number of permutations (combinations) of items that you could get by taking\n",
    "one item from each group.\n",
    "Examples\n",
    "combinations(2, 3) ➞ 6\n",
    "combinations(3, 7, 4) ➞ 84\n",
    "combinations(2, 3, 4, 5) ➞ 120\n",
    "\"\"\"\n",
    "\n",
    "def comb(*args):\n",
    "    combin=1\n",
    "    def fact(n):\n",
    "        try:\n",
    "            if n<0:\n",
    "                return \"Enter number greater than or equal to 0\"\n",
    "            elif n==0:\n",
    "                return 1\n",
    "            else:\n",
    "                return n*fact(n-1)\n",
    "        except TypeError:\n",
    "            return \"Please enter only numbers\"\n",
    "        except exception as e:\n",
    "            return e\n",
    "    def combination(n,r):\n",
    "        try:\n",
    "            if n>=r:\n",
    "                c=fact(n)/(fact(n-r)*fact(r))\n",
    "                return c\n",
    "            else:\n",
    "                return \"r cannot be greater than c\"\n",
    "        \n",
    "        except TypeError:\n",
    "            return \"Please enter only numbers\"\n",
    "        except exception as e:\n",
    "            return e\n",
    "        \n",
    "    for i in args:\n",
    "        combin*= combination(i,1)\n",
    "    return combin\n",
    "    "
   ]
  },
  {
   "cell_type": "code",
   "execution_count": 4,
   "id": "a928e6ea",
   "metadata": {},
   "outputs": [
    {
     "data": {
      "text/plain": [
       "84.0"
      ]
     },
     "execution_count": 4,
     "metadata": {},
     "output_type": "execute_result"
    }
   ],
   "source": [
    "comb(3, 4, 7)"
   ]
  },
  {
   "cell_type": "code",
   "execution_count": 5,
   "id": "79f6032b",
   "metadata": {},
   "outputs": [],
   "source": [
    "\"\"\"\n",
    "3. Create a function that takes a string as an argument and returns the Morse\n",
    "code equivalent.\n",
    "Examples\n",
    "encode_morse(\"EDABBIT CHALLENGE\") ➞ \". -.. .- -... -... .. - -.-. .... .- .-.. .-..\n",
    ". -. --. .\"\n",
    "encode_morse(\"HELP ME !\") ➞ \".... . .-.. .--. -- . -.-.--\"\n",
    "This dictionary can be used for coding:\n",
    "char_to_dots = {\n",
    "'A': '.-', 'B': '-...', 'C': '-.-.', 'D': '-..', 'E': '.', 'F': '..-.',\n",
    "'G': '--.', 'H': '....', 'I': '..', 'J': '.---', 'K': '-.-', 'L': '.-..',\n",
    "'M': '--', 'N': '-.', 'O': '---', 'P': '.--.', 'Q': '--.-', 'R': '.-.',\n",
    "'S': '...', 'T': '-', 'U': '..-', 'V': '...-', 'W': '.--', 'X': '-..-',\n",
    "'Y': '-.--', 'Z': '--..', ' ': ' ', '0': '-----',\n",
    "'1': '.----', '2': '..---', '3': '...--', '4': '....-', '5': '.....',\n",
    "'6': '-....', '7': '--...', '8': '---..', '9': '----.',\n",
    "'&': '.-...', \"'\": '.----.', '@': '.--.-.', ')': '-.--.-', '(': '-.--.',\n",
    "':': '---...', ',': '--..--', '=': '-...-', '!': '-.-.--', '.': '.-.-.-',\n",
    "'-': '-....-', '+': '.-.-.', '\"': '.-..-.', '?': '..--..', '/': '-..-.'\n",
    "}\n",
    "\"\"\"\n",
    "\n",
    "def encode_morse(text):\n",
    "    text=text.upper()\n",
    "    char_to_dots = {\n",
    "    'A': '.-', 'B': '-...', 'C': '-.-.', 'D': '-..', 'E': '.', 'F': '..-.',\n",
    "    'G': '--.', 'H': '....', 'I': '..', 'J': '.---', 'K': '-.-', 'L': '.-..',\n",
    "    'M': '--', 'N': '-.', 'O': '---', 'P': '.--.', 'Q': '--.-', 'R': '.-.',\n",
    "    'S': '...', 'T': '-', 'U': '..-', 'V': '...-', 'W': '.--', 'X': '-..-',\n",
    "    'Y': '-.--', 'Z': '--..', ' ': ' ', '0': '-----',\n",
    "    '1': '.----', '2': '..---', '3': '...--', '4': '....-', '5': '.....',\n",
    "    '6': '-....', '7': '--...', '8': '---..', '9': '----.',\n",
    "    '&': '.-...', \"'\": '.----.', '@': '.--.-.', ')': '-.--.-', '(': '-.--.',\n",
    "    ':': '---...', ',': '--..--', '=': '-...-', '!': '-.-.--', '.': '.-.-.-',\n",
    "    '-': '-....-', '+': '.-.-.', '\"': '.-..-.', '?': '..--..', '/': '-..-.'\n",
    "    }\n",
    "    \n",
    "    morse=\"\"\n",
    "    \n",
    "    for i in text:\n",
    "        morse = morse +\" \" + char_to_dots[i]\n",
    "        \n",
    "    return morse\n",
    "    \n",
    " "
   ]
  },
  {
   "cell_type": "code",
   "execution_count": 6,
   "id": "f9a40ef7",
   "metadata": {},
   "outputs": [
    {
     "data": {
      "text/plain": [
       "' .... . .-.. .--.   -- .   -.-.--'"
      ]
     },
     "execution_count": 6,
     "metadata": {},
     "output_type": "execute_result"
    }
   ],
   "source": [
    "encode_morse(\"HELP ME !\")"
   ]
  },
  {
   "cell_type": "code",
   "execution_count": 11,
   "id": "1723a468",
   "metadata": {},
   "outputs": [],
   "source": [
    "\"\"\"\n",
    "4. Write a function that takes a number and returns True if it's a prime; False\n",
    "otherwise. The number can be 2^64-1 (2 to the power of 63, not XOR). With\n",
    "the standard technique it would be O(2^64-1), which is much too large for the\n",
    "10 second time limit.\n",
    "Examples\n",
    "prime(7) ➞ True\n",
    "prime(56963) ➞ True\n",
    "prime(5151512515524) ➞ False\n",
    "\"\"\"\n",
    "\n",
    "import math\n",
    "\n",
    "def is_prime(n):\n",
    "    try:\n",
    "        if n <= 1:\n",
    "            return False\n",
    "        elif n == 2:\n",
    "            return True\n",
    "        elif n > 2 and n % 2 == 0:\n",
    "            return False\n",
    "        else:\n",
    "            for i in range(3, int(math.sqrt(n)) + 1, 2):\n",
    "                if n % i == 0:\n",
    "                    return False\n",
    "          \n",
    "        return True\n",
    "    \n",
    "    except TypeError:\n",
    "        return \"Please enter only numbers\"\n",
    "    except exception as e:\n",
    "        return e"
   ]
  },
  {
   "cell_type": "code",
   "execution_count": 18,
   "id": "3d0c99fc",
   "metadata": {},
   "outputs": [
    {
     "data": {
      "text/plain": [
       "False"
      ]
     },
     "execution_count": 18,
     "metadata": {},
     "output_type": "execute_result"
    }
   ],
   "source": [
    "is_prime(5151512515524)"
   ]
  },
  {
   "cell_type": "code",
   "execution_count": 26,
   "id": "127d974c",
   "metadata": {},
   "outputs": [],
   "source": [
    "\"\"\"\n",
    "5. Create a function that converts a word to a bitstring and then to a boolean\n",
    "list based on the following criteria:\n",
    "1. Locate the position of the letter in the English alphabet (from 1 to 26).\n",
    "2. Odd positions will be represented as 1 and 0 otherwise.\n",
    "3. Convert the represented positions to boolean values, 1 for True and 0\n",
    "for False.\n",
    "4. Store the conversions into an array.\n",
    "Examples\n",
    "to_boolean_list(\"deep\") ➞ [False, True, True, False]\n",
    "# deep converts to 0110\n",
    "# d is the 4th alphabet - 0\n",
    "# e is the 5th alphabet - 1\n",
    "# e is the 5th alphabet - 1\n",
    "# p is the 16th alphabet - 0\n",
    "to_boolean_list(\"loves\") ➞ [False, True, False, True, True]\n",
    "to_boolean_list(\"tesh\") ➞ [False, True, True, False]\n",
    "\"\"\"\n",
    "def to_boolean_list(text):\n",
    "    list=[]\n",
    "    NUM=31\n",
    "    for i in text:\n",
    "        \n",
    "        # Performing AND operation\n",
    "        # with number 31\n",
    "        list.append((ord(i) & NUM))\n",
    "    boolean=[False if i%2==0 else True for i in list]\n",
    "    return boolean"
   ]
  },
  {
   "cell_type": "code",
   "execution_count": 28,
   "id": "10b4151e",
   "metadata": {},
   "outputs": [
    {
     "data": {
      "text/plain": [
       "[False, True, True, False]"
      ]
     },
     "execution_count": 28,
     "metadata": {},
     "output_type": "execute_result"
    }
   ],
   "source": [
    "to_boolean_list(\"tesh\")"
   ]
  },
  {
   "cell_type": "code",
   "execution_count": null,
   "id": "88562bd2",
   "metadata": {},
   "outputs": [],
   "source": []
  }
 ],
 "metadata": {
  "kernelspec": {
   "display_name": "Python 3 (ipykernel)",
   "language": "python",
   "name": "python3"
  },
  "language_info": {
   "codemirror_mode": {
    "name": "ipython",
    "version": 3
   },
   "file_extension": ".py",
   "mimetype": "text/x-python",
   "name": "python",
   "nbconvert_exporter": "python",
   "pygments_lexer": "ipython3",
   "version": "3.8.8"
  }
 },
 "nbformat": 4,
 "nbformat_minor": 5
}
