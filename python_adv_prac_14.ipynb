{
 "cells": [
  {
   "cell_type": "raw",
   "id": "7fdf9b26",
   "metadata": {},
   "source": [
    "1. Given a list of numbers, create a function that removes 25% from every\n",
    "number in the list except the smallest number, and adds the total amount\n",
    "removed to the smallest number.\n",
    "Examples\n",
    "show_the_love([4, 1, 4]) ➞ [3, 3, 3]\n",
    "show_the_love([16, 10, 8]) ➞ [12, 7.5, 14.5]\n",
    "show_the_love([2, 100]) ➞ [27, 75]"
   ]
  },
  {
   "cell_type": "code",
   "execution_count": 15,
   "id": "7497b1b8",
   "metadata": {},
   "outputs": [],
   "source": [
    "def show_the_love(lst):\n",
    "    new_lst=lst.copy()\n",
    "    rem=0\n",
    "    for i in range(len(lst)):\n",
    "        if lst[i] != min(new_lst):\n",
    "            \n",
    "            rem+=.25*lst[i]\n",
    "            lst[i]=lst[i]*.75\n",
    "    for i in range(len(lst)):\n",
    "        if lst[i] == min(new_lst):\n",
    "            lst[i]=lst[i]+rem\n",
    "    \n",
    "    \n",
    "    return lst\n",
    "            "
   ]
  },
  {
   "cell_type": "code",
   "execution_count": 16,
   "id": "689256eb",
   "metadata": {},
   "outputs": [
    {
     "data": {
      "text/plain": [
       "[3.0, 3.0, 3.0]"
      ]
     },
     "execution_count": 16,
     "metadata": {},
     "output_type": "execute_result"
    }
   ],
   "source": [
    "show_the_love([4, 1, 4])"
   ]
  },
  {
   "cell_type": "code",
   "execution_count": 17,
   "id": "65d31187",
   "metadata": {},
   "outputs": [
    {
     "data": {
      "text/plain": [
       "[12.0, 7.5, 14.5]"
      ]
     },
     "execution_count": 17,
     "metadata": {},
     "output_type": "execute_result"
    }
   ],
   "source": [
    "show_the_love([16, 10, 8])"
   ]
  },
  {
   "cell_type": "code",
   "execution_count": 18,
   "id": "cc8bd547",
   "metadata": {},
   "outputs": [
    {
     "data": {
      "text/plain": [
       "[27.0, 75.0]"
      ]
     },
     "execution_count": 18,
     "metadata": {},
     "output_type": "execute_result"
    }
   ],
   "source": [
    "show_the_love([2, 100])"
   ]
  },
  {
   "cell_type": "raw",
   "id": "4a43fd31",
   "metadata": {},
   "source": [
    "2. Create a function that takes in two words as input and returns a list of three\n",
    "elements, in the following order:\n",
    "1.Shared letters between two words.\n",
    "2.Letters unique to word 1.\n",
    "3.Letters unique to word 2.\n",
    "Each element should have unique letters, and have each letter be\n",
    "alphabetically sorted.\n",
    "Examples\n",
    "letters(\"sharp\", \"soap\") ➞ [\"aps\", \"hr\", \"o\"]\n",
    "letters(\"board\", \"bored\") ➞ [\"bdor\", \"a\", \"e\"]\n",
    "letters(\"happiness\", \"envelope\") ➞ [\"enp\", \"ahis\", \"lov\"]\n",
    "letters(\"kerfuffle\", \"fluffy\") ➞ [\"flu\", \"ekr\", \"y\"]\n",
    "# Even with multiple matching letters (e.g. 3 f&#39;s), there should\n",
    "# only exist a single \"f\" in your first element.\n",
    "letters(\"match\", \"ham\") ➞ [\"ahm\", \"ct\", \"\"]\n",
    "# \"ham\" does not contain any letters that are not found already\n",
    "# in \"match\"."
   ]
  },
  {
   "cell_type": "code",
   "execution_count": 33,
   "id": "57c44786",
   "metadata": {},
   "outputs": [],
   "source": [
    "def letters(a,b):\n",
    "    shared=[]\n",
    "    uq_1=[]\n",
    "    uq_2=[]\n",
    "    for i in a:\n",
    "        if i not in b:\n",
    "            uq_1.append(i)\n",
    "        if i in b:\n",
    "            shared.append(i)\n",
    "    for i in b:\n",
    "        if (i not in shared) and (i not in uq_1):\n",
    "            uq_2.append(i)\n",
    "    \n",
    "    shared=list(set(shared))\n",
    "    uq_1=list(set(uq_1))\n",
    "    uq_2=list(set(uq_2))\n",
    "    shared.sort()\n",
    "    uq_1.sort()\n",
    "    uq_2.sort()\n",
    "    sh=''.join(shared)\n",
    "    u1=''.join(uq_1)\n",
    "    u2=''.join(uq_2)\n",
    "    return [sh,u1,u2]\n",
    "    "
   ]
  },
  {
   "cell_type": "code",
   "execution_count": 34,
   "id": "91bea484",
   "metadata": {},
   "outputs": [
    {
     "data": {
      "text/plain": [
       "['aps', 'hr', 'o']"
      ]
     },
     "execution_count": 34,
     "metadata": {},
     "output_type": "execute_result"
    }
   ],
   "source": [
    "letters(\"sharp\", \"soap\")"
   ]
  },
  {
   "cell_type": "code",
   "execution_count": 35,
   "id": "7a62537a",
   "metadata": {},
   "outputs": [
    {
     "data": {
      "text/plain": [
       "['bdor', 'a', 'e']"
      ]
     },
     "execution_count": 35,
     "metadata": {},
     "output_type": "execute_result"
    }
   ],
   "source": [
    "letters(\"board\", \"bored\")"
   ]
  },
  {
   "cell_type": "code",
   "execution_count": 36,
   "id": "dfaf2659",
   "metadata": {},
   "outputs": [
    {
     "data": {
      "text/plain": [
       "['enp', 'ahis', 'lov']"
      ]
     },
     "execution_count": 36,
     "metadata": {},
     "output_type": "execute_result"
    }
   ],
   "source": [
    "letters(\"happiness\", \"envelope\")"
   ]
  },
  {
   "cell_type": "code",
   "execution_count": 37,
   "id": "9c653c46",
   "metadata": {},
   "outputs": [
    {
     "data": {
      "text/plain": [
       "['flu', 'ekr', 'y']"
      ]
     },
     "execution_count": 37,
     "metadata": {},
     "output_type": "execute_result"
    }
   ],
   "source": [
    "letters(\"kerfuffle\", \"fluffy\")"
   ]
  },
  {
   "cell_type": "code",
   "execution_count": 38,
   "id": "f2164bf0",
   "metadata": {},
   "outputs": [
    {
     "data": {
      "text/plain": [
       "['ahm', 'ct', '']"
      ]
     },
     "execution_count": 38,
     "metadata": {},
     "output_type": "execute_result"
    }
   ],
   "source": [
    "letters(\"match\", \"ham\")"
   ]
  },
  {
   "cell_type": "raw",
   "id": "f81fbba0",
   "metadata": {},
   "source": [
    "3. Write a function that pairs the first number in an array with the last, the\n",
    "second number with the second to last, etc.\n",
    "Examples\n",
    "pairs([1, 2, 3, 4, 5, 6, 7]) ➞ [[1, 7], [2, 6], [3, 5], [4, 4]]\n",
    "\n",
    "pairs([1, 2, 3, 4, 5, 6]) ➞ [[1, 6], [2, 5], [3, 4]]\n",
    "pairs([5, 9, 8, 1, 2]) ➞ [[5, 2], [9, 1], [8, 8]]\n",
    "pairs([]) ➞ []"
   ]
  },
  {
   "cell_type": "code",
   "execution_count": 47,
   "id": "a3607e88",
   "metadata": {},
   "outputs": [],
   "source": [
    "def pairs(lst):\n",
    "    new=[]\n",
    "    l=len(lst)\n",
    "    if l%2==0:\n",
    "        for i in range(1,(l//2)+1):\n",
    "            new.append([lst[i-1],lst[-i]])\n",
    "    else:\n",
    "        for i in range(1,(l//2)+2):\n",
    "            new.append([lst[i-1],lst[-i]])\n",
    "    return new"
   ]
  },
  {
   "cell_type": "code",
   "execution_count": 48,
   "id": "8da5187c",
   "metadata": {},
   "outputs": [
    {
     "data": {
      "text/plain": [
       "[[1, 7], [2, 6], [3, 5], [4, 4]]"
      ]
     },
     "execution_count": 48,
     "metadata": {},
     "output_type": "execute_result"
    }
   ],
   "source": [
    "pairs([1, 2, 3, 4, 5, 6, 7])"
   ]
  },
  {
   "cell_type": "code",
   "execution_count": 49,
   "id": "620affac",
   "metadata": {},
   "outputs": [
    {
     "data": {
      "text/plain": [
       "[[1, 6], [2, 5], [3, 4]]"
      ]
     },
     "execution_count": 49,
     "metadata": {},
     "output_type": "execute_result"
    }
   ],
   "source": [
    "pairs([1, 2, 3, 4, 5, 6])"
   ]
  },
  {
   "cell_type": "code",
   "execution_count": 50,
   "id": "0cc84e16",
   "metadata": {},
   "outputs": [
    {
     "data": {
      "text/plain": [
       "[[5, 2], [9, 1], [8, 8]]"
      ]
     },
     "execution_count": 50,
     "metadata": {},
     "output_type": "execute_result"
    }
   ],
   "source": [
    "pairs([5, 9, 8, 1, 2])"
   ]
  },
  {
   "cell_type": "code",
   "execution_count": 51,
   "id": "03c7442b",
   "metadata": {},
   "outputs": [
    {
     "data": {
      "text/plain": [
       "[]"
      ]
     },
     "execution_count": 51,
     "metadata": {},
     "output_type": "execute_result"
    }
   ],
   "source": [
    "pairs([])"
   ]
  },
  {
   "cell_type": "raw",
   "id": "22ffa2f4",
   "metadata": {},
   "source": [
    "4. Write a function that adds two numbers. The catch, however, is that the\n",
    "numbers will be strings.\n",
    "Examples\n",
    "add_str_nums(\"4\", \"5\") ➞ \"9\"\n",
    "add_str_nums(\"abcdefg\", \"3\") ➞ \"-1\"\n",
    "add_str_nums(\"1\", \"\") ➞ \"1\"\n",
    "add_str_nums(\"1874682736267235927359283579235789257\",\n",
    "\"32652983572985729\") ➞ \"1874682736267235927391936562808774986\""
   ]
  },
  {
   "cell_type": "code",
   "execution_count": 63,
   "id": "d98981c3",
   "metadata": {},
   "outputs": [],
   "source": [
    "def add_str_nums(a,b):\n",
    "    try:\n",
    "        if a=='':\n",
    "            return b\n",
    "        elif b=='':\n",
    "            return a\n",
    "        else:\n",
    "            sum=int(a)+int(b)\n",
    "            return str(sum)\n",
    "    except:\n",
    "        return \"-1\""
   ]
  },
  {
   "cell_type": "code",
   "execution_count": 64,
   "id": "29b7e464",
   "metadata": {},
   "outputs": [
    {
     "data": {
      "text/plain": [
       "'9'"
      ]
     },
     "execution_count": 64,
     "metadata": {},
     "output_type": "execute_result"
    }
   ],
   "source": [
    "add_str_nums(\"4\", \"5\")"
   ]
  },
  {
   "cell_type": "code",
   "execution_count": 65,
   "id": "e798c4f6",
   "metadata": {},
   "outputs": [
    {
     "data": {
      "text/plain": [
       "'-1'"
      ]
     },
     "execution_count": 65,
     "metadata": {},
     "output_type": "execute_result"
    }
   ],
   "source": [
    "add_str_nums(\"abcdefg\", \"3\")"
   ]
  },
  {
   "cell_type": "code",
   "execution_count": 66,
   "id": "6a163d42",
   "metadata": {},
   "outputs": [
    {
     "data": {
      "text/plain": [
       "'1'"
      ]
     },
     "execution_count": 66,
     "metadata": {},
     "output_type": "execute_result"
    }
   ],
   "source": [
    "add_str_nums(\"1\", \"\")"
   ]
  },
  {
   "cell_type": "code",
   "execution_count": 67,
   "id": "7dea766a",
   "metadata": {},
   "outputs": [
    {
     "data": {
      "text/plain": [
       "'1874682736267235927391936562808774986'"
      ]
     },
     "execution_count": 67,
     "metadata": {},
     "output_type": "execute_result"
    }
   ],
   "source": [
    "add_str_nums(\"1874682736267235927359283579235789257\",\n",
    "\"32652983572985729\")"
   ]
  },
  {
   "cell_type": "raw",
   "id": "89c63cb3",
   "metadata": {},
   "source": [
    "5. lPaeesh le pemu mnxit ehess rtnisg! Oh, sorry, that was supposed to say:\n",
    "Please help me unmix these strings!\n",
    "Somehow my strings have all become mixed up; every pair of characters has\n",
    "been swapped. Help me undo this so I can understand my strings again.\n",
    "Examples\n",
    "unmix(\"123456\") ➞ \"214365\"\n",
    "unmix(\"hTsii s aimex dpus rtni.g\") ➞ \"This is a mixed up string.\"\n",
    "unmix(\"badce\") ➞ \"abcde\""
   ]
  },
  {
   "cell_type": "code",
   "execution_count": 99,
   "id": "103eb4a1",
   "metadata": {},
   "outputs": [],
   "source": [
    "def unmix(a):\n",
    "    mix=[]\n",
    "    for i in range(len(a)):\n",
    "        mix.append(a[i])\n",
    "    for i in range(0,len(mix)-1,2):\n",
    "        c=mix[i]\n",
    "        mix[i]=mix[i+1]\n",
    "        mix[i+1]=c\n",
    "    return ''.join(mix)"
   ]
  },
  {
   "cell_type": "code",
   "execution_count": 100,
   "id": "f9faf8fd",
   "metadata": {},
   "outputs": [
    {
     "data": {
      "text/plain": [
       "'214365'"
      ]
     },
     "execution_count": 100,
     "metadata": {},
     "output_type": "execute_result"
    }
   ],
   "source": [
    "unmix(\"123456\")"
   ]
  },
  {
   "cell_type": "code",
   "execution_count": 104,
   "id": "cfea513a",
   "metadata": {},
   "outputs": [
    {
     "data": {
      "text/plain": [
       "'This is a mixed up string.'"
      ]
     },
     "execution_count": 104,
     "metadata": {},
     "output_type": "execute_result"
    }
   ],
   "source": [
    "unmix(\"hTsii  s aimex dpus rtni.g\")"
   ]
  },
  {
   "cell_type": "code",
   "execution_count": 105,
   "id": "2ceac543",
   "metadata": {},
   "outputs": [
    {
     "data": {
      "text/plain": [
       "'abcde'"
      ]
     },
     "execution_count": 105,
     "metadata": {},
     "output_type": "execute_result"
    }
   ],
   "source": [
    "unmix(\"badce\")"
   ]
  },
  {
   "cell_type": "code",
   "execution_count": null,
   "id": "401bd43a",
   "metadata": {},
   "outputs": [],
   "source": []
  },
  {
   "cell_type": "code",
   "execution_count": null,
   "id": "e123dd40",
   "metadata": {},
   "outputs": [],
   "source": []
  }
 ],
 "metadata": {
  "kernelspec": {
   "display_name": "Python 3 (ipykernel)",
   "language": "python",
   "name": "python3"
  },
  "language_info": {
   "codemirror_mode": {
    "name": "ipython",
    "version": 3
   },
   "file_extension": ".py",
   "mimetype": "text/x-python",
   "name": "python",
   "nbconvert_exporter": "python",
   "pygments_lexer": "ipython3",
   "version": "3.8.8"
  }
 },
 "nbformat": 4,
 "nbformat_minor": 5
}
