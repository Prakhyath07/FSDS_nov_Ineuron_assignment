{
 "cells": [
  {
   "cell_type": "code",
   "execution_count": 1,
   "id": "eb3484b5",
   "metadata": {},
   "outputs": [],
   "source": [
    "\"\"\"\n",
    "1. Create a function to perform basic arithmetic operations that includes\n",
    "addition, subtraction, multiplication and division on a string number (e.g. \"12 +\n",
    "24\" or \"23 - 21\" or \"12 // 12\" or \"12 * 21\").\n",
    "Here, we have 1 followed by a space, operator followed by another space\n",
    "and 2. For the challenge, we are going to have only two numbers between 1\n",
    "valid operator. The return value should be a number.\n",
    "eval() is not allowed. In case of division, whenever the second number equals\n",
    "\"0\" return -1.\n",
    "For example:\n",
    "\"15 // 0\" ➞ -1\n",
    "Examples\n",
    "arithmetic_operation(\"12 + 12\") ➞ 24 // 12 + 12 = 24\n",
    "arithmetic_operation(\"12 - 12\") ➞ 24 // 12 - 12 = 0\n",
    "arithmetic_operation(\"12 * 12\") ➞ 144 // 12 * 12 = 144\n",
    "arithmetic_operation(\"12 // 0\") ➞ -1 // 12 / 0 = -1\n",
    "\"\"\"\n",
    "\n",
    "def arithmetic_operation(n):\n",
    "    n1,op,n2 = n.split(\" \")\n",
    "    \n",
    "    if op==\"+\":\n",
    "        return int(n1)+int(n2)\n",
    "    elif op==\"-\":\n",
    "        return int(n1)-int(n2)\n",
    "    elif op==\"*\":\n",
    "        return int(n1)*int(n2)\n",
    "    elif op==\"//\":\n",
    "        if int(n2)==0:\n",
    "            return -1\n",
    "        else:\n",
    "            return int(n1)//int(n2)\n",
    "    "
   ]
  },
  {
   "cell_type": "code",
   "execution_count": 2,
   "id": "ea5a3a2b",
   "metadata": {},
   "outputs": [
    {
     "data": {
      "text/plain": [
       "6"
      ]
     },
     "execution_count": 2,
     "metadata": {},
     "output_type": "execute_result"
    }
   ],
   "source": [
    "arithmetic_operation(\"12 // 2\")"
   ]
  },
  {
   "cell_type": "code",
   "execution_count": 3,
   "id": "1d77f2f9",
   "metadata": {},
   "outputs": [],
   "source": [
    "\"\"\"\n",
    "2. Write a function that takes the coordinates of three points in the form of a\n",
    "2d array and returns the perimeter of the triangle. The given points are the\n",
    "vertices of a triangle on a two-dimensional plane.\n",
    "Examples\n",
    "perimeter( [ [15, 7], [5, 22], [11, 1] ] ) ➞ 47.08\n",
    "perimeter( [ [0, 0], [0, 1], [1, 0] ] ) ➞ 3.42\n",
    "perimeter( [ [-10, -10], [10, 10 ], [-10, 10] ] ) ➞ 68.28\n",
    "\"\"\"\n",
    "def perimeter(array):\n",
    "    \n",
    "    x1= array[0][0]\n",
    "    y1= array[0][1]\n",
    "    x2= array[1][0]\n",
    "    y2= array[1][1]\n",
    "    x3= array[2][0]\n",
    "    y3= array[2][1]\n",
    "    \n",
    "    l1= ((x2 - x1)**2+(y2 - y1)**2)**0.5\n",
    "    l2= ((x3 - x1)**2+(y3 - y1)**2)**0.5\n",
    "    l3= ((x3 - x2)**2+(y3 - y2)**2)**0.5\n",
    "    \n",
    "    perimeter = round(l1+l2+l3,2)\n",
    "\n",
    "    return perimeter\n",
    "    \n",
    "    \n",
    "    "
   ]
  },
  {
   "cell_type": "code",
   "execution_count": 4,
   "id": "4be63eec",
   "metadata": {},
   "outputs": [
    {
     "data": {
      "text/plain": [
       "68.28"
      ]
     },
     "execution_count": 4,
     "metadata": {},
     "output_type": "execute_result"
    }
   ],
   "source": [
    "perimeter( [ [-10, -10], [10, 10 ], [-10, 10] ] )"
   ]
  },
  {
   "cell_type": "code",
   "execution_count": 5,
   "id": "f34e69c7",
   "metadata": {},
   "outputs": [],
   "source": [
    "\"\"\"\n",
    "3. A city skyline can be represented as a 2-D list with 1s representing\n",
    "buildings. In the example below, the height of the tallest building is 4 (second-\n",
    "most right column).\n",
    "[[0, 0, 0, 0, 0, 0],\n",
    "[0, 0, 0, 0, 1, 0],\n",
    "[0, 0, 1, 0, 1, 0],\n",
    "[0, 1, 1, 1, 1, 0],\n",
    "\n",
    "[1, 1, 1, 1, 1, 1]]\n",
    "Create a function that takes a skyline (2-D list of 0's and 1's) and returns the\n",
    "height of the tallest skyscraper.\n",
    "Examples\n",
    "tallest_skyscraper([\n",
    "[0, 0, 0, 0],\n",
    "[0, 1, 0, 0],\n",
    "[0, 1, 1, 0],\n",
    "[1, 1, 1, 1]\n",
    "]) ➞ 3\n",
    "tallest_skyscraper([\n",
    "[0, 1, 0, 0],\n",
    "[0, 1, 0, 0],\n",
    "[0, 1, 1, 0],\n",
    "[1, 1, 1, 1]\n",
    "]) ➞ 4\n",
    "tallest_skyscraper([\n",
    "[0, 0, 0, 0],\n",
    "[0, 0, 0, 0],\n",
    "[1, 1, 1, 0],\n",
    "[1, 1, 1, 1]\n",
    "]) ➞ 2\n",
    "\"\"\"\n",
    "import numpy as np\n",
    "\n",
    "def tallest_skyscraper(array):\n",
    "    \n",
    "    tarray = np.transpose(array)\n",
    "    sum=0\n",
    "    for i in range(0,len(tarray)):\n",
    "        temp=sum\n",
    "        sum=0\n",
    "        for j in range(0,len(tarray[i])):\n",
    "            sum+=tarray[i][j]\n",
    "        if sum>temp:\n",
    "            highest=sum\n",
    "    return highest\n",
    "        "
   ]
  },
  {
   "cell_type": "code",
   "execution_count": 6,
   "id": "177913f0",
   "metadata": {},
   "outputs": [
    {
     "data": {
      "text/plain": [
       "2"
      ]
     },
     "execution_count": 6,
     "metadata": {},
     "output_type": "execute_result"
    }
   ],
   "source": [
    "tallest_skyscraper([\n",
    "[0, 0, 0, 0],\n",
    "[0, 0, 0, 0],\n",
    "[1, 1, 1, 0],\n",
    "[1, 1, 1, 1]\n",
    "])"
   ]
  },
  {
   "cell_type": "code",
   "execution_count": 7,
   "id": "1367e9e6",
   "metadata": {},
   "outputs": [],
   "source": [
    "\"\"\"\n",
    "4. A financial institution provides professional services to banks and claims\n",
    "charges from the customers based on the number of man-days provided.\n",
    "Internally, it has set a scheme to motivate and reward staff to meet and\n",
    "exceed targeted billable utilization and revenues by paying a bonus for each\n",
    "day claimed from customers in excess of a threshold target.\n",
    "This quarterly scheme is calculated with a threshold target of 32 days per\n",
    "quarter, and the incentive payment for each billable day in excess of such\n",
    "threshold target is shown as follows:\n",
    "Days Bonus\n",
    "0 to 32 days Zero\n",
    "33 to 40 days SGD$325 per billable day\n",
    "41 to 48 days SGD$550 per billable day\n",
    "Greater than 48 days SGD$600 per billable day\n",
    "\n",
    "Please note that incentive payment is calculated progressively. As an\n",
    "example, if an employee reached total billable days of 45 in a quarter, his/her\n",
    "incentive payment is computed as follows:\n",
    "32*0 + 8*325 + 5*550 = 5350\n",
    "Write a function to read the billable days of an employee and return the bonus\n",
    "he/she has obtained in that quarter.\n",
    "Examples\n",
    "bonus(15) ➞ 0\n",
    "bonus(37) ➞ 1625\n",
    "bonus(50) ➞ 8200\n",
    "\n",
    "\"\"\"\n",
    "\n",
    "def bonus(n):\n",
    "    \n",
    "    if 0<n<33:\n",
    "        return 0\n",
    "    elif 32<n<41:\n",
    "        return (n-32)*325\n",
    "    elif 40<n<49:\n",
    "        return (n-40)*550 +(8*325)\n",
    "    elif n>48:\n",
    "        return (n-48)*600 +(8*550) +(8*325)\n",
    "    "
   ]
  },
  {
   "cell_type": "code",
   "execution_count": 8,
   "id": "6b0f7459",
   "metadata": {},
   "outputs": [
    {
     "data": {
      "text/plain": [
       "8200"
      ]
     },
     "execution_count": 8,
     "metadata": {},
     "output_type": "execute_result"
    }
   ],
   "source": [
    "bonus(50)"
   ]
  },
  {
   "cell_type": "code",
   "execution_count": 17,
   "id": "e13437ab",
   "metadata": {},
   "outputs": [],
   "source": [
    "\"\"\"\n",
    "5. A number is said to be Disarium if the sum of its digits raised to their\n",
    "respective positions is the number itself.\n",
    "Create a function that determines whether a number is a Disarium or not.\n",
    "Examples\n",
    "is_disarium(75) ➞ False\n",
    "# 7^1 + 5^2 = 7 + 25 = 32\n",
    "is_disarium(135) ➞ True\n",
    "# 1^1 + 3^2 + 5^3 = 1 + 9 + 125 = 135\n",
    "is_disarium(544) ➞ False\n",
    "is_disarium(518) ➞ True\n",
    "is_disarium(466) ➞ False\n",
    "is_disarium(8) ➞ True\n",
    "\n",
    "\"\"\"\n",
    "\n",
    "def is_disarium(n):\n",
    "    a=str(n)\n",
    "    l=len(a)\n",
    "    sum=0\n",
    "    for i in range(0,l):\n",
    "        sum+=(int(a[i])**(i+1))\n",
    "    \n",
    "    if sum == n:\n",
    "        return True\n",
    "    else:\n",
    "        return False\n",
    "    "
   ]
  },
  {
   "cell_type": "code",
   "execution_count": 22,
   "id": "d67c7398",
   "metadata": {},
   "outputs": [
    {
     "data": {
      "text/plain": [
       "True"
      ]
     },
     "execution_count": 22,
     "metadata": {},
     "output_type": "execute_result"
    }
   ],
   "source": [
    "is_disarium(8)"
   ]
  },
  {
   "cell_type": "code",
   "execution_count": null,
   "id": "ed5ebc36",
   "metadata": {},
   "outputs": [],
   "source": []
  }
 ],
 "metadata": {
  "kernelspec": {
   "display_name": "Python 3 (ipykernel)",
   "language": "python",
   "name": "python3"
  },
  "language_info": {
   "codemirror_mode": {
    "name": "ipython",
    "version": 3
   },
   "file_extension": ".py",
   "mimetype": "text/x-python",
   "name": "python",
   "nbconvert_exporter": "python",
   "pygments_lexer": "ipython3",
   "version": "3.8.8"
  }
 },
 "nbformat": 4,
 "nbformat_minor": 5
}
