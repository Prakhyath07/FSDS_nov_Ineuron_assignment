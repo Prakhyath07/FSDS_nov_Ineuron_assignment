{
 "cells": [
  {
   "cell_type": "raw",
   "id": "7adc4c98",
   "metadata": {},
   "source": [
    "Q1. What is the difference between __getattr__ and __getattribute__?\n",
    "\n",
    "__getattr__\n",
    "__getattr__ gets called if there is no attribute in the instance.\n",
    "\n",
    "It’s invoked “last”, if Python can’t find that attribute.(lowest priority)\n",
    "\n",
    "__getattribute__\n",
    "__getattribute__ gets called all the times, whether there is the attribute or not.\n",
    "\n",
    "It’s invoked “first”(highest priority) — it actually “intercepts” every lookup.\n",
    "\n",
    "So, even if there is the attribute in the instance, Python calls __getattribute__ first, with the attribute as an argument."
   ]
  },
  {
   "cell_type": "code",
   "execution_count": 1,
   "id": "870903e9",
   "metadata": {},
   "outputs": [
    {
     "name": "stdout",
     "output_type": "stream",
     "text": [
      "ace value\n",
      "hahaha-ace2\n",
      "{'ace': 'ace value'}\n"
     ]
    }
   ],
   "source": [
    "class A:\n",
    "    def __getattr__(self, name):\n",
    "        return ('hahaha-'+name)\n",
    "\n",
    "a = A()\n",
    "a.ace = 'ace value'\n",
    "\n",
    "print(a.ace)\n",
    "print(a.ace2)\n",
    "print(a.__dict__)"
   ]
  },
  {
   "cell_type": "code",
   "execution_count": 8,
   "id": "03ea9950",
   "metadata": {},
   "outputs": [
    {
     "name": "stdout",
     "output_type": "stream",
     "text": [
      "jajaja-ace\n",
      "jajaja-ace2\n",
      "jajaja-__dict__\n"
     ]
    }
   ],
   "source": [
    "class A:\n",
    "    def __getattr__(self, name):\n",
    "        return (\"hahaha\"+name)\n",
    "    def __getattribute__(self,name):\n",
    "        return (\"jajaja-\"+name)\n",
    "\n",
    "a = A()\n",
    "a.ace = 'ace value'\n",
    "\n",
    "print(a.ace)\n",
    "print(a.ace2)\n",
    "print(a.__dict__)"
   ]
  },
  {
   "cell_type": "raw",
   "id": "7c505a21",
   "metadata": {},
   "source": [
    "Q2. What is the difference between properties and descriptors?\n",
    "\n",
    "Properties. We can bind getter, setter (and deleter) functions with an attribute name, using the built-in property function. When we do this, each reference to an attribute looks like simple, direct access, but invokes the appropriate function of the object. For example, anObject.price= someValue; anObject.value.\n",
    "\n",
    "Descriptors. We can bind getter, setter (and deleter) functions into a separate class. We then assign an object of this class to the attribute name. When we do this, each reference to an attribute looks like simple, direct access, but invokes an appropriate function of the Descriptor object. For example, anObject.price= someValue; anObject.value."
   ]
  },
  {
   "cell_type": "raw",
   "id": "90bfe544",
   "metadata": {},
   "source": [
    "Q3. What are the key differences in functionality between __getattr__ and __getattribute__, as well as properties and descriptors?\n",
    "\n",
    "__getattr__\n",
    "__getattr__ gets called if there is no attribute in the instance.\n",
    "\n",
    "It’s invoked “last”, if Python can’t find that attribute.(lowest priority)\n",
    "\n",
    "__getattribute__\n",
    "__getattribute__ gets called all the times, whether there is the attribute or not.\n",
    "\n",
    "It’s invoked “first”(highest priority) — it actually “intercepts” every lookup.\n",
    "\n",
    "So, even if there is the attribute in the instance, Python calls __getattribute__ first, with the attribute as an argument."
   ]
  },
  {
   "cell_type": "code",
   "execution_count": 9,
   "id": "18d63c3c",
   "metadata": {},
   "outputs": [
    {
     "name": "stdout",
     "output_type": "stream",
     "text": [
      "ace value\n",
      "hahaha-ace2\n",
      "{'ace': 'ace value'}\n"
     ]
    }
   ],
   "source": [
    "class A:\n",
    "    def __getattr__(self, name):\n",
    "        return ('hahaha-'+name)\n",
    "\n",
    "a = A()\n",
    "a.ace = 'ace value'\n",
    "\n",
    "print(a.ace)\n",
    "print(a.ace2)\n",
    "print(a.__dict__)"
   ]
  },
  {
   "cell_type": "code",
   "execution_count": 10,
   "id": "8b618c34",
   "metadata": {},
   "outputs": [
    {
     "name": "stdout",
     "output_type": "stream",
     "text": [
      "jajaja-ace\n",
      "jajaja-ace2\n",
      "jajaja-__dict__\n"
     ]
    }
   ],
   "source": [
    "class A:\n",
    "    def __getattr__(self, name):\n",
    "        return (\"hahaha\"+name)\n",
    "    def __getattribute__(self,name):\n",
    "        return (\"jajaja-\"+name)\n",
    "\n",
    "a = A()\n",
    "a.ace = 'ace value'\n",
    "\n",
    "print(a.ace)\n",
    "print(a.ace2)\n",
    "print(a.__dict__)"
   ]
  },
  {
   "cell_type": "raw",
   "id": "887529b0",
   "metadata": {},
   "source": [
    "\n",
    "Descriptors. We can bind getter, setter (and deleter) functions into a separate class. We then assign an object of this class to the attribute name. When we do this, each reference to an attribute looks like simple, direct access, but invokes an appropriate function of the Descriptor object. For example, anObject.price= someValue; anObject.value.\n",
    "\n",
    "\n",
    "\n",
    "Properties. We can bind getter, setter (and deleter) functions with an attribute name, using the built-in property function. When we do this, each reference to an attribute looks like simple, direct access, but invokes the appropriate function of the object. For example, anObject.price= someValue; anObject.value.\n"
   ]
  },
  {
   "cell_type": "code",
   "execution_count": 11,
   "id": "1e08bb85",
   "metadata": {},
   "outputs": [
    {
     "name": "stdout",
     "output_type": "stream",
     "text": [
      "GeeksforGeeks\n"
     ]
    }
   ],
   "source": [
    "class Descriptor(object):\n",
    "  \n",
    "    def __init__(self, name =''):\n",
    "        self.name = name\n",
    "  \n",
    "    def __get__(self, obj, objtype):\n",
    "        return \"{}for{}\".format(self.name, self.name)\n",
    "  \n",
    "    def __set__(self, obj, name):\n",
    "        if isinstance(name, str):\n",
    "            self.name = name\n",
    "        else:\n",
    "            raise TypeError(\"Name should be string\")\n",
    "          \n",
    "class GFG(object):\n",
    "    name = Descriptor()\n",
    "    \n",
    "g = GFG()\n",
    "g.name = \"Geeks\"\n",
    "print(g.name)"
   ]
  },
  {
   "cell_type": "code",
   "execution_count": 12,
   "id": "4805e9ca",
   "metadata": {},
   "outputs": [
    {
     "name": "stdout",
     "output_type": "stream",
     "text": [
      "Getting value\n",
      "GeeksforGeeks\n",
      "Setting value to GfG\n",
      "Deleting value\n"
     ]
    }
   ],
   "source": [
    "# Python program to explain property() function \n",
    "    \n",
    "# Alphabet class \n",
    "class Alphabet: \n",
    "    def __init__(self, value): \n",
    "        self._value = value \n",
    "            \n",
    "    # getting the values \n",
    "    def getValue(self): \n",
    "        print('Getting value') \n",
    "        return self._value \n",
    "            \n",
    "    # setting the values \n",
    "    def setValue(self, value): \n",
    "        print('Setting value to ' + value) \n",
    "        self._value = value \n",
    "            \n",
    "    # deleting the values \n",
    "    def delValue(self): \n",
    "        print('Deleting value') \n",
    "        del self._value \n",
    "        \n",
    "    value = property(getValue, setValue, delValue, ) \n",
    "    \n",
    "# passing the value \n",
    "x = Alphabet('GeeksforGeeks') \n",
    "print(x.value) \n",
    "    \n",
    "x.value = 'GfG'\n",
    "    \n",
    "del x.value "
   ]
  },
  {
   "cell_type": "code",
   "execution_count": null,
   "id": "f94886f1",
   "metadata": {},
   "outputs": [],
   "source": []
  }
 ],
 "metadata": {
  "kernelspec": {
   "display_name": "Python 3 (ipykernel)",
   "language": "python",
   "name": "python3"
  },
  "language_info": {
   "codemirror_mode": {
    "name": "ipython",
    "version": 3
   },
   "file_extension": ".py",
   "mimetype": "text/x-python",
   "name": "python",
   "nbconvert_exporter": "python",
   "pygments_lexer": "ipython3",
   "version": "3.8.8"
  }
 },
 "nbformat": 4,
 "nbformat_minor": 5
}
