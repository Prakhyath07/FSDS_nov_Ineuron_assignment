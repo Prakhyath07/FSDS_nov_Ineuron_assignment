{
 "cells": [
  {
   "cell_type": "raw",
   "id": "e40bd611",
   "metadata": {},
   "source": [
    "Q1. What is the purpose of Python's OOP?"
   ]
  },
  {
   "cell_type": "raw",
   "id": "8462ca7b",
   "metadata": {},
   "source": [
    "In Python, object-oriented Programming (OOPs) is a programming paradigm that uses objects and classes in programming. It aims to implement real-world entities like inheritance, polymorphisms, encapsulation, etc. in the programming. The main concept of OOPs is to bind the data and the functions that work on that together as a single unit so that no other part of the code can access this data.\n",
    "\n",
    "Main Concepts of Object-Oriented Programming (OOPs) \n",
    "Class\n",
    "Objects\n",
    "Polymorphism\n",
    "Encapsulation\n",
    "Inheritance\n",
    "Data Abstraction\n",
    "\n",
    "Advantages:\n",
    "Object-Oriented Programming makes the program easy to understand as well as efficient.\n",
    "\n",
    "Since the class is sharable, the code can be reused.\n",
    "\n",
    "Data is safe and secure with data abstraction.\n",
    "\n",
    "Polymorphism allows the same interface for different objects, so programmers can write efficient code\n",
    "\n",
    "inherit feature allows programmer to inhetit the methods from existing programs.\n",
    "    \n"
   ]
  },
  {
   "cell_type": "raw",
   "id": "edc298bb",
   "metadata": {},
   "source": [
    "Q2. Where does an inheritance search look for an attribute?\n",
    "\n",
    "The inheritance search happens in bottom up fashion. its starts form object.attr and search all the way up to the parent class to find the find the first occurrence of attribute by looking in object, then in all classes above it, from bottom to top and left to right\n",
    "\n",
    "In other words, attribute fetches are simply tree searches. The term inheritance is applied because objects lower in a tree inherit attributes attached to objects higher in that tree. As the search proceeds from the bottom up, in a sense, the objects linked into a tree are the union of all the attributes defined in all their tree parents, all the way up the tree."
   ]
  },
  {
   "cell_type": "raw",
   "id": "6fea8382",
   "metadata": {},
   "source": [
    "Q3. How do you distinguish between a class object and an instance object?\n",
    "\n",
    "Classes:\n",
    "Classes can be understood as blueprints or templates for objects. They define a structure for storing the data related to a particular type of objects.\n",
    "\n",
    "Consinder for example a situation where you want to keep a record of the users of a program. For each user, we will need to store a number of properties, such as their username, email adress, password, etc. Since these properties will be the same for every user, we can efficiently use a class to predefine what should and can be stored regarding each user.\n",
    "\n",
    "\n",
    "Instance Object:\n",
    "When we create an object based on a class, we “copy” the datastructure defined by the class (the blueprint) and fill in the actual values that are applicable. The object that is created is called an instance of the class. The class functions as a guide for knowing which information can and should be stored for each instance.\n",
    "\n",
    "Going back to our example regarding the users of a program, each user would be an instance of the class. For each user we copy the blueprint of the information we need to store and we fill in the values for each individual.\n",
    "\n",
    "Creating an object of an class is called “initiating the class”. There is no limit to the amount of instance that can be created. All instances have in common the attributes that are stored and the bahavior related to the class."
   ]
  },
  {
   "cell_type": "raw",
   "id": "faa0649c",
   "metadata": {},
   "source": [
    "Q4. What makes the first argument in a class’s method function special?\n",
    "\n",
    "Python self variable is used to bind the instance of the class to the instance method. We have to explicitly declare it as the first method argument to access the instance variables and methods. This variable is used only with the instance methods\n",
    "Python self variable is not a reserved keyword. But, it’s the best practice and convention to use the variable name as “self” to refer to the instance."
   ]
  },
  {
   "cell_type": "raw",
   "id": "d8816923",
   "metadata": {},
   "source": [
    "Q5. What is the purpose of the __init__ method?\n",
    "\n",
    "The  __init__  is a Constructor. Constructors are used to initializing the object’s state. The task of constructors is to initialize(assign values) to the data members of the class when an object of the class is created. Like methods, a constructor also contains a collection of statements(i.e. instructions) that are executed at the time of Object creation. It is run as soon as an object of a class is instantiated. The method is useful to do any initialization you want to do with your object."
   ]
  },
  {
   "cell_type": "raw",
   "id": "c2fe5fab",
   "metadata": {},
   "source": [
    "Q6. What is the process for creating a class instance?\n",
    "\n",
    "To create an instance of a class (\"to instantiate it\") do\n",
    "\n",
    "myObject = ClassName()\n",
    "\n",
    "Where ClassName is the name of the class for which you want to create a new object. myObject will be an object of type ClassName.\n",
    "\n",
    "A class instance is often instantiated by passing parameters as defined in __init__ method of class "
   ]
  },
  {
   "cell_type": "raw",
   "id": "ea675bb3",
   "metadata": {},
   "source": [
    "Q7. What is the process for creating a class?\n",
    "\n",
    "The class statement creates a new class definition. The name of the class immediately follows the keyword class followed by a colon as follows −\n",
    "\n",
    "class ClassName:\n",
    "'Optional class documentation string'\n",
    "class_suite\n",
    "\n",
    "The class has a documentation string, which can be accessed via ClassName.__doc__.\n",
    "The class_suite consists of all the component statements defining class members, data attributes and functions.\n",
    "Example\n",
    "Following is the example of a simple Python class −\n",
    "\n",
    "class Employee:\n",
    "   'Common base class for all employees'\n",
    "   empCount = 0\n",
    "   def __init__(self, name, salary):\n",
    "      self.name = name\n",
    "      self.salary = salary\n",
    "      Employee.empCount += 1\n",
    "   def displayCount(self):\n",
    "      print \"Total Employee %d\" % Employee.empCount\n",
    "   def displayEmployee(self):\n",
    "      print \"Name : \", self.name, \", Salary: \", self.salary\n",
    "      \n",
    "The variable empCount is a class variable whose value is shared among all instances of a this class. This can be accessed as Employee.empCount from inside the class or outside the class.\n",
    "\n",
    "The first method __init__ is a special method, which is called class constructor or initialization method that Python calls when you create a new instance of this class.\n",
    "\n",
    "You declare other class methods like normal functions with the exception that the first argument to each method is self. Python adds the self argument to the list for you; you do not need to include it when you call the methods."
   ]
  },
  {
   "cell_type": "raw",
   "id": "5177904e",
   "metadata": {},
   "source": [
    "Q8. How would you define the superclasses of a class?\n",
    "\n",
    "A superclass is the class from which many subclasses can be created. The subclasses inherit the characteristics of a superclass. The superclass is also known as the parent class or base class.\n",
    "\n",
    "# this is the class which will become\n",
    "# the super class of \"Subclass\" class\n",
    "class Class():\n",
    "    def __init__(self, x):\n",
    "        print(x)\n",
    "  \n",
    "# this is the subclass of class \"Class\"\n",
    "class SubClass(Class):\n",
    "    def __init__(self, x):\n",
    "  \n",
    "        # this is how we call super\n",
    "        # class's constructor\n",
    "        super().__init__(x)"
   ]
  },
  {
   "cell_type": "code",
   "execution_count": null,
   "id": "f0fc923d",
   "metadata": {},
   "outputs": [],
   "source": []
  }
 ],
 "metadata": {
  "kernelspec": {
   "display_name": "Python 3 (ipykernel)",
   "language": "python",
   "name": "python3"
  },
  "language_info": {
   "codemirror_mode": {
    "name": "ipython",
    "version": 3
   },
   "file_extension": ".py",
   "mimetype": "text/x-python",
   "name": "python",
   "nbconvert_exporter": "python",
   "pygments_lexer": "ipython3",
   "version": "3.8.8"
  }
 },
 "nbformat": 4,
 "nbformat_minor": 5
}
