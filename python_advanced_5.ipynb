{
 "cells": [
  {
   "cell_type": "raw",
   "id": "f5e96e48",
   "metadata": {},
   "source": [
    "Q1. What is the meaning of multiple inheritance?\n",
    "\n",
    "Python supports multiple inheritance. It is one of the five types of inheritance in Python. The ability of a class to inherit more than one class is called Multiple Inheritance.\n",
    "\n",
    "Using multiple Inheritance, a subclass can have multiple superclasses.\n",
    "\n",
    "Syntax of Multiple Inheritance in Python\n",
    "\n",
    "class Subclass(Superclass1, Superclass2,..., SuperclassN):\n",
    "   # Class body..."
   ]
  },
  {
   "cell_type": "code",
   "execution_count": 2,
   "id": "e0634ec7",
   "metadata": {},
   "outputs": [
    {
     "name": "stdout",
     "output_type": "stream",
     "text": [
      "Child is a subclass of Parent1 and Parent2\n"
     ]
    }
   ],
   "source": [
    "class Parent1:\n",
    "    pass\n",
    "class Parent2:\n",
    "    pass\n",
    "class Child(Parent1, Parent2):\n",
    "    pass\n",
    "if issubclass(Child, (Parent1, Parent2)):\n",
    "    print(\"Child is a subclass of Parent1 and Parent2\")"
   ]
  },
  {
   "cell_type": "raw",
   "id": "e5143db2",
   "metadata": {},
   "source": [
    "Q2. What is the concept of delegation?\n",
    "\n",
    "Ans: Delegation provides a proxy object for any class thay you want on top of the main class. its like a wrapper to your class so that you can access limited resources of the main class.\n",
    "\n",
    "it Wraps the object of main class into a smaller object with limited access\n",
    "\n",
    "Simply Delegation means that you can include a instance of another class as an instance variable, and forward messages to the instance.\n"
   ]
  },
  {
   "cell_type": "code",
   "execution_count": 4,
   "id": "a94d7b9b",
   "metadata": {},
   "outputs": [
    {
     "name": "stdout",
     "output_type": "stream",
     "text": [
      "Hey iam back\n",
      "Iam the main class\n"
     ]
    }
   ],
   "source": [
    "\n",
    "class Myclass:\n",
    "    def sayHi(self):\n",
    "        print('Hey iam back')\n",
    "    def whoAmI(self):\n",
    "        print('Iam the main class')\n",
    "        \n",
    "class NewClass:\n",
    "    def __init__(self):\n",
    "        self.myclass = Myclass()\n",
    "    def sayHi(self):\n",
    "        self.myclass.sayHi()\n",
    "    def whoAmI(self):\n",
    "        self.myclass.whoAmI()\n",
    "\n",
    "n = NewClass()\n",
    "\n",
    "n.sayHi()\n",
    "\n",
    "n.whoAmI()\n",
    "\n"
   ]
  },
  {
   "cell_type": "raw",
   "id": "22de6263",
   "metadata": {},
   "source": [
    "Q3. What is the concept of composition?\n",
    "\n",
    "Composition is one of the important concepts of Object-oriented programming (OOPs). Composition basically enables us for creating complex types objects by combining other types of objects in the program. Composition represents ‘has a relationship’ type or we can call composition as ‘has a relationship’ in the OOPs concept. It means that a composite class present in the program can contains the objects from the other class components and this type of relationship model is called as has a relationship\n",
    "\n",
    "The classes that contains objects from the other classes in the program are called as composites whereas the classes which we use to create more complex type of relationship models is called as components\n",
    "\n",
    " In Python, the composition allows us to reuse the implementation of the component class object in the composite classes. We have to remember that the composite class is not actually inheriting the component class interface but it is adapting the interface of instances of component class.\n",
    "\n",
    "The composition relationship in Python between composite class and component class is considered as loosely coupled. It means that if we make changes in component class, it will rarely affect the composite class and if we make changes in the composite class, it will never affect the component class. This feature of composition in Python provides us better adaptability with the changes. It also allows us to introduce new changes in the application according to the requirements without affecting the existing code."
   ]
  },
  {
   "cell_type": "code",
   "execution_count": 6,
   "id": "be849631",
   "metadata": {},
   "outputs": [
    {
     "name": "stdout",
     "output_type": "stream",
     "text": [
      "An object for the Component class is created ...\n",
      "An object for the Composite class is also created ...\n",
      "The Composite class method mk() is also successfully executed ...\n",
      "The Component class method mk1() is executed successfully ...\n"
     ]
    }
   ],
   "source": [
    "# create a component class in program\n",
    "class ComponentClass:\n",
    "# create the composite class constructor in component\n",
    "         def __init__(self):\n",
    "                     print('An object for the Component class is created ...')\n",
    "         # using the composite class instance method\n",
    "         def mk1(self):\n",
    "                     print('The Component class method mk1() is executed successfully ...')\n",
    "# create a composite class in program\n",
    "class CompositeClass:\n",
    "         # create a class constructor for composite class\n",
    "         def __init__(self):\n",
    "                     # creating an instance for the component class\n",
    "                     self.inst1 = ComponentClass()                   \n",
    "                     print('An object for the Composite class is also created ...')\n",
    "         # creating a class instance method for composite class\n",
    "         def mk(self):             \n",
    "                     print('The Composite class method mk() is also successfully executed ...')\n",
    "                     # calling the mk1() method of component class in composite class\n",
    "                     self.inst1.mk1()\n",
    "# creating an instance for the composite class\n",
    "inst2 = CompositeClass()\n",
    "# calling out mk() method from the composite class\n",
    "inst2.mk() \n"
   ]
  },
  {
   "cell_type": "raw",
   "id": "6b5bc1a5",
   "metadata": {},
   "source": [
    "Q4. What are bound methods and how do we use them?\n",
    "\n",
    "A bound method is the one which is dependent on the instance of the class as the first argument. It passes the instance as the first argument which is used to access the variables and functions. In Python 3 and newer versions of python, all functions in the class are by default bound methods.\n",
    "\n",
    "Let’s understand this concept with an example:"
   ]
  },
  {
   "cell_type": "code",
   "execution_count": 8,
   "id": "349586a4",
   "metadata": {},
   "outputs": [
    {
     "name": "stdout",
     "output_type": "stream",
     "text": [
      "<bound method A.func of <__main__.A object at 0x0000017DBB1C1CA0>>\n"
     ]
    }
   ],
   "source": [
    " #Python code to demonstrate\n",
    "# use of bound methods\n",
    "  \n",
    "class A:\n",
    "  \n",
    "    def func(self, arg):\n",
    "        self.arg = arg\n",
    "        print(\"Value of arg = \", arg)\n",
    "  \n",
    "  \n",
    "# Creating an instance\n",
    "obj = A()  \n",
    "  \n",
    "# bound method\n",
    "print(obj.func)"
   ]
  },
  {
   "cell_type": "raw",
   "id": "da60546c",
   "metadata": {},
   "source": [
    "Here,\n",
    "\n",
    " obj.func(arg) is translated by python as A.func(obj, arg).\n",
    "The instance obj is automatically passed as the first argument to the function called and hence the first parameter of the function will be used to access the variables/functions of the object."
   ]
  },
  {
   "cell_type": "raw",
   "id": "6dd05fc7",
   "metadata": {},
   "source": [
    "Q5. What is the purpose of pseudoprivate attributes?\n",
    "\n",
    "pseudoprivate attributes\n",
    "using a leading __ –> double underscore. \n",
    "\n",
    "Attributes and methods whose names start with __ are the closest thing Python has to “private” fields and methods of other programming languages.\n",
    "\n",
    "The main use of these pseudo-private attributes is to prevent name clashes in child classes. It is a way to protect important attributes and methods that should not be overridden.\n",
    "\n",
    "See some examples below:\n",
    "\n",
    "obj.__att_name            # ---> This is interpreted as `obj.Myclass__attr_name`\n",
    "obj.__method_name()"
   ]
  },
  {
   "cell_type": "code",
   "execution_count": null,
   "id": "2412c994",
   "metadata": {},
   "outputs": [],
   "source": []
  },
  {
   "cell_type": "code",
   "execution_count": null,
   "id": "d93b2083",
   "metadata": {},
   "outputs": [],
   "source": []
  }
 ],
 "metadata": {
  "kernelspec": {
   "display_name": "Python 3 (ipykernel)",
   "language": "python",
   "name": "python3"
  },
  "language_info": {
   "codemirror_mode": {
    "name": "ipython",
    "version": 3
   },
   "file_extension": ".py",
   "mimetype": "text/x-python",
   "name": "python",
   "nbconvert_exporter": "python",
   "pygments_lexer": "ipython3",
   "version": "3.8.8"
  }
 },
 "nbformat": 4,
 "nbformat_minor": 5
}
