{
 "cells": [
  {
   "cell_type": "raw",
   "id": "98f5ddf8",
   "metadata": {},
   "source": [
    "1. Given a sentence as txt, return True if any two adjacent words have this\n",
    "property: One word ends with a vowel, while the word immediately after\n",
    "begins with a vowel (a e i o u).\n",
    "Examples\n",
    "vowel_links(\"a very large appliance\") ➞ True\n",
    "vowel_links(\"go to edabit\") ➞ True\n",
    "vowel_links(\"an open fire\") ➞ False\n",
    "vowel_links(\"a sudden applause\") ➞ False"
   ]
  },
  {
   "cell_type": "code",
   "execution_count": 19,
   "id": "5dec77bf",
   "metadata": {},
   "outputs": [],
   "source": [
    "def vowel_links(string):\n",
    "    vowel=['a','e','i','o','u']\n",
    "    lst=string.split()\n",
    "    for i in range(len(lst)-1):\n",
    "        prev=lst[i]\n",
    "        aft=lst[i+1]\n",
    "        if (prev[-1] in vowel and aft[0] in vowel):\n",
    "            return True\n",
    "    else:\n",
    "        return False\n",
    "        \n",
    "        "
   ]
  },
  {
   "cell_type": "code",
   "execution_count": 20,
   "id": "b1c71ebe",
   "metadata": {},
   "outputs": [
    {
     "data": {
      "text/plain": [
       "True"
      ]
     },
     "execution_count": 20,
     "metadata": {},
     "output_type": "execute_result"
    }
   ],
   "source": [
    "vowel_links(\"a very large appliance\")"
   ]
  },
  {
   "cell_type": "code",
   "execution_count": 21,
   "id": "a5a258bc",
   "metadata": {},
   "outputs": [
    {
     "data": {
      "text/plain": [
       "True"
      ]
     },
     "execution_count": 21,
     "metadata": {},
     "output_type": "execute_result"
    }
   ],
   "source": [
    "vowel_links(\"go to edabit\")"
   ]
  },
  {
   "cell_type": "code",
   "execution_count": 22,
   "id": "de6c6845",
   "metadata": {},
   "outputs": [
    {
     "data": {
      "text/plain": [
       "False"
      ]
     },
     "execution_count": 22,
     "metadata": {},
     "output_type": "execute_result"
    }
   ],
   "source": [
    "vowel_links(\"an open fire\")"
   ]
  },
  {
   "cell_type": "code",
   "execution_count": 23,
   "id": "cdc3b307",
   "metadata": {},
   "outputs": [
    {
     "data": {
      "text/plain": [
       "False"
      ]
     },
     "execution_count": 23,
     "metadata": {},
     "output_type": "execute_result"
    }
   ],
   "source": [
    "vowel_links(\"a sudden applause\")"
   ]
  },
  {
   "cell_type": "raw",
   "id": "f350b9ff",
   "metadata": {},
   "source": [
    "2. You are given three inputs: a string, one letter, and a second letter.\n",
    "Write a function that returns True if every instance of the first letter occurs\n",
    "before every instance of the second letter.\n",
    "Examples\n",
    "first_before_second(\"a rabbit jumps joyfully\", \"a\", \"j\") ➞ True\n",
    "# Every instance of \"a\" occurs before every instance of \"j\".\n",
    "first_before_second(\"knaves knew about waterfalls\", \"k\", \"w\") ➞ True\n",
    "first_before_second(\"happy birthday\", \"a\", \"y\") ➞ False\n",
    "# The \"a\" in \"birthday\" occurs after the \"y\" in \"happy\".\n",
    "first_before_second(\"precarious kangaroos\", \"k\", \"a\") ➞ False"
   ]
  },
  {
   "cell_type": "code",
   "execution_count": 24,
   "id": "2e82adb2",
   "metadata": {},
   "outputs": [],
   "source": [
    "def first_before_second(string,a,b):\n",
    "    a_lst=[]\n",
    "    for i in range(len(string)):\n",
    "        if string[i]==a:\n",
    "            a_lst.append(i)\n",
    "    for i in range(len(string)):\n",
    "        if string[i]==b:\n",
    "            b_ind=i\n",
    "            break\n",
    "    if a_lst[-1]<b_ind:\n",
    "        return True\n",
    "    else:\n",
    "        return False\n",
    "            "
   ]
  },
  {
   "cell_type": "code",
   "execution_count": 25,
   "id": "4c9280a2",
   "metadata": {},
   "outputs": [
    {
     "data": {
      "text/plain": [
       "True"
      ]
     },
     "execution_count": 25,
     "metadata": {},
     "output_type": "execute_result"
    }
   ],
   "source": [
    "first_before_second(\"a rabbit jumps joyfully\", \"a\", \"j\")"
   ]
  },
  {
   "cell_type": "code",
   "execution_count": 26,
   "id": "49c2e063",
   "metadata": {},
   "outputs": [
    {
     "data": {
      "text/plain": [
       "True"
      ]
     },
     "execution_count": 26,
     "metadata": {},
     "output_type": "execute_result"
    }
   ],
   "source": [
    "first_before_second(\"knaves knew about waterfalls\", \"k\", \"w\")"
   ]
  },
  {
   "cell_type": "code",
   "execution_count": 27,
   "id": "5937919d",
   "metadata": {},
   "outputs": [
    {
     "data": {
      "text/plain": [
       "False"
      ]
     },
     "execution_count": 27,
     "metadata": {},
     "output_type": "execute_result"
    }
   ],
   "source": [
    "first_before_second(\"happy birthday\", \"a\", \"y\")"
   ]
  },
  {
   "cell_type": "code",
   "execution_count": 28,
   "id": "d35b5c31",
   "metadata": {},
   "outputs": [
    {
     "data": {
      "text/plain": [
       "False"
      ]
     },
     "execution_count": 28,
     "metadata": {},
     "output_type": "execute_result"
    }
   ],
   "source": [
    "first_before_second(\"precarious kangaroos\", \"k\", \"a\")"
   ]
  },
  {
   "cell_type": "raw",
   "id": "54e2335b",
   "metadata": {},
   "source": [
    "3. Create a function that returns the characters from a list or string r on odd or\n",
    "even positions, depending on the specifier s. The specifier will be \"odd\" for\n",
    "items on odd positions (1, 3, 5, ...) and \"even\" for items on even positions (2,\n",
    "4, 6, ...).\n",
    "Examples\n",
    "char_at_pos([2, 4, 6, 8, 10], \"even\") ➞ [4, 8]\n",
    "# 4 & 8 occupy the 2nd & 4th positions\n",
    "char_at_pos(\"EDABIT\", \"odd\") ➞ \"EAI\"\n",
    "# \"E\", \"A\" and \"I\" occupy the 1st, 3rd and 5th positions\n",
    "\n",
    "char_at_pos([\"A\", \"R\", \"B\", \"I\", \"T\", \"R\", \"A\", \"R\", \"I\", \"L\", \"Y\"], \"odd\") ➞ [\"A\",\n",
    "\"B\", \"T\", \"A\", \"I\", \"Y\"]"
   ]
  },
  {
   "cell_type": "code",
   "execution_count": 39,
   "id": "b4483ef9",
   "metadata": {},
   "outputs": [],
   "source": [
    "def char_at_pos(lst,evn_odd):\n",
    "    even=[]\n",
    "    odd=[]\n",
    "    if evn_odd =='even':\n",
    "        for i in range(len(lst)):\n",
    "            if i%2!=0:\n",
    "                even.append(lst[i])\n",
    "        if type(lst)==list:\n",
    "            return even\n",
    "        else:\n",
    "            return ''.join(even)\n",
    "    \n",
    "    elif evn_odd =='odd':\n",
    "        for i in range(len(lst)):\n",
    "            if i%2==0:\n",
    "                odd.append(lst[i])\n",
    "        if type(lst)==list:\n",
    "            return odd\n",
    "        else:\n",
    "            return ''.join(odd)\n"
   ]
  },
  {
   "cell_type": "code",
   "execution_count": 40,
   "id": "6e1aeeaa",
   "metadata": {},
   "outputs": [
    {
     "data": {
      "text/plain": [
       "[4, 8]"
      ]
     },
     "execution_count": 40,
     "metadata": {},
     "output_type": "execute_result"
    }
   ],
   "source": [
    "char_at_pos([2, 4, 6, 8, 10], \"even\")"
   ]
  },
  {
   "cell_type": "code",
   "execution_count": 41,
   "id": "e5728cf2",
   "metadata": {},
   "outputs": [
    {
     "data": {
      "text/plain": [
       "'EAI'"
      ]
     },
     "execution_count": 41,
     "metadata": {},
     "output_type": "execute_result"
    }
   ],
   "source": [
    "char_at_pos(\"EDABIT\", \"odd\")"
   ]
  },
  {
   "cell_type": "code",
   "execution_count": 42,
   "id": "effb5423",
   "metadata": {},
   "outputs": [
    {
     "data": {
      "text/plain": [
       "['A', 'B', 'T', 'A', 'I', 'Y']"
      ]
     },
     "execution_count": 42,
     "metadata": {},
     "output_type": "execute_result"
    }
   ],
   "source": [
    "char_at_pos([\"A\", \"R\", \"B\", \"I\", \"T\", \"R\", \"A\", \"R\", \"I\", \"L\", \"Y\"], \"odd\")"
   ]
  },
  {
   "cell_type": "raw",
   "id": "2b607972",
   "metadata": {},
   "source": [
    "4. Write a function that returns the greatest common divisor of all list\n",
    "elements. If the greatest common divisor is 1, return 1.\n",
    "Examples\n",
    "GCD([10, 20, 40]) ➞ 10\n",
    "GCD([1, 2, 3, 100]) ➞ 1\n",
    "GCD([1024, 192, 2048, 512]) ➞ 64"
   ]
  },
  {
   "cell_type": "code",
   "execution_count": 60,
   "id": "20f40e16",
   "metadata": {},
   "outputs": [],
   "source": [
    "     \n",
    "      \n",
    "def GCD(data):\n",
    "    def gcd_2(x, y):\n",
    "        while(y):\n",
    "            x, y = y, x % y  \n",
    "        return x \n",
    "\n",
    "    num1=data[0]\n",
    "    num2=data[1]\n",
    "    gcd=gcd_2(num1,num2)\n",
    "\n",
    "    for i in range(2,len(data)):\n",
    "        gcd=gcd_2(gcd,data[i])\n",
    "\n",
    "    return gcd\n",
    "            "
   ]
  },
  {
   "cell_type": "code",
   "execution_count": 61,
   "id": "d66df8ac",
   "metadata": {},
   "outputs": [
    {
     "data": {
      "text/plain": [
       "10"
      ]
     },
     "execution_count": 61,
     "metadata": {},
     "output_type": "execute_result"
    }
   ],
   "source": [
    "GCD([10, 20, 40])"
   ]
  },
  {
   "cell_type": "code",
   "execution_count": 62,
   "id": "ea500310",
   "metadata": {},
   "outputs": [
    {
     "data": {
      "text/plain": [
       "1"
      ]
     },
     "execution_count": 62,
     "metadata": {},
     "output_type": "execute_result"
    }
   ],
   "source": [
    "GCD([1, 2, 3, 100])"
   ]
  },
  {
   "cell_type": "code",
   "execution_count": 63,
   "id": "2412a6c6",
   "metadata": {},
   "outputs": [
    {
     "data": {
      "text/plain": [
       "64"
      ]
     },
     "execution_count": 63,
     "metadata": {},
     "output_type": "execute_result"
    }
   ],
   "source": [
    "GCD([1024, 192, 2048, 512])"
   ]
  },
  {
   "cell_type": "raw",
   "id": "5eeb96c1",
   "metadata": {},
   "source": [
    "5. A number/string is a palindrome if the digits/characters are the same when\n",
    "read both forward and backward. Examples include \"racecar\" and 12321.\n",
    "Given a positive number n, check if n or the binary representation of n is\n",
    "palindromic. Return the following:\n",
    "- \"Decimal only.\" if only n is a palindrome.\n",
    "- \"Binary only.\" if only the binary representation of n is a palindrome.\n",
    "- \"Decimal and binary.\" if both are palindromes.\n",
    "- \"Neither!\" if neither are palindromes.\n",
    "Examples\n",
    "palindrome_type(1306031) ➞ \"Decimal only.\"\n",
    "# decimal = 1306031\n",
    "# binary = \"100111110110110101111\"\n",
    "palindrome_type(427787) ➞ \"Binary only.\"\n",
    "# decimal = 427787\n",
    "# binary = \"1101000011100001011\"\n",
    "palindrome_type(313) ➞ \"Decimal and binary.\"\n",
    "# decimal = 313\n",
    "# binary = 100111001\n",
    "palindrome_type(934) ➞ \"Neither!\"\n",
    "# decimal = 934\n",
    "# binary = \"1110100110\""
   ]
  },
  {
   "cell_type": "code",
   "execution_count": 95,
   "id": "6e21551f",
   "metadata": {},
   "outputs": [],
   "source": [
    "def palindrome_type(x):\n",
    "    y=x\n",
    "    def decimalToBinary(n):\n",
    "        # converting decimal to binary\n",
    "        # and removing the prefix(0b)\n",
    "        return bin(n).replace(\"0b\", \"\")\n",
    "    dec=False\n",
    "    binary=False\n",
    "    digits=[]\n",
    "    \n",
    "    while x>0:\n",
    "        digits.append(x%10)\n",
    "        x=x//10\n",
    "    forward=digits[0]   \n",
    "    for i in range(1,len(digits)):\n",
    "        forward=forward*10+digits[i]\n",
    "    digits.reverse()\n",
    "    backward=digits[0]   \n",
    "    for i in range(1,len(digits)):\n",
    "        backward=backward*10+digits[i]\n",
    "    if forward==backward:\n",
    "        dec=True\n",
    "    \n",
    "    bi=decimalToBinary(y)\n",
    "    bi_lst=[]\n",
    "    \n",
    "    for i in bi:\n",
    "        bi_lst.append(i)\n",
    "    bi_lst.reverse()\n",
    "    bi_back=''.join(bi_lst)\n",
    "    \n",
    "    if bi==bi_back:\n",
    "        binary=True\n",
    "    \n",
    "    if (dec & binary):\n",
    "        return \"Decimal and binary.\"\n",
    "    \n",
    "    elif dec:\n",
    "        return \"Decimal only.\"\n",
    "    \n",
    "    elif binary:\n",
    "        return \"Binary only.\"\n",
    "    \n",
    "    else:\n",
    "        return \"Neither!\"\n",
    "        \n",
    "    \n",
    "    \n"
   ]
  },
  {
   "cell_type": "code",
   "execution_count": 96,
   "id": "499cc73f",
   "metadata": {},
   "outputs": [],
   "source": [
    "bi=decimalToBinary(1306031)"
   ]
  },
  {
   "cell_type": "code",
   "execution_count": 97,
   "id": "373c2658",
   "metadata": {},
   "outputs": [
    {
     "data": {
      "text/plain": [
       "'Binary only.'"
      ]
     },
     "execution_count": 97,
     "metadata": {},
     "output_type": "execute_result"
    }
   ],
   "source": [
    "palindrome_type(427787)"
   ]
  },
  {
   "cell_type": "code",
   "execution_count": 98,
   "id": "04553bc4",
   "metadata": {},
   "outputs": [
    {
     "data": {
      "text/plain": [
       "'Decimal and binary.'"
      ]
     },
     "execution_count": 98,
     "metadata": {},
     "output_type": "execute_result"
    }
   ],
   "source": [
    "palindrome_type(313)"
   ]
  },
  {
   "cell_type": "code",
   "execution_count": 99,
   "id": "6be5ee7f",
   "metadata": {},
   "outputs": [
    {
     "data": {
      "text/plain": [
       "'Neither!'"
      ]
     },
     "execution_count": 99,
     "metadata": {},
     "output_type": "execute_result"
    }
   ],
   "source": [
    "palindrome_type(934)"
   ]
  },
  {
   "cell_type": "code",
   "execution_count": null,
   "id": "991ad381",
   "metadata": {},
   "outputs": [],
   "source": []
  }
 ],
 "metadata": {
  "kernelspec": {
   "display_name": "Python 3 (ipykernel)",
   "language": "python",
   "name": "python3"
  },
  "language_info": {
   "codemirror_mode": {
    "name": "ipython",
    "version": 3
   },
   "file_extension": ".py",
   "mimetype": "text/x-python",
   "name": "python",
   "nbconvert_exporter": "python",
   "pygments_lexer": "ipython3",
   "version": "3.8.8"
  }
 },
 "nbformat": 4,
 "nbformat_minor": 5
}
