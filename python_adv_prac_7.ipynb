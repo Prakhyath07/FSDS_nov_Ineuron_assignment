{
 "cells": [
  {
   "cell_type": "raw",
   "id": "9ff0070e",
   "metadata": {},
   "source": [
    "1. Write a function that counts how many concentric layers a rug.\n",
    "Examples\n",
    "count_layers([\n",
    "\"AAAA\",\n",
    "\"ABBA\",\n",
    "\"AAAA\"\n",
    "]) ➞ 2\n",
    "count_layers([\n",
    "\"AAAAAAAAA\",\n",
    "\"ABBBBBBBA\",\n",
    "\"ABBAAABBA\",\n",
    "\"ABBBBBBBA\",\n",
    "\"AAAAAAAAA\"\n",
    "]) ➞ 3\n",
    "count_layers([\n",
    "\"AAAAAAAAAAA\",\n",
    "\"AABBBBBBBAA\",\n",
    "\"AABCCCCCBAA\",\n",
    "\"AABCAAACBAA\",\n",
    "\"AABCADACBAA\",\n",
    "\"AABCAAACBAA\",\n",
    "\"AABCCCCCBAA\",\n",
    "\"AABBBBBBBAA\",\n",
    "\"AAAAAAAAAAA\"\n",
    "]) ➞ 5"
   ]
  },
  {
   "cell_type": "code",
   "execution_count": 28,
   "id": "928ccde7",
   "metadata": {},
   "outputs": [],
   "source": [
    "def count_layers(lst):\n",
    "    \n",
    "    if len(lst)%2==0:\n",
    "        return \"Not concentric\"\n",
    "    else:\n",
    "        mid=(len(lst)//2)\n",
    "        count=0\n",
    "        for i in range(1,mid+1):\n",
    "            if lst[mid+i]==lst[mid-i]:\n",
    "                count+=1\n",
    "#             else:\n",
    "#                 return \"not concentric\"\n",
    "        return count+1\n",
    "            \n",
    "            "
   ]
  },
  {
   "cell_type": "code",
   "execution_count": 31,
   "id": "8c07a6b4",
   "metadata": {},
   "outputs": [
    {
     "data": {
      "text/plain": [
       "2"
      ]
     },
     "execution_count": 31,
     "metadata": {},
     "output_type": "execute_result"
    }
   ],
   "source": [
    "count_layers([\n",
    "\"AAAA\",\n",
    "\"ABBA\",\n",
    "\"AAAA\"\n",
    "])"
   ]
  },
  {
   "cell_type": "code",
   "execution_count": 32,
   "id": "c38c4bcc",
   "metadata": {},
   "outputs": [
    {
     "data": {
      "text/plain": [
       "3"
      ]
     },
     "execution_count": 32,
     "metadata": {},
     "output_type": "execute_result"
    }
   ],
   "source": [
    "count_layers([\n",
    "\"AAAAAAAAA\",\n",
    "\"ABBBBBBBA\",\n",
    "\"ABBAAABBA\",\n",
    "\"ABBBBBBBA\",\n",
    "\"AAAAAAAAA\"\n",
    "])"
   ]
  },
  {
   "cell_type": "code",
   "execution_count": 33,
   "id": "5d74dcf4",
   "metadata": {},
   "outputs": [
    {
     "data": {
      "text/plain": [
       "5"
      ]
     },
     "execution_count": 33,
     "metadata": {},
     "output_type": "execute_result"
    }
   ],
   "source": [
    "count_layers([\n",
    "\"AAAAAAAAAAA\",\n",
    "\"AABBBBBBBAA\",\n",
    "\"AABCCCCCBAA\",\n",
    "\"AABCAAACBAA\",\n",
    "\"AABCADACBAA\",\n",
    "\"AABCAAACBAA\",\n",
    "\"AABCCCCCBAA\",\n",
    "\"AABBBBBBBAA\",\n",
    "\"AAAAAAAAAAA\"\n",
    "])"
   ]
  },
  {
   "cell_type": "raw",
   "id": "07c47a1b",
   "metadata": {},
   "source": [
    "2. There are many different styles of music and many albums exhibit multiple\n",
    "styles. Create a function that takes a list of musical styles from albums and\n",
    "returns how many styles are unique.\n",
    "Examples\n",
    "unique_styles([\n",
    "\"Dub,Dancehall\",\n",
    "\"Industrial,Heavy Metal\",\n",
    "\"Techno,Dubstep\",\n",
    "\"Synth-pop,Euro-Disco\",\n",
    "\"Industrial,Techno,Minimal\"\n",
    "]) ➞ 9\n",
    "unique_styles([\n",
    "\"Soul\",\n",
    "\"House,Folk\",\n",
    "\"Trance,Downtempo,Big Beat,House\",\n",
    "\"Deep House\",\n",
    "\"Soul\"\n",
    "]) ➞ 7"
   ]
  },
  {
   "cell_type": "code",
   "execution_count": 37,
   "id": "6df4121b",
   "metadata": {},
   "outputs": [],
   "source": [
    "def unique_styles(lst):\n",
    "    new=[]\n",
    "    \n",
    "    for i in lst:\n",
    "        a=i.split(',')\n",
    "        for j in a:\n",
    "            new.append(j.lower())\n",
    "    new=set(new)\n",
    "    return len(new)"
   ]
  },
  {
   "cell_type": "code",
   "execution_count": 38,
   "id": "e31347e3",
   "metadata": {},
   "outputs": [
    {
     "data": {
      "text/plain": [
       "9"
      ]
     },
     "execution_count": 38,
     "metadata": {},
     "output_type": "execute_result"
    }
   ],
   "source": [
    "unique_styles([\n",
    "\"Dub,Dancehall\",\n",
    "\"Industrial,Heavy Metal\",\n",
    "\"Techno,Dubstep\",\n",
    "\"Synth-pop,Euro-Disco\",\n",
    "\"Industrial,Techno,Minimal\"\n",
    "])"
   ]
  },
  {
   "cell_type": "code",
   "execution_count": 39,
   "id": "6f0fa377",
   "metadata": {},
   "outputs": [
    {
     "data": {
      "text/plain": [
       "7"
      ]
     },
     "execution_count": 39,
     "metadata": {},
     "output_type": "execute_result"
    }
   ],
   "source": [
    "unique_styles([\n",
    "\"Soul\",\n",
    "\"House,Folk\",\n",
    "\"Trance,Downtempo,Big Beat,House\",\n",
    "\"Deep House\",\n",
    "\"Soul\"\n",
    "])"
   ]
  },
  {
   "cell_type": "raw",
   "id": "81c30788",
   "metadata": {},
   "source": [
    "3. Create a function that finds a target number in a list of prime numbers.\n",
    "Implement a binary search algorithm in your function. The target number will\n",
    "be from 2 through 97. If the target is prime then return \"yes\" else return \"no\".\n",
    "Examples\n",
    "primes = [2, 3, 5, 7, 11, 13, 17, 19, 23, 29, 31, 37, 41, 43, 47, 53, 59, 61, 67,\n",
    "71, 73, 79, 83, 89, 97]\n",
    "\n",
    "is_prime(primes, 3) ➞ \"yes\"\n",
    "is_prime(primes, 4) ➞ \"no\"\n",
    "is_prime(primes, 67) ➞ \"yes\"\n",
    "is_prime(primes, 36) ➞ \"no\""
   ]
  },
  {
   "cell_type": "code",
   "execution_count": 44,
   "id": "5fb2b346",
   "metadata": {},
   "outputs": [],
   "source": [
    "primes = [2, 3, 5, 7, 11, 13, 17, 19, 23, 29, 31, 37, 41, 43, 47, 53, 59, 61, 67,\n",
    "71, 73, 79, 83, 89, 97]\n",
    "def is_prime(lst, target):\n",
    "    start = 0\n",
    "    end = len(lst) - 1\n",
    "    while(start <= end):\n",
    "        mid = (start + end) // 2\n",
    "        if(lst[mid] > target):\n",
    "            end = mid - 1\n",
    "        elif(lst[mid] < target):\n",
    "            start = mid + 1\n",
    "        else:\n",
    "            return 'yes'\n",
    "    return 'no'"
   ]
  },
  {
   "cell_type": "code",
   "execution_count": 45,
   "id": "47e16b81",
   "metadata": {},
   "outputs": [
    {
     "data": {
      "text/plain": [
       "'yes'"
      ]
     },
     "execution_count": 45,
     "metadata": {},
     "output_type": "execute_result"
    }
   ],
   "source": [
    "is_prime(primes, 3)"
   ]
  },
  {
   "cell_type": "code",
   "execution_count": 46,
   "id": "f7b7505d",
   "metadata": {},
   "outputs": [
    {
     "data": {
      "text/plain": [
       "'no'"
      ]
     },
     "execution_count": 46,
     "metadata": {},
     "output_type": "execute_result"
    }
   ],
   "source": [
    "is_prime(primes, 4)"
   ]
  },
  {
   "cell_type": "code",
   "execution_count": 47,
   "id": "50ab2fdf",
   "metadata": {},
   "outputs": [
    {
     "data": {
      "text/plain": [
       "'yes'"
      ]
     },
     "execution_count": 47,
     "metadata": {},
     "output_type": "execute_result"
    }
   ],
   "source": [
    "is_prime(primes, 67)"
   ]
  },
  {
   "cell_type": "code",
   "execution_count": 48,
   "id": "263448b5",
   "metadata": {},
   "outputs": [
    {
     "data": {
      "text/plain": [
       "'no'"
      ]
     },
     "execution_count": 48,
     "metadata": {},
     "output_type": "execute_result"
    }
   ],
   "source": [
    "is_prime(primes, 36)"
   ]
  },
  {
   "cell_type": "raw",
   "id": "bcff08ce",
   "metadata": {},
   "source": [
    "4. Create a function that takes in n, a, b and returns the number of positive\n",
    "values raised to the nth power that lie in the range [a, b], inclusive.\n",
    "Examples\n",
    "power_ranger(2, 49, 65) ➞ 2\n",
    "# 2 squares (n^2) lie between 49 and 65, 49 (7^2) and 64 (8^2)\n",
    "power_ranger(3, 1, 27) ➞ 3\n",
    "# 3 cubes (n^3) lie between 1 and 27, 1 (1^3), 8 (2^3) and 27 (3^3)\n",
    "power_ranger(10, 1, 5) ➞ 1\n",
    "# 1 value raised to the 10th power lies between 1 and 5, 1 (1^10)\n",
    "power_ranger(5, 31, 33) ➞ 1\n",
    "power_ranger(4, 250, 1300) ➞ 3"
   ]
  },
  {
   "cell_type": "code",
   "execution_count": 63,
   "id": "5b00df7e",
   "metadata": {},
   "outputs": [],
   "source": [
    "def power_ranger(n,a,b):\n",
    "    count=0\n",
    "    for i in range(a,b+1):\n",
    "        m=i**(1/n)\n",
    "        if m==round((m),0):\n",
    "            count+=1\n",
    "    return count\n",
    "        "
   ]
  },
  {
   "cell_type": "code",
   "execution_count": 64,
   "id": "50bfff6a",
   "metadata": {},
   "outputs": [
    {
     "data": {
      "text/plain": [
       "2"
      ]
     },
     "execution_count": 64,
     "metadata": {},
     "output_type": "execute_result"
    }
   ],
   "source": [
    "power_ranger(2, 49, 65)"
   ]
  },
  {
   "cell_type": "code",
   "execution_count": 65,
   "id": "58e17b76",
   "metadata": {},
   "outputs": [
    {
     "data": {
      "text/plain": [
       "3"
      ]
     },
     "execution_count": 65,
     "metadata": {},
     "output_type": "execute_result"
    }
   ],
   "source": [
    "power_ranger(3, 1, 27)"
   ]
  },
  {
   "cell_type": "code",
   "execution_count": 66,
   "id": "f5ce3a21",
   "metadata": {},
   "outputs": [
    {
     "data": {
      "text/plain": [
       "1"
      ]
     },
     "execution_count": 66,
     "metadata": {},
     "output_type": "execute_result"
    }
   ],
   "source": [
    "power_ranger(10, 1, 5)"
   ]
  },
  {
   "cell_type": "code",
   "execution_count": 67,
   "id": "3a5c4d5d",
   "metadata": {},
   "outputs": [
    {
     "data": {
      "text/plain": [
       "1"
      ]
     },
     "execution_count": 67,
     "metadata": {},
     "output_type": "execute_result"
    }
   ],
   "source": [
    "power_ranger(5, 31, 33)"
   ]
  },
  {
   "cell_type": "code",
   "execution_count": 68,
   "id": "755c6724",
   "metadata": {},
   "outputs": [
    {
     "data": {
      "text/plain": [
       "3"
      ]
     },
     "execution_count": 68,
     "metadata": {},
     "output_type": "execute_result"
    }
   ],
   "source": [
    "power_ranger(4, 250, 1300)"
   ]
  },
  {
   "cell_type": "raw",
   "id": "37157c59",
   "metadata": {},
   "source": [
    "5. Given a number, return the difference between the maximum and minimum\n",
    "numbers that can be formed when the digits are rearranged.\n",
    "Examples\n",
    "rearranged_difference(972882) ➞ 760833\n",
    "# 988722 - 227889 = 760833\n",
    "rearranged_difference(3320707) ➞ 7709823\n",
    "# 7733200 - 23377 = 7709823\n",
    "rearranged_difference(90010) ➞ 90981\n",
    "# 91000 - 19 = 90981"
   ]
  },
  {
   "cell_type": "code",
   "execution_count": 79,
   "id": "dc233ea8",
   "metadata": {},
   "outputs": [],
   "source": [
    "def rearranged_difference(x):\n",
    "    digits=[]\n",
    "    \n",
    "    while x>0:\n",
    "        digits.append(x%10)\n",
    "        x=x//10\n",
    "    digits.sort()\n",
    "    lower=digits[0]\n",
    "    for i in range(1,len(digits)):\n",
    "        lower=lower*10+digits[i]\n",
    "    digits.sort(reverse=True)\n",
    "    upper=digits[0]\n",
    "    for i in range(1,len(digits)):\n",
    "        upper=upper*10+digits[i]\n",
    "    \n",
    "    difference=upper-lower\n",
    "    return difference"
   ]
  },
  {
   "cell_type": "code",
   "execution_count": 80,
   "id": "57bf4079",
   "metadata": {},
   "outputs": [
    {
     "data": {
      "text/plain": [
       "760833"
      ]
     },
     "execution_count": 80,
     "metadata": {},
     "output_type": "execute_result"
    }
   ],
   "source": [
    "rearranged_difference(972882)"
   ]
  },
  {
   "cell_type": "code",
   "execution_count": 81,
   "id": "395661a0",
   "metadata": {},
   "outputs": [
    {
     "data": {
      "text/plain": [
       "7709823"
      ]
     },
     "execution_count": 81,
     "metadata": {},
     "output_type": "execute_result"
    }
   ],
   "source": [
    "rearranged_difference(3320707)"
   ]
  },
  {
   "cell_type": "code",
   "execution_count": 82,
   "id": "354b9a6d",
   "metadata": {},
   "outputs": [
    {
     "data": {
      "text/plain": [
       "90981"
      ]
     },
     "execution_count": 82,
     "metadata": {},
     "output_type": "execute_result"
    }
   ],
   "source": [
    "rearranged_difference(90010)"
   ]
  },
  {
   "cell_type": "code",
   "execution_count": null,
   "id": "665d3647",
   "metadata": {},
   "outputs": [],
   "source": []
  }
 ],
 "metadata": {
  "kernelspec": {
   "display_name": "Python 3 (ipykernel)",
   "language": "python",
   "name": "python3"
  },
  "language_info": {
   "codemirror_mode": {
    "name": "ipython",
    "version": 3
   },
   "file_extension": ".py",
   "mimetype": "text/x-python",
   "name": "python",
   "nbconvert_exporter": "python",
   "pygments_lexer": "ipython3",
   "version": "3.8.8"
  }
 },
 "nbformat": 4,
 "nbformat_minor": 5
}
