{
 "cells": [
  {
   "cell_type": "raw",
   "id": "8fea8bcb",
   "metadata": {},
   "source": [
    "1. What is the result of the code, and explain?\n",
    "X = 'iNeuron'\n",
    "def func():\n",
    "    print(X)\n",
    "func()\n",
    "Answer\n",
    "X variable is declared outside the function as 'iNeuron' (globally) hence when called inside the function its able to access it and print it"
   ]
  },
  {
   "cell_type": "code",
   "execution_count": 6,
   "id": "350b272f",
   "metadata": {},
   "outputs": [
    {
     "name": "stdout",
     "output_type": "stream",
     "text": [
      "iNeuron\n"
     ]
    }
   ],
   "source": [
    "X = 'iNeuron'\n",
    "def func():\n",
    "    print(X)\n",
    "func()"
   ]
  },
  {
   "cell_type": "raw",
   "id": "86266b92",
   "metadata": {},
   "source": [
    "2. What is the result of the code, and explain?\n",
    "X = 'iNeuron'\n",
    "def func():\n",
    "    X = 'NI!'\n",
    "\n",
    "func()\n",
    "print(X)\n",
    "\n",
    "Answer\n",
    "X variable is declared outside the function (globally) as 'iNeuron but inside the function X is assigned value of 'NI!' (locally).\n",
    "since local variable is not accessible outside the function print(\n",
    "x) prints global variable value"
   ]
  },
  {
   "cell_type": "code",
   "execution_count": 9,
   "id": "462a416d",
   "metadata": {},
   "outputs": [
    {
     "name": "stdout",
     "output_type": "stream",
     "text": [
      "iNeuron\n"
     ]
    }
   ],
   "source": [
    "X = 'iNeuron'\n",
    "def func():\n",
    "    X = 'NI!'\n",
    "\n",
    "func()\n",
    "print(X)"
   ]
  },
  {
   "cell_type": "raw",
   "id": "bd4c72d0",
   "metadata": {},
   "source": [
    "3. What does this code print, and why?\n",
    "X = 'iNeuron'\n",
    "def func():\n",
    "    X = 'NI!'\n",
    "    print(X)\n",
    "\n",
    "func()\n",
    "print(X)\n",
    "\n",
    "Answer\n",
    "X variable is declared outside the function (globally) as 'iNeuron but inside the function X is assigned value of 'NI!' (locally).\n",
    "\n",
    "so on calling function it gives preference to local variable and prints it\n",
    "\n",
    "since local variable is not accessible outside the function print(\n",
    "x) prints global variable value\n"
   ]
  },
  {
   "cell_type": "code",
   "execution_count": 10,
   "id": "9cb8cfb8",
   "metadata": {},
   "outputs": [
    {
     "name": "stdout",
     "output_type": "stream",
     "text": [
      "NI!\n",
      "iNeuron\n"
     ]
    }
   ],
   "source": [
    "X = 'iNeuron'\n",
    "def func():\n",
    "    X = 'NI!'\n",
    "    print(X)\n",
    "\n",
    "func()\n",
    "print(X)"
   ]
  },
  {
   "cell_type": "raw",
   "id": "913e6794",
   "metadata": {},
   "source": [
    "4. What output does this code produce? Why?\n",
    "X = 'iNeuron'\n",
    "def func():\n",
    "    global X\n",
    "    X = 'NI!'\n",
    "    print(X)\n",
    "\n",
    "func()\n",
    "print(X)\n",
    "\n",
    "Answer\n",
    "X variable is declared outside the function (globally) as 'iNeuron but inside the function X is assigned value of 'NI!' along with key word global which allows the variable inside function to be accessed globally anywhere hence now the value of X gets updated\n",
    "\n",
    "hence both function and print statement prints the updated value\n"
   ]
  },
  {
   "cell_type": "code",
   "execution_count": 12,
   "id": "2d96ee8d",
   "metadata": {},
   "outputs": [
    {
     "name": "stdout",
     "output_type": "stream",
     "text": [
      "NI!\n",
      "NI!\n"
     ]
    }
   ],
   "source": [
    "X = 'iNeuron'\n",
    "def func():\n",
    "    global X\n",
    "    X = 'NI!'\n",
    "    print(X)\n",
    "\n",
    "func()\n",
    "print(X)"
   ]
  },
  {
   "cell_type": "raw",
   "id": "487885da",
   "metadata": {},
   "source": [
    "5. What about this code—what’s the output, and why?\n",
    "X = 'iNeuron'\n",
    "def func():\n",
    "    X = 'NI'\n",
    "def nested():\n",
    "    print(X)\n",
    "\n",
    "nested()\n",
    "func()\n",
    "X\n",
    "\n",
    "Answer\n",
    "X variable is declared outside the function (globally) as 'iNeuron but inside the function func X is assigned value of 'NI!' (locally).\n",
    "\n",
    "\n",
    "since local variable is not accessible outside the function func both X and nested function gives global variable value"
   ]
  },
  {
   "cell_type": "code",
   "execution_count": 14,
   "id": "c42077cc",
   "metadata": {},
   "outputs": [
    {
     "name": "stdout",
     "output_type": "stream",
     "text": [
      "iNeuron\n"
     ]
    },
    {
     "data": {
      "text/plain": [
       "'iNeuron'"
      ]
     },
     "execution_count": 14,
     "metadata": {},
     "output_type": "execute_result"
    }
   ],
   "source": [
    "X = 'iNeuron'\n",
    "def func():\n",
    "    X = 'NI'\n",
    "def nested():\n",
    "    print(X)\n",
    "\n",
    "nested()\n",
    "func()\n",
    "X"
   ]
  },
  {
   "cell_type": "raw",
   "id": "2e17ca2b",
   "metadata": {},
   "source": [
    "6. How about this code: what is its output in Python 3, and explain?\n",
    "X = 'kkl'\n",
    "def func():\n",
    "    X = 'NI'\n",
    "    def nested():\n",
    "        nonlocal X\n",
    "        X = 'spam'\n",
    "    nested()\n",
    "    print(X)\n",
    "\n",
    "func()\n",
    "\n",
    "Nonlocal variables are used in nested functions whose local scope is not defined. \n",
    "This means that the variable can be neither in the local nor the global scope.\n",
    "it refers to variable in upper scope\n",
    "\n",
    "It print the updated value from nested \n",
    "function\n",
    "\n",
    "Solution : 'spam'"
   ]
  },
  {
   "cell_type": "code",
   "execution_count": 15,
   "id": "ba5547ed",
   "metadata": {},
   "outputs": [
    {
     "name": "stdout",
     "output_type": "stream",
     "text": [
      "spam\n"
     ]
    }
   ],
   "source": [
    "X = 'kkl'\n",
    "def func():\n",
    "    X = 'NI'\n",
    "    def nested():\n",
    "        nonlocal X\n",
    "        X = 'spam'\n",
    "    nested()\n",
    "    print(X)\n",
    "\n",
    "func()"
   ]
  },
  {
   "cell_type": "code",
   "execution_count": null,
   "id": "a815ebb3",
   "metadata": {},
   "outputs": [],
   "source": []
  }
 ],
 "metadata": {
  "kernelspec": {
   "display_name": "Python 3 (ipykernel)",
   "language": "python",
   "name": "python3"
  },
  "language_info": {
   "codemirror_mode": {
    "name": "ipython",
    "version": 3
   },
   "file_extension": ".py",
   "mimetype": "text/x-python",
   "name": "python",
   "nbconvert_exporter": "python",
   "pygments_lexer": "ipython3",
   "version": "3.8.8"
  }
 },
 "nbformat": 4,
 "nbformat_minor": 5
}
